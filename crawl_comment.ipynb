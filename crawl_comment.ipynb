{
 "cells": [
  {
   "cell_type": "code",
   "execution_count": null,
   "metadata": {},
   "outputs": [],
   "source": [
    "import lib.facebook_scraper as fs\n",
    "import lib.utils as utils\n",
    "import pandas as pd\n",
    "import numpy as np\n",
    "import os\n",
    "import time"
   ]
  },
  {
   "cell_type": "code",
   "execution_count": null,
   "metadata": {},
   "outputs": [],
   "source": [
    "post_ids_df = pd.read_csv('data/vebay69/clean/post_ids.csv')\n",
    "post_ids_df.head()"
   ]
  },
  {
   "cell_type": "code",
   "execution_count": null,
   "metadata": {},
   "outputs": [],
   "source": [
    "# Lấy danh sách post_id từ vị trí index của post_ids_df: pd.DataFrame với số lượng là number\n",
    "def get_list_post_id(index: int, number: int) -> list:\n",
    "    global post_ids_df\n",
    "    if index < 0:\n",
    "        index = 0\n",
    "    if index > post_ids_df.shape[0]:\n",
    "        return []\n",
    "    if index + number > post_ids_df.shape[0]:\n",
    "        return post_ids_df.iloc[index:]['post_id'].to_list()\n",
    "    return post_ids_df.iloc[index:index+number]['post_id'].to_list()"
   ]
  },
  {
   "cell_type": "code",
   "execution_count": null,
   "metadata": {},
   "outputs": [],
   "source": [
    "def extract_comment(comments, post_id):\n",
    "    cnt_comment = 0\n",
    "    cnt_reply = 0\n",
    "    global comment_list\n",
    "    for comment in comments:\n",
    "        comment['post_id'] = post_id\n",
    "        comment_list.append(comment)\n",
    "        cnt_comment += 1\n",
    "        time.sleep(np.random.uniform(0, 0.5))\n",
    "        for reply in comment['replies']:\n",
    "            reply['post_id'] = post_id\n",
    "            comment_list.append(reply)\n",
    "            cnt_reply += 1\n",
    "            time.sleep(np.random.uniform(0, 0.5))\n",
    "\n",
    "    print(f'\\tExtracted {cnt_comment} comments and {cnt_reply} replies')\n",
    "    return cnt_comment + cnt_reply"
   ]
  },
  {
   "cell_type": "code",
   "execution_count": null,
   "metadata": {},
   "outputs": [],
   "source": [
    "index_post_id_file_path = os.path.join('data','vebay69','url','i_post_id_comment.txt')"
   ]
  },
  {
   "cell_type": "markdown",
   "metadata": {},
   "source": [
    "### Rerun with change cookie"
   ]
  },
  {
   "cell_type": "code",
   "execution_count": null,
   "metadata": {},
   "outputs": [],
   "source": [
    "fs.set_cookies('./cookies/cookie_1.txt')\n",
    "# fs.enable_logging()"
   ]
  },
  {
   "cell_type": "markdown",
   "metadata": {},
   "source": [
    "### Rerun"
   ]
  },
  {
   "cell_type": "code",
   "execution_count": null,
   "metadata": {},
   "outputs": [],
   "source": [
    "NUMBER_POST = 30\n",
    "post_list = []\n",
    "comment_list = []\n",
    "total_comment_real = 0"
   ]
  },
  {
   "cell_type": "code",
   "execution_count": null,
   "metadata": {},
   "outputs": [],
   "source": [
    "index_post_id = utils.read_index_file(file_path=index_post_id_file_path)\n",
    "print(index_post_id)\n",
    "posts_ids = get_list_post_id(index_post_id, NUMBER_POST)\n",
    "posts_ids"
   ]
  },
  {
   "cell_type": "code",
   "execution_count": null,
   "metadata": {},
   "outputs": [],
   "source": [
    "try:\n",
    "    for post in fs.get_posts(\n",
    "        post_urls=posts_ids,\n",
    "        options={\n",
    "            \"comments\": True,\n",
    "            \"allow_extra_requests\": True,\n",
    "            \"comments\": \"generator\",\n",
    "        },\n",
    "        timeout=120,\n",
    "    ):\n",
    "        print(post)\n",
    "        num_comment = extract_comment(post['comments_full'], post['original_request_url'])\n",
    "        post_list.append(post)\n",
    "        print(f'\\tTotal {num_comment}/{post[\"comments\"]} comments')\n",
    "        total_comment_real += post['comments']\n",
    "        utils.sleep(np.random.randint(30, 60))\n",
    "except fs.exceptions.TemporarilyBanned:\n",
    "    print(\"TEMPORARILY BANNED\")\n",
    "except fs.exceptions.AccountDisabled:\n",
    "    print(\"ACCOUNT DISABLED\")\n",
    "except Exception as e:\n",
    "    print(e)"
   ]
  },
  {
   "cell_type": "code",
   "execution_count": null,
   "metadata": {},
   "outputs": [],
   "source": [
    "print(NUMBER_POST)\n",
    "print(f\"Số posts đã crawl: {len(post_list)}\")\n",
    "print(f\"Số comments đã crawl: {len(comment_list)}/{total_comment_real}\")"
   ]
  },
  {
   "cell_type": "code",
   "execution_count": null,
   "metadata": {},
   "outputs": [],
   "source": [
    "if comment_list:\n",
    "    utils.save_data(\n",
    "        data_list=comment_list,\n",
    "        folder_path=os.path.join('data','vebay69','raw'),\n",
    "        type=\"comments\"\n",
    "    )\n",
    "utils.write_index_file(\n",
    "    file_path=index_post_id_file_path,\n",
    "    index=index_post_id + len(post_list)\n",
    ")"
   ]
  }
 ],
 "metadata": {
  "kernelspec": {
   "display_name": "py3108",
   "language": "python",
   "name": "python3"
  },
  "language_info": {
   "codemirror_mode": {
    "name": "ipython",
    "version": 3
   },
   "file_extension": ".py",
   "mimetype": "text/x-python",
   "name": "python",
   "nbconvert_exporter": "python",
   "pygments_lexer": "ipython3",
   "version": "3.10.8"
  }
 },
 "nbformat": 4,
 "nbformat_minor": 2
}
