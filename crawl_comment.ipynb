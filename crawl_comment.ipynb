{
 "cells": [
  {
   "cell_type": "code",
   "execution_count": 1,
   "metadata": {},
   "outputs": [],
   "source": [
    "import lib.facebook_scraper as fs\n",
    "import pandas as pd\n",
    "import numpy as np\n",
    "import os\n",
    "import time\n",
    "pd.set_option('display.max_columns', None)"
   ]
  },
  {
   "cell_type": "code",
   "execution_count": 2,
   "metadata": {},
   "outputs": [],
   "source": [
    "fs.set_cookies('./cookies/cookies_1.txt')\n",
    "# fs.enable_logging()"
   ]
  },
  {
   "cell_type": "code",
   "execution_count": 3,
   "metadata": {},
   "outputs": [],
   "source": [
    "post_ids_df = pd.read_csv('data/vebay69/clean/post_ids.csv')"
   ]
  },
  {
   "cell_type": "code",
   "execution_count": 4,
   "metadata": {},
   "outputs": [
    {
     "data": {
      "text/html": [
       "<div>\n",
       "<style scoped>\n",
       "    .dataframe tbody tr th:only-of-type {\n",
       "        vertical-align: middle;\n",
       "    }\n",
       "\n",
       "    .dataframe tbody tr th {\n",
       "        vertical-align: top;\n",
       "    }\n",
       "\n",
       "    .dataframe thead th {\n",
       "        text-align: right;\n",
       "    }\n",
       "</style>\n",
       "<table border=\"1\" class=\"dataframe\">\n",
       "  <thead>\n",
       "    <tr style=\"text-align: right;\">\n",
       "      <th></th>\n",
       "      <th>post_id</th>\n",
       "    </tr>\n",
       "  </thead>\n",
       "  <tbody>\n",
       "    <tr>\n",
       "      <th>0</th>\n",
       "      <td>685638947004646</td>\n",
       "    </tr>\n",
       "    <tr>\n",
       "      <th>1</th>\n",
       "      <td>685577330344141</td>\n",
       "    </tr>\n",
       "    <tr>\n",
       "      <th>2</th>\n",
       "      <td>685111467057394</td>\n",
       "    </tr>\n",
       "    <tr>\n",
       "      <th>3</th>\n",
       "      <td>684686633766544</td>\n",
       "    </tr>\n",
       "    <tr>\n",
       "      <th>4</th>\n",
       "      <td>684603707108170</td>\n",
       "    </tr>\n",
       "  </tbody>\n",
       "</table>\n",
       "</div>"
      ],
      "text/plain": [
       "           post_id\n",
       "0  685638947004646\n",
       "1  685577330344141\n",
       "2  685111467057394\n",
       "3  684686633766544\n",
       "4  684603707108170"
      ]
     },
     "execution_count": 4,
     "metadata": {},
     "output_type": "execute_result"
    }
   ],
   "source": [
    "post_ids_df.head()"
   ]
  },
  {
   "cell_type": "code",
   "execution_count": 6,
   "metadata": {},
   "outputs": [],
   "source": [
    "post_list = []\n",
    "comment_list = []"
   ]
  },
  {
   "cell_type": "code",
   "execution_count": 7,
   "metadata": {},
   "outputs": [],
   "source": [
    "def extract_comment(comments, post_id):\n",
    "    cnt_comment = 0\n",
    "    cnt_reply = 0\n",
    "    global comment_list\n",
    "    for comment in comments:\n",
    "        comment['post_id'] = post_id\n",
    "        comment_list.append(comment)\n",
    "        cnt_comment += 1\n",
    "        for reply in comment['replies']:\n",
    "            reply['post_id'] = post_id\n",
    "            comment_list.append(reply)\n",
    "            cnt_reply += 1\n",
    "\n",
    "    print(f'Extracted {cnt_comment} comments and {cnt_reply} replies')"
   ]
  },
  {
   "cell_type": "code",
   "execution_count": 10,
   "metadata": {},
   "outputs": [
    {
     "name": "stdout",
     "output_type": "stream",
     "text": [
      "TEMPORARILY BANNED\n"
     ]
    },
    {
     "name": "stderr",
     "output_type": "stream",
     "text": [
      "/home/ad/Workspace/data-processing/analyze-facebook-page/lib/facebook_scraper/facebook_scraper.py:912: UserWarning: Facebook says 'Unsupported Browser'\n",
      "  warnings.warn(f\"Facebook says 'Unsupported Browser'\")\n"
     ]
    }
   ],
   "source": [
    "try:\n",
    "    for post in fs.get_posts(\n",
    "        post_urls=[post_ids_df['post_id'][0]],\n",
    "        options={\n",
    "            \"allow_extra_requests\": True,\n",
    "            \"comments\": True,\n",
    "            \"comments\": \"generator\",\n",
    "        }\n",
    "    ):\n",
    "        print(post)\n",
    "        post_list.append(post)\n",
    "        print(post['comments_full'])\n",
    "        extract_comment(post['comments_full'], post['post_id'])\n",
    "except fs.exceptions.TemporarilyBanned:\n",
    "    print(\"TEMPORARILY BANNED\")\n",
    "except fs.exceptions.AccountDisabled:\n",
    "    print(\"ACCOUNT DISABLED\")\n",
    "except Exception as e:\n",
    "    print(e)"
   ]
  }
 ],
 "metadata": {
  "kernelspec": {
   "display_name": "py3108",
   "language": "python",
   "name": "python3"
  },
  "language_info": {
   "codemirror_mode": {
    "name": "ipython",
    "version": 3
   },
   "file_extension": ".py",
   "mimetype": "text/x-python",
   "name": "python",
   "nbconvert_exporter": "python",
   "pygments_lexer": "ipython3",
   "version": "3.10.8"
  }
 },
 "nbformat": 4,
 "nbformat_minor": 2
}
