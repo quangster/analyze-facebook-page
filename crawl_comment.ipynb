{
 "cells": [
  {
   "cell_type": "code",
   "execution_count": 1,
   "metadata": {},
   "outputs": [],
   "source": [
    "import lib.facebook_scraper as fs\n",
    "import lib.utils as utils\n",
    "import pandas as pd\n",
    "import numpy as np\n",
    "import os\n",
    "import time"
   ]
  },
  {
   "cell_type": "code",
   "execution_count": 2,
   "metadata": {},
   "outputs": [
    {
     "data": {
      "text/html": [
       "<div>\n",
       "<style scoped>\n",
       "    .dataframe tbody tr th:only-of-type {\n",
       "        vertical-align: middle;\n",
       "    }\n",
       "\n",
       "    .dataframe tbody tr th {\n",
       "        vertical-align: top;\n",
       "    }\n",
       "\n",
       "    .dataframe thead th {\n",
       "        text-align: right;\n",
       "    }\n",
       "</style>\n",
       "<table border=\"1\" class=\"dataframe\">\n",
       "  <thead>\n",
       "    <tr style=\"text-align: right;\">\n",
       "      <th></th>\n",
       "      <th>post_id</th>\n",
       "    </tr>\n",
       "  </thead>\n",
       "  <tbody>\n",
       "    <tr>\n",
       "      <th>0</th>\n",
       "      <td>685638947004646</td>\n",
       "    </tr>\n",
       "    <tr>\n",
       "      <th>1</th>\n",
       "      <td>685577330344141</td>\n",
       "    </tr>\n",
       "    <tr>\n",
       "      <th>2</th>\n",
       "      <td>685111467057394</td>\n",
       "    </tr>\n",
       "    <tr>\n",
       "      <th>3</th>\n",
       "      <td>684686633766544</td>\n",
       "    </tr>\n",
       "    <tr>\n",
       "      <th>4</th>\n",
       "      <td>684603707108170</td>\n",
       "    </tr>\n",
       "  </tbody>\n",
       "</table>\n",
       "</div>"
      ],
      "text/plain": [
       "           post_id\n",
       "0  685638947004646\n",
       "1  685577330344141\n",
       "2  685111467057394\n",
       "3  684686633766544\n",
       "4  684603707108170"
      ]
     },
     "execution_count": 2,
     "metadata": {},
     "output_type": "execute_result"
    }
   ],
   "source": [
    "post_ids_df = pd.read_csv('data/vebay69/clean/post_ids.csv')\n",
    "post_ids_df.head()"
   ]
  },
  {
   "cell_type": "code",
   "execution_count": 3,
   "metadata": {},
   "outputs": [],
   "source": [
    "# Lấy danh sách post_id từ vị trí index của post_ids_df: pd.DataFrame với số lượng là number\n",
    "def get_list_post_id(index: int, number: int) -> list:\n",
    "    global post_ids_df\n",
    "    if index < 0:\n",
    "        index = 0\n",
    "    if index > post_ids_df.shape[0]:\n",
    "        return []\n",
    "    if index + number > post_ids_df.shape[0]:\n",
    "        return post_ids_df.iloc[index:]['post_id'].to_list()\n",
    "    return post_ids_df.iloc[index:index+number]['post_id'].to_list()"
   ]
  },
  {
   "cell_type": "code",
   "execution_count": 4,
   "metadata": {},
   "outputs": [],
   "source": [
    "def extract_comment(comments, post_id):\n",
    "    cnt_comment = 0\n",
    "    cnt_reply = 0\n",
    "    global comment_list\n",
    "    for comment in comments:\n",
    "        comment['post_id'] = post_id\n",
    "        comment_list.append(comment)\n",
    "        cnt_comment += 1\n",
    "        time.sleep(np.random.uniform(0, 0.5))\n",
    "        for reply in comment['replies']:\n",
    "            reply['post_id'] = post_id\n",
    "            comment_list.append(reply)\n",
    "            cnt_reply += 1\n",
    "            time.sleep(np.random.uniform(0, 0.5))\n",
    "\n",
    "    print(f'\\tExtracted {cnt_comment} comments and {cnt_reply} replies')\n",
    "    return cnt_comment + cnt_reply"
   ]
  },
  {
   "cell_type": "code",
   "execution_count": 5,
   "metadata": {},
   "outputs": [],
   "source": [
    "index_post_id_file_path = os.path.join('data','vebay69','url','i_post_id_comment.txt')"
   ]
  },
  {
   "cell_type": "markdown",
   "metadata": {},
   "source": [
    "### Rerun with change cookie"
   ]
  },
  {
   "cell_type": "code",
   "execution_count": 6,
   "metadata": {},
   "outputs": [],
   "source": [
    "fs.set_cookies('./cookies/cookie_1.txt')\n",
    "# fs.enable_logging()"
   ]
  },
  {
   "cell_type": "markdown",
   "metadata": {},
   "source": [
    "### Rerun"
   ]
  },
  {
   "cell_type": "code",
   "execution_count": 7,
   "metadata": {},
   "outputs": [],
   "source": [
    "NUMBER_POST = 30\n",
    "post_list = []\n",
    "comment_list = []\n",
    "total_comment_real = 0"
   ]
  },
  {
   "cell_type": "code",
   "execution_count": 8,
   "metadata": {},
   "outputs": [
    {
     "name": "stdout",
     "output_type": "stream",
     "text": [
      "152\n"
     ]
    },
    {
     "data": {
      "text/plain": [
       "[648745990693942,\n",
       " 648129900755551,\n",
       " 648136317421576,\n",
       " 646648884236986,\n",
       " 647745007460707,\n",
       " 647707500797791,\n",
       " 647178930850648,\n",
       " 646704834231391,\n",
       " 646610584240816,\n",
       " 646578170910724,\n",
       " 646251794276695,\n",
       " 646239270944614,\n",
       " 646182897616918,\n",
       " 646120450956496,\n",
       " 645592771009264,\n",
       " 645129864388888,\n",
       " 645101634391711,\n",
       " 644774441091097,\n",
       " 644783744423500,\n",
       " 644728431095698,\n",
       " 644644097770798,\n",
       " 644200194481855,\n",
       " 644177814484093,\n",
       " 643836757851532,\n",
       " 643680344533840,\n",
       " 643285894573285,\n",
       " 643214227913785,\n",
       " 642701377965070,\n",
       " 642353657999842,\n",
       " 642223291346212]"
      ]
     },
     "execution_count": 8,
     "metadata": {},
     "output_type": "execute_result"
    }
   ],
   "source": [
    "index_post_id = utils.read_index_file(file_path=index_post_id_file_path)\n",
    "print(index_post_id)\n",
    "posts_ids = get_list_post_id(index_post_id, NUMBER_POST)\n",
    "posts_ids"
   ]
  },
  {
   "cell_type": "code",
   "execution_count": 9,
   "metadata": {},
   "outputs": [
    {
     "name": "stderr",
     "output_type": "stream",
     "text": [
      "/workspaces/analyze-facebook-page/lib/facebook_scraper/facebook_scraper.py:912: UserWarning: Facebook says 'Unsupported Browser'\n",
      "  warnings.warn(f\"Facebook says 'Unsupported Browser'\")\n"
     ]
    },
    {
     "name": "stdout",
     "output_type": "stream",
     "text": [
      "{'original_request_url': 648745990693942, 'post_url': 'https://facebook.com/story.php?story_fbid=648745990693942&id=100066756416622', 'post_id': 648745990693942, 'text': 'Hồi máo\\n#Panda', 'post_text': 'Hồi máo\\n#Panda', 'shared_text': '', 'original_text': None, 'time': datetime.datetime(2023, 9, 12, 4, 36, 25), 'timestamp': 1694493385, 'image': 'https://scontent-sin6-4.xx.fbcdn.net/v/t39.30808-6/377940403_648745680693973_7063282598504420586_n.jpg?stp=cp0_dst-jpg_e15_fr_q65&_nc_cat=110&ccb=1-7&_nc_sid=5f2048&efg=eyJpIjoidCJ9&_nc_ohc=I-5LMIre2PMAX8Qp9Jo&_nc_ht=scontent-sin6-4.xx&oh=00_AfA_Sap8vPqugwXSU4PKiDR_G2UFmMfYOWL649mieQfp_g&oe=656A1915&manual_redirect=1', 'image_lowquality': 'https://scontent-sin6-4.xx.fbcdn.net/v/t39.30808-6/377940403_648745680693973_7063282598504420586_n.jpg?stp=cp0_dst-jpg_e15_p320x320_q65&_nc_cat=110&ccb=1-7&_nc_sid=5f2048&efg=eyJpIjoidCJ9&_nc_ohc=I-5LMIre2PMAX8Qp9Jo&_nc_ht=scontent-sin6-4.xx&oh=00_AfACM0sCdnykhIBNg58z95kE_cVXB94R5yW3P7v7G1Pi7A&oe=656A1915', 'images': ['https://scontent-sin6-4.xx.fbcdn.net/v/t39.30808-6/377940403_648745680693973_7063282598504420586_n.jpg?stp=cp0_dst-jpg_e15_fr_q65&_nc_cat=110&ccb=1-7&_nc_sid=5f2048&efg=eyJpIjoidCJ9&_nc_ohc=I-5LMIre2PMAX8Qp9Jo&_nc_ht=scontent-sin6-4.xx&oh=00_AfA_Sap8vPqugwXSU4PKiDR_G2UFmMfYOWL649mieQfp_g&oe=656A1915&manual_redirect=1'], 'images_description': ['May be an illustration of text that says \"Ngủ trưa lúc nhỏ Mài có ngủ đi không!!! Lì không ngủ Lì phải đi chơi 15 công ty phút ngủ trưa ở Tuyệt vời + + 十\"'], 'images_lowquality': ['https://scontent-sin6-4.xx.fbcdn.net/v/t39.30808-6/377940403_648745680693973_7063282598504420586_n.jpg?stp=cp0_dst-jpg_e15_p320x320_q65&_nc_cat=110&ccb=1-7&_nc_sid=5f2048&efg=eyJpIjoidCJ9&_nc_ohc=I-5LMIre2PMAX8Qp9Jo&_nc_ht=scontent-sin6-4.xx&oh=00_AfACM0sCdnykhIBNg58z95kE_cVXB94R5yW3P7v7G1Pi7A&oe=656A1915'], 'images_lowquality_description': ['May be an illustration of text that says \"Ngủ trưa lúc nhỏ Mài có ngủ đi không!!! Lì không ngủ Lì phải đi chơi 15 công ty phút ngủ trưa ở Tuyệt vời + + 十\"'], 'video': None, 'video_duration_seconds': None, 'video_height': None, 'video_id': None, 'video_quality': None, 'video_size_MB': None, 'video_thumbnail': None, 'video_watches': None, 'video_width': None, 'likes': 9200, 'comments': 431, 'shares': 218, 'link': None, 'links': [{'link': '/hashtag/panda?refid=52&__tn__=%2As-R&paipv=0&eav=AfYex9bMs6FrUftsI0sG56r_voSfI-TgZ6cPzpYfenMA0Nd_hN63G7Qx7rufS0uXbBo', 'text': '#Panda'}, {'link': 'https://m.facebook.com/photo.php?fbid=648745684027306&id=100066756416622&set=a.604487031786505&eav=AfZ0iM0QbI-rIufIMtJvYasHOV9ahX1qlteuY1xCdxJC2ezS25koNHG6uuTxCGmQ8g8&paipv=0&source=57&refid=52&__tn__=EH-R', 'text': ''}], 'user_id': '100066756416622', 'username': 'Vẽ bậy', 'user_url': 'https://facebook.com/vebay69?eav=AfZ36wUkIkRDX1iBpW7n3J66vJq5UUie6F-rsbsdgYLIVl_h3sbpNISl-FsjS9V_rjM&refid=52&__tn__=C-R&paipv=0', 'is_live': False, 'factcheck': None, 'shared_post_id': None, 'shared_time': None, 'shared_user_id': None, 'shared_username': None, 'shared_post_url': None, 'available': True, 'comments_full': <generator object PostExtractor.extract_comments_full at 0x7f9218eac900>, 'reactors': None, 'w3_fb_url': None, 'reactions': None, 'reaction_count': 9200, 'with': None, 'page_id': '772954189491441', 'sharers': None, 'image_id': '648745684027306', 'image_ids': ['648745684027306'], 'was_live': False}\n",
      "\tExtracted 267 comments and 104 replies\n",
      "\tTotal 371/431 comments\n",
      "\tSleep 39 seconds\n",
      "{'original_request_url': 648129900755551, 'post_url': 'https://facebook.com/story.php?story_fbid=648129900755551&id=100066756416622', 'post_id': 648129900755551, 'text': 'Thêm 3 số 0 nữa thì tốt\\n#vuilavietlott', 'post_text': 'Thêm 3 số 0 nữa thì tốt\\n#vuilavietlott', 'shared_text': '', 'original_text': None, 'time': datetime.datetime(2023, 9, 11, 4, 0, 1), 'timestamp': 1694404801, 'image': 'https://scontent-sin6-4.xx.fbcdn.net/v/t39.30808-6/377892093_648129707422237_4926854803768423995_n.jpg?stp=cp0_dst-jpg_e15_fr_q65&_nc_cat=110&ccb=1-7&_nc_sid=5f2048&efg=eyJpIjoidCJ9&_nc_ohc=xO6FSKtg4dcAX92SR3d&_nc_ht=scontent-sin6-4.xx&oh=00_AfCMGYzZB-n8hKqoPB6cyFYwh7lrAD9kwScg3wzN0vLkLg&oe=656BC716&manual_redirect=1', 'image_lowquality': 'https://scontent-sin6-4.xx.fbcdn.net/v/t39.30808-6/377892093_648129707422237_4926854803768423995_n.jpg?stp=cp0_dst-jpg_e15_p320x320_q65&_nc_cat=110&ccb=1-7&_nc_sid=5f2048&efg=eyJpIjoidCJ9&_nc_ohc=xO6FSKtg4dcAX92SR3d&_nc_ht=scontent-sin6-4.xx&oh=00_AfD7v2YniSZIQs91Kl8JRkWjQwU2TNw5B53qJ5-oJI71Jg&oe=656BC716', 'images': ['https://scontent-sin6-4.xx.fbcdn.net/v/t39.30808-6/377892093_648129707422237_4926854803768423995_n.jpg?stp=cp0_dst-jpg_e15_fr_q65&_nc_cat=110&ccb=1-7&_nc_sid=5f2048&efg=eyJpIjoidCJ9&_nc_ohc=xO6FSKtg4dcAX92SR3d&_nc_ht=scontent-sin6-4.xx&oh=00_AfCMGYzZB-n8hKqoPB6cyFYwh7lrAD9kwScg3wzN0vLkLg&oe=656BC716&manual_redirect=1'], 'images_description': ['May be an image of text that says \"Ê Na Lạnh lạnh thế này tối làm nồi lẩu đê Nhưng mà tao hết tiền rồi Tao bao gì mới trúng VIETLOTT mà hehe Uầy trúng Vletlott kìa AE Phải mời cả Cty để tán lộc chứ Thế này có khi mua lại cả cty ấy chứ Tờ vé số trúng giải Nhì, Trùng số giá trị giải thưởng 500k\"'], 'images_lowquality': ['https://scontent-sin6-4.xx.fbcdn.net/v/t39.30808-6/377892093_648129707422237_4926854803768423995_n.jpg?stp=cp0_dst-jpg_e15_p320x320_q65&_nc_cat=110&ccb=1-7&_nc_sid=5f2048&efg=eyJpIjoidCJ9&_nc_ohc=xO6FSKtg4dcAX92SR3d&_nc_ht=scontent-sin6-4.xx&oh=00_AfD7v2YniSZIQs91Kl8JRkWjQwU2TNw5B53qJ5-oJI71Jg&oe=656BC716'], 'images_lowquality_description': ['May be an image of text that says \"Ê Na Lạnh lạnh thế này tối làm nồi lẩu đê Nhưng mà tao hết tiền rồi Tao bao gì mới trúng VIETLOTT mà hehe Uầy trúng Vletlott kìa AE Phải mời cả Cty để tán lộc chứ Thế này có khi mua lại cả cty ấy chứ Tờ vé số trúng giải Nhì, Trùng số giá trị giải thưởng 500k\"'], 'video': None, 'video_duration_seconds': None, 'video_height': None, 'video_id': None, 'video_quality': None, 'video_size_MB': None, 'video_thumbnail': None, 'video_watches': None, 'video_width': None, 'likes': 3300, 'comments': 53, 'shares': 12, 'link': None, 'links': [{'link': '/hashtag/vuilavietlott?refid=52&__tn__=%2As-R&paipv=0&eav=AfYZ9n6_aT6E9SpSGdRbGVc9mhpWC-FRBTlsxpyhZ_MblWATZ04OmGM_f7q1y345xZQ', 'text': '#vuilavietlott'}, {'link': 'https://m.facebook.com/photo.php?fbid=648129710755570&id=100066756416622&set=a.604487031786505&eav=AfYsVshHE6witRVRizaG62Q9162BD1AcCNv16FNi5OQemtNd3pD6syncD2T4XHo2ROo&paipv=0&source=57&refid=52&__tn__=EH-R', 'text': ''}], 'user_id': '100066756416622', 'username': 'Vẽ bậy', 'user_url': 'https://facebook.com/vebay69?eav=AfZFP8rkoP0f54L47qhPVwieNExoiu0eD-ODzvN04qM_t0rWpIvafI2RniJ7ot40Afs&refid=52&__tn__=C-R&paipv=0', 'is_live': False, 'factcheck': None, 'shared_post_id': None, 'shared_time': None, 'shared_user_id': None, 'shared_username': None, 'shared_post_url': None, 'available': True, 'comments_full': <generator object PostExtractor.extract_comments_full at 0x7f9218768820>, 'reactors': None, 'w3_fb_url': None, 'reactions': None, 'reaction_count': 3300, 'with': None, 'page_id': '772954189491441', 'sharers': None, 'image_id': '648129710755570', 'image_ids': ['648129710755570'], 'was_live': False}\n",
      "\tExtracted 7 comments and 0 replies\n",
      "\tTotal 7/53 comments\n",
      "\tSleep 38 seconds\n",
      "{'original_request_url': 648136317421576, 'post_url': 'https://facebook.com/story.php?story_fbid=648136317421576&id=100066756416622', 'post_id': 648136317421576, 'text': 'Còn tao thì hiểu đấy mày\\n#Panda', 'post_text': 'Còn tao thì hiểu đấy mày\\n#Panda', 'shared_text': '', 'original_text': None, 'time': datetime.datetime(2023, 9, 11, 3, 1, 13), 'timestamp': 1694401273, 'image': 'https://scontent-sin6-2.xx.fbcdn.net/v/t39.30808-6/376792691_648136020754939_3679563545777523766_n.jpg?stp=cp0_dst-jpg_e15_fr_q65&_nc_cat=102&ccb=1-7&_nc_sid=5f2048&efg=eyJpIjoidCJ9&_nc_ohc=BhfA3Q0fEW0AX_YI7M5&tn=E0gD5szyVABlKnmA&_nc_ht=scontent-sin6-2.xx&oh=00_AfBofthdYcvg2VTHDo47UaxFwNXxb8TxaMXLgpxRpGm0iA&oe=656A6EFA&manual_redirect=1', 'image_lowquality': 'https://scontent-sin6-2.xx.fbcdn.net/v/t39.30808-6/376792691_648136020754939_3679563545777523766_n.jpg?stp=cp0_dst-jpg_e15_p320x320_q65&_nc_cat=102&ccb=1-7&_nc_sid=5f2048&efg=eyJpIjoidCJ9&_nc_ohc=BhfA3Q0fEW0AX_YI7M5&tn=E0gD5szyVABlKnmA&_nc_ht=scontent-sin6-2.xx&oh=00_AfDYlSF4KYV2a6ItVPU1e-8CVjzRRqsq4pF62JhlhTvtHg&oe=656A6EFA', 'images': ['https://scontent-sin6-2.xx.fbcdn.net/v/t39.30808-6/376792691_648136020754939_3679563545777523766_n.jpg?stp=cp0_dst-jpg_e15_fr_q65&_nc_cat=102&ccb=1-7&_nc_sid=5f2048&efg=eyJpIjoidCJ9&_nc_ohc=BhfA3Q0fEW0AX_YI7M5&tn=E0gD5szyVABlKnmA&_nc_ht=scontent-sin6-2.xx&oh=00_AfBofthdYcvg2VTHDo47UaxFwNXxb8TxaMXLgpxRpGm0iA&oe=656A6EFA&manual_redirect=1'], 'images_description': ['May be an illustration of \\u200etext that says \"\\u200eÂy zaaa... Sao đấy? Chả hiểu sao, dạo này đau lưng quá mày ạ ? د×Y\\u200e\"\\u200e'], 'images_lowquality': ['https://scontent-sin6-2.xx.fbcdn.net/v/t39.30808-6/376792691_648136020754939_3679563545777523766_n.jpg?stp=cp0_dst-jpg_e15_p320x320_q65&_nc_cat=102&ccb=1-7&_nc_sid=5f2048&efg=eyJpIjoidCJ9&_nc_ohc=BhfA3Q0fEW0AX_YI7M5&tn=E0gD5szyVABlKnmA&_nc_ht=scontent-sin6-2.xx&oh=00_AfDYlSF4KYV2a6ItVPU1e-8CVjzRRqsq4pF62JhlhTvtHg&oe=656A6EFA'], 'images_lowquality_description': ['May be an illustration of \\u200etext that says \"\\u200eÂy zaaa... Sao đấy? Chả hiểu sao, dạo này đau lưng quá mày ạ ? د×Y\\u200e\"\\u200e'], 'video': None, 'video_duration_seconds': None, 'video_height': None, 'video_id': None, 'video_quality': None, 'video_size_MB': None, 'video_thumbnail': None, 'video_watches': None, 'video_width': None, 'likes': 1800, 'comments': 19, 'shares': 4, 'link': None, 'links': [{'link': '/hashtag/panda?refid=52&__tn__=%2As-R&paipv=0&eav=AfZSwHVIlVsjvrP47bg6TgevvioKQpEhMFbytQ7RsTBdxnUYVWP6z7tFPJ62EskINZM', 'text': '#Panda'}, {'link': 'https://m.facebook.com/photo.php?fbid=648136024088272&id=100066756416622&set=a.604487031786505&eav=AfZCE5ZmZa8aDpBRvsxbKSoyYULpLfhMl81R-o9IZl3_f6gj-jYGmPK5qj5qnq7y_nM&paipv=0&source=57&refid=52&__tn__=EH-R', 'text': ''}], 'user_id': '100066756416622', 'username': 'Vẽ bậy', 'user_url': 'https://facebook.com/vebay69?eav=AfbHLE08UhXy2jlOs4g20KG_3rr0aDNrhwQapNsNsc7sHPdFMf-nHUd4ZtZx7HQCHmE&refid=52&__tn__=C-R&paipv=0', 'is_live': False, 'factcheck': None, 'shared_post_id': None, 'shared_time': None, 'shared_user_id': None, 'shared_username': None, 'shared_post_url': None, 'available': True, 'comments_full': <generator object PostExtractor.extract_comments_full at 0x7f9218c8e260>, 'reactors': None, 'w3_fb_url': None, 'reactions': None, 'reaction_count': 1800, 'with': None, 'page_id': '772954189491441', 'sharers': None, 'image_id': '648136024088272', 'image_ids': ['648136024088272'], 'was_live': False}\n",
      "\tExtracted 15 comments and 4 replies\n",
      "\tTotal 19/19 comments\n",
      "\tSleep 34 seconds\n",
      "{'original_request_url': 646648884236986, 'post_url': 'https://facebook.com/story.php?story_fbid=646648884236986&id=100066756416622', 'post_id': 646648884236986, 'text': 'Đã mượn máy còn khịa tau\\n\\nMua điện thoại, đến ngay FPT Shop\\nFPT SHOP - HỆ THỐNG BÁN LẺ CHÍNH HÃNG HÀNG ĐẦU VIỆT NAM\\n#FPTShop_uudai #oppo #dienthoaichinhhang', 'post_text': 'Đã mượn máy còn khịa tau\\n\\nMua điện thoại, đến ngay FPT Shop\\nFPT SHOP - HỆ THỐNG BÁN LẺ CHÍNH HÃNG HÀNG ĐẦU VIỆT NAM\\n#FPTShop_uudai #oppo #dienthoaichinhhang', 'shared_text': '', 'original_text': None, 'time': datetime.datetime(2023, 9, 10, 13, 0, 1), 'timestamp': 1694350801, 'image': 'https://scontent-sin6-2.xx.fbcdn.net/v/t39.30808-6/376787729_646648680903673_8911298586092604074_n.jpg?stp=cp0_dst-jpg_e15_fr_q65&_nc_cat=102&ccb=1-7&_nc_sid=5f2048&efg=eyJpIjoidCJ9&_nc_ohc=FLYrHe8EPsIAX9Z_Nvr&_nc_oc=AQkM6SmwUj1NnskgoJ989ZZno-8iR1QXub5HGTMqLK7BwefmvtpksVExGFj-b987rk4&_nc_ht=scontent-sin6-2.xx&oh=00_AfBhMB6EPxnWJ8HY59KHFe9jJlig_KcbGZqdXJF0zEnJjQ&oe=656A0EAB&manual_redirect=1', 'image_lowquality': 'https://scontent-sin6-2.xx.fbcdn.net/v/t39.30808-6/376787729_646648680903673_8911298586092604074_n.jpg?stp=cp0_dst-jpg_e15_p320x320_q65&_nc_cat=102&ccb=1-7&_nc_sid=5f2048&efg=eyJpIjoidCJ9&_nc_ohc=FLYrHe8EPsIAX9Z_Nvr&_nc_oc=AQkM6SmwUj1NnskgoJ989ZZno-8iR1QXub5HGTMqLK7BwefmvtpksVExGFj-b987rk4&_nc_ht=scontent-sin6-2.xx&oh=00_AfB5WvH5upBfJfIWrzWEWPZsnWqE1xcbmCXQirwiWFWIpg&oe=656A0EAB', 'images': ['https://scontent-sin6-2.xx.fbcdn.net/v/t39.30808-6/376787729_646648680903673_8911298586092604074_n.jpg?stp=cp0_dst-jpg_e15_fr_q65&_nc_cat=102&ccb=1-7&_nc_sid=5f2048&efg=eyJpIjoidCJ9&_nc_ohc=FLYrHe8EPsIAX9Z_Nvr&_nc_oc=AQkM6SmwUj1NnskgoJ989ZZno-8iR1QXub5HGTMqLK7BwefmvtpksVExGFj-b987rk4&_nc_ht=scontent-sin6-2.xx&oh=00_AfBhMB6EPxnWJ8HY59KHFe9jJlig_KcbGZqdXJF0zEnJjQ&oe=656A0EAB&manual_redirect=1'], 'images_description': ['May be pop art of one or more people, phone and text that says \"làm gì đó? Tau đang tập luyện chụp ảnh cho người yêu, Sắp trung thu rồi kiểu đi chơi chả bắt tau chụp Mày đứng qua kia tau chỉ cho Thế nào ok không Uầy siêu phẩm mày chụp thế nào chỉ tao Hay cho tau mượn đê Bảo sao không có người yêu mà chụp đẹp thế Mày cứ sắm con OPPO FPT Shop giá luôn Siêu ưu đãi đến triệu, Tặng PMH gia dụng/dịch vụ/phụ kiện đến 300k\"'], 'images_lowquality': ['https://scontent-sin6-2.xx.fbcdn.net/v/t39.30808-6/376787729_646648680903673_8911298586092604074_n.jpg?stp=cp0_dst-jpg_e15_p320x320_q65&_nc_cat=102&ccb=1-7&_nc_sid=5f2048&efg=eyJpIjoidCJ9&_nc_ohc=FLYrHe8EPsIAX9Z_Nvr&_nc_oc=AQkM6SmwUj1NnskgoJ989ZZno-8iR1QXub5HGTMqLK7BwefmvtpksVExGFj-b987rk4&_nc_ht=scontent-sin6-2.xx&oh=00_AfB5WvH5upBfJfIWrzWEWPZsnWqE1xcbmCXQirwiWFWIpg&oe=656A0EAB'], 'images_lowquality_description': ['May be pop art of one or more people, phone and text that says \"làm gì đó? Tau đang tập luyện chụp ảnh cho người yêu, Sắp trung thu rồi kiểu đi chơi chả bắt tau chụp Mày đứng qua kia tau chỉ cho Thế nào ok không Uầy siêu phẩm mày chụp thế nào chỉ tao Hay cho tau mượn đê Bảo sao không có người yêu mà chụp đẹp thế Mày cứ sắm con OPPO FPT Shop giá luôn Siêu ưu đãi đến triệu, Tặng PMH gia dụng/dịch vụ/phụ kiện đến 300k\"'], 'video': None, 'video_duration_seconds': None, 'video_height': None, 'video_id': None, 'video_quality': None, 'video_size_MB': None, 'video_thumbnail': None, 'video_watches': None, 'video_width': None, 'likes': 3300, 'comments': 88, 'shares': 13, 'link': None, 'links': [{'link': '/hashtag/fptshop_uudai?refid=52&__tn__=%2As-R&paipv=0&eav=AfZMHStqUwg7bjIswcFZnY0JJaEYc1WtEZ-QRMmCA2DQvXip3zKcr7mQLhGZC5-8v8E', 'text': '#FPTShop_uudai'}, {'link': '/hashtag/oppo?refid=52&__tn__=%2As-R&paipv=0&eav=AfZuGHnVQB_SWC3niZAdJta0UFzwBaNdvnGSCw7iACUZ_q9xUakR9NfLAwPhk5T4ZGg', 'text': '#oppo'}, {'link': '/hashtag/dienthoaichinhhang?refid=52&__tn__=%2As-R&paipv=0&eav=AfadJXZLjCZCriqAnvjoEKpF8ZIWi3xC7urvUgADY95e31sMGM4_9xCPVIfLcqnJIe0', 'text': '#dienthoaichinhhang'}, {'link': 'https://m.facebook.com/photo.php?fbid=646648684237006&id=100066756416622&set=a.604487031786505&eav=AfYYlNYzrGDPEoLfvIAkV8klBitn4aaEYO2OCySwTZ1ttefbn3iWbigBPQLZzo4Rlag&paipv=0&source=57&refid=52&__tn__=EH-R', 'text': ''}], 'user_id': '100066756416622', 'username': 'Vẽ bậy', 'user_url': 'https://facebook.com/vebay69?eav=AfaQeqtg-o2l4gHvtzwjzGta0EAOiK34oLmUAUdzK8P7gnFvJ_NeGizow4oSyh5375I&refid=52&__tn__=C-R&paipv=0', 'is_live': False, 'factcheck': None, 'shared_post_id': None, 'shared_time': None, 'shared_user_id': None, 'shared_username': None, 'shared_post_url': None, 'available': True, 'comments_full': <generator object PostExtractor.extract_comments_full at 0x7f9218deec70>, 'reactors': None, 'w3_fb_url': None, 'reactions': None, 'reaction_count': 3300, 'with': None, 'page_id': '772954189491441', 'sharers': None, 'image_id': '646648684237006', 'image_ids': ['646648684237006'], 'was_live': False}\n",
      "\tExtracted 20 comments and 0 replies\n",
      "\tTotal 20/88 comments\n",
      "\tSleep 52 seconds\n",
      "{'original_request_url': 647745007460707, 'post_url': 'https://facebook.com/story.php?story_fbid=647745007460707&id=100066756416622', 'post_id': 647745007460707, 'text': 'Còn đúng cái nịt\\n#BHTTD', 'post_text': 'Còn đúng cái nịt\\n#BHTTD', 'shared_text': '', 'original_text': None, 'time': datetime.datetime(2023, 9, 10, 10, 11, 19), 'timestamp': 1694340679, 'image': 'https://scontent-sin6-1.xx.fbcdn.net/v/t39.30808-6/377885949_647744837460724_3732196549052854920_n.jpg?stp=cp0_dst-jpg_e15_fr_q65&_nc_cat=111&ccb=1-7&_nc_sid=5f2048&efg=eyJpIjoidCJ9&_nc_ohc=x74muQ5TSLAAX_4nTnt&_nc_ht=scontent-sin6-1.xx&oh=00_AfAiuEHBYFD3wcDraHGlgI19ooGUjc3MQoU6ExRdOI-2rg&oe=6569F6DD&manual_redirect=1', 'image_lowquality': 'https://scontent-sin6-1.xx.fbcdn.net/v/t39.30808-6/377885949_647744837460724_3732196549052854920_n.jpg?stp=cp0_dst-jpg_e15_p320x320_q65&_nc_cat=111&ccb=1-7&_nc_sid=5f2048&efg=eyJpIjoidCJ9&_nc_ohc=x74muQ5TSLAAX_4nTnt&_nc_ht=scontent-sin6-1.xx&oh=00_AfAqOUtNkfGLbq1MXi8maKGHspc56AbX-CBCZ7C9YtIroQ&oe=6569F6DD', 'images': ['https://scontent-sin6-1.xx.fbcdn.net/v/t39.30808-6/377885949_647744837460724_3732196549052854920_n.jpg?stp=cp0_dst-jpg_e15_fr_q65&_nc_cat=111&ccb=1-7&_nc_sid=5f2048&efg=eyJpIjoidCJ9&_nc_ohc=x74muQ5TSLAAX_4nTnt&_nc_ht=scontent-sin6-1.xx&oh=00_AfAiuEHBYFD3wcDraHGlgI19ooGUjc3MQoU6ExRdOI-2rg&oe=6569F6DD&manual_redirect=1'], 'images_description': ['May be an image of text'], 'images_lowquality': ['https://scontent-sin6-1.xx.fbcdn.net/v/t39.30808-6/377885949_647744837460724_3732196549052854920_n.jpg?stp=cp0_dst-jpg_e15_p320x320_q65&_nc_cat=111&ccb=1-7&_nc_sid=5f2048&efg=eyJpIjoidCJ9&_nc_ohc=x74muQ5TSLAAX_4nTnt&_nc_ht=scontent-sin6-1.xx&oh=00_AfAqOUtNkfGLbq1MXi8maKGHspc56AbX-CBCZ7C9YtIroQ&oe=6569F6DD'], 'images_lowquality_description': ['May be an image of text'], 'video': None, 'video_duration_seconds': None, 'video_height': None, 'video_id': None, 'video_quality': None, 'video_size_MB': None, 'video_thumbnail': None, 'video_watches': None, 'video_width': None, 'likes': 6100, 'comments': 221, 'shares': 33, 'link': None, 'links': [{'link': '/hashtag/bhttd?refid=52&__tn__=%2As-R&paipv=0&eav=AfZx0zs9eCRqgBxTOBgKoQuPZPF_8Hc8TqUHeRwFlm5-rd3t8WPAxeChWuuWxjYv0qA', 'text': '#BHTTD'}, {'link': 'https://m.facebook.com/photo.php?fbid=647744840794057&id=100066756416622&set=a.604487031786505&eav=AfYvAGdf_vhR4_POoUcQc-F6VEErHwfg08P4TL6LraNfZDCUCW-qoCCRHaE_AhSPQIY&paipv=0&source=57&refid=52&__tn__=EH-R', 'text': ''}], 'user_id': '100066756416622', 'username': 'Vẽ bậy', 'user_url': 'https://facebook.com/vebay69?eav=AfbtqZjUM-WdxqLEbXdK-kdlOeWJy46GD0nW14yHNDplesxdtrFv_OwRT_5LGYUVdZY&refid=52&__tn__=C-R&paipv=0', 'is_live': False, 'factcheck': None, 'shared_post_id': None, 'shared_time': None, 'shared_user_id': None, 'shared_username': None, 'shared_post_url': None, 'available': True, 'comments_full': <generator object PostExtractor.extract_comments_full at 0x7f921873af80>, 'reactors': None, 'w3_fb_url': None, 'reactions': None, 'reaction_count': 6100, 'with': None, 'page_id': '772954189491441', 'sharers': None, 'image_id': '647744840794057', 'image_ids': ['647744840794057'], 'was_live': False}\n",
      "\tExtracted 113 comments and 72 replies\n",
      "\tTotal 185/221 comments\n",
      "\tSleep 35 seconds\n",
      "{'original_request_url': 647707500797791, 'post_url': 'https://facebook.com/story.php?story_fbid=647707500797791&id=100066756416622', 'post_id': 647707500797791, 'text': 'Lí do sắp hết ngày rồi vẫn chưa làm được gì\\n#Muonggg', 'post_text': 'Lí do sắp hết ngày rồi vẫn chưa làm được gì\\n#Muonggg', 'shared_text': '', 'original_text': None, 'time': datetime.datetime(2023, 9, 10, 8, 34, 34), 'timestamp': 1694334874, 'image': 'https://scontent-sin6-4.xx.fbcdn.net/v/t39.30808-6/376854595_647707004131174_4971665477669374613_n.jpg?stp=cp0_dst-jpg_e15_fr_q65&_nc_cat=110&ccb=1-7&_nc_sid=5f2048&efg=eyJpIjoidCJ9&_nc_ohc=56ThBlfYAREAX97qqDO&_nc_ht=scontent-sin6-4.xx&oh=00_AfBZSCAg4i7k7e-hAYWO0XlF5QQ1Fn39fBCYN7hwnGQ_uA&oe=656B3819&manual_redirect=1', 'image_lowquality': 'https://scontent-sin6-4.xx.fbcdn.net/v/t39.30808-6/376854595_647707004131174_4971665477669374613_n.jpg?stp=cp0_dst-jpg_e15_p320x320_q65&_nc_cat=110&ccb=1-7&_nc_sid=5f2048&efg=eyJpIjoidCJ9&_nc_ohc=56ThBlfYAREAX97qqDO&_nc_ht=scontent-sin6-4.xx&oh=00_AfA9TSb54OsX_bfWezjlvgO3zei5Q_xZ0MBHtRwW4hUTkw&oe=656B3819', 'images': ['https://scontent-sin6-4.xx.fbcdn.net/v/t39.30808-6/376854595_647707004131174_4971665477669374613_n.jpg?stp=cp0_dst-jpg_e15_fr_q65&_nc_cat=110&ccb=1-7&_nc_sid=5f2048&efg=eyJpIjoidCJ9&_nc_ohc=56ThBlfYAREAX97qqDO&_nc_ht=scontent-sin6-4.xx&oh=00_AfBZSCAg4i7k7e-hAYWO0XlF5QQ1Fn39fBCYN7hwnGQ_uA&oe=656B3819&manual_redirect=1'], 'images_description': ['May be pop art of text that says \"Hôm nay quyết tâm làm xong việc Ve Đói quá ăn đã Có thực mới vực được đạo 2 VàLi Và ngủ hết ngày... ợ... Buồn ngủ... Căng da bụng chùng da mắt\"'], 'images_lowquality': ['https://scontent-sin6-4.xx.fbcdn.net/v/t39.30808-6/376854595_647707004131174_4971665477669374613_n.jpg?stp=cp0_dst-jpg_e15_p320x320_q65&_nc_cat=110&ccb=1-7&_nc_sid=5f2048&efg=eyJpIjoidCJ9&_nc_ohc=56ThBlfYAREAX97qqDO&_nc_ht=scontent-sin6-4.xx&oh=00_AfA9TSb54OsX_bfWezjlvgO3zei5Q_xZ0MBHtRwW4hUTkw&oe=656B3819'], 'images_lowquality_description': ['May be pop art of text that says \"Hôm nay quyết tâm làm xong việc Ve Đói quá ăn đã Có thực mới vực được đạo 2 VàLi Và ngủ hết ngày... ợ... Buồn ngủ... Căng da bụng chùng da mắt\"'], 'video': None, 'video_duration_seconds': None, 'video_height': None, 'video_id': None, 'video_quality': None, 'video_size_MB': None, 'video_thumbnail': None, 'video_watches': None, 'video_width': None, 'likes': 1300, 'comments': 18, 'shares': 5, 'link': None, 'links': [{'link': '/hashtag/muonggg?refid=52&__tn__=%2As-R&paipv=0&eav=AfbvnWUj3hyGrlz2KOnFG-YIuXmhiN4WQ0HHFL7iPi9B3StUnHezdpu4bhM83V48b8s', 'text': '#Muonggg'}, {'link': 'https://m.facebook.com/photo.php?fbid=647707007464507&id=100066756416622&set=a.604487025119839&eav=AfYgkfKlrS-ta-R87QevTLCwcjt5P0IydMTQcXrK9Dzlvj_D8P3mOTOUSiE7iG0ySaI&paipv=0&source=57&refid=52&__tn__=EH-R', 'text': ''}], 'user_id': '100066756416622', 'username': 'Vẽ bậy', 'user_url': 'https://facebook.com/vebay69?eav=AfZxjrR_gX6sclmNSErRXkeNr6eW3usUz3z8MKFKg_Wqa1ygeBNZNswJKie9g08Msi8&refid=52&__tn__=C-R&paipv=0', 'is_live': False, 'factcheck': None, 'shared_post_id': None, 'shared_time': None, 'shared_user_id': None, 'shared_username': None, 'shared_post_url': None, 'available': True, 'comments_full': <generator object PostExtractor.extract_comments_full at 0x7f9218ead0e0>, 'reactors': None, 'w3_fb_url': None, 'reactions': None, 'reaction_count': 1300, 'with': None, 'page_id': '772954189491441', 'sharers': None, 'image_id': '647707007464507', 'image_ids': ['647707007464507'], 'was_live': False}\n",
      "\tExtracted 5 comments and 2 replies\n",
      "\tTotal 7/18 comments\n",
      "\tSleep 48 seconds\n",
      "{'original_request_url': 647178930850648, 'post_url': 'https://facebook.com/story.php?story_fbid=647178930850648&id=100066756416622', 'post_id': 647178930850648, 'text': 'Tóc chỉ đẹp khi còn ở tiệm\\n#Muonggg', 'post_text': 'Tóc chỉ đẹp khi còn ở tiệm\\n#Muonggg', 'shared_text': '', 'original_text': None, 'time': datetime.datetime(2023, 9, 9, 8, 32, 35), 'timestamp': 1694248355, 'image': 'https://scontent-sin6-4.xx.fbcdn.net/v/t39.30808-6/377519299_647178770850664_3215934532219980752_n.jpg?stp=cp0_dst-jpg_e15_fr_q65&_nc_cat=101&ccb=1-7&_nc_sid=5f2048&efg=eyJpIjoidCJ9&_nc_ohc=TjiEzH5xt1UAX9JT2E4&_nc_oc=AQlZ4KvRngpxzv0GXH9Mc8lzH5q6ieludaLgoanGsnMFv4b9u4lb8J2pN8bK11T6yXQ&_nc_ht=scontent-sin6-4.xx&oh=00_AfDLxB3LfZ4ko4zvv-I5wBiayF5xTLR-vHiYGoOu8g3C5A&oe=656B23B3&manual_redirect=1', 'image_lowquality': 'https://scontent-sin6-4.xx.fbcdn.net/v/t39.30808-6/377519299_647178770850664_3215934532219980752_n.jpg?stp=cp0_dst-jpg_e15_p320x320_q65&_nc_cat=101&ccb=1-7&_nc_sid=5f2048&efg=eyJpIjoidCJ9&_nc_ohc=TjiEzH5xt1UAX9JT2E4&_nc_oc=AQlZ4KvRngpxzv0GXH9Mc8lzH5q6ieludaLgoanGsnMFv4b9u4lb8J2pN8bK11T6yXQ&_nc_ht=scontent-sin6-4.xx&oh=00_AfC-fxPjfDoY_Tg2B4EQi5BFal9LIPknZtjUr-H7hLLAHQ&oe=656B23B3', 'images': ['https://scontent-sin6-4.xx.fbcdn.net/v/t39.30808-6/377519299_647178770850664_3215934532219980752_n.jpg?stp=cp0_dst-jpg_e15_fr_q65&_nc_cat=101&ccb=1-7&_nc_sid=5f2048&efg=eyJpIjoidCJ9&_nc_ohc=TjiEzH5xt1UAX9JT2E4&_nc_oc=AQlZ4KvRngpxzv0GXH9Mc8lzH5q6ieludaLgoanGsnMFv4b9u4lb8J2pN8bK11T6yXQ&_nc_ht=scontent-sin6-4.xx&oh=00_AfDLxB3LfZ4ko4zvv-I5wBiayF5xTLR-vHiYGoOu8g3C5A&oe=656B23B3&manual_redirect=1'], 'images_description': ['May be a doodle of \\u200etext that says \"\\u200eỞ tiệm Lấp lánh Xinh điẹp toẹt zời Về nhà Te tua כר2\\u200e\"\\u200e'], 'images_lowquality': ['https://scontent-sin6-4.xx.fbcdn.net/v/t39.30808-6/377519299_647178770850664_3215934532219980752_n.jpg?stp=cp0_dst-jpg_e15_p320x320_q65&_nc_cat=101&ccb=1-7&_nc_sid=5f2048&efg=eyJpIjoidCJ9&_nc_ohc=TjiEzH5xt1UAX9JT2E4&_nc_oc=AQlZ4KvRngpxzv0GXH9Mc8lzH5q6ieludaLgoanGsnMFv4b9u4lb8J2pN8bK11T6yXQ&_nc_ht=scontent-sin6-4.xx&oh=00_AfC-fxPjfDoY_Tg2B4EQi5BFal9LIPknZtjUr-H7hLLAHQ&oe=656B23B3'], 'images_lowquality_description': ['May be a doodle of \\u200etext that says \"\\u200eỞ tiệm Lấp lánh Xinh điẹp toẹt zời Về nhà Te tua כר2\\u200e\"\\u200e'], 'video': None, 'video_duration_seconds': None, 'video_height': None, 'video_id': None, 'video_quality': None, 'video_size_MB': None, 'video_thumbnail': None, 'video_watches': None, 'video_width': None, 'likes': 1300, 'comments': 44, 'shares': 10, 'link': None, 'links': [{'link': '/hashtag/muonggg?refid=52&__tn__=%2As-R&paipv=0&eav=AfYsZF7B0Mrcjb8azcdbl3AxplPa2YGxcU_er1-t96c6y9jMD_us_FnbI-TuzjyRvgY', 'text': '#Muonggg'}, {'link': 'https://m.facebook.com/photo.php?fbid=647178774183997&id=100066756416622&set=a.604487025119839&eav=Afb_HNRD4-Y1fhhn403bMHriteVZXabGw8eZ1n9XB2ygQu-b0jefbCrUZkCIsG0wjbA&paipv=0&source=57&refid=52&__tn__=EH-R', 'text': ''}], 'user_id': '100066756416622', 'username': 'Vẽ bậy', 'user_url': 'https://facebook.com/vebay69?eav=Afb8iD6g7loNgBHl9CIY2lG7pBvv3z62s-UJJSJ6nvobUj-Gq8Rli5aV9mHElxUbT_I&refid=52&__tn__=C-R&paipv=0', 'is_live': False, 'factcheck': None, 'shared_post_id': None, 'shared_time': None, 'shared_user_id': None, 'shared_username': None, 'shared_post_url': None, 'available': True, 'comments_full': <generator object PostExtractor.extract_comments_full at 0x7f921895e030>, 'reactors': None, 'w3_fb_url': None, 'reactions': None, 'reaction_count': 1300, 'with': None, 'page_id': '772954189491441', 'sharers': None, 'image_id': '647178774183997', 'image_ids': ['647178774183997'], 'was_live': False}\n",
      "\tExtracted 15 comments and 21 replies\n",
      "\tTotal 36/44 comments\n",
      "\tSleep 56 seconds\n",
      "{'original_request_url': 646704834231391, 'post_url': 'https://facebook.com/story.php?story_fbid=646704834231391&id=100066756416622', 'post_id': 646704834231391, 'text': 'Ác mộng khi mùa hè đến\\n#BHTTD', 'post_text': 'Ác mộng khi mùa hè đến\\n#BHTTD', 'shared_text': '', 'original_text': None, 'time': datetime.datetime(2023, 9, 8, 10, 9, 16), 'timestamp': 1694167756, 'image': 'https://scontent-sin6-4.xx.fbcdn.net/v/t39.30808-6/375063782_646704234231451_7960958149784927445_n.jpg?stp=cp0_dst-jpg_e15_fr_q65&_nc_cat=110&ccb=1-7&_nc_sid=5f2048&efg=eyJpIjoidCJ9&_nc_ohc=cb3U304xU0oAX96nw9c&_nc_ht=scontent-sin6-4.xx&oh=00_AfAZ-WCjCSH7mqC-d6f5Jn9LM8g0_ui-kCUGm3BxG3CR2A&oe=656BAC14&manual_redirect=1', 'image_lowquality': 'https://scontent-sin6-4.xx.fbcdn.net/v/t39.30808-6/375063782_646704234231451_7960958149784927445_n.jpg?stp=cp0_dst-jpg_e15_p320x320_q65&_nc_cat=110&ccb=1-7&_nc_sid=5f2048&efg=eyJpIjoidCJ9&_nc_ohc=cb3U304xU0oAX96nw9c&_nc_ht=scontent-sin6-4.xx&oh=00_AfADRF7m6X2HD8VDwMvboLku_DYRG31CwwcYaGNC9up34Q&oe=656BAC14', 'images': ['https://scontent-sin6-4.xx.fbcdn.net/v/t39.30808-6/375063782_646704234231451_7960958149784927445_n.jpg?stp=cp0_dst-jpg_e15_fr_q65&_nc_cat=110&ccb=1-7&_nc_sid=5f2048&efg=eyJpIjoidCJ9&_nc_ohc=cb3U304xU0oAX96nw9c&_nc_ht=scontent-sin6-4.xx&oh=00_AfAZ-WCjCSH7mqC-d6f5Jn9LM8g0_ui-kCUGm3BxG3CR2A&oe=656BAC14&manual_redirect=1'], 'images_description': ['May be an image of text'], 'images_lowquality': ['https://scontent-sin6-4.xx.fbcdn.net/v/t39.30808-6/375063782_646704234231451_7960958149784927445_n.jpg?stp=cp0_dst-jpg_e15_p320x320_q65&_nc_cat=110&ccb=1-7&_nc_sid=5f2048&efg=eyJpIjoidCJ9&_nc_ohc=cb3U304xU0oAX96nw9c&_nc_ht=scontent-sin6-4.xx&oh=00_AfADRF7m6X2HD8VDwMvboLku_DYRG31CwwcYaGNC9up34Q&oe=656BAC14'], 'images_lowquality_description': ['May be an image of text'], 'video': None, 'video_duration_seconds': None, 'video_height': None, 'video_id': None, 'video_quality': None, 'video_size_MB': None, 'video_thumbnail': None, 'video_watches': None, 'video_width': None, 'likes': 1200, 'comments': 23, 'shares': 3, 'link': None, 'links': [{'link': '/hashtag/bhttd?refid=52&__tn__=%2As-R&paipv=0&eav=AfYkWgz1oaYFqA56S3fumzlJ2e6I7RWyT9mwcdLjObp0Twxoh-uY2kHuPsNCcVcMuTo', 'text': '#BHTTD'}, {'link': 'https://m.facebook.com/photo.php?fbid=646704240898117&id=100066756416622&set=a.604487031786505&eav=Afac6ajhWrPYXIOBu3yaxleIQTJeWYBtwkUqqqIHaRbAmOlLGridUrZio5D5dK7kakM&paipv=0&source=57&refid=52&__tn__=EH-R', 'text': ''}], 'user_id': '100066756416622', 'username': 'Vẽ bậy', 'user_url': 'https://facebook.com/vebay69?eav=AfZ6Go37EDzX7Tnii_bGuAIWg5vBm7m5ZnhGfDhIYcveb_FM3yDvn-tHMu3STK-H8Sw&refid=52&__tn__=C-R&paipv=0', 'is_live': False, 'factcheck': None, 'shared_post_id': None, 'shared_time': None, 'shared_user_id': None, 'shared_username': None, 'shared_post_url': None, 'available': True, 'comments_full': <generator object PostExtractor.extract_comments_full at 0x7f921884ce40>, 'reactors': None, 'w3_fb_url': None, 'reactions': None, 'reaction_count': 1200, 'with': None, 'page_id': '772954189491441', 'sharers': None, 'image_id': '646704240898117', 'image_ids': ['646704240898117'], 'was_live': False}\n",
      "\tExtracted 4 comments and 10 replies\n",
      "\tTotal 14/23 comments\n",
      "\tSleep 57 seconds\n",
      "{'original_request_url': 646610584240816, 'post_url': 'https://facebook.com/story.php?story_fbid=646610584240816&id=100066756416622', 'post_id': 646610584240816, 'text': 'Zui ghê cơ 😀\\n#Muonggg', 'post_text': 'Zui ghê cơ 😀\\n#Muonggg', 'shared_text': '', 'original_text': None, 'time': datetime.datetime(2023, 9, 8, 7, 35, 47), 'timestamp': 1694158547, 'image': 'https://scontent-sin6-1.xx.fbcdn.net/v/t39.30808-6/376620760_646610560907485_8938486201983086583_n.jpg?stp=cp0_dst-jpg_e15_fr_q65&_nc_cat=111&ccb=1-7&_nc_sid=5f2048&efg=eyJpIjoidCJ9&_nc_ohc=-vnJzAdzSdAAX8nKNel&tn=E0gD5szyVABlKnmA&_nc_ht=scontent-sin6-1.xx&oh=00_AfBv9sIG48NLen4FR1NDeTtxHgJQafkgow0i4K8h0bpuPA&oe=656AE15A&manual_redirect=1', 'image_lowquality': 'https://scontent-sin6-1.xx.fbcdn.net/v/t39.30808-6/376620760_646610560907485_8938486201983086583_n.jpg?stp=cp0_dst-jpg_e15_p320x320_q65&_nc_cat=111&ccb=1-7&_nc_sid=5f2048&efg=eyJpIjoidCJ9&_nc_ohc=-vnJzAdzSdAAX8nKNel&tn=E0gD5szyVABlKnmA&_nc_ht=scontent-sin6-1.xx&oh=00_AfDKl_vzgVjWjhL8QDb01jVB-_ItmYYhQNUd6KqGv6OT7w&oe=656AE15A', 'images': ['https://scontent-sin6-1.xx.fbcdn.net/v/t39.30808-6/376620760_646610560907485_8938486201983086583_n.jpg?stp=cp0_dst-jpg_e15_fr_q65&_nc_cat=111&ccb=1-7&_nc_sid=5f2048&efg=eyJpIjoidCJ9&_nc_ohc=-vnJzAdzSdAAX8nKNel&tn=E0gD5szyVABlKnmA&_nc_ht=scontent-sin6-1.xx&oh=00_AfBv9sIG48NLen4FR1NDeTtxHgJQafkgow0i4K8h0bpuPA&oe=656AE15A&manual_redirect=1'], 'images_description': ['May be a doodle of one or more people and text'], 'images_lowquality': ['https://scontent-sin6-1.xx.fbcdn.net/v/t39.30808-6/376620760_646610560907485_8938486201983086583_n.jpg?stp=cp0_dst-jpg_e15_p320x320_q65&_nc_cat=111&ccb=1-7&_nc_sid=5f2048&efg=eyJpIjoidCJ9&_nc_ohc=-vnJzAdzSdAAX8nKNel&tn=E0gD5szyVABlKnmA&_nc_ht=scontent-sin6-1.xx&oh=00_AfDKl_vzgVjWjhL8QDb01jVB-_ItmYYhQNUd6KqGv6OT7w&oe=656AE15A'], 'images_lowquality_description': ['May be a doodle of one or more people and text'], 'video': None, 'video_duration_seconds': None, 'video_height': None, 'video_id': None, 'video_quality': None, 'video_size_MB': None, 'video_thumbnail': None, 'video_watches': None, 'video_width': None, 'likes': 1200, 'comments': 29, 'shares': 7, 'link': None, 'links': [{'link': '/hashtag/muonggg?refid=52&__tn__=%2As-R&paipv=0&eav=AfZQcYSgIOIe4yaQsvTJfatkF6vEuIzAimGGriu3JIivcPhHAZUQMYjmbe3vY_203K8', 'text': '#Muonggg'}, {'link': 'https://m.facebook.com/photo.php?fbid=646610564240818&id=100066756416622&set=a.604487031786505&eav=AfbHtNTkDFCUoV3kOF56mMhsHObuvzzaBDRGMzp8ikAIY9YRvLalwilACZ_oOkf9aa0&paipv=0&source=57&refid=52&__tn__=EH-R', 'text': ''}], 'user_id': '100066756416622', 'username': 'Vẽ bậy', 'user_url': 'https://facebook.com/vebay69?eav=Afa1VNATr6HziZFUondre54zs7qFwY-r2bZIZUhRXbix3HcmKQp9ySrPxebuJuc32XA&refid=52&__tn__=C-R&paipv=0', 'is_live': False, 'factcheck': None, 'shared_post_id': None, 'shared_time': None, 'shared_user_id': None, 'shared_username': None, 'shared_post_url': None, 'available': True, 'comments_full': <generator object PostExtractor.extract_comments_full at 0x7f921884e030>, 'reactors': None, 'w3_fb_url': None, 'reactions': None, 'reaction_count': 1200, 'with': None, 'page_id': '772954189491441', 'sharers': None, 'image_id': '646610564240818', 'image_ids': ['646610564240818'], 'was_live': False}\n",
      "\tExtracted 6 comments and 18 replies\n",
      "\tTotal 24/29 comments\n",
      "\tSleep 50 seconds\n",
      "{'original_request_url': 646578170910724, 'post_url': 'https://facebook.com/story.php?story_fbid=646578170910724&id=100066756416622', 'post_id': 646578170910724, 'text': 'Lạc quan lên\\n#Panda', 'post_text': 'Lạc quan lên\\n#Panda', 'shared_text': '', 'original_text': None, 'time': datetime.datetime(2023, 9, 8, 3, 41, 51), 'timestamp': 1694144511, 'image': 'https://scontent-sin6-4.xx.fbcdn.net/v/t39.30808-6/376630516_646578114244063_4667496454819967297_n.jpg?stp=cp0_dst-jpg_e15_fr_q65&_nc_cat=101&ccb=1-7&_nc_sid=5f2048&efg=eyJpIjoidCJ9&_nc_ohc=3T5z44Cew00AX9KdG9I&_nc_ht=scontent-sin6-4.xx&oh=00_AfCnUt3G9CNPa4v-tzKlGaZTE6YKlhevLyL2XsNvGgtTgg&oe=656B9BCB&manual_redirect=1', 'image_lowquality': 'https://scontent-sin6-4.xx.fbcdn.net/v/t39.30808-6/376630516_646578114244063_4667496454819967297_n.jpg?stp=cp0_dst-jpg_e15_p320x320_q65&_nc_cat=101&ccb=1-7&_nc_sid=5f2048&efg=eyJpIjoidCJ9&_nc_ohc=3T5z44Cew00AX9KdG9I&_nc_ht=scontent-sin6-4.xx&oh=00_AfD3POQ-EZEe0iiYYjZqnMOwEkmaIQQbaK2WOqVtvryMNA&oe=656B9BCB', 'images': ['https://scontent-sin6-4.xx.fbcdn.net/v/t39.30808-6/376630516_646578114244063_4667496454819967297_n.jpg?stp=cp0_dst-jpg_e15_fr_q65&_nc_cat=101&ccb=1-7&_nc_sid=5f2048&efg=eyJpIjoidCJ9&_nc_ohc=3T5z44Cew00AX9KdG9I&_nc_ht=scontent-sin6-4.xx&oh=00_AfCnUt3G9CNPa4v-tzKlGaZTE6YKlhevLyL2XsNvGgtTgg&oe=656B9BCB&manual_redirect=1'], 'images_description': ['May be a doodle of motorcycle, scooter, segway and text that says \"Người ta ngh.èo đi 2 người xe Còn tôi gi.àu đi1 mình 1 xe\"'], 'images_lowquality': ['https://scontent-sin6-4.xx.fbcdn.net/v/t39.30808-6/376630516_646578114244063_4667496454819967297_n.jpg?stp=cp0_dst-jpg_e15_p320x320_q65&_nc_cat=101&ccb=1-7&_nc_sid=5f2048&efg=eyJpIjoidCJ9&_nc_ohc=3T5z44Cew00AX9KdG9I&_nc_ht=scontent-sin6-4.xx&oh=00_AfD3POQ-EZEe0iiYYjZqnMOwEkmaIQQbaK2WOqVtvryMNA&oe=656B9BCB'], 'images_lowquality_description': ['May be a doodle of motorcycle, scooter, segway and text that says \"Người ta ngh.èo đi 2 người xe Còn tôi gi.àu đi1 mình 1 xe\"'], 'video': None, 'video_duration_seconds': None, 'video_height': None, 'video_id': None, 'video_quality': None, 'video_size_MB': None, 'video_thumbnail': None, 'video_watches': None, 'video_width': None, 'likes': 12000, 'comments': 1101, 'shares': 480, 'link': None, 'links': [{'link': '/hashtag/panda?refid=52&__tn__=%2As-R&paipv=0&eav=Afaa0L7JV76H3PNglC8y_d1Um3apO2mYAEWRRWM5XdBBShn49RtOgCrp2cV-JMPri-g', 'text': '#Panda'}, {'link': 'https://m.facebook.com/photo.php?fbid=646578117577396&id=100066756416622&set=a.604487031786505&eav=AfYNPSW093Vl_9Up5u9Y6RONAy4aHfRRup-RGdBohckLtAIoz9utSyAfTi6C0_tBjKg&paipv=0&source=57&refid=52&__tn__=EH-R', 'text': ''}], 'user_id': '100066756416622', 'username': 'Vẽ bậy', 'user_url': 'https://facebook.com/vebay69?eav=AfbQ372lA8nUTzQu1_e95WzNqeyzhdeNEQcqHEwaB6HWXB2Ic-Ha18np5aRoTcJBF40&refid=52&__tn__=C-R&paipv=0', 'is_live': False, 'factcheck': None, 'shared_post_id': None, 'shared_time': None, 'shared_user_id': None, 'shared_username': None, 'shared_post_url': None, 'available': True, 'comments_full': <generator object PostExtractor.extract_comments_full at 0x7f9218cc1af0>, 'reactors': None, 'w3_fb_url': None, 'reactions': None, 'reaction_count': 12000, 'with': None, 'page_id': '772954189491441', 'sharers': None, 'image_id': '646578117577396', 'image_ids': ['646578117577396'], 'was_live': False}\n",
      "\tExtracted 615 comments and 393 replies\n",
      "\tTotal 1008/1101 comments\n",
      "\tSleep 42 seconds\n",
      "{'original_request_url': 646251794276695, 'post_url': 'https://facebook.com/story.php?story_fbid=646251794276695&id=100066756416622', 'post_id': 646251794276695, 'text': 'Lúc thức đêm săn sale thì không ai thấy đâu :))\\nMột trong những đợt sale lớn nhất năm anh em vào săn cùng cho vui\\n#HangHieuGiaHoi #SanDealHoi', 'post_text': 'Lúc thức đêm săn sale thì không ai thấy đâu :))\\nMột trong những đợt sale lớn nhất năm anh em vào săn cùng cho vui\\n#HangHieuGiaHoi #SanDealHoi', 'shared_text': '', 'original_text': None, 'time': datetime.datetime(2023, 9, 7, 12, 0, 1), 'timestamp': 1694088001, 'image': 'https://scontent-sin6-4.xx.fbcdn.net/v/t39.30808-6/376697215_646251237610084_5257545473064378053_n.jpg?stp=cp0_dst-jpg_e15_fr_q65&_nc_cat=100&ccb=1-7&_nc_sid=5f2048&efg=eyJpIjoidCJ9&_nc_ohc=ov_srvzqqCsAX-6icD_&tn=E0gD5szyVABlKnmA&_nc_ht=scontent-sin6-4.xx&oh=00_AfC6yEOQe7ouXpPmmcvn-WCVzQWWDC-7Sv2t8FrL4nzKVQ&oe=656AB706&manual_redirect=1', 'image_lowquality': 'https://scontent-sin6-4.xx.fbcdn.net/v/t39.30808-6/376697215_646251237610084_5257545473064378053_n.jpg?stp=cp0_dst-jpg_e15_p320x320_q65&_nc_cat=100&ccb=1-7&_nc_sid=5f2048&efg=eyJpIjoidCJ9&_nc_ohc=ov_srvzqqCsAX-6icD_&tn=E0gD5szyVABlKnmA&_nc_ht=scontent-sin6-4.xx&oh=00_AfBY39bVkEFC4d-QN-ancyBmJY9dF5CVJ5ULVD2wk6xddA&oe=656AB706', 'images': ['https://scontent-sin6-4.xx.fbcdn.net/v/t39.30808-6/376697215_646251237610084_5257545473064378053_n.jpg?stp=cp0_dst-jpg_e15_fr_q65&_nc_cat=100&ccb=1-7&_nc_sid=5f2048&efg=eyJpIjoidCJ9&_nc_ohc=ov_srvzqqCsAX-6icD_&tn=E0gD5szyVABlKnmA&_nc_ht=scontent-sin6-4.xx&oh=00_AfC6yEOQe7ouXpPmmcvn-WCVzQWWDC-7Sv2t8FrL4nzKVQ&oe=656AB706&manual_redirect=1'], 'images_description': ['May be a doodle of \\u200eone or more people and \\u200etext that says \"\\u200eUầy Na mày giàu quá vậy Mặc toàn đồ“ hiệu Thế mà nó suốt ngày than nghèo חווום Mọi người đâu biết để có được những món đồ hiệu này với giá hời Na đã phải... Thức đêm Săn LazFlash Max trong đợt 9.9 Siêu Sale Hàng Hiệu của Lazada 48,0005,000Ä pabản 00:00Ngay luaNge Sotggs\\u200e\"\\u200e\\u200e'], 'images_lowquality': ['https://scontent-sin6-4.xx.fbcdn.net/v/t39.30808-6/376697215_646251237610084_5257545473064378053_n.jpg?stp=cp0_dst-jpg_e15_p320x320_q65&_nc_cat=100&ccb=1-7&_nc_sid=5f2048&efg=eyJpIjoidCJ9&_nc_ohc=ov_srvzqqCsAX-6icD_&tn=E0gD5szyVABlKnmA&_nc_ht=scontent-sin6-4.xx&oh=00_AfBY39bVkEFC4d-QN-ancyBmJY9dF5CVJ5ULVD2wk6xddA&oe=656AB706'], 'images_lowquality_description': ['May be a doodle of \\u200eone or more people and \\u200etext that says \"\\u200eUầy Na mày giàu quá vậy Mặc toàn đồ“ hiệu Thế mà nó suốt ngày than nghèo חווום Mọi người đâu biết để có được những món đồ hiệu này với giá hời Na đã phải... Thức đêm Săn LazFlash Max trong đợt 9.9 Siêu Sale Hàng Hiệu của Lazada 48,0005,000Ä pabản 00:00Ngay luaNge Sotggs\\u200e\"\\u200e\\u200e'], 'video': None, 'video_duration_seconds': None, 'video_height': None, 'video_id': None, 'video_quality': None, 'video_size_MB': None, 'video_thumbnail': None, 'video_watches': None, 'video_width': None, 'likes': 3300, 'comments': 44, 'shares': 0, 'link': 'https://s.lazada.vn/l.ugHw?fbclid=IwAR0J1JdRlu4HltaQbaQ7IFlk4N3-c1hFPy1NWuSz1wV83TZIYYZLgow-l6w', 'links': [{'link': '/hashtag/hanghieugiahoi?refid=52&__tn__=%2As-R&paipv=0&eav=Afa_JVSpzxBwkPqw9ooCfl6ur9jui-OvZz97mwVn00bi0donHZKlrv-n48vejozpP8k', 'text': '#HangHieuGiaHoi'}, {'link': '/hashtag/sandealhoi?refid=52&__tn__=%2As-R&paipv=0&eav=AfaSuoeMpd__tpa9E5iVpF-5aKj529S3Yjmsc5zTsvui-DV9fj14vyMf-Z-OeBT78cU', 'text': '#SanDealHoi'}, {'link': 'https://m.facebook.com/photo.php?fbid=646251240943417&id=100066756416622&set=a.604487031786505&eav=AfZyBEKqqG6kpRvl3RE6XXIbl6MByeLaOCDPp-fVHyLblhf7N8HVfeCFabH6XTgG_js&paipv=0&source=57&refid=52&__tn__=EH-R', 'text': ''}], 'user_id': '100066756416622', 'username': 'Vẽ bậy', 'user_url': 'https://facebook.com/vebay69?eav=AfbJ2I1h9CkJFGMDKscyg9dCFs8eZB2vtkzl8D6ozPWvu4NQDzFmVOvpCL5BLOpRQUY&refid=52&__tn__=C-R&paipv=0', 'is_live': False, 'factcheck': None, 'shared_post_id': None, 'shared_time': None, 'shared_user_id': None, 'shared_username': None, 'shared_post_url': None, 'available': True, 'comments_full': <generator object PostExtractor.extract_comments_full at 0x7f92184557e0>, 'reactors': None, 'w3_fb_url': None, 'reactions': None, 'reaction_count': 3300, 'with': None, 'page_id': '772954189491441', 'sharers': None, 'image_id': '646251240943417', 'image_ids': ['646251240943417'], 'was_live': False}\n",
      "\tExtracted 1 comments and 17 replies\n",
      "\tTotal 18/44 comments\n",
      "\tSleep 42 seconds\n",
      "{'original_request_url': 646239270944614, 'post_url': 'https://facebook.com/story.php?story_fbid=646239270944614&id=100066756416622', 'post_id': 646239270944614, 'text': 'Bố cũng như anh chị trong nhà\\n#BHTTD', 'post_text': 'Bố cũng như anh chị trong nhà\\n#BHTTD', 'shared_text': '', 'original_text': None, 'time': datetime.datetime(2023, 9, 7, 11, 1, 2), 'timestamp': 1694084462, 'image': 'https://scontent-sin6-3.xx.fbcdn.net/v/t39.30808-6/375297262_646239134277961_3413529201423784357_n.jpg?stp=cp0_dst-jpg_e15_fr_q65&_nc_cat=106&ccb=1-7&_nc_sid=5f2048&efg=eyJpIjoidCJ9&_nc_ohc=Zc9hwd_51cMAX953uco&_nc_ht=scontent-sin6-3.xx&oh=00_AfDXPFluscCEBm5blMqmy2CwtnGBhhsDRMUNOqk_GzoUeA&oe=656BD5C7&manual_redirect=1', 'image_lowquality': 'https://scontent-sin6-3.xx.fbcdn.net/v/t39.30808-6/375297262_646239134277961_3413529201423784357_n.jpg?stp=cp0_dst-jpg_e15_q65_s320x320&_nc_cat=106&ccb=1-7&_nc_sid=5f2048&efg=eyJpIjoidCJ9&_nc_ohc=Zc9hwd_51cMAX953uco&_nc_ht=scontent-sin6-3.xx&oh=00_AfCfJD8S9H8r7ILBsTuE93Vr0UBKyGuNtwUM6uTtCJY84A&oe=656BD5C7', 'images': ['https://scontent-sin6-3.xx.fbcdn.net/v/t39.30808-6/375297262_646239134277961_3413529201423784357_n.jpg?stp=cp0_dst-jpg_e15_fr_q65&_nc_cat=106&ccb=1-7&_nc_sid=5f2048&efg=eyJpIjoidCJ9&_nc_ohc=Zc9hwd_51cMAX953uco&_nc_ht=scontent-sin6-3.xx&oh=00_AfDXPFluscCEBm5blMqmy2CwtnGBhhsDRMUNOqk_GzoUeA&oe=656BD5C7&manual_redirect=1'], 'images_description': ['May be an illustration of text that says \"Uái, Lì úp mì gói đấyà thơm thế Cho bố xin miếng đ‘i\"'], 'images_lowquality': ['https://scontent-sin6-3.xx.fbcdn.net/v/t39.30808-6/375297262_646239134277961_3413529201423784357_n.jpg?stp=cp0_dst-jpg_e15_q65_s320x320&_nc_cat=106&ccb=1-7&_nc_sid=5f2048&efg=eyJpIjoidCJ9&_nc_ohc=Zc9hwd_51cMAX953uco&_nc_ht=scontent-sin6-3.xx&oh=00_AfCfJD8S9H8r7ILBsTuE93Vr0UBKyGuNtwUM6uTtCJY84A&oe=656BD5C7'], 'images_lowquality_description': ['May be an illustration of text that says \"Uái, Lì úp mì gói đấyà thơm thế Cho bố xin miếng đ‘i\"'], 'video': None, 'video_duration_seconds': None, 'video_height': None, 'video_id': None, 'video_quality': None, 'video_size_MB': None, 'video_thumbnail': None, 'video_watches': None, 'video_width': None, 'likes': 1600, 'comments': 56, 'shares': 1, 'link': None, 'links': [{'link': '/hashtag/bhttd?refid=52&__tn__=%2As-R&paipv=0&eav=AfYU9K-oSsMAZmxe-wcinN_2R_mRWaUinXZmFFNhbzVMv-JTKBkkWnf4xjadLVXt6fk', 'text': '#BHTTD'}, {'link': 'https://m.facebook.com/photo.php?fbid=646239137611294&id=100066756416622&set=a.604487031786505&eav=AfbXDbVjipf0VgX-X_Nc-gc5v3Tmp4yJnoyrDKZh1d8D31o4EKgemScoe9FVrJ0ztFs&paipv=0&source=57&refid=52&__tn__=EH-R', 'text': ''}], 'user_id': '100066756416622', 'username': 'Vẽ bậy', 'user_url': 'https://facebook.com/vebay69?eav=AfaFleHd8ynJXVkFEirfiGAekbi6jqpO_sYiXZmAxF-esr8_QfLg9KD4aw9ZKzcNB9s&refid=52&__tn__=C-R&paipv=0', 'is_live': False, 'factcheck': None, 'shared_post_id': None, 'shared_time': None, 'shared_user_id': None, 'shared_username': None, 'shared_post_url': None, 'available': True, 'comments_full': <generator object PostExtractor.extract_comments_full at 0x7f92185b83c0>, 'reactors': None, 'w3_fb_url': None, 'reactions': None, 'reaction_count': 1600, 'with': None, 'page_id': '772954189491441', 'sharers': None, 'image_id': '646239137611294', 'image_ids': ['646239137611294'], 'was_live': False}\n",
      "\tExtracted 4 comments and 2 replies\n",
      "\tTotal 6/56 comments\n",
      "\tSleep 32 seconds\n",
      "{'original_request_url': 646182897616918, 'post_url': 'https://facebook.com/story.php?story_fbid=646182897616918&id=100066756416622', 'post_id': 646182897616918, 'text': 'Tóm tắt 1 ngày tràn đầy năng lượng\\n#Muonggg', 'post_text': 'Tóm tắt 1 ngày tràn đầy năng lượng\\n#Muonggg', 'shared_text': '', 'original_text': None, 'time': datetime.datetime(2023, 9, 7, 8, 3, 5), 'timestamp': 1694073785, 'image': 'https://scontent-sin6-2.xx.fbcdn.net/v/t39.30808-6/375337018_646182724283602_1313669747492556814_n.jpg?stp=cp0_dst-jpg_e15_fr_q65&_nc_cat=102&ccb=1-7&_nc_sid=5f2048&efg=eyJpIjoidCJ9&_nc_ohc=EMMPfJzcEj4AX_w5C1d&_nc_oc=AQlDoEdQv9fHxnp3h8lq_IomWuKdNJlNfrx2uonldDw-WJCmycbhy6jaceg6GsHiHnY&_nc_ht=scontent-sin6-2.xx&oh=00_AfBpHVTs5xCU1hy06tdg5BDQk7RmvOFvXbeIvELrWDRiJQ&oe=656B646B&manual_redirect=1', 'image_lowquality': 'https://scontent-sin6-2.xx.fbcdn.net/v/t39.30808-6/375337018_646182724283602_1313669747492556814_n.jpg?stp=cp0_dst-jpg_e15_p320x320_q65&_nc_cat=102&ccb=1-7&_nc_sid=5f2048&efg=eyJpIjoidCJ9&_nc_ohc=EMMPfJzcEj4AX_w5C1d&_nc_oc=AQlDoEdQv9fHxnp3h8lq_IomWuKdNJlNfrx2uonldDw-WJCmycbhy6jaceg6GsHiHnY&_nc_ht=scontent-sin6-2.xx&oh=00_AfCFR4B_L1QX5h5_qA3JDyVdh9hOh2s8ruq9nOeZxwZCMw&oe=656B646B', 'images': ['https://scontent-sin6-2.xx.fbcdn.net/v/t39.30808-6/375337018_646182724283602_1313669747492556814_n.jpg?stp=cp0_dst-jpg_e15_fr_q65&_nc_cat=102&ccb=1-7&_nc_sid=5f2048&efg=eyJpIjoidCJ9&_nc_ohc=EMMPfJzcEj4AX_w5C1d&_nc_oc=AQlDoEdQv9fHxnp3h8lq_IomWuKdNJlNfrx2uonldDw-WJCmycbhy6jaceg6GsHiHnY&_nc_ht=scontent-sin6-2.xx&oh=00_AfBpHVTs5xCU1hy06tdg5BDQk7RmvOFvXbeIvELrWDRiJQ&oe=656B646B&manual_redirect=1'], 'images_description': ['May be a doodle of text'], 'images_lowquality': ['https://scontent-sin6-2.xx.fbcdn.net/v/t39.30808-6/375337018_646182724283602_1313669747492556814_n.jpg?stp=cp0_dst-jpg_e15_p320x320_q65&_nc_cat=102&ccb=1-7&_nc_sid=5f2048&efg=eyJpIjoidCJ9&_nc_ohc=EMMPfJzcEj4AX_w5C1d&_nc_oc=AQlDoEdQv9fHxnp3h8lq_IomWuKdNJlNfrx2uonldDw-WJCmycbhy6jaceg6GsHiHnY&_nc_ht=scontent-sin6-2.xx&oh=00_AfCFR4B_L1QX5h5_qA3JDyVdh9hOh2s8ruq9nOeZxwZCMw&oe=656B646B'], 'images_lowquality_description': ['May be a doodle of text'], 'video': None, 'video_duration_seconds': None, 'video_height': None, 'video_id': None, 'video_quality': None, 'video_size_MB': None, 'video_thumbnail': None, 'video_watches': None, 'video_width': None, 'likes': 1400, 'comments': 66, 'shares': 9, 'link': None, 'links': [{'link': '/hashtag/muonggg?refid=52&__tn__=%2As-R&paipv=0&eav=AfYUv0ufqAlqe6uRT6pQ3lLNo6TSpgi6sjlfTOGm9goSOcZd3s7oLsvF3FNTIinW2_4', 'text': '#Muonggg'}, {'link': 'https://m.facebook.com/photo.php?fbid=646182727616935&id=100066756416622&set=a.604487025119839&eav=AfZqbAyHKkJVt7PRaLr3cEXawQdjHKJDatsHiqnKk6a7J1JsLx9o_fQNHHovZghQics&paipv=0&source=57&refid=52&__tn__=EH-R', 'text': ''}], 'user_id': '100066756416622', 'username': 'Vẽ bậy', 'user_url': 'https://facebook.com/vebay69?eav=AfbmvFuHRY8CQBhNK05wdhC5xuKNaDBNhoWcbmkLN98RfxAJdMucdxpKS4jEn_VB8Lg&refid=52&__tn__=C-R&paipv=0', 'is_live': False, 'factcheck': None, 'shared_post_id': None, 'shared_time': None, 'shared_user_id': None, 'shared_username': None, 'shared_post_url': None, 'available': True, 'comments_full': <generator object PostExtractor.extract_comments_full at 0x7f92189066c0>, 'reactors': None, 'w3_fb_url': None, 'reactions': None, 'reaction_count': 1400, 'with': None, 'page_id': '772954189491441', 'sharers': None, 'image_id': '646182727616935', 'image_ids': ['646182727616935'], 'was_live': False}\n",
      "\tExtracted 16 comments and 26 replies\n",
      "\tTotal 42/66 comments\n",
      "\tSleep 39 seconds\n",
      "{'original_request_url': 646120450956496, 'post_url': 'https://facebook.com/story.php?story_fbid=646120450956496&id=100066756416622', 'post_id': 646120450956496, 'text': 'Này thì không học\\n#Panda', 'post_text': 'Này thì không học\\n#Panda', 'shared_text': '', 'original_text': None, 'time': datetime.datetime(2023, 9, 7, 4, 44, 37), 'timestamp': 1694061877, 'image': 'https://scontent-sin6-2.xx.fbcdn.net/v/t39.30808-6/375325452_646120170956524_782454434943418029_n.jpg?stp=cp0_dst-jpg_e15_fr_q65&_nc_cat=105&ccb=1-7&_nc_sid=5f2048&efg=eyJpIjoidCJ9&_nc_ohc=kKNHYt9ZwmoAX-qF7sX&_nc_ht=scontent-sin6-2.xx&oh=00_AfCwwVULhXHTjZ7eVibk-oFBLPEB_6E4Wop_QL4B57ybQg&oe=656BD7ED&manual_redirect=1', 'image_lowquality': 'https://scontent-sin6-2.xx.fbcdn.net/v/t39.30808-6/375325452_646120170956524_782454434943418029_n.jpg?stp=cp0_dst-jpg_e15_p320x320_q65&_nc_cat=105&ccb=1-7&_nc_sid=5f2048&efg=eyJpIjoidCJ9&_nc_ohc=kKNHYt9ZwmoAX-qF7sX&_nc_ht=scontent-sin6-2.xx&oh=00_AfD-A6neLTgzaufV1tCjPoXS6ZQB6e2YFzqIU593rteivA&oe=656BD7ED', 'images': ['https://scontent-sin6-2.xx.fbcdn.net/v/t39.30808-6/375325452_646120170956524_782454434943418029_n.jpg?stp=cp0_dst-jpg_e15_fr_q65&_nc_cat=105&ccb=1-7&_nc_sid=5f2048&efg=eyJpIjoidCJ9&_nc_ohc=kKNHYt9ZwmoAX-qF7sX&_nc_ht=scontent-sin6-2.xx&oh=00_AfCwwVULhXHTjZ7eVibk-oFBLPEB_6E4Wop_QL4B57ybQg&oe=656BD7ED&manual_redirect=1'], 'images_description': ['May be a doodle of text that says \"Nay đi học thế nào hả con trai Con không đi học nữa đâu buồn ngủ lắm Thế đi làm luôn đê chìa khóa xe đây Vé Bặy\"'], 'images_lowquality': ['https://scontent-sin6-2.xx.fbcdn.net/v/t39.30808-6/375325452_646120170956524_782454434943418029_n.jpg?stp=cp0_dst-jpg_e15_p320x320_q65&_nc_cat=105&ccb=1-7&_nc_sid=5f2048&efg=eyJpIjoidCJ9&_nc_ohc=kKNHYt9ZwmoAX-qF7sX&_nc_ht=scontent-sin6-2.xx&oh=00_AfD-A6neLTgzaufV1tCjPoXS6ZQB6e2YFzqIU593rteivA&oe=656BD7ED'], 'images_lowquality_description': ['May be a doodle of text that says \"Nay đi học thế nào hả con trai Con không đi học nữa đâu buồn ngủ lắm Thế đi làm luôn đê chìa khóa xe đây Vé Bặy\"'], 'video': None, 'video_duration_seconds': None, 'video_height': None, 'video_id': None, 'video_quality': None, 'video_size_MB': None, 'video_thumbnail': None, 'video_watches': None, 'video_width': None, 'likes': 2000, 'comments': 60, 'shares': 7, 'link': None, 'links': [{'link': '/hashtag/panda?refid=52&__tn__=%2As-R&paipv=0&eav=AfYw2c22OZshSMtCiW0o1fEWwvKHnDmAcX7i7vmPc_KGUBXuwbRBQrWn4nrLH4q2Qrw', 'text': '#Panda'}, {'link': 'https://m.facebook.com/photo.php?fbid=646120174289857&id=100066756416622&set=a.604487031786505&eav=AfY66J__4qAO_vzrzMMhhaEZl9TVl-EDXo06cGuEf0UyjSxHndPUya5U7k87qI_lSo0&paipv=0&source=57&refid=52&__tn__=EH-R', 'text': ''}], 'user_id': '100066756416622', 'username': 'Vẽ bậy', 'user_url': 'https://facebook.com/vebay69?eav=AfbRWKRokcCuHa5ikzJct65GmlfCTzWTu18DFTfochs9yfQ_6AmAfZVNc5_cGDQTfWg&refid=52&__tn__=C-R&paipv=0', 'is_live': False, 'factcheck': None, 'shared_post_id': None, 'shared_time': None, 'shared_user_id': None, 'shared_username': None, 'shared_post_url': None, 'available': True, 'comments_full': <generator object PostExtractor.extract_comments_full at 0x7f921884f8b0>, 'reactors': None, 'w3_fb_url': None, 'reactions': None, 'reaction_count': 2000, 'with': None, 'page_id': '772954189491441', 'sharers': None, 'image_id': '646120174289857', 'image_ids': ['646120174289857'], 'was_live': False}\n",
      "'NoneType' object is not subscriptable\n"
     ]
    }
   ],
   "source": [
    "try:\n",
    "    for post in fs.get_posts(\n",
    "        post_urls=posts_ids,\n",
    "        options={\n",
    "            \"comments\": True,\n",
    "            \"allow_extra_requests\": True,\n",
    "            \"comments\": \"generator\",\n",
    "        },\n",
    "        timeout=120,\n",
    "    ):\n",
    "        print(post)\n",
    "        num_comment = extract_comment(post['comments_full'], post['original_request_url'])\n",
    "        post_list.append(post)\n",
    "        print(f'\\tTotal {num_comment}/{post[\"comments\"]} comments')\n",
    "        total_comment_real += post['comments']\n",
    "        utils.sleep(np.random.randint(30, 60))\n",
    "except fs.exceptions.TemporarilyBanned:\n",
    "    print(\"TEMPORARILY BANNED\")\n",
    "except fs.exceptions.AccountDisabled:\n",
    "    print(\"ACCOUNT DISABLED\")\n",
    "except Exception as e:\n",
    "    print(e)"
   ]
  },
  {
   "cell_type": "code",
   "execution_count": 10,
   "metadata": {},
   "outputs": [
    {
     "name": "stdout",
     "output_type": "stream",
     "text": [
      "30\n",
      "Số posts đã crawl: 13\n",
      "Số comments đã crawl: 1758/2193\n"
     ]
    }
   ],
   "source": [
    "print(NUMBER_POST)\n",
    "print(f\"Số posts đã crawl: {len(post_list)}\")\n",
    "print(f\"Số comments đã crawl: {len(comment_list)}/{total_comment_real}\")"
   ]
  },
  {
   "cell_type": "code",
   "execution_count": 11,
   "metadata": {},
   "outputs": [
    {
     "name": "stdout",
     "output_type": "stream",
     "text": [
      "Save comments data: ./data/vebay69/raw/comments_2023-11-28_14-28-20.csv\n",
      "Save index 165 to resume: ./data/vebay69/url/i_post_id_comment.txt\n"
     ]
    }
   ],
   "source": [
    "if post_list:\n",
    "    utils.save_data(\n",
    "        data_list=comment_list,\n",
    "        folder_path=os.path.join('data','vebay69','raw'),\n",
    "        type=\"comments\"\n",
    "    )\n",
    "utils.write_index_file(\n",
    "    file_path=index_post_id_file_path,\n",
    "    index=index_post_id + len(post_list)\n",
    ")"
   ]
  }
 ],
 "metadata": {
  "kernelspec": {
   "display_name": "py3108",
   "language": "python",
   "name": "python3"
  },
  "language_info": {
   "codemirror_mode": {
    "name": "ipython",
    "version": 3
   },
   "file_extension": ".py",
   "mimetype": "text/x-python",
   "name": "python",
   "nbconvert_exporter": "python",
   "pygments_lexer": "ipython3",
   "version": "3.10.8"
  }
 },
 "nbformat": 4,
 "nbformat_minor": 2
}
