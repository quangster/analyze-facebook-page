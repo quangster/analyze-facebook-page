{
 "cells": [
  {
   "cell_type": "code",
   "execution_count": null,
   "metadata": {},
   "outputs": [],
   "source": [
    "import lib.facebook_scraper as fs\n",
    "import pandas as pd\n",
    "import numpy as np\n",
    "import os\n",
    "import time\n",
    "pd.set_option('display.max_columns', None)"
   ]
  },
  {
   "cell_type": "code",
   "execution_count": null,
   "metadata": {},
   "outputs": [],
   "source": [
    "fs.set_cookies('./cookies/cookies_1.txt')\n",
    "# fs.enable_logging()"
   ]
  },
  {
   "cell_type": "code",
   "execution_count": null,
   "metadata": {},
   "outputs": [],
   "source": [
    "# call back for each 10 posts\n",
    "def handle_pagination_url(url):\n",
    "    global resume_post_url\n",
    "    resume_post_url = url\n",
    "    print(f\"Resume url: {url}\")\n",
    "\n",
    "# extract comments and save to global 'comment_list'\n",
    "def extract_comments(comments, post_id) -> int:\n",
    "    if comments is None:\n",
    "        return 0\n",
    "    global comment_list\n",
    "    count = 0 \n",
    "    for comment in comments:\n",
    "        comment['post_id'] = post_id\n",
    "        count += 1\n",
    "        comment_list.append(comment)\n",
    "        if not isinstance(comment['replies'], list):\n",
    "            for reply in comment['replies']:\n",
    "                reply['post_id'] = post_id\n",
    "                # reply['parent_comment_id'] = comment['comment_id']\n",
    "                count += 1\n",
    "                comment_list.append(reply)\n",
    "    return count\n",
    "\n",
    "# extract reactors and save to global var 'reactor_list'\n",
    "def extract_reactors(reactors, post_id) -> int:\n",
    "    global reactor_list\n",
    "    count = 0\n",
    "    for reactor in reactors:\n",
    "        reactor['post_id'] = post_id\n",
    "        reactor_list.append(reactor)\n",
    "        count += 1\n",
    "    return count\n",
    "\n",
    "# extract sharers and save to global var 'sharer_list' \n",
    "def extract_sharers(sharers, post_id) -> int:\n",
    "    global sharer_list\n",
    "    count = 0\n",
    "    for sharer in sharers:\n",
    "        sharer['post_id'] = post_id\n",
    "        sharer_list.append(sharer)\n",
    "        count += 1\n",
    "    return count\n",
    "\n",
    "def extract_post(post):\n",
    "    num_comment = extract_comments(post['comments_full'], post['post_id'])\n",
    "    print(f'\\tExtracted {num_comment}/{post[\"comments\"]} comments')\n",
    "\n",
    "    num_reactor = extract_reactors(post['reactors'], post['post_id'])\n",
    "    print(f'\\tExtracted {num_reactor}/{post[\"reaction_count\"]} reactors')\n",
    "\n",
    "    num_sharer = extract_sharers(post['sharers'], post['post_id'])\n",
    "    print(f'\\tExtracted {num_sharer}/{post[\"shares\"]} sharers')\n",
    "    \n",
    "    # Drop unnecessary fields: \"comments_full\", \"reactors\", \"sharers\" in post\n",
    "    post.pop('comments_full', None)\n",
    "    post.pop('reactors', None)\n",
    "    post.pop('sharers', None)\n",
    "    global post_list\n",
    "    post_list.append(post)"
   ]
  },
  {
   "cell_type": "code",
   "execution_count": null,
   "metadata": {},
   "outputs": [],
   "source": [
    "# Define variables\n",
    "comment_list = []\n",
    "reactor_list = []\n",
    "sharer_list = []\n",
    "post_list = []\n",
    "resume_post_url = None\n",
    "NUM_POSTS = 10\n",
    "FANPAGE_LINK = 'vebay69'"
   ]
  },
  {
   "cell_type": "code",
   "execution_count": null,
   "metadata": {},
   "outputs": [],
   "source": [
    "try:\n",
    "    for post in fs.get_posts(\n",
    "        account=FANPAGE_LINK,\n",
    "        start_url=resume_post_url,\n",
    "        request_url_callback=handle_pagination_url,\n",
    "        options={\n",
    "            \"allow_extra_requests\": True,\n",
    "            \"comments\": True,\n",
    "            \"reactions\": True,\n",
    "            \"comments\": \"generator\",\n",
    "            \"sharers\": \"generator\",\n",
    "            \"reactors\": \"generator\",\n",
    "        },\n",
    "        page_limit=NUM_POSTS//10,\n",
    "        timeout=300,\n",
    "    ):\n",
    "        print(post)\n",
    "        comment = post['comments_full']\n",
    "        print(f\"  Start extracting post {post['post_id']}\")\n",
    "        extract_post(post)\n",
    "        print(f\"  Done {post['post_id']}\")\n",
    "        # t =np.random.randint(60, 360)\n",
    "        t=3600\n",
    "        print(f\"  Sleep {t}s\")\n",
    "        time.sleep(t)\n",
    "except fs.exceptions.TemporarilyBanned:\n",
    "    print(\"TEMPORARILY BANNED\")\n",
    "except fs.exceptions.AccountDisabled:\n",
    "    print(\"ACCOUNT DISABLED\")\n",
    "except Exception as e:\n",
    "    print(e)"
   ]
  },
  {
   "cell_type": "code",
   "execution_count": null,
   "metadata": {},
   "outputs": [],
   "source": [
    "comment"
   ]
  },
  {
   "cell_type": "code",
   "execution_count": null,
   "metadata": {},
   "outputs": [],
   "source": [
    "post_list = pd.DataFrame(post_list)\n",
    "post_list.head()"
   ]
  },
  {
   "cell_type": "code",
   "execution_count": null,
   "metadata": {},
   "outputs": [],
   "source": [
    "len(sharer_list), len(comment_list), len(reactor_list), len(post_list)"
   ]
  }
 ],
 "metadata": {
  "kernelspec": {
   "display_name": "py3108",
   "language": "python",
   "name": "python3"
  },
  "language_info": {
   "codemirror_mode": {
    "name": "ipython",
    "version": 3
   },
   "file_extension": ".py",
   "mimetype": "text/x-python",
   "name": "python",
   "nbconvert_exporter": "python",
   "pygments_lexer": "ipython3",
   "version": "3.10.8"
  }
 },
 "nbformat": 4,
 "nbformat_minor": 2
}
