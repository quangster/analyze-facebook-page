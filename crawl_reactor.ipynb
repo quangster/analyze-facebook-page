{
 "cells": [
  {
   "cell_type": "code",
   "execution_count": 9,
   "metadata": {},
   "outputs": [],
   "source": [
    "import lib.facebook_scraper as fs\n",
    "import lib.utils as utils\n",
    "import pandas as pd\n",
    "import numpy as np\n",
    "import os\n",
    "import time"
   ]
  },
  {
   "cell_type": "code",
   "execution_count": 10,
   "metadata": {},
   "outputs": [
    {
     "data": {
      "text/html": [
       "<div>\n",
       "<style scoped>\n",
       "    .dataframe tbody tr th:only-of-type {\n",
       "        vertical-align: middle;\n",
       "    }\n",
       "\n",
       "    .dataframe tbody tr th {\n",
       "        vertical-align: top;\n",
       "    }\n",
       "\n",
       "    .dataframe thead th {\n",
       "        text-align: right;\n",
       "    }\n",
       "</style>\n",
       "<table border=\"1\" class=\"dataframe\">\n",
       "  <thead>\n",
       "    <tr style=\"text-align: right;\">\n",
       "      <th></th>\n",
       "      <th>post_id</th>\n",
       "    </tr>\n",
       "  </thead>\n",
       "  <tbody>\n",
       "    <tr>\n",
       "      <th>0</th>\n",
       "      <td>685638947004646</td>\n",
       "    </tr>\n",
       "    <tr>\n",
       "      <th>1</th>\n",
       "      <td>685577330344141</td>\n",
       "    </tr>\n",
       "    <tr>\n",
       "      <th>2</th>\n",
       "      <td>685111467057394</td>\n",
       "    </tr>\n",
       "    <tr>\n",
       "      <th>3</th>\n",
       "      <td>684686633766544</td>\n",
       "    </tr>\n",
       "    <tr>\n",
       "      <th>4</th>\n",
       "      <td>684603707108170</td>\n",
       "    </tr>\n",
       "  </tbody>\n",
       "</table>\n",
       "</div>"
      ],
      "text/plain": [
       "           post_id\n",
       "0  685638947004646\n",
       "1  685577330344141\n",
       "2  685111467057394\n",
       "3  684686633766544\n",
       "4  684603707108170"
      ]
     },
     "execution_count": 10,
     "metadata": {},
     "output_type": "execute_result"
    }
   ],
   "source": [
    "post_ids_df = pd.read_csv('data/vebay69/clean/post_ids.csv')\n",
    "post_ids_df.head()"
   ]
  },
  {
   "cell_type": "code",
   "execution_count": 11,
   "metadata": {},
   "outputs": [],
   "source": [
    "def extract_reactor(reactors, post_id):\n",
    "    cnt_reactor = 0\n",
    "    global reactor_list\n",
    "    for reactor in reactors:\n",
    "        reactor['post_id'] = post_id\n",
    "        reactor_list.append(reactor)\n",
    "        cnt_reactor += 1\n",
    "        # time.sleep(np.random.uniform(0.5, 2.5))\n",
    "    return cnt_reactor"
   ]
  },
  {
   "cell_type": "code",
   "execution_count": 12,
   "metadata": {},
   "outputs": [],
   "source": [
    "index_post_id_file_path = os.path.join('data','vebay69','url','i_post_id_react.txt')"
   ]
  },
  {
   "cell_type": "markdown",
   "metadata": {},
   "source": [
    "### Rerun with change cookie"
   ]
  },
  {
   "cell_type": "code",
   "execution_count": 13,
   "metadata": {},
   "outputs": [],
   "source": [
    "fs.set_cookies('./cookies/cookie_1.txt')\n",
    "# fs.enable_logging()"
   ]
  },
  {
   "cell_type": "markdown",
   "metadata": {},
   "source": [
    "### Rerun "
   ]
  },
  {
   "cell_type": "code",
   "execution_count": 14,
   "metadata": {},
   "outputs": [],
   "source": [
    "NUMBER_POST = 5\n",
    "post_list = []\n",
    "reactor_list = []\n",
    "total_reactor_real = 0"
   ]
  },
  {
   "cell_type": "code",
   "execution_count": 15,
   "metadata": {},
   "outputs": [
    {
     "name": "stdout",
     "output_type": "stream",
     "text": [
      "4\n"
     ]
    },
    {
     "data": {
      "text/plain": [
       "[684603707108170,\n",
       " 684191557149385,\n",
       " 683955240506350,\n",
       " 682996903935517,\n",
       " 683571943878013]"
      ]
     },
     "execution_count": 15,
     "metadata": {},
     "output_type": "execute_result"
    }
   ],
   "source": [
    "index_post_id = utils.read_index_file(file_path=index_post_id_file_path)\n",
    "print(index_post_id)\n",
    "posts_ids = utils.get_post_id_list(df=post_ids_df, start=index_post_id, length=NUMBER_POST)\n",
    "posts_ids"
   ]
  },
  {
   "cell_type": "code",
   "execution_count": 16,
   "metadata": {},
   "outputs": [
    {
     "name": "stderr",
     "output_type": "stream",
     "text": [
      "/workspaces/analyze-facebook-page/lib/facebook_scraper/facebook_scraper.py:912: UserWarning: Facebook says 'Unsupported Browser'\n",
      "  warnings.warn(f\"Facebook says 'Unsupported Browser'\")\n"
     ]
    },
    {
     "name": "stdout",
     "output_type": "stream",
     "text": [
      "{'original_request_url': 684603707108170, 'post_url': 'https://facebook.com/story.php?story_fbid=684603707108170&id=100066756416622', 'post_id': 684603707108170, 'text': 'Team vô sản ✌️\\n#Muonggg', 'post_text': 'Team vô sản ✌️\\n#Muonggg', 'shared_text': '', 'original_text': None, 'time': datetime.datetime(2023, 11, 18, 8, 34, 17), 'timestamp': 1700296457, 'image': 'https://scontent-sin6-1.xx.fbcdn.net/v/t39.30808-6/401741542_684603540441520_8889609901616083207_n.jpg?stp=cp0_dst-jpg_e15_fr_q65&_nc_cat=111&ccb=1-7&_nc_sid=5f2048&efg=eyJpIjoidCJ9&_nc_ohc=B29g7qwhlUYAX_Clu9L&_nc_ht=scontent-sin6-1.xx&oh=00_AfCcKa5pHnMgOlPcvoP4EqylPEUduDwavqLGaTfB6cfaDw&oe=656AD96E&manual_redirect=1', 'image_lowquality': 'https://scontent-sin6-1.xx.fbcdn.net/v/t39.30808-6/401741542_684603540441520_8889609901616083207_n.jpg?stp=cp0_dst-jpg_e15_p320x320_q65&_nc_cat=111&ccb=1-7&_nc_sid=5f2048&efg=eyJpIjoidCJ9&_nc_ohc=B29g7qwhlUYAX_Clu9L&_nc_ht=scontent-sin6-1.xx&oh=00_AfDjZ-_UgDHdCqPb32Yw52_G6BRTq7B63cDVISbBlGsSlQ&oe=656AD96E', 'images': ['https://scontent-sin6-1.xx.fbcdn.net/v/t39.30808-6/401741542_684603540441520_8889609901616083207_n.jpg?stp=cp0_dst-jpg_e15_fr_q65&_nc_cat=111&ccb=1-7&_nc_sid=5f2048&efg=eyJpIjoidCJ9&_nc_ohc=B29g7qwhlUYAX_Clu9L&_nc_ht=scontent-sin6-1.xx&oh=00_AfCcKa5pHnMgOlPcvoP4EqylPEUduDwavqLGaTfB6cfaDw&oe=656AD96E&manual_redirect=1'], 'images_description': ['May be an image of text'], 'images_lowquality': ['https://scontent-sin6-1.xx.fbcdn.net/v/t39.30808-6/401741542_684603540441520_8889609901616083207_n.jpg?stp=cp0_dst-jpg_e15_p320x320_q65&_nc_cat=111&ccb=1-7&_nc_sid=5f2048&efg=eyJpIjoidCJ9&_nc_ohc=B29g7qwhlUYAX_Clu9L&_nc_ht=scontent-sin6-1.xx&oh=00_AfDjZ-_UgDHdCqPb32Yw52_G6BRTq7B63cDVISbBlGsSlQ&oe=656AD96E'], 'images_lowquality_description': ['May be an image of text'], 'video': None, 'video_duration_seconds': None, 'video_height': None, 'video_id': None, 'video_quality': None, 'video_size_MB': None, 'video_thumbnail': None, 'video_watches': None, 'video_width': None, 'likes': 1386, 'comments': 36, 'shares': 19, 'link': None, 'links': [{'link': '/hashtag/muonggg?refid=52&__tn__=%2As-R&paipv=0&eav=AfarYNUof55H_h67Ty2iD_IfVmPFyF9jmp9i7hX2BCEPSFxw2Va7OBdDCyDQzlNx2gI', 'text': '#Muonggg'}, {'link': 'https://m.facebook.com/photo.php?fbid=684603543774853&id=100066756416622&set=a.604487025119839&eav=Afbt6odOYEzfceBYh_fsqILi-0oLFQIvTasKwWEZqW_1-1ySSvoq5_yfsVg3KPTG_04&paipv=0&source=57&refid=52&__tn__=EH-R', 'text': ''}], 'user_id': '100066756416622', 'username': 'Vẽ bậy', 'user_url': 'https://facebook.com/vebay69?eav=Afa0X5lA9AGA4qNDOC9aRfz03vC-wxonDvUTZkWzoKRfQejCMrNFEHGDKBlAYiVuNjE&refid=52&__tn__=C-R&paipv=0', 'is_live': False, 'factcheck': None, 'shared_post_id': None, 'shared_time': None, 'shared_user_id': None, 'shared_username': None, 'shared_post_url': None, 'available': True, 'comments_full': None, 'reactors': <generator object PostExtractor.extract_reactors at 0x7fa069e12ab0>, 'w3_fb_url': 'https://www.facebook.com/story.php?story_fbid=684603707108170&id=100066756416622', 'reactions': {'like': 1386, 'love': 2, 'haha': 194, 'wow': 2, 'care': 2, 'sad': 13}, 'reaction_count': 1599, 'with': None, 'page_id': '772954189491441', 'sharers': None, 'image_id': '684603543774853', 'image_ids': ['684603543774853'], 'was_live': False, 'fetched_time': datetime.datetime(2023, 11, 28, 14, 32, 21, 765248)}\n",
      "Extracted 698/1599 reactors\n",
      "\tSleep 74 seconds\n",
      "\n",
      "{'original_request_url': 684191557149385, 'post_url': 'https://facebook.com/story.php?story_fbid=684191557149385&id=100066756416622', 'post_id': 684191557149385, 'text': 'Chắc là tóc của người cơ địa xoăn thôi...\\n#Hoho\\n\\nMust be the curly hair of the local people...\\n#Hoho', 'post_text': 'Chắc là tóc của người cơ địa xoăn thôi...\\n#Hoho\\n\\nMust be the curly hair of the local people...\\n#Hoho', 'shared_text': '', 'original_text': 'Chắc là tóc của người cơ địa xoăn thôi...\\n#Hoho', 'time': datetime.datetime(2023, 11, 17, 12, 35, 6), 'timestamp': 1700224506, 'image': 'https://scontent-sin6-1.xx.fbcdn.net/v/t39.30808-6/402478792_684191370482737_8456457724479046575_n.jpg?stp=cp0_dst-jpg_e15_fr_q65&_nc_cat=111&ccb=1-7&_nc_sid=5f2048&efg=eyJpIjoidCJ9&_nc_ohc=UNHaOgWhK7UAX9mDv7Y&_nc_ht=scontent-sin6-1.xx&oh=00_AfCAgR1cpdMHfnQvCJodVjPTWpqX5NNaOZL7DkDaJ8VOAQ&oe=656AC836&manual_redirect=1', 'image_lowquality': 'https://scontent-sin6-1.xx.fbcdn.net/v/t39.30808-6/402478792_684191370482737_8456457724479046575_n.jpg?stp=cp0_dst-jpg_e15_p320x320_q65&_nc_cat=111&ccb=1-7&_nc_sid=5f2048&efg=eyJpIjoidCJ9&_nc_ohc=UNHaOgWhK7UAX9mDv7Y&_nc_ht=scontent-sin6-1.xx&oh=00_AfA6t1X-C-L-yp5lkCnwaQZWxPdWdXZyRqt84VRoyC_ajQ&oe=656AC836', 'images': ['https://scontent-sin6-1.xx.fbcdn.net/v/t39.30808-6/402478792_684191370482737_8456457724479046575_n.jpg?stp=cp0_dst-jpg_e15_fr_q65&_nc_cat=111&ccb=1-7&_nc_sid=5f2048&efg=eyJpIjoidCJ9&_nc_ohc=UNHaOgWhK7UAX9mDv7Y&_nc_ht=scontent-sin6-1.xx&oh=00_AfCAgR1cpdMHfnQvCJodVjPTWpqX5NNaOZL7DkDaJ8VOAQ&oe=656AC836&manual_redirect=1'], 'images_description': ['May be a doodle of text'], 'images_lowquality': ['https://scontent-sin6-1.xx.fbcdn.net/v/t39.30808-6/402478792_684191370482737_8456457724479046575_n.jpg?stp=cp0_dst-jpg_e15_p320x320_q65&_nc_cat=111&ccb=1-7&_nc_sid=5f2048&efg=eyJpIjoidCJ9&_nc_ohc=UNHaOgWhK7UAX9mDv7Y&_nc_ht=scontent-sin6-1.xx&oh=00_AfA6t1X-C-L-yp5lkCnwaQZWxPdWdXZyRqt84VRoyC_ajQ&oe=656AC836'], 'images_lowquality_description': ['May be a doodle of text'], 'video': None, 'video_duration_seconds': None, 'video_height': None, 'video_id': None, 'video_quality': None, 'video_size_MB': None, 'video_thumbnail': None, 'video_watches': None, 'video_width': None, 'likes': 1461, 'comments': 48, 'shares': 7, 'link': None, 'links': [{'link': '/hashtag/hoho?refid=52&__tn__=%2As-R&paipv=0&eav=AfZDeXCueRboR1OnodSPmgqGqE6XXXDty5_Amk9TQNUzK0hzl8AiXcFi0utDC5UU8Xw', 'text': '#Hoho'}, {'link': '/hashtag/hoho?refid=52&__tn__=%2As-R&paipv=0&eav=AfbjhetKTxMLfpmSFV3JEBm6dXOJON1L9krsU1XBmzeWRw4Q72s_S49yRoNJvnOy-uU', 'text': '#Hoho'}, {'link': 'https://m.facebook.com/photo.php?fbid=684191373816070&id=100066756416622&set=a.604487031786505&eav=AfZjFiIcoQBzGzm-IZ8Gi4uRK1L3s8ZmrDI0kRcDuiaB67umLQuCNMd-ee78sNznEJg&paipv=0&source=57&refid=52&__tn__=EH-R', 'text': ''}], 'user_id': '100066756416622', 'username': 'Vẽ bậy', 'user_url': 'https://facebook.com/vebay69?eav=AfamuzfUXYTpG8_H0vF0HEFf5_2QqNfCvYKqiDGDqXpoAmumMC0RjABj_GG88pewn80&refid=52&__tn__=C-R&paipv=0', 'is_live': False, 'factcheck': None, 'shared_post_id': None, 'shared_time': None, 'shared_user_id': None, 'shared_username': None, 'shared_post_url': None, 'available': True, 'comments_full': None, 'reactors': <generator object PostExtractor.extract_reactors at 0x7fa069a92030>, 'w3_fb_url': 'https://www.facebook.com/story.php?story_fbid=684191557149385&id=100066756416622', 'reactions': {'like': 1461, 'love': 4, 'haha': 311, 'wow': 2, 'care': 1, 'sad': 17}, 'reaction_count': 1796, 'with': None, 'page_id': '772954189491441', 'sharers': None, 'image_id': '684191373816070', 'image_ids': ['684191373816070'], 'was_live': False, 'fetched_time': datetime.datetime(2023, 11, 28, 14, 33, 59, 93215)}\n",
      "Extracted 658/1796 reactors\n",
      "\tSleep 125 seconds\n",
      "\n",
      "{'original_request_url': 683955240506350, 'post_url': 'https://facebook.com/story.php?story_fbid=683955240506350&id=100066756416622', 'post_id': 683955240506350, 'text': 'Giải trí thôi còn bơi vào bờ được nhé bạn ơi\\n#vietlott #choicotrachnhiem', 'post_text': 'Giải trí thôi còn bơi vào bờ được nhé bạn ơi\\n#vietlott #choicotrachnhiem', 'shared_text': '', 'original_text': None, 'time': datetime.datetime(2023, 11, 17, 4, 0, 3), 'timestamp': 1700193603, 'image': 'https://scontent-sin6-1.xx.fbcdn.net/v/t39.30808-6/393725914_683955187173022_3015177689662052432_n.jpg?stp=cp0_dst-jpg_e15_fr_q65&_nc_cat=107&ccb=1-7&_nc_sid=5f2048&efg=eyJpIjoidCJ9&_nc_ohc=JmQOTcgL87YAX9JHBmw&_nc_ht=scontent-sin6-1.xx&oh=00_AfDRzg6FlvrjWMtiGurWT_M78er-A1rV_UOaHf8pgr9ffg&oe=656BB0AC&manual_redirect=1', 'image_lowquality': 'https://scontent-sin6-1.xx.fbcdn.net/v/t39.30808-6/393725914_683955187173022_3015177689662052432_n.jpg?stp=cp0_dst-jpg_e15_p320x320_q65&_nc_cat=107&ccb=1-7&_nc_sid=5f2048&efg=eyJpIjoidCJ9&_nc_ohc=JmQOTcgL87YAX9JHBmw&_nc_ht=scontent-sin6-1.xx&oh=00_AfAkrBxvyDT9pCB8JV7aDYDR9dYmlzcMTAHKutfs00PJYA&oe=656BB0AC', 'images': ['https://scontent-sin6-1.xx.fbcdn.net/v/t39.30808-6/393725914_683955187173022_3015177689662052432_n.jpg?stp=cp0_dst-jpg_e15_fr_q65&_nc_cat=107&ccb=1-7&_nc_sid=5f2048&efg=eyJpIjoidCJ9&_nc_ohc=JmQOTcgL87YAX9JHBmw&_nc_ht=scontent-sin6-1.xx&oh=00_AfDRzg6FlvrjWMtiGurWT_M78er-A1rV_UOaHf8pgr9ffg&oe=656BB0AC&manual_redirect=1'], 'images_description': ['May be a doodle of text that says \"Dừng lại đi bạn ơi Lại xịt rồ“i Còn 50k tối Phải gỡ... phải gỡ...!!! Trách nhiệm lên mua 10k thôi, còn 40k để mà ăn Nhưng... mà tao chỉ muốn gỡ lại những gì đã mất tao hứa sẽ dừng Chơi vui thôi không cay cú Tao hiểu rồi cảm ơn Xòi\"'], 'images_lowquality': ['https://scontent-sin6-1.xx.fbcdn.net/v/t39.30808-6/393725914_683955187173022_3015177689662052432_n.jpg?stp=cp0_dst-jpg_e15_p320x320_q65&_nc_cat=107&ccb=1-7&_nc_sid=5f2048&efg=eyJpIjoidCJ9&_nc_ohc=JmQOTcgL87YAX9JHBmw&_nc_ht=scontent-sin6-1.xx&oh=00_AfAkrBxvyDT9pCB8JV7aDYDR9dYmlzcMTAHKutfs00PJYA&oe=656BB0AC'], 'images_lowquality_description': ['May be a doodle of text that says \"Dừng lại đi bạn ơi Lại xịt rồ“i Còn 50k tối Phải gỡ... phải gỡ...!!! Trách nhiệm lên mua 10k thôi, còn 40k để mà ăn Nhưng... mà tao chỉ muốn gỡ lại những gì đã mất tao hứa sẽ dừng Chơi vui thôi không cay cú Tao hiểu rồi cảm ơn Xòi\"'], 'video': None, 'video_duration_seconds': None, 'video_height': None, 'video_id': None, 'video_quality': None, 'video_size_MB': None, 'video_thumbnail': None, 'video_watches': None, 'video_width': None, 'likes': 2357, 'comments': 25, 'shares': 9, 'link': None, 'links': [{'link': '/hashtag/vietlott?refid=52&__tn__=%2As-R&paipv=0&eav=AfbC-WNTeXHzQ8GVCY1BxUFfD0F0hP7p235TgRN8wbaggFQpU-Eb_Nd6u9j-yaFto5A', 'text': '#vietlott'}, {'link': '/hashtag/choicotrachnhiem?refid=52&__tn__=%2As-R&paipv=0&eav=AfZrezAkm8P8b169A05mW9TEwG490d_aEy3kX1BYafjNtTpVIXYgxxFK1LIrlBddx7Y', 'text': '#choicotrachnhiem'}, {'link': 'https://m.facebook.com/photo.php?fbid=683955190506355&id=100066756416622&set=a.604487031786505&eav=AfaeC4hqVtuhpuwk_bcOpNES3cXACj-VI-hv2QswVg0ibJ63sSBtCJzdQVy7wTACHro&paipv=0&source=57&refid=52&__tn__=EH-R', 'text': ''}], 'user_id': '100066756416622', 'username': 'Vẽ bậy', 'user_url': 'https://facebook.com/vebay69?eav=AfaKZb6caFXqErRPYOPOVIWNnvZuZUL3BxbPwmes6dU3DzB0gobcZGPQwLT9ZpNS3IU&refid=52&__tn__=C-R&paipv=0', 'is_live': False, 'factcheck': None, 'shared_post_id': None, 'shared_time': None, 'shared_user_id': None, 'shared_username': None, 'shared_post_url': None, 'available': True, 'comments_full': None, 'reactors': <generator object PostExtractor.extract_reactors at 0x7fa06999d460>, 'w3_fb_url': 'https://www.facebook.com/story.php?story_fbid=683955240506350&id=100066756416622', 'reactions': {'like': 2357, 'love': 3, 'haha': 602, 'wow': 2, 'care': 1, 'sad': 2}, 'reaction_count': 2967, 'with': None, 'page_id': '772954189491441', 'sharers': None, 'image_id': '683955190506355', 'image_ids': ['683955190506355'], 'was_live': False, 'fetched_time': datetime.datetime(2023, 11, 28, 14, 36, 23, 394691)}\n",
      "Extracted 688/2967 reactors\n",
      "\tSleep 158 seconds\n",
      "\n",
      "{'original_request_url': 682996903935517, 'post_url': 'https://facebook.com/story.php?story_fbid=682996903935517&id=100066756416622', 'post_id': 682996903935517, 'text': 'Bạn bè nhà người ta chia ngọt sẻ bùi, ở đây hở tí là ăn mảnh :)\\n#Hoho', 'post_text': 'Bạn bè nhà người ta chia ngọt sẻ bùi, ở đây hở tí là ăn mảnh :)\\n#Hoho', 'shared_text': '', 'original_text': None, 'time': datetime.datetime(2023, 11, 16, 12, 0, 1), 'timestamp': 1700136001, 'image': 'https://scontent-sin6-1.xx.fbcdn.net/v/t39.30808-6/402428849_682996737268867_4753740568739976205_n.jpg?stp=cp0_dst-jpg_e15_fr_q65&_nc_cat=111&ccb=1-7&_nc_sid=5f2048&efg=eyJpIjoidCJ9&_nc_ohc=Cvx2sK8Q3pIAX84-4ZX&_nc_ht=scontent-sin6-1.xx&oh=00_AfCt9DKC-6iAI-lu32uzQDxKYPJgTig00mZ2cleWsEiSjA&oe=656BCCD9&manual_redirect=1', 'image_lowquality': 'https://scontent-sin6-1.xx.fbcdn.net/v/t39.30808-6/402428849_682996737268867_4753740568739976205_n.jpg?stp=cp0_dst-jpg_e15_p320x320_q65&_nc_cat=111&ccb=1-7&_nc_sid=5f2048&efg=eyJpIjoidCJ9&_nc_ohc=Cvx2sK8Q3pIAX84-4ZX&_nc_ht=scontent-sin6-1.xx&oh=00_AfDh6JnHLef92a6E1N-6ymZ5_1MqvDsk6UwumPx46TA0Nw&oe=656BCCD9', 'images': ['https://scontent-sin6-1.xx.fbcdn.net/v/t39.30808-6/402428849_682996737268867_4753740568739976205_n.jpg?stp=cp0_dst-jpg_e15_fr_q65&_nc_cat=111&ccb=1-7&_nc_sid=5f2048&efg=eyJpIjoidCJ9&_nc_ohc=Cvx2sK8Q3pIAX84-4ZX&_nc_ht=scontent-sin6-1.xx&oh=00_AfCt9DKC-6iAI-lu32uzQDxKYPJgTig00mZ2cleWsEiSjA&oe=656BCCD9&manual_redirect=1'], 'images_description': ['May be an illustration of text that says \"Hehehe... Làm miếng Ăn gì mang ra anh em xem nào Học đâu cái thói...\"'], 'images_lowquality': ['https://scontent-sin6-1.xx.fbcdn.net/v/t39.30808-6/402428849_682996737268867_4753740568739976205_n.jpg?stp=cp0_dst-jpg_e15_p320x320_q65&_nc_cat=111&ccb=1-7&_nc_sid=5f2048&efg=eyJpIjoidCJ9&_nc_ohc=Cvx2sK8Q3pIAX84-4ZX&_nc_ht=scontent-sin6-1.xx&oh=00_AfDh6JnHLef92a6E1N-6ymZ5_1MqvDsk6UwumPx46TA0Nw&oe=656BCCD9'], 'images_lowquality_description': ['May be an illustration of text that says \"Hehehe... Làm miếng Ăn gì mang ra anh em xem nào Học đâu cái thói...\"'], 'video': None, 'video_duration_seconds': None, 'video_height': None, 'video_id': None, 'video_quality': None, 'video_size_MB': None, 'video_thumbnail': None, 'video_watches': None, 'video_width': None, 'likes': 1065, 'comments': 7, 'shares': 4, 'link': None, 'links': [{'link': '/hashtag/hoho?refid=52&__tn__=%2As-R&paipv=0&eav=AfaitCgUfX_j8Ona7pXkD5JbhuU8kDPwDweMVjONHOoFlljJ-AaAdLbH9YWRM_PjVpw', 'text': '#Hoho'}, {'link': 'https://m.facebook.com/photo.php?fbid=682996743935533&id=100066756416622&set=a.604487031786505&eav=AfatGxn4vy9Fp3VQ6mZtXI7z4nPqU0_nqtiuaJX_M1GDjlvc5k8HImnZksU598D4A7M&paipv=0&source=57&refid=52&__tn__=EH-R', 'text': ''}], 'user_id': '100066756416622', 'username': 'Vẽ bậy', 'user_url': 'https://facebook.com/vebay69?eav=AfYM7901ZebQ5Ld3Vgh9NOLx5TEEPkGAGbm5NZFAz99fjclLT6ESzo-N7k6OPN0V8tQ&refid=52&__tn__=C-R&paipv=0', 'is_live': False, 'factcheck': None, 'shared_post_id': None, 'shared_time': None, 'shared_user_id': None, 'shared_username': None, 'shared_post_url': None, 'available': True, 'comments_full': None, 'reactors': <generator object PostExtractor.extract_reactors at 0x7fa069b43df0>, 'w3_fb_url': 'https://www.facebook.com/story.php?story_fbid=682996903935517&id=100066756416622', 'reactions': {'like': 1065, 'love': 1, 'haha': 61, 'care': 2, 'sad': 1}, 'reaction_count': 1130, 'with': None, 'page_id': '772954189491441', 'sharers': None, 'image_id': '682996743935533', 'image_ids': ['682996743935533'], 'was_live': False, 'fetched_time': datetime.datetime(2023, 11, 28, 14, 39, 22, 857010)}\n"
     ]
    },
    {
     "name": "stderr",
     "output_type": "stream",
     "text": [
      "/workspaces/analyze-facebook-page/lib/facebook_scraper/facebook_scraper.py:908: UserWarning: Facebook served mbasic/noscript content unexpectedly on https://m.facebook.com/ufi/reaction/profile/browser/fetch/?ft_ent_identifier=682996903935517&limit=50&shown_ids=100076259955137%2C100076277623610%2C100076295562564%2C100076294753513%2C100078514170269%2C100078509457294%2C100076312151748%2C100078827265473%2C100078824589544%2C100078820838961%2C100078820216595%2C100078625131769%2C100078600415414%2C100078976404100%2C100078975234329%2C100078973222765%2C100078967703723%2C100078942580759%2C100078835150432%2C100078833839820%2C100078831645838%2C100079002447705%2C100078998687777%2C100078997519738%2C100078997460171%2C100078996715087%2C100078995719834%2C100078989844740%2C100078984979373%2C100078984916915%2C100078983504816%2C100078982458793%2C100078982377296%2C100078981604599%2C100079047011834%2C100079046602919%2C100079041902791%2C100079035777267%2C100079029397543%2C100079028840454%2C100079028317634%2C100079023295632%2C100079018789405%2C100079017265342%2C100079016053846%2C100079014769144%2C100079014529410%2C100079013723875%2C100079006405624%2C100079006103322%2C100079003163907%2C100079122613853%2C100079120299414%2C100079118914403%2C100079117839975%2C100079117749940%2C100079108623403%2C100079108053987%2C100079101125655%2C100079100922226%2C100079100805357%2C100079097682492%2C100079091712019%2C100079084057453%2C100079078592793%2C100079077511979%2C100079076944890%2C100079074036190%2C100079070292794%2C100079067580390%2C100079067376238%2C100079059695314%2C100079058460751%2C100079050646204%2C100079050553407%2C100079047922825%2C100079162872184%2C100079162511910%2C100079161668893%2C100079161391174%2C100079161271028%2C100079160852546%2C100079160852150%2C100079159743936%2C100079159032301%2C100079158004074%2C100079156322778%2C100079153293945%2C100079152819422%2C100079148382297%2C100079148282370%2C100079146762271%2C100079142163034%2C100079140366607%2C100079138543012%2C100079136013136%2C100079131125297%2C100079130883869%2C100079130613886%2C100079130323195%2C100079129263822%2C100079129203377%2C100079127443937%2C100079126594052%2C100079126120712%2C100079124584131%2C100079123624351%2C100079123533569%2C100079433097828%2C100079418397802%2C100079403874905%2C100079402697819%2C100079362467984%2C100079358237335%2C100079343067626%2C100079337207891%2C100079335259053%2C100079330197826%2C100079329055786%2C100079326620921%2C100079321226786%2C100079319810786%2C100079315841561%2C100079315701426%2C100079305296122%2C100079304778745%2C100079302562316%2C100079289762104%2C100079285254987%2C100079285163857%2C100079259762234%2C100079251804457%2C100079249614853%2C100079244277072%2C100079242125076%2C100079229400203%2C100079228397970%2C100079204598331%2C100079193190838%2C100079181851729%2C100079181221230%2C100079180021208%2C100079179631176%2C100079168892315%2C100079168697631%2C100079168151756%2C100079164182985%2C100079918271468%2C100079916364549%2C100079915720244%2C100079897080306%2C100079883304706%2C100079882843064%2C100079881249922%2C100079875581671%2C100079865322521%2C100079861724389%2C100079859382316%2C100079842537198%2C100079839853164%2C100079830460804%2C100079829292776%2C100079827579788%2C100079817380035%2C100079817263425%2C100079809205814%2C100079787206045%2C100079785884253%2C100079785014458%2C100079784804855%2C100079781026514%2C100079766474702%2C100079725272863%2C100079705025636%2C100079682118370%2C100079681723095%2C100079665497559%2C100079596673924%2C100079543373756%2C100079542731960%2C100079496085853%2C100079495403175%2C100079461452376%2C100079454779256%2C100079453489381%2C100079453434192%2C100079450044560%2C100079450040382%2C100079443586342%2C100079442034714%2C100085950697213%2C100085928048601%2C100085566319938%2C100085554921421%2C100085544961172%2C100085536260342%2C100085501492637%2C100085498312893%2C100085495642449%2C100085495103125%2C100085489193059%2C100085483313384%2C100085440176073%2C100085386056753%2C100084958392836%2C100084307668063%2C100082323870411%2C100081577039478%2C100080600280855%2C100080593920644%2C100080570370130%2C100080481559650%2C100080438616618%2C100080377297729%2C100080341833180%2C100080306621159%2C100080292343705%2C100080255347733%2C100080202496125%2C100080180899018%2C100080088481754%2C100080051282055%2C100080016858108%2C100080000075597%2C100079998378812%2C100079987297227%2C100079986681424%2C100079981056539%2C100079980874870%2C100079973107747%2C100079953636904%2C100079942209134%2C100079934498944%2C100079922529958%2C100079921651244%2C100094694085106%2C100094670805893%2C100094669274673%2C100094667266400%2C100094666366356%2C100094653915058%2C100094650256669%2C100094637777448%2C100094632797394%2C100094609067603%2C100094599019736%2C100094584980214%2C100094553660282%2C100094542292976%2C100094538212880%2C100094526902985%2C100094508123668%2C100094507941209%2C100094502724078%2C100094496874855%2C100094485800866%2C100094482145232%2C100094476295581%2C100094460365704%2C100094437777015%2C100094432797100%2C100094429557199%2C100094422957981%2C100094420077882%2C100094384185196%2C100094374704873%2C100094328584412%2C100094319824760%2C100094300779962%2C100094282806651%2C100094199936024%2C100094194190779%2C100094113191403%2C100094002245658%2C100093809254417%2C100093590600615%2C100093578481746%2C100093501383791%2C100093406464596%2C100092602893886%2C100090777251450%2C100090612138939%2C100089986038394%2C100095095320119%2C100095091541027%2C100095085781745%2C100095083231955%2C100095081821841%2C100095064932913%2C100095063761495%2C100095063221527%2C100095059171581%2C100095056233092%2C100095052573611%2C100095048373595%2C100095042642468%2C100095040184361%2C100095039224296%2C100095036734374%2C100095036284378%2C100094980484494%2C100094977725608%2C100094957595911%2C100094941394172%2C100094935905369%2C100094924325602%2C100094924206665%2C100094905337706%2C100094893396882%2C100094887517068%2C100094884788831%2C100094884098727%2C100094882956692%2C100094882838571%2C100094882118728%2C100094878819069%2C100094865017913%2C100094860368036%2C100094833399536%2C100094824369939%2C100094774690357%2C100094771989564%2C100094765030872%2C100094763951165%2C100094762121554%2C100094734552578%2C100094733472908%2C100094723032107%2C100094719883307%2C100094708002583%2C100094707403912%2C100094703204173%2C100094699964491&total_count=1130&paipv=0&eav=Afb4QF7Kj5iVuQdOUtmlQjTJCq_MiycrN7iBh359CuJGaOFEcRWfEDpLyZ33-EFBvJA\n",
      "  warnings.warn(\n"
     ]
    },
    {
     "name": "stdout",
     "output_type": "stream",
     "text": [
      "Extracted 333/1130 reactors\n",
      "\tSleep 102 seconds\n",
      "\n",
      "{'original_request_url': 683571943878013, 'post_url': 'https://facebook.com/story.php?story_fbid=683571943878013&id=100066756416622', 'post_id': 683571943878013, 'text': 'Quên hoài…\\n#Muonggg\\n\\nAlways forget...\\n#Muonggg', 'post_text': 'Quên hoài…\\n#Muonggg\\n\\nAlways forget...\\n#Muonggg', 'shared_text': '', 'original_text': 'Quên hoài…\\n#Muonggg', 'time': datetime.datetime(2023, 11, 16, 8, 37, 17), 'timestamp': 1700123837, 'image': 'https://scontent-sin6-1.xx.fbcdn.net/v/t39.30808-6/401634735_683571700544704_6049515324962041659_n.jpg?stp=cp0_dst-jpg_e15_fr_q65&_nc_cat=107&ccb=1-7&_nc_sid=5f2048&efg=eyJpIjoidCJ9&_nc_ohc=UtMPKo1D81MAX_hizqx&tn=E0gD5szyVABlKnmA&_nc_ht=scontent-sin6-1.xx&oh=00_AfCWReC47IJ5n9Dhq-_qh6louBNmSK7XuP6BoT25zV6mvQ&oe=656B3332&manual_redirect=1', 'image_lowquality': 'https://scontent-sin6-1.xx.fbcdn.net/v/t39.30808-6/401634735_683571700544704_6049515324962041659_n.jpg?stp=cp0_dst-jpg_e15_p320x320_q65&_nc_cat=107&ccb=1-7&_nc_sid=5f2048&efg=eyJpIjoidCJ9&_nc_ohc=UtMPKo1D81MAX_hizqx&tn=E0gD5szyVABlKnmA&_nc_ht=scontent-sin6-1.xx&oh=00_AfB6Uw50OuoRRZQxm6pc7yOMbmfiv71tHuTbM3rcQQR-fQ&oe=656B3332', 'images': ['https://scontent-sin6-1.xx.fbcdn.net/v/t39.30808-6/401634735_683571700544704_6049515324962041659_n.jpg?stp=cp0_dst-jpg_e15_fr_q65&_nc_cat=107&ccb=1-7&_nc_sid=5f2048&efg=eyJpIjoidCJ9&_nc_ohc=UtMPKo1D81MAX_hizqx&tn=E0gD5szyVABlKnmA&_nc_ht=scontent-sin6-1.xx&oh=00_AfCWReC47IJ5n9Dhq-_qh6louBNmSK7XuP6BoT25zV6mvQ&oe=656B3332&manual_redirect=1'], 'images_description': ['May be a doodle of text'], 'images_lowquality': ['https://scontent-sin6-1.xx.fbcdn.net/v/t39.30808-6/401634735_683571700544704_6049515324962041659_n.jpg?stp=cp0_dst-jpg_e15_p320x320_q65&_nc_cat=107&ccb=1-7&_nc_sid=5f2048&efg=eyJpIjoidCJ9&_nc_ohc=UtMPKo1D81MAX_hizqx&tn=E0gD5szyVABlKnmA&_nc_ht=scontent-sin6-1.xx&oh=00_AfB6Uw50OuoRRZQxm6pc7yOMbmfiv71tHuTbM3rcQQR-fQ&oe=656B3332'], 'images_lowquality_description': ['May be a doodle of text'], 'video': None, 'video_duration_seconds': None, 'video_height': None, 'video_id': None, 'video_quality': None, 'video_size_MB': None, 'video_thumbnail': None, 'video_watches': None, 'video_width': None, 'likes': 1266, 'comments': 28, 'shares': 5, 'link': None, 'links': [{'link': '/hashtag/muonggg?refid=52&__tn__=%2As-R&paipv=0&eav=AfaqD4UxpkyghFyok05JYlm4anwawIdIVxOjnTYac9OkFEgpSDyGH-28LJUvSGLFfzw', 'text': '#Muonggg'}, {'link': '/hashtag/muonggg?refid=52&__tn__=%2As-R&paipv=0&eav=AfbBONzVY-Agb6aKZA5_tc9LGQh3vfXwA844igwHdXmAx1LqzRgK3sBvfBwsOwBhrlg', 'text': '#Muonggg'}, {'link': 'https://m.facebook.com/photo.php?fbid=683571703878037&id=100066756416622&set=a.604487025119839&eav=AfY_AlH-2ad0yw7rBzGndciI0HYQmbSyI1v0ea9_5CG-3zbygf7S0l9JfdAc2lwt5a4&paipv=0&source=57&refid=52&__tn__=EH-R', 'text': ''}], 'user_id': '100066756416622', 'username': 'Vẽ bậy', 'user_url': 'https://facebook.com/vebay69?eav=AfZImf1HmCEWQljnprNU85lOfFn9_YsUW-BTpMUxZfKuFMO23bal1T0Oc6eUuJp7TKA&refid=52&__tn__=C-R&paipv=0', 'is_live': False, 'factcheck': None, 'shared_post_id': None, 'shared_time': None, 'shared_user_id': None, 'shared_username': None, 'shared_post_url': None, 'available': True, 'comments_full': None, 'reactors': <generator object PostExtractor.extract_reactors at 0x7fa0697de880>, 'w3_fb_url': 'https://www.facebook.com/story.php?story_fbid=683571943878013&id=100066756416622', 'reactions': {'like': 1266, 'love': 5, 'haha': 213, 'wow': 1, 'care': 3, 'sad': 9, 'angry': 1}, 'reaction_count': 1498, 'with': None, 'page_id': '772954189491441', 'sharers': None, 'image_id': '683571703878037', 'image_ids': ['683571703878037'], 'was_live': False, 'fetched_time': datetime.datetime(2023, 11, 28, 14, 41, 15, 705805)}\n"
     ]
    },
    {
     "name": "stderr",
     "output_type": "stream",
     "text": [
      "/workspaces/analyze-facebook-page/lib/facebook_scraper/facebook_scraper.py:908: UserWarning: Facebook served mbasic/noscript content unexpectedly on https://m.facebook.com/ufi/reaction/profile/browser/fetch/?ft_ent_identifier=683571943878013&limit=50&shown_ids=100075904776613%2C100075907986469%2C100075912666232%2C100075922805730%2C100075919085805%2C100075947733028%2C100075947164555%2C100075936035048%2C100075922895883%2C100075980192922%2C100075968793422%2C100075967923580%2C100075961773818%2C100075957724072%2C100075951544221%2C100076255875411%2C100076248765555%2C100076227677002%2C100076079812975%2C100076032690744%2C100075995701953%2C100078600415414%2C100078514170269%2C100078509457294%2C100076312151748%2C100076295562564%2C100076294753513%2C100076277623610%2C100076259955137%2C100078975234329%2C100078973222765%2C100078967703723%2C100078942580759%2C100078835150432%2C100078833839820%2C100078831645838%2C100078827265473%2C100078824589544%2C100078820838961%2C100078820216595%2C100078763119919%2C100078625131769%2C100079014769144%2C100079014529410%2C100079013723875%2C100079006405624%2C100079003163907%2C100079002447705%2C100078998687777%2C100078997519738%2C100078997460171%2C100078996715087%2C100078995719834%2C100078989844740%2C100078984979373%2C100078984916915%2C100078983504816%2C100078982458793%2C100078982377296%2C100078981604599%2C100078976404100%2C100079117749940%2C100079108623403%2C100079108053987%2C100079101125655%2C100079100922226%2C100079100805357%2C100079097682492%2C100079091712019%2C100079084057453%2C100079077511979%2C100079074036190%2C100079058460751%2C100079050646204%2C100079050553407%2C100079047922825%2C100079047011834%2C100079042251483%2C100079041902791%2C100079035777267%2C100079034427477%2C100079029397543%2C100079028317634%2C100079023295632%2C100079018789405%2C100079017265342%2C100079016053846%2C100079168892315%2C100079168697631%2C100079168151756%2C100079164182985%2C100079162872184%2C100079162511910%2C100079161668893%2C100079161391174%2C100079161271028%2C100079160852546%2C100079160852150%2C100079159743936%2C100079159032301%2C100079158004074%2C100079152819422%2C100079148382297%2C100079146762271%2C100079142163034%2C100079140366607%2C100079138543012%2C100079136013136%2C100079131125297%2C100079130883869%2C100079130613886%2C100079130323195%2C100079129263822%2C100079129203377%2C100079127443937%2C100079126594052%2C100079126120712%2C100079123624351%2C100079123533569%2C100079122613853%2C100079120299414%2C100079118914403%2C100079117839975%2C100079725272863%2C100079714457018%2C100079706416877%2C100079706298208%2C100079705936156%2C100079705025636%2C100079682118370%2C100079681723095%2C100079665497559%2C100079623733501%2C100079596673924%2C100079595334051%2C100079577843497%2C100079542731960%2C100079495403175%2C100079461452376%2C100079402697819%2C100079362467984%2C100079358237335%2C100079343067626%2C100079337207891%2C100079335259053%2C100079330197826%2C100079329055786%2C100079326620921%2C100079321226786%2C100079319810786%2C100079315841561%2C100079315701426%2C100079302562316%2C100079285254987%2C100079285163857%2C100079259762234%2C100079249614853%2C100079244277072%2C100079242125076%2C100079228397970%2C100079204598331%2C100079193190838%2C100079181851729%2C100079181221230%2C100079180021208%2C100079179631176%2C100080088481754%2C100080058483081%2C100080051282055%2C100080022304494%2C100080016858108%2C100080000075597%2C100079998378812%2C100079987297227%2C100079986681424%2C100079981056539%2C100079980874870%2C100079973107747%2C100079942209134%2C100079934498944%2C100079922529958%2C100079921651244%2C100079918271468%2C100079916364549%2C100079915720244%2C100079915548833%2C100079897080306%2C100079883304706%2C100079882843064%2C100079881249922%2C100079875581671%2C100079865322521%2C100079861724389%2C100079859382316%2C100079842537198%2C100079839853164%2C100079830460804%2C100079829292776%2C100079827579788%2C100079817380035%2C100079817263425%2C100079809205814%2C100079787206045%2C100079785884253%2C100079785014458%2C100079784804855%2C100079781026514%2C100079778594426%2C100079768086450%2C100079766474702%2C100093697338568%2C100093671364483%2C100093637406021%2C100093615626797%2C100093579800389%2C100093578061231%2C100093530303092%2C100093501383791%2C100091168672102%2C100090777251450%2C100090614442453%2C100088687951037%2C100088136366397%2C100087746123381%2C100087736144477%2C100087453137126%2C100087339980561%2C100087198600846%2C100086311971580%2C100086237907889%2C100085950697213%2C100085928048601%2C100085605348627%2C100085554921421%2C100085544961172%2C100085536260342%2C100085501492637%2C100085498312893%2C100085495103125%2C100085489193059%2C100085483313384%2C100085440176073%2C100084253811615%2C100081577039478%2C100080600280855%2C100080593920644%2C100080570370130%2C100080481559650%2C100080438616618%2C100080377297729%2C100080341833180%2C100080306621159%2C100080292343705%2C100080255347733%2C100080202496125%2C100080180899018%2C100080119147399%2C100094521333491%2C100094512805957%2C100094509143071%2C100094499842122%2C100094492374673%2C100094489826608%2C100094481885226%2C100094471205415%2C100094469605490%2C100094466675909%2C100094460365704%2C100094437777015%2C100094433035309%2C100094430485822%2C100094419757704%2C100094417497843%2C100094385907431%2C100094367080742%2C100094363720813%2C100094357802716%2C100094336501348%2C100094316880755%2C100094310801930%2C100094272125613%2C100094248555565%2C100094246415662%2C100094180689133%2C100094168898278%2C100094167550630%2C100094154841001%2C100094150657841%2C100094123273691%2C100094106295997%2C100094099704301%2C100094095370073%2C100094041888302%2C100094027677475%2C100094015453746%2C100094012100312%2C100094012039167%2C100093950363676%2C100093869484857%2C100093844974324%2C100093833411928%2C100093809254417%2C100093796826466%2C100093705052387%2C100093700673780%2C100095100721054%2C100095088991798%2C100095084400498%2C100095083950472%2C100095068862654%2C100095042642468%2C100095040573830%2C100095039224296%2C100095036284378%2C100095027104476%2C100095021343058%2C100094996475474%2C100094977725608%2C100094977213589%2C100094976914294%2C100094924206665%2C100094912479125%2C100094909986492%2C100094902007198%2C100094900447960%2C100094890457138%2C100094882537190%2C100094864177975%2C100094833399536%2C100094774690357%2C100094763951165%2C100094762121554%2C100094740102512%2C100094719883307%2C100094707403912%2C100094706954047%2C100094703204173%2C100094699964491%2C100094694085106%2C100094692673657%2C100094690664922%2C100094689495111%2C100094670956225%2C100094667266400%2C100094647709008%2C100094632797394%2C100094603998923%2C100094599019736%2C100094596529691%2C100094577040537%2C100094564310951%2C100094542292976%2C100094534821337&total_count=1498&paipv=0&eav=AfaC7qwibP6b9BJxx1C2eheBvVAV7ckIKBg_UK9s0July5zpjvhj4uSrVBWo2jwy7sQ\n",
      "  warnings.warn(\n"
     ]
    },
    {
     "name": "stdout",
     "output_type": "stream",
     "text": [
      "Extracted 353/1498 reactors\n",
      "\tSleep 69 seconds\n",
      "\n"
     ]
    }
   ],
   "source": [
    "try:\n",
    "    for post in fs.get_posts(\n",
    "        post_urls=posts_ids,\n",
    "        options={\n",
    "            \"allow_extra_requests\": True,\n",
    "            \"reactors\": True,\n",
    "            \"reactors\": \"generator\",\n",
    "            \"reactions\": True\n",
    "        },\n",
    "        timeout=120,\n",
    "    ):\n",
    "        print(post)\n",
    "        num_sharer = extract_reactor(post['reactors'], post['original_request_url'])\n",
    "        post_list.append(post)\n",
    "        print(f'Extracted {num_sharer}/{post[\"reaction_count\"]} reactors')\n",
    "        total_reactor_real += post['reaction_count']\n",
    "        utils.sleep(np.random.randint(60, 180))\n",
    "        print()\n",
    "except fs.exceptions.TemporarilyBanned:\n",
    "    print(\"TEMPORARILY BANNED\")\n",
    "except fs.exceptions.AccountDisabled:\n",
    "    print(\"ACCOUNT DISABLED\")\n",
    "except Exception as e:\n",
    "    print(e)"
   ]
  },
  {
   "cell_type": "code",
   "execution_count": 18,
   "metadata": {},
   "outputs": [
    {
     "name": "stdout",
     "output_type": "stream",
     "text": [
      "5\n",
      "Số posts đã crawl: 5\n",
      "Số sharers đã crawl: 2730/8990\n"
     ]
    }
   ],
   "source": [
    "print(NUMBER_POST)\n",
    "print(f\"Số posts đã crawl: {len(post_list)}\")\n",
    "print(f\"Số sharers đã crawl: {len(reactor_list)}/{total_reactor_real}\")"
   ]
  },
  {
   "cell_type": "code",
   "execution_count": 19,
   "metadata": {},
   "outputs": [
    {
     "name": "stdout",
     "output_type": "stream",
     "text": [
      "Save reactors data: ./data/vebay69/raw/reactors_2023-11-28_14-42-33.csv\n",
      "Save index 9 to resume: ./data/vebay69/url/i_post_id_react.txt\n"
     ]
    }
   ],
   "source": [
    "if reactor_list:\n",
    "    reactor_df = utils.save_data(\n",
    "        data_list=reactor_list,\n",
    "        folder_path=os.path.join('data','vebay69','raw'),\n",
    "        type=\"reactors\"\n",
    "    )\n",
    "utils.write_index_file(\n",
    "    file_path=index_post_id_file_path,\n",
    "    index=index_post_id + len(post_list)\n",
    ")"
   ]
  }
 ],
 "metadata": {
  "kernelspec": {
   "display_name": "py3108",
   "language": "python",
   "name": "python3"
  },
  "language_info": {
   "codemirror_mode": {
    "name": "ipython",
    "version": 3
   },
   "file_extension": ".py",
   "mimetype": "text/x-python",
   "name": "python",
   "nbconvert_exporter": "python",
   "pygments_lexer": "ipython3",
   "version": "3.10.8"
  }
 },
 "nbformat": 4,
 "nbformat_minor": 2
}
