{
 "cells": [
  {
   "cell_type": "code",
   "execution_count": null,
   "metadata": {},
   "outputs": [],
   "source": [
    "import lib.facebook_scraper as fs\n",
    "import lib.utils as utils\n",
    "import pandas as pd\n",
    "import numpy as np\n",
    "import os\n",
    "import time"
   ]
  },
  {
   "cell_type": "code",
   "execution_count": null,
   "metadata": {},
   "outputs": [],
   "source": [
    "post_ids_df = pd.read_csv('data/vebay69/clean/post_ids.csv')\n",
    "post_ids_df.head()"
   ]
  },
  {
   "cell_type": "code",
   "execution_count": null,
   "metadata": {},
   "outputs": [],
   "source": [
    "fs.set_cookies('./cookies/cookie_1.txt')\n",
    "# fs.enable_logging()"
   ]
  },
  {
   "cell_type": "code",
   "execution_count": null,
   "metadata": {},
   "outputs": [],
   "source": [
    "NUMBER_POST = 10\n",
    "post_list = []\n",
    "reactor_list = []\n",
    "total_reactor_real = 0\n",
    "index_post_id_file_path = os.path.join('data','vebay69','url','i_post_id_react.txt')"
   ]
  },
  {
   "cell_type": "code",
   "execution_count": null,
   "metadata": {},
   "outputs": [],
   "source": [
    "index_post_id = utils.read_index_file(file_path=index_post_id_file_path)\n",
    "print(index_post_id)\n",
    "posts_ids = utils.get_post_id_list(df=post_ids_df, start=index_post_id, length=NUMBER_POST)\n",
    "posts_ids"
   ]
  },
  {
   "cell_type": "code",
   "execution_count": null,
   "metadata": {},
   "outputs": [],
   "source": [
    "def extract_reactor(reactors, post_id):\n",
    "    cnt_reactor = 0\n",
    "    global reactor_list\n",
    "    for reactor in reactors:\n",
    "        reactor['post_id'] = post_id\n",
    "        reactor_list.append(reactor)\n",
    "        cnt_reactor += 1\n",
    "        time.sleep(np.random.uniform(0.5, 2.5))\n",
    "    return cnt_reactor"
   ]
  },
  {
   "cell_type": "code",
   "execution_count": null,
   "metadata": {},
   "outputs": [],
   "source": [
    "try:\n",
    "    for post in fs.get_posts(\n",
    "        post_urls=posts_ids,\n",
    "        options={\n",
    "            \"allow_extra_requests\": True,\n",
    "            \"reactors\": True,\n",
    "            \"reactors\": \"generator\",\n",
    "            \"reactions\": True\n",
    "        },\n",
    "        timeout=120,\n",
    "    ):\n",
    "        print(post)\n",
    "        post_list.append(post)\n",
    "        num_sharer = extract_reactor(post['reactors'], post['original_request_url'])\n",
    "        print(f'Extracted {num_sharer}/{post[\"reaction_count\"]} reactors')\n",
    "        total_reactor_real += post['reaction_count']\n",
    "        utils.sleep(np.random.randint(60, 180))\n",
    "        print()\n",
    "except fs.exceptions.TemporarilyBanned:\n",
    "    print(\"TEMPORARILY BANNED\")\n",
    "except fs.exceptions.AccountDisabled:\n",
    "    print(\"ACCOUNT DISABLED\")\n",
    "except Exception as e:\n",
    "    print(e)"
   ]
  },
  {
   "cell_type": "code",
   "execution_count": null,
   "metadata": {},
   "outputs": [],
   "source": [
    "print(NUMBER_POST)\n",
    "print(f\"Số posts đã crawl: {len(post_list)}\")\n",
    "print(f\"Số sharers đã crawl: {len(reactor_list)}/{total_reactor_real}\")"
   ]
  },
  {
   "cell_type": "code",
   "execution_count": null,
   "metadata": {},
   "outputs": [],
   "source": [
    "if reactor_list:\n",
    "    reactor_df = utils.save_data(\n",
    "        data_list=reactor_list,\n",
    "        folder_path=os.path.join('data','vebay69','raw'),\n",
    "        type=\"reactors\"\n",
    "    )\n",
    "utils.write_index_file(\n",
    "    file_path=index_post_id_file_path,\n",
    "    index=index_post_id + len(post_list)\n",
    ")"
   ]
  }
 ],
 "metadata": {
  "kernelspec": {
   "display_name": "py3108",
   "language": "python",
   "name": "python3"
  },
  "language_info": {
   "codemirror_mode": {
    "name": "ipython",
    "version": 3
   },
   "file_extension": ".py",
   "mimetype": "text/x-python",
   "name": "python",
   "nbconvert_exporter": "python",
   "pygments_lexer": "ipython3",
   "version": "3.10.8"
  }
 },
 "nbformat": 4,
 "nbformat_minor": 2
}
