{
 "cells": [
  {
   "cell_type": "markdown",
   "metadata": {},
   "source": [
    "### Import thư viện"
   ]
  },
  {
   "cell_type": "code",
   "execution_count": 9,
   "metadata": {},
   "outputs": [],
   "source": [
    "import pandas as pd\n",
    "import numpy as np\n",
    "import matplotlib.pyplot as plt\n",
    "import seaborn as sns\n",
    "from lib.utils import read_all_file, extract_id_from_url\n",
    "import os"
   ]
  },
  {
   "cell_type": "markdown",
   "metadata": {},
   "source": [
    "### Đọc dữ liệu reactors"
   ]
  },
  {
   "cell_type": "markdown",
   "metadata": {},
   "source": [
    "Tất cả reactors lưu trong file csv bắt đầu với chuỗi 'reactors_'"
   ]
  },
  {
   "cell_type": "code",
   "execution_count": 10,
   "metadata": {},
   "outputs": [
    {
     "data": {
      "text/plain": [
       "3"
      ]
     },
     "execution_count": 10,
     "metadata": {},
     "output_type": "execute_result"
    }
   ],
   "source": [
    "num_file, reactor_df = read_all_file(\n",
    "    folder_path=os.path.join('data', 'vebay69', 'raw'),\n",
    "    prefix = 'reactors_',\n",
    "    suffix = '.csv',\n",
    ")\n",
    "num_file"
   ]
  },
  {
   "cell_type": "code",
   "execution_count": 11,
   "metadata": {},
   "outputs": [
    {
     "data": {
      "text/html": [
       "<div>\n",
       "<style scoped>\n",
       "    .dataframe tbody tr th:only-of-type {\n",
       "        vertical-align: middle;\n",
       "    }\n",
       "\n",
       "    .dataframe tbody tr th {\n",
       "        vertical-align: top;\n",
       "    }\n",
       "\n",
       "    .dataframe thead th {\n",
       "        text-align: right;\n",
       "    }\n",
       "</style>\n",
       "<table border=\"1\" class=\"dataframe\">\n",
       "  <thead>\n",
       "    <tr style=\"text-align: right;\">\n",
       "      <th></th>\n",
       "      <th>name</th>\n",
       "      <th>link</th>\n",
       "      <th>type</th>\n",
       "      <th>post_id</th>\n",
       "    </tr>\n",
       "  </thead>\n",
       "  <tbody>\n",
       "    <tr>\n",
       "      <th>0</th>\n",
       "      <td>Pamela Michael</td>\n",
       "      <td>https://facebook.com/profile.php?id=1000950205...</td>\n",
       "      <td>like</td>\n",
       "      <td>684603707108170</td>\n",
       "    </tr>\n",
       "    <tr>\n",
       "      <th>1</th>\n",
       "      <td>Trần Minh Trọng Dũng</td>\n",
       "      <td>https://facebook.com/profile.php?id=1000948229...</td>\n",
       "      <td>like</td>\n",
       "      <td>684603707108170</td>\n",
       "    </tr>\n",
       "    <tr>\n",
       "      <th>2</th>\n",
       "      <td>Hoàng Quốc Vũ</td>\n",
       "      <td>https://facebook.com/profile.php?id=1000948624...</td>\n",
       "      <td>like</td>\n",
       "      <td>684603707108170</td>\n",
       "    </tr>\n",
       "    <tr>\n",
       "      <th>3</th>\n",
       "      <td>Trương Thị Thanh Vân</td>\n",
       "      <td>https://facebook.com/profile.php?id=1000948805...</td>\n",
       "      <td>like</td>\n",
       "      <td>684603707108170</td>\n",
       "    </tr>\n",
       "    <tr>\n",
       "      <th>4</th>\n",
       "      <td>Võ Minh Lam Ngọc</td>\n",
       "      <td>https://facebook.com/profile.php?id=1000948154...</td>\n",
       "      <td>like</td>\n",
       "      <td>684603707108170</td>\n",
       "    </tr>\n",
       "    <tr>\n",
       "      <th>5</th>\n",
       "      <td>Quang Bích Hằng</td>\n",
       "      <td>https://facebook.com/profile.php?id=1000948633...</td>\n",
       "      <td>like</td>\n",
       "      <td>684603707108170</td>\n",
       "    </tr>\n",
       "    <tr>\n",
       "      <th>6</th>\n",
       "      <td>Thị Võ Hồng Giang</td>\n",
       "      <td>https://facebook.com/profile.php?id=1000948528...</td>\n",
       "      <td>like</td>\n",
       "      <td>684603707108170</td>\n",
       "    </tr>\n",
       "    <tr>\n",
       "      <th>7</th>\n",
       "      <td>Phan Xuân Hiếu</td>\n",
       "      <td>https://facebook.com/profile.php?id=1000948048...</td>\n",
       "      <td>like</td>\n",
       "      <td>684603707108170</td>\n",
       "    </tr>\n",
       "    <tr>\n",
       "      <th>8</th>\n",
       "      <td>Đặng Phương Thanh</td>\n",
       "      <td>https://facebook.com/profile.php?id=1000948245...</td>\n",
       "      <td>like</td>\n",
       "      <td>684603707108170</td>\n",
       "    </tr>\n",
       "    <tr>\n",
       "      <th>9</th>\n",
       "      <td>Minh Thu Võ</td>\n",
       "      <td>https://facebook.com/profile.php?id=1000948807...</td>\n",
       "      <td>like</td>\n",
       "      <td>684603707108170</td>\n",
       "    </tr>\n",
       "  </tbody>\n",
       "</table>\n",
       "</div>"
      ],
      "text/plain": [
       "                   name                                               link  \\\n",
       "0        Pamela Michael  https://facebook.com/profile.php?id=1000950205...   \n",
       "1  Trần Minh Trọng Dũng  https://facebook.com/profile.php?id=1000948229...   \n",
       "2         Hoàng Quốc Vũ  https://facebook.com/profile.php?id=1000948624...   \n",
       "3  Trương Thị Thanh Vân  https://facebook.com/profile.php?id=1000948805...   \n",
       "4      Võ Minh Lam Ngọc  https://facebook.com/profile.php?id=1000948154...   \n",
       "5       Quang Bích Hằng  https://facebook.com/profile.php?id=1000948633...   \n",
       "6     Thị Võ Hồng Giang  https://facebook.com/profile.php?id=1000948528...   \n",
       "7        Phan Xuân Hiếu  https://facebook.com/profile.php?id=1000948048...   \n",
       "8     Đặng Phương Thanh  https://facebook.com/profile.php?id=1000948245...   \n",
       "9           Minh Thu Võ  https://facebook.com/profile.php?id=1000948807...   \n",
       "\n",
       "   type          post_id  \n",
       "0  like  684603707108170  \n",
       "1  like  684603707108170  \n",
       "2  like  684603707108170  \n",
       "3  like  684603707108170  \n",
       "4  like  684603707108170  \n",
       "5  like  684603707108170  \n",
       "6  like  684603707108170  \n",
       "7  like  684603707108170  \n",
       "8  like  684603707108170  \n",
       "9  like  684603707108170  "
      ]
     },
     "execution_count": 11,
     "metadata": {},
     "output_type": "execute_result"
    }
   ],
   "source": [
    "reactor_df.head(10)"
   ]
  },
  {
   "cell_type": "code",
   "execution_count": 12,
   "metadata": {},
   "outputs": [
    {
     "name": "stdout",
     "output_type": "stream",
     "text": [
      "<class 'pandas.core.frame.DataFrame'>\n",
      "RangeIndex: 10807 entries, 0 to 10806\n",
      "Data columns (total 4 columns):\n",
      " #   Column   Non-Null Count  Dtype \n",
      "---  ------   --------------  ----- \n",
      " 0   name     10807 non-null  object\n",
      " 1   link     10807 non-null  object\n",
      " 2   type     10807 non-null  object\n",
      " 3   post_id  10807 non-null  int64 \n",
      "dtypes: int64(1), object(3)\n",
      "memory usage: 337.8+ KB\n"
     ]
    }
   ],
   "source": [
    "reactor_df.info()"
   ]
  },
  {
   "cell_type": "markdown",
   "metadata": {},
   "source": [
    "### Kiểm tra sự mất mát dữ liệu"
   ]
  },
  {
   "cell_type": "code",
   "execution_count": 13,
   "metadata": {},
   "outputs": [
    {
     "data": {
      "text/html": [
       "<div>\n",
       "<style scoped>\n",
       "    .dataframe tbody tr th:only-of-type {\n",
       "        vertical-align: middle;\n",
       "    }\n",
       "\n",
       "    .dataframe tbody tr th {\n",
       "        vertical-align: top;\n",
       "    }\n",
       "\n",
       "    .dataframe thead th {\n",
       "        text-align: right;\n",
       "    }\n",
       "</style>\n",
       "<table border=\"1\" class=\"dataframe\">\n",
       "  <thead>\n",
       "    <tr style=\"text-align: right;\">\n",
       "      <th></th>\n",
       "      <th>Columns</th>\n",
       "      <th>Missing Data</th>\n",
       "      <th>Missing Percentage</th>\n",
       "    </tr>\n",
       "  </thead>\n",
       "  <tbody>\n",
       "    <tr>\n",
       "      <th>0</th>\n",
       "      <td>name</td>\n",
       "      <td>0</td>\n",
       "      <td>0.0</td>\n",
       "    </tr>\n",
       "    <tr>\n",
       "      <th>1</th>\n",
       "      <td>link</td>\n",
       "      <td>0</td>\n",
       "      <td>0.0</td>\n",
       "    </tr>\n",
       "    <tr>\n",
       "      <th>2</th>\n",
       "      <td>type</td>\n",
       "      <td>0</td>\n",
       "      <td>0.0</td>\n",
       "    </tr>\n",
       "    <tr>\n",
       "      <th>3</th>\n",
       "      <td>post_id</td>\n",
       "      <td>0</td>\n",
       "      <td>0.0</td>\n",
       "    </tr>\n",
       "  </tbody>\n",
       "</table>\n",
       "</div>"
      ],
      "text/plain": [
       "   Columns  Missing Data  Missing Percentage\n",
       "0     name             0                 0.0\n",
       "1     link             0                 0.0\n",
       "2     type             0                 0.0\n",
       "3  post_id             0                 0.0"
      ]
     },
     "execution_count": 13,
     "metadata": {},
     "output_type": "execute_result"
    }
   ],
   "source": [
    "missing_data = []\n",
    "percentage_data = []\n",
    "\n",
    "for i in reactor_df.columns:\n",
    "    missing_count = reactor_df[i].isnull().sum()\n",
    "    percentage = missing_count / len(reactor_df) * 100\n",
    "    missing_data.append(missing_count)\n",
    "    percentage_data.append(percentage)\n",
    "\n",
    "data = {'Columns': reactor_df.columns, 'Missing Data': missing_data, 'Missing Percentage': percentage_data}\n",
    "df_summary = pd.DataFrame(data)\n",
    "df_summary['Missing Percentage'] = df_summary['Missing Percentage'].round(2)\n",
    "df_summary\n"
   ]
  },
  {
   "cell_type": "markdown",
   "metadata": {},
   "source": [
    "### Extract id facebook"
   ]
  },
  {
   "cell_type": "code",
   "execution_count": 14,
   "metadata": {},
   "outputs": [],
   "source": [
    "reactor_df['reacter_id'] = reactor_df['link'].apply(extract_id_from_url)"
   ]
  },
  {
   "cell_type": "code",
   "execution_count": 15,
   "metadata": {},
   "outputs": [
    {
     "data": {
      "text/html": [
       "<div>\n",
       "<style scoped>\n",
       "    .dataframe tbody tr th:only-of-type {\n",
       "        vertical-align: middle;\n",
       "    }\n",
       "\n",
       "    .dataframe tbody tr th {\n",
       "        vertical-align: top;\n",
       "    }\n",
       "\n",
       "    .dataframe thead th {\n",
       "        text-align: right;\n",
       "    }\n",
       "</style>\n",
       "<table border=\"1\" class=\"dataframe\">\n",
       "  <thead>\n",
       "    <tr style=\"text-align: right;\">\n",
       "      <th></th>\n",
       "      <th>name</th>\n",
       "      <th>link</th>\n",
       "      <th>type</th>\n",
       "      <th>post_id</th>\n",
       "      <th>reacter_id</th>\n",
       "    </tr>\n",
       "  </thead>\n",
       "  <tbody>\n",
       "    <tr>\n",
       "      <th>0</th>\n",
       "      <td>Pamela Michael</td>\n",
       "      <td>https://facebook.com/profile.php?id=1000950205...</td>\n",
       "      <td>like</td>\n",
       "      <td>684603707108170</td>\n",
       "      <td>100095020533758</td>\n",
       "    </tr>\n",
       "    <tr>\n",
       "      <th>1</th>\n",
       "      <td>Trần Minh Trọng Dũng</td>\n",
       "      <td>https://facebook.com/profile.php?id=1000948229...</td>\n",
       "      <td>like</td>\n",
       "      <td>684603707108170</td>\n",
       "      <td>100094822980922</td>\n",
       "    </tr>\n",
       "    <tr>\n",
       "      <th>2</th>\n",
       "      <td>Hoàng Quốc Vũ</td>\n",
       "      <td>https://facebook.com/profile.php?id=1000948624...</td>\n",
       "      <td>like</td>\n",
       "      <td>684603707108170</td>\n",
       "      <td>100094862402548</td>\n",
       "    </tr>\n",
       "    <tr>\n",
       "      <th>3</th>\n",
       "      <td>Trương Thị Thanh Vân</td>\n",
       "      <td>https://facebook.com/profile.php?id=1000948805...</td>\n",
       "      <td>like</td>\n",
       "      <td>684603707108170</td>\n",
       "      <td>100094880581448</td>\n",
       "    </tr>\n",
       "    <tr>\n",
       "      <th>4</th>\n",
       "      <td>Võ Minh Lam Ngọc</td>\n",
       "      <td>https://facebook.com/profile.php?id=1000948154...</td>\n",
       "      <td>like</td>\n",
       "      <td>684603707108170</td>\n",
       "      <td>100094815481752</td>\n",
       "    </tr>\n",
       "    <tr>\n",
       "      <th>5</th>\n",
       "      <td>Quang Bích Hằng</td>\n",
       "      <td>https://facebook.com/profile.php?id=1000948633...</td>\n",
       "      <td>like</td>\n",
       "      <td>684603707108170</td>\n",
       "      <td>100094863391741</td>\n",
       "    </tr>\n",
       "    <tr>\n",
       "      <th>6</th>\n",
       "      <td>Thị Võ Hồng Giang</td>\n",
       "      <td>https://facebook.com/profile.php?id=1000948528...</td>\n",
       "      <td>like</td>\n",
       "      <td>684603707108170</td>\n",
       "      <td>100094852861408</td>\n",
       "    </tr>\n",
       "    <tr>\n",
       "      <th>7</th>\n",
       "      <td>Phan Xuân Hiếu</td>\n",
       "      <td>https://facebook.com/profile.php?id=1000948048...</td>\n",
       "      <td>like</td>\n",
       "      <td>684603707108170</td>\n",
       "      <td>100094804861634</td>\n",
       "    </tr>\n",
       "    <tr>\n",
       "      <th>8</th>\n",
       "      <td>Đặng Phương Thanh</td>\n",
       "      <td>https://facebook.com/profile.php?id=1000948245...</td>\n",
       "      <td>like</td>\n",
       "      <td>684603707108170</td>\n",
       "      <td>100094824512195</td>\n",
       "    </tr>\n",
       "    <tr>\n",
       "      <th>9</th>\n",
       "      <td>Minh Thu Võ</td>\n",
       "      <td>https://facebook.com/profile.php?id=1000948807...</td>\n",
       "      <td>like</td>\n",
       "      <td>684603707108170</td>\n",
       "      <td>100094880701659</td>\n",
       "    </tr>\n",
       "  </tbody>\n",
       "</table>\n",
       "</div>"
      ],
      "text/plain": [
       "                   name                                               link  \\\n",
       "0        Pamela Michael  https://facebook.com/profile.php?id=1000950205...   \n",
       "1  Trần Minh Trọng Dũng  https://facebook.com/profile.php?id=1000948229...   \n",
       "2         Hoàng Quốc Vũ  https://facebook.com/profile.php?id=1000948624...   \n",
       "3  Trương Thị Thanh Vân  https://facebook.com/profile.php?id=1000948805...   \n",
       "4      Võ Minh Lam Ngọc  https://facebook.com/profile.php?id=1000948154...   \n",
       "5       Quang Bích Hằng  https://facebook.com/profile.php?id=1000948633...   \n",
       "6     Thị Võ Hồng Giang  https://facebook.com/profile.php?id=1000948528...   \n",
       "7        Phan Xuân Hiếu  https://facebook.com/profile.php?id=1000948048...   \n",
       "8     Đặng Phương Thanh  https://facebook.com/profile.php?id=1000948245...   \n",
       "9           Minh Thu Võ  https://facebook.com/profile.php?id=1000948807...   \n",
       "\n",
       "   type          post_id       reacter_id  \n",
       "0  like  684603707108170  100095020533758  \n",
       "1  like  684603707108170  100094822980922  \n",
       "2  like  684603707108170  100094862402548  \n",
       "3  like  684603707108170  100094880581448  \n",
       "4  like  684603707108170  100094815481752  \n",
       "5  like  684603707108170  100094863391741  \n",
       "6  like  684603707108170  100094852861408  \n",
       "7  like  684603707108170  100094804861634  \n",
       "8  like  684603707108170  100094824512195  \n",
       "9  like  684603707108170  100094880701659  "
      ]
     },
     "execution_count": 15,
     "metadata": {},
     "output_type": "execute_result"
    }
   ],
   "source": [
    "reactor_df.head(10)"
   ]
  },
  {
   "cell_type": "markdown",
   "metadata": {},
   "source": [
    "### Lưu dữ liệu"
   ]
  },
  {
   "cell_type": "code",
   "execution_count": 16,
   "metadata": {},
   "outputs": [],
   "source": [
    "reactor_df.to_csv(os.path.join('data', 'vebay69', 'clean', 'reactors_full.csv'), index=False)"
   ]
  }
 ],
 "metadata": {
  "kernelspec": {
   "display_name": "py3108",
   "language": "python",
   "name": "python3"
  },
  "language_info": {
   "codemirror_mode": {
    "name": "ipython",
    "version": 3
   },
   "file_extension": ".py",
   "mimetype": "text/x-python",
   "name": "python",
   "nbconvert_exporter": "python",
   "pygments_lexer": "ipython3",
   "version": "3.10.8"
  }
 },
 "nbformat": 4,
 "nbformat_minor": 2
}
