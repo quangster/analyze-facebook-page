{
 "cells": [
  {
   "cell_type": "markdown",
   "metadata": {},
   "source": [
    "### Import thư viện"
   ]
  },
  {
   "cell_type": "code",
   "execution_count": 9,
   "metadata": {},
   "outputs": [],
   "source": [
    "import pandas as pd\n",
    "import numpy as np\n",
    "import matplotlib.pyplot as plt\n",
    "import seaborn as sns\n",
    "from lib.utils import read_all_file\n",
    "import os"
   ]
  },
  {
   "cell_type": "markdown",
   "metadata": {},
   "source": [
    "### Đọc dữ liệu sharers"
   ]
  },
  {
   "cell_type": "markdown",
   "metadata": {},
   "source": [
    "Tất cả dữ liệu về các người đã share bài post lưu trong file csv bắt đầu với chuỗi 'sharers_'"
   ]
  },
  {
   "cell_type": "code",
   "execution_count": 10,
   "metadata": {},
   "outputs": [
    {
     "data": {
      "text/plain": [
       "29"
      ]
     },
     "execution_count": 10,
     "metadata": {},
     "output_type": "execute_result"
    }
   ],
   "source": [
    "num_file, sharer_df = read_all_file(\n",
    "    folder_path=os.path.join('data', 'vebay69', 'raw'),\n",
    "    prefix = 'sharers_',\n",
    "    suffix = '.csv',\n",
    ")\n",
    "num_file"
   ]
  },
  {
   "cell_type": "code",
   "execution_count": 11,
   "metadata": {},
   "outputs": [
    {
     "data": {
      "text/html": [
       "<div>\n",
       "<style scoped>\n",
       "    .dataframe tbody tr th:only-of-type {\n",
       "        vertical-align: middle;\n",
       "    }\n",
       "\n",
       "    .dataframe tbody tr th {\n",
       "        vertical-align: top;\n",
       "    }\n",
       "\n",
       "    .dataframe thead th {\n",
       "        text-align: right;\n",
       "    }\n",
       "</style>\n",
       "<table border=\"1\" class=\"dataframe\">\n",
       "  <thead>\n",
       "    <tr style=\"text-align: right;\">\n",
       "      <th></th>\n",
       "      <th>name</th>\n",
       "      <th>link</th>\n",
       "      <th>post_id</th>\n",
       "    </tr>\n",
       "  </thead>\n",
       "  <tbody>\n",
       "    <tr>\n",
       "      <th>0</th>\n",
       "      <td>Trong Huy Bui</td>\n",
       "      <td>https://facebook.com/profile.php?id=1000895265...</td>\n",
       "      <td>617018593866682</td>\n",
       "    </tr>\n",
       "    <tr>\n",
       "      <th>1</th>\n",
       "      <td>Long Dinh</td>\n",
       "      <td>https://facebook.com/profile.php?id=1000571749...</td>\n",
       "      <td>617018593866682</td>\n",
       "    </tr>\n",
       "    <tr>\n",
       "      <th>2</th>\n",
       "      <td>Subhajit Das Subhajit</td>\n",
       "      <td>https://facebook.com/subhajitdas.subhajit.7?ea...</td>\n",
       "      <td>617018593866682</td>\n",
       "    </tr>\n",
       "    <tr>\n",
       "      <th>3</th>\n",
       "      <td>Kiều Minh Thu</td>\n",
       "      <td>https://facebook.com/profile.php?id=1000918233...</td>\n",
       "      <td>617018593866682</td>\n",
       "    </tr>\n",
       "    <tr>\n",
       "      <th>4</th>\n",
       "      <td>Anh Khoa La</td>\n",
       "      <td>https://facebook.com/profile.php?id=1000901434...</td>\n",
       "      <td>617018593866682</td>\n",
       "    </tr>\n",
       "  </tbody>\n",
       "</table>\n",
       "</div>"
      ],
      "text/plain": [
       "                    name                                               link  \\\n",
       "0          Trong Huy Bui  https://facebook.com/profile.php?id=1000895265...   \n",
       "1              Long Dinh  https://facebook.com/profile.php?id=1000571749...   \n",
       "2  Subhajit Das Subhajit  https://facebook.com/subhajitdas.subhajit.7?ea...   \n",
       "3          Kiều Minh Thu  https://facebook.com/profile.php?id=1000918233...   \n",
       "4            Anh Khoa La  https://facebook.com/profile.php?id=1000901434...   \n",
       "\n",
       "           post_id  \n",
       "0  617018593866682  \n",
       "1  617018593866682  \n",
       "2  617018593866682  \n",
       "3  617018593866682  \n",
       "4  617018593866682  "
      ]
     },
     "execution_count": 11,
     "metadata": {},
     "output_type": "execute_result"
    }
   ],
   "source": [
    "sharer_df.head()"
   ]
  },
  {
   "cell_type": "code",
   "execution_count": 12,
   "metadata": {},
   "outputs": [
    {
     "name": "stdout",
     "output_type": "stream",
     "text": [
      "<class 'pandas.core.frame.DataFrame'>\n",
      "RangeIndex: 18942 entries, 0 to 18941\n",
      "Data columns (total 3 columns):\n",
      " #   Column   Non-Null Count  Dtype \n",
      "---  ------   --------------  ----- \n",
      " 0   name     18942 non-null  object\n",
      " 1   link     18942 non-null  object\n",
      " 2   post_id  18942 non-null  int64 \n",
      "dtypes: int64(1), object(2)\n",
      "memory usage: 444.1+ KB\n"
     ]
    }
   ],
   "source": [
    "sharer_df.info()"
   ]
  },
  {
   "cell_type": "markdown",
   "metadata": {},
   "source": [
    "### Kiểm tra sự mất mát dữ liệu"
   ]
  },
  {
   "cell_type": "code",
   "execution_count": 13,
   "metadata": {},
   "outputs": [
    {
     "data": {
      "text/html": [
       "<div>\n",
       "<style scoped>\n",
       "    .dataframe tbody tr th:only-of-type {\n",
       "        vertical-align: middle;\n",
       "    }\n",
       "\n",
       "    .dataframe tbody tr th {\n",
       "        vertical-align: top;\n",
       "    }\n",
       "\n",
       "    .dataframe thead th {\n",
       "        text-align: right;\n",
       "    }\n",
       "</style>\n",
       "<table border=\"1\" class=\"dataframe\">\n",
       "  <thead>\n",
       "    <tr style=\"text-align: right;\">\n",
       "      <th></th>\n",
       "      <th>Columns</th>\n",
       "      <th>Missing Data</th>\n",
       "      <th>Missing Percentage</th>\n",
       "    </tr>\n",
       "  </thead>\n",
       "  <tbody>\n",
       "    <tr>\n",
       "      <th>0</th>\n",
       "      <td>name</td>\n",
       "      <td>0</td>\n",
       "      <td>0.0</td>\n",
       "    </tr>\n",
       "    <tr>\n",
       "      <th>1</th>\n",
       "      <td>link</td>\n",
       "      <td>0</td>\n",
       "      <td>0.0</td>\n",
       "    </tr>\n",
       "    <tr>\n",
       "      <th>2</th>\n",
       "      <td>post_id</td>\n",
       "      <td>0</td>\n",
       "      <td>0.0</td>\n",
       "    </tr>\n",
       "  </tbody>\n",
       "</table>\n",
       "</div>"
      ],
      "text/plain": [
       "   Columns  Missing Data  Missing Percentage\n",
       "0     name             0                 0.0\n",
       "1     link             0                 0.0\n",
       "2  post_id             0                 0.0"
      ]
     },
     "execution_count": 13,
     "metadata": {},
     "output_type": "execute_result"
    }
   ],
   "source": [
    "missing_data = []\n",
    "percentage_data = []\n",
    "\n",
    "for i in sharer_df.columns:\n",
    "    missing_count = sharer_df[i].isnull().sum()\n",
    "    percentage = missing_count / len(sharer_df) * 100\n",
    "    missing_data.append(missing_count)\n",
    "    percentage_data.append(percentage)\n",
    "\n",
    "data = {'Columns': sharer_df.columns, 'Missing Data': missing_data, 'Missing Percentage': percentage_data}\n",
    "df_summary = pd.DataFrame(data)\n",
    "df_summary['Missing Percentage'] = df_summary['Missing Percentage'].round(2)\n",
    "df_summary"
   ]
  },
  {
   "cell_type": "markdown",
   "metadata": {},
   "source": [
    "### Tách id facebook của mỗi người"
   ]
  },
  {
   "cell_type": "code",
   "execution_count": 14,
   "metadata": {},
   "outputs": [],
   "source": [
    "sharer_df['sharer_id'] = sharer_df['link'].str.replace(\"profile.php?id=\", \"\")\n",
    "sharer_df['sharer_id'] = sharer_df['sharer_id'].str.replace(\"https://facebook.com/\", \"\")\n",
    "sharer_df['sharer_id'] = sharer_df['sharer_id'].str.extract('^([^&]*)')\n",
    "sharer_df['sharer_id'] = sharer_df['sharer_id'].str.extract('^([^?]*)')"
   ]
  },
  {
   "cell_type": "code",
   "execution_count": 15,
   "metadata": {},
   "outputs": [
    {
     "data": {
      "text/html": [
       "<div>\n",
       "<style scoped>\n",
       "    .dataframe tbody tr th:only-of-type {\n",
       "        vertical-align: middle;\n",
       "    }\n",
       "\n",
       "    .dataframe tbody tr th {\n",
       "        vertical-align: top;\n",
       "    }\n",
       "\n",
       "    .dataframe thead th {\n",
       "        text-align: right;\n",
       "    }\n",
       "</style>\n",
       "<table border=\"1\" class=\"dataframe\">\n",
       "  <thead>\n",
       "    <tr style=\"text-align: right;\">\n",
       "      <th></th>\n",
       "      <th>name</th>\n",
       "      <th>link</th>\n",
       "      <th>post_id</th>\n",
       "      <th>sharer_id</th>\n",
       "    </tr>\n",
       "  </thead>\n",
       "  <tbody>\n",
       "    <tr>\n",
       "      <th>0</th>\n",
       "      <td>Trong Huy Bui</td>\n",
       "      <td>https://facebook.com/profile.php?id=1000895265...</td>\n",
       "      <td>617018593866682</td>\n",
       "      <td>100089526577350</td>\n",
       "    </tr>\n",
       "    <tr>\n",
       "      <th>1</th>\n",
       "      <td>Long Dinh</td>\n",
       "      <td>https://facebook.com/profile.php?id=1000571749...</td>\n",
       "      <td>617018593866682</td>\n",
       "      <td>100057174918557</td>\n",
       "    </tr>\n",
       "    <tr>\n",
       "      <th>2</th>\n",
       "      <td>Subhajit Das Subhajit</td>\n",
       "      <td>https://facebook.com/subhajitdas.subhajit.7?ea...</td>\n",
       "      <td>617018593866682</td>\n",
       "      <td>subhajitdas.subhajit.7</td>\n",
       "    </tr>\n",
       "    <tr>\n",
       "      <th>3</th>\n",
       "      <td>Kiều Minh Thu</td>\n",
       "      <td>https://facebook.com/profile.php?id=1000918233...</td>\n",
       "      <td>617018593866682</td>\n",
       "      <td>100091823392743</td>\n",
       "    </tr>\n",
       "    <tr>\n",
       "      <th>4</th>\n",
       "      <td>Anh Khoa La</td>\n",
       "      <td>https://facebook.com/profile.php?id=1000901434...</td>\n",
       "      <td>617018593866682</td>\n",
       "      <td>100090143478442</td>\n",
       "    </tr>\n",
       "    <tr>\n",
       "      <th>5</th>\n",
       "      <td>Lương Hương Thủy</td>\n",
       "      <td>https://facebook.com/profile.php?id=1000905688...</td>\n",
       "      <td>617018593866682</td>\n",
       "      <td>100090568827447</td>\n",
       "    </tr>\n",
       "    <tr>\n",
       "      <th>6</th>\n",
       "      <td>Chí Kiên Mai</td>\n",
       "      <td>https://facebook.com/profile.php?id=1000906553...</td>\n",
       "      <td>617018593866682</td>\n",
       "      <td>100090655373442</td>\n",
       "    </tr>\n",
       "    <tr>\n",
       "      <th>7</th>\n",
       "      <td>Sầm Huy Chiểu</td>\n",
       "      <td>https://facebook.com/profile.php?id=1000922794...</td>\n",
       "      <td>617018593866682</td>\n",
       "      <td>100092279495789</td>\n",
       "    </tr>\n",
       "    <tr>\n",
       "      <th>8</th>\n",
       "      <td>Pé Thỏ 🐰</td>\n",
       "      <td>https://facebook.com/meii2700?eav=AfbhFrtLoFsY...</td>\n",
       "      <td>617018593866682</td>\n",
       "      <td>meii2700</td>\n",
       "    </tr>\n",
       "    <tr>\n",
       "      <th>9</th>\n",
       "      <td>Bích Ngọc</td>\n",
       "      <td>https://facebook.com/profile.php?id=1000057729...</td>\n",
       "      <td>617018593866682</td>\n",
       "      <td>100005772996269</td>\n",
       "    </tr>\n",
       "  </tbody>\n",
       "</table>\n",
       "</div>"
      ],
      "text/plain": [
       "                    name                                               link  \\\n",
       "0          Trong Huy Bui  https://facebook.com/profile.php?id=1000895265...   \n",
       "1              Long Dinh  https://facebook.com/profile.php?id=1000571749...   \n",
       "2  Subhajit Das Subhajit  https://facebook.com/subhajitdas.subhajit.7?ea...   \n",
       "3          Kiều Minh Thu  https://facebook.com/profile.php?id=1000918233...   \n",
       "4            Anh Khoa La  https://facebook.com/profile.php?id=1000901434...   \n",
       "5       Lương Hương Thủy  https://facebook.com/profile.php?id=1000905688...   \n",
       "6           Chí Kiên Mai  https://facebook.com/profile.php?id=1000906553...   \n",
       "7          Sầm Huy Chiểu  https://facebook.com/profile.php?id=1000922794...   \n",
       "8               Pé Thỏ 🐰  https://facebook.com/meii2700?eav=AfbhFrtLoFsY...   \n",
       "9              Bích Ngọc  https://facebook.com/profile.php?id=1000057729...   \n",
       "\n",
       "           post_id               sharer_id  \n",
       "0  617018593866682         100089526577350  \n",
       "1  617018593866682         100057174918557  \n",
       "2  617018593866682  subhajitdas.subhajit.7  \n",
       "3  617018593866682         100091823392743  \n",
       "4  617018593866682         100090143478442  \n",
       "5  617018593866682         100090568827447  \n",
       "6  617018593866682         100090655373442  \n",
       "7  617018593866682         100092279495789  \n",
       "8  617018593866682                meii2700  \n",
       "9  617018593866682         100005772996269  "
      ]
     },
     "execution_count": 15,
     "metadata": {},
     "output_type": "execute_result"
    }
   ],
   "source": [
    "sharer_df.head(10)"
   ]
  },
  {
   "cell_type": "markdown",
   "metadata": {},
   "source": [
    "### Lưu dữ liệu"
   ]
  },
  {
   "cell_type": "code",
   "execution_count": 16,
   "metadata": {},
   "outputs": [],
   "source": [
    "sharer_df.to_csv(os.path.join('data', 'vebay69', 'clean', 'sharers_full.csv'), index=False)"
   ]
  }
 ],
 "metadata": {
  "kernelspec": {
   "display_name": "py3108",
   "language": "python",
   "name": "python3"
  },
  "language_info": {
   "codemirror_mode": {
    "name": "ipython",
    "version": 3
   },
   "file_extension": ".py",
   "mimetype": "text/x-python",
   "name": "python",
   "nbconvert_exporter": "python",
   "pygments_lexer": "ipython3",
   "version": "3.10.8"
  }
 },
 "nbformat": 4,
 "nbformat_minor": 2
}
