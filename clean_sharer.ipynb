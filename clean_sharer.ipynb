{
 "cells": [
  {
   "cell_type": "markdown",
   "metadata": {},
   "source": [
    "### Import thư viện"
   ]
  },
  {
   "cell_type": "code",
   "execution_count": 2,
   "metadata": {},
   "outputs": [],
   "source": [
    "import pandas as pd\n",
    "import numpy as np\n",
    "import matplotlib.pyplot as plt\n",
    "import seaborn as sns\n",
    "from lib.utils import read_all_file\n",
    "import os"
   ]
  },
  {
   "cell_type": "markdown",
   "metadata": {},
   "source": [
    "### Đọc dữ liệu sharers"
   ]
  },
  {
   "cell_type": "markdown",
   "metadata": {},
   "source": [
    "Tất cả dữ liệu về các người đã share bài post lưu trong file csv bắt đầu với chuỗi 'sharers_'"
   ]
  },
  {
   "cell_type": "code",
   "execution_count": 4,
   "metadata": {},
   "outputs": [
    {
     "data": {
      "text/plain": [
       "28"
      ]
     },
     "execution_count": 4,
     "metadata": {},
     "output_type": "execute_result"
    }
   ],
   "source": [
    "num_file, sharer_df = read_all_file(\n",
    "    folder_path=os.path.join('data', 'vebay69', 'raw'),\n",
    "    prefix = 'sharers_',\n",
    "    suffix = '.csv',\n",
    ")\n",
    "num_file"
   ]
  },
  {
   "cell_type": "code",
   "execution_count": 6,
   "metadata": {},
   "outputs": [
    {
     "data": {
      "text/html": [
       "<div>\n",
       "<style scoped>\n",
       "    .dataframe tbody tr th:only-of-type {\n",
       "        vertical-align: middle;\n",
       "    }\n",
       "\n",
       "    .dataframe tbody tr th {\n",
       "        vertical-align: top;\n",
       "    }\n",
       "\n",
       "    .dataframe thead th {\n",
       "        text-align: right;\n",
       "    }\n",
       "</style>\n",
       "<table border=\"1\" class=\"dataframe\">\n",
       "  <thead>\n",
       "    <tr style=\"text-align: right;\">\n",
       "      <th></th>\n",
       "      <th>name</th>\n",
       "      <th>link</th>\n",
       "      <th>post_id</th>\n",
       "    </tr>\n",
       "  </thead>\n",
       "  <tbody>\n",
       "    <tr>\n",
       "      <th>0</th>\n",
       "      <td>Trong Huy Bui</td>\n",
       "      <td>https://facebook.com/profile.php?id=1000895265...</td>\n",
       "      <td>617018593866682</td>\n",
       "    </tr>\n",
       "    <tr>\n",
       "      <th>1</th>\n",
       "      <td>Long Dinh</td>\n",
       "      <td>https://facebook.com/profile.php?id=1000571749...</td>\n",
       "      <td>617018593866682</td>\n",
       "    </tr>\n",
       "    <tr>\n",
       "      <th>2</th>\n",
       "      <td>Subhajit Das Subhajit</td>\n",
       "      <td>https://facebook.com/subhajitdas.subhajit.7?ea...</td>\n",
       "      <td>617018593866682</td>\n",
       "    </tr>\n",
       "    <tr>\n",
       "      <th>3</th>\n",
       "      <td>Kiều Minh Thu</td>\n",
       "      <td>https://facebook.com/profile.php?id=1000918233...</td>\n",
       "      <td>617018593866682</td>\n",
       "    </tr>\n",
       "    <tr>\n",
       "      <th>4</th>\n",
       "      <td>Anh Khoa La</td>\n",
       "      <td>https://facebook.com/profile.php?id=1000901434...</td>\n",
       "      <td>617018593866682</td>\n",
       "    </tr>\n",
       "  </tbody>\n",
       "</table>\n",
       "</div>"
      ],
      "text/plain": [
       "                    name                                               link  \\\n",
       "0          Trong Huy Bui  https://facebook.com/profile.php?id=1000895265...   \n",
       "1              Long Dinh  https://facebook.com/profile.php?id=1000571749...   \n",
       "2  Subhajit Das Subhajit  https://facebook.com/subhajitdas.subhajit.7?ea...   \n",
       "3          Kiều Minh Thu  https://facebook.com/profile.php?id=1000918233...   \n",
       "4            Anh Khoa La  https://facebook.com/profile.php?id=1000901434...   \n",
       "\n",
       "           post_id  \n",
       "0  617018593866682  \n",
       "1  617018593866682  \n",
       "2  617018593866682  \n",
       "3  617018593866682  \n",
       "4  617018593866682  "
      ]
     },
     "execution_count": 6,
     "metadata": {},
     "output_type": "execute_result"
    }
   ],
   "source": [
    "sharer_df.head()"
   ]
  },
  {
   "cell_type": "code",
   "execution_count": 7,
   "metadata": {},
   "outputs": [
    {
     "name": "stdout",
     "output_type": "stream",
     "text": [
      "<class 'pandas.core.frame.DataFrame'>\n",
      "RangeIndex: 18866 entries, 0 to 18865\n",
      "Data columns (total 3 columns):\n",
      " #   Column   Non-Null Count  Dtype \n",
      "---  ------   --------------  ----- \n",
      " 0   name     18866 non-null  object\n",
      " 1   link     18866 non-null  object\n",
      " 2   post_id  18866 non-null  int64 \n",
      "dtypes: int64(1), object(2)\n",
      "memory usage: 442.3+ KB\n"
     ]
    }
   ],
   "source": [
    "sharer_df.info()"
   ]
  },
  {
   "cell_type": "markdown",
   "metadata": {},
   "source": [
    "### Kiểm tra sự mất mát dữ liệu"
   ]
  },
  {
   "cell_type": "code",
   "execution_count": 8,
   "metadata": {},
   "outputs": [
    {
     "data": {
      "text/html": [
       "<div>\n",
       "<style scoped>\n",
       "    .dataframe tbody tr th:only-of-type {\n",
       "        vertical-align: middle;\n",
       "    }\n",
       "\n",
       "    .dataframe tbody tr th {\n",
       "        vertical-align: top;\n",
       "    }\n",
       "\n",
       "    .dataframe thead th {\n",
       "        text-align: right;\n",
       "    }\n",
       "</style>\n",
       "<table border=\"1\" class=\"dataframe\">\n",
       "  <thead>\n",
       "    <tr style=\"text-align: right;\">\n",
       "      <th></th>\n",
       "      <th>Columns</th>\n",
       "      <th>Missing Data</th>\n",
       "      <th>Missing Percentage</th>\n",
       "    </tr>\n",
       "  </thead>\n",
       "  <tbody>\n",
       "    <tr>\n",
       "      <th>0</th>\n",
       "      <td>name</td>\n",
       "      <td>0</td>\n",
       "      <td>0.0</td>\n",
       "    </tr>\n",
       "    <tr>\n",
       "      <th>1</th>\n",
       "      <td>link</td>\n",
       "      <td>0</td>\n",
       "      <td>0.0</td>\n",
       "    </tr>\n",
       "    <tr>\n",
       "      <th>2</th>\n",
       "      <td>post_id</td>\n",
       "      <td>0</td>\n",
       "      <td>0.0</td>\n",
       "    </tr>\n",
       "  </tbody>\n",
       "</table>\n",
       "</div>"
      ],
      "text/plain": [
       "   Columns  Missing Data  Missing Percentage\n",
       "0     name             0                 0.0\n",
       "1     link             0                 0.0\n",
       "2  post_id             0                 0.0"
      ]
     },
     "execution_count": 8,
     "metadata": {},
     "output_type": "execute_result"
    }
   ],
   "source": [
    "missing_data = []\n",
    "percentage_data = []\n",
    "\n",
    "for i in sharer_df.columns:\n",
    "    missing_count = sharer_df[i].isnull().sum()\n",
    "    percentage = missing_count / len(sharer_df) * 100\n",
    "    missing_data.append(missing_count)\n",
    "    percentage_data.append(percentage)\n",
    "\n",
    "data = {'Columns': sharer_df.columns, 'Missing Data': missing_data, 'Missing Percentage': percentage_data}\n",
    "df_summary = pd.DataFrame(data)\n",
    "df_summary['Missing Percentage'] = df_summary['Missing Percentage'].round(2)\n",
    "df_summary"
   ]
  },
  {
   "cell_type": "markdown",
   "metadata": {},
   "source": [
    "Biểu đồ heatmap để visualize dữ liệu mất mát"
   ]
  },
  {
   "cell_type": "code",
   "execution_count": 9,
   "metadata": {},
   "outputs": [
    {
     "data": {
      "image/png": "[encoded data removed]",
      "text/plain": [
       "<Figure size 500x500 with 1 Axes>"
      ]
     },
     "metadata": {},
     "output_type": "display_data"
    }
   ],
   "source": [
    "plt.figure(figsize=(5, 5))\n",
    "sns.heatmap(sharer_df.isnull(), cbar=False, cmap='binary', yticklabels=False);"
   ]
  }
 ],
 "metadata": {
  "kernelspec": {
   "display_name": "py3108",
   "language": "python",
   "name": "python3"
  },
  "language_info": {
   "codemirror_mode": {
    "name": "ipython",
    "version": 3
   },
   "file_extension": ".py",
   "mimetype": "text/x-python",
   "name": "python",
   "nbconvert_exporter": "python",
   "pygments_lexer": "ipython3",
   "version": "3.10.8"
  }
 },
 "nbformat": 4,
 "nbformat_minor": 2
}
