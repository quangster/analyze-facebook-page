{
 "cells": [
  {
   "cell_type": "markdown",
   "metadata": {},
   "source": [
    "### Import the libraries"
   ]
  },
  {
   "cell_type": "code",
   "execution_count": 1,
   "metadata": {},
   "outputs": [],
   "source": [
    "import pandas as pd\n",
    "import numpy as np\n",
    "import matplotlib.pyplot as plt\n",
    "import seaborn as sns\n",
    "from lib.utils import read_all_file\n",
    "import os"
   ]
  },
  {
   "cell_type": "markdown",
   "metadata": {},
   "source": [
    "### Read the comments dataset"
   ]
  },
  {
   "cell_type": "markdown",
   "metadata": {},
   "source": [
    "All comments full is saved in files csv start with 'comments_'"
   ]
  },
  {
   "cell_type": "code",
   "execution_count": 2,
   "metadata": {},
   "outputs": [
    {
     "data": {
      "text/plain": [
       "1"
      ]
     },
     "execution_count": 2,
     "metadata": {},
     "output_type": "execute_result"
    }
   ],
   "source": [
    "num_file, comment_df = read_all_file(\n",
    "    folder_path=os.path.join('data', 'vebay69', 'raw'),\n",
    "    prefix = 'comments_',\n",
    "    suffix = '.csv',\n",
    ")\n",
    "num_file"
   ]
  },
  {
   "cell_type": "code",
   "execution_count": 3,
   "metadata": {},
   "outputs": [
    {
     "data": {
      "text/html": [
       "<div>\n",
       "<style scoped>\n",
       "    .dataframe tbody tr th:only-of-type {\n",
       "        vertical-align: middle;\n",
       "    }\n",
       "\n",
       "    .dataframe tbody tr th {\n",
       "        vertical-align: top;\n",
       "    }\n",
       "\n",
       "    .dataframe thead th {\n",
       "        text-align: right;\n",
       "    }\n",
       "</style>\n",
       "<table border=\"1\" class=\"dataframe\">\n",
       "  <thead>\n",
       "    <tr style=\"text-align: right;\">\n",
       "      <th></th>\n",
       "      <th>comment_id</th>\n",
       "      <th>comment_url</th>\n",
       "      <th>commenter_id</th>\n",
       "      <th>commenter_url</th>\n",
       "      <th>commenter_name</th>\n",
       "      <th>commenter_meta</th>\n",
       "      <th>comment_text</th>\n",
       "      <th>comment_time</th>\n",
       "      <th>comment_image</th>\n",
       "      <th>comment_reactors</th>\n",
       "      <th>comment_reactions</th>\n",
       "      <th>comment_reaction_count</th>\n",
       "      <th>post_id</th>\n",
       "    </tr>\n",
       "  </thead>\n",
       "  <tbody>\n",
       "    <tr>\n",
       "      <th>0</th>\n",
       "      <td>837711471436622</td>\n",
       "      <td>https://facebook.com/837711471436622</td>\n",
       "      <td>100000070123283</td>\n",
       "      <td>https://facebook.com/NganQuach3005?eav=AfbEHdv...</td>\n",
       "      <td>Quach Ngan</td>\n",
       "      <td>NaN</td>\n",
       "      <td>Haha tui cungz thích cảm giác phơi nắng</td>\n",
       "      <td>2023-11-20</td>\n",
       "      <td>NaN</td>\n",
       "      <td>[]</td>\n",
       "      <td>NaN</td>\n",
       "      <td>NaN</td>\n",
       "      <td>685638947004646</td>\n",
       "    </tr>\n",
       "    <tr>\n",
       "      <th>1</th>\n",
       "      <td>1384359865797542</td>\n",
       "      <td>https://facebook.com/1384359865797542</td>\n",
       "      <td>100009632385831</td>\n",
       "      <td>https://facebook.com/mesa.missyou?eav=Afb7sjj6...</td>\n",
       "      <td>Nguyễn Nguyễn Lường</td>\n",
       "      <td>NaN</td>\n",
       "      <td>Quach Ngan 🌍Mấy ae vào nhanh group bem ngoại h...</td>\n",
       "      <td>2023-11-20</td>\n",
       "      <td>https://scontent-sin6-2.xx.fbcdn.net/v/t39.308...</td>\n",
       "      <td>[]</td>\n",
       "      <td>NaN</td>\n",
       "      <td>NaN</td>\n",
       "      <td>685638947004646</td>\n",
       "    </tr>\n",
       "    <tr>\n",
       "      <th>2</th>\n",
       "      <td>3619522008291568</td>\n",
       "      <td>https://facebook.com/3619522008291568</td>\n",
       "      <td>100014736247838</td>\n",
       "      <td>https://facebook.com/profile.php?id=1000147362...</td>\n",
       "      <td>Uyên Uyên</td>\n",
       "      <td>NaN</td>\n",
       "      <td>Hoàng Thúy</td>\n",
       "      <td>2023-11-19</td>\n",
       "      <td>https://scontent-sin6-2.xx.fbcdn.net/m1/v/t6/A...</td>\n",
       "      <td>[]</td>\n",
       "      <td>NaN</td>\n",
       "      <td>NaN</td>\n",
       "      <td>685638947004646</td>\n",
       "    </tr>\n",
       "    <tr>\n",
       "      <th>3</th>\n",
       "      <td>844274764149865</td>\n",
       "      <td>https://facebook.com/844274764149865</td>\n",
       "      <td>100004673858376</td>\n",
       "      <td>https://facebook.com/muahe.tuyet.3386?eav=AfZq...</td>\n",
       "      <td>Hoàng Thúy</td>\n",
       "      <td>NaN</td>\n",
       "      <td>Uyên Uyên ấm 😂</td>\n",
       "      <td>2023-11-19</td>\n",
       "      <td>NaN</td>\n",
       "      <td>[]</td>\n",
       "      <td>NaN</td>\n",
       "      <td>NaN</td>\n",
       "      <td>685638947004646</td>\n",
       "    </tr>\n",
       "    <tr>\n",
       "      <th>4</th>\n",
       "      <td>1824300658024919</td>\n",
       "      <td>https://facebook.com/1824300658024919</td>\n",
       "      <td>1851850359</td>\n",
       "      <td>https://facebook.com/profile.php?id=1851850359...</td>\n",
       "      <td>An Hồng Nhung</td>\n",
       "      <td>NaN</td>\n",
       "      <td>Phơi xong mặt nẻ toác ra</td>\n",
       "      <td>2023-11-20</td>\n",
       "      <td>NaN</td>\n",
       "      <td>[]</td>\n",
       "      <td>NaN</td>\n",
       "      <td>NaN</td>\n",
       "      <td>685638947004646</td>\n",
       "    </tr>\n",
       "  </tbody>\n",
       "</table>\n",
       "</div>"
      ],
      "text/plain": [
       "         comment_id                            comment_url     commenter_id  \\\n",
       "0   837711471436622   https://facebook.com/837711471436622  100000070123283   \n",
       "1  1384359865797542  https://facebook.com/1384359865797542  100009632385831   \n",
       "2  3619522008291568  https://facebook.com/3619522008291568  100014736247838   \n",
       "3   844274764149865   https://facebook.com/844274764149865  100004673858376   \n",
       "4  1824300658024919  https://facebook.com/1824300658024919       1851850359   \n",
       "\n",
       "                                       commenter_url       commenter_name  \\\n",
       "0  https://facebook.com/NganQuach3005?eav=AfbEHdv...           Quach Ngan   \n",
       "1  https://facebook.com/mesa.missyou?eav=Afb7sjj6...  Nguyễn Nguyễn Lường   \n",
       "2  https://facebook.com/profile.php?id=1000147362...            Uyên Uyên   \n",
       "3  https://facebook.com/muahe.tuyet.3386?eav=AfZq...           Hoàng Thúy   \n",
       "4  https://facebook.com/profile.php?id=1851850359...        An Hồng Nhung   \n",
       "\n",
       "  commenter_meta                                       comment_text  \\\n",
       "0            NaN            Haha tui cungz thích cảm giác phơi nắng   \n",
       "1            NaN  Quach Ngan 🌍Mấy ae vào nhanh group bem ngoại h...   \n",
       "2            NaN                                         Hoàng Thúy   \n",
       "3            NaN                                     Uyên Uyên ấm 😂   \n",
       "4            NaN                           Phơi xong mặt nẻ toác ra   \n",
       "\n",
       "  comment_time                                      comment_image  \\\n",
       "0   2023-11-20                                                NaN   \n",
       "1   2023-11-20  https://scontent-sin6-2.xx.fbcdn.net/v/t39.308...   \n",
       "2   2023-11-19  https://scontent-sin6-2.xx.fbcdn.net/m1/v/t6/A...   \n",
       "3   2023-11-19                                                NaN   \n",
       "4   2023-11-20                                                NaN   \n",
       "\n",
       "  comment_reactors  comment_reactions  comment_reaction_count          post_id  \n",
       "0               []                NaN                     NaN  685638947004646  \n",
       "1               []                NaN                     NaN  685638947004646  \n",
       "2               []                NaN                     NaN  685638947004646  \n",
       "3               []                NaN                     NaN  685638947004646  \n",
       "4               []                NaN                     NaN  685638947004646  "
      ]
     },
     "execution_count": 3,
     "metadata": {},
     "output_type": "execute_result"
    }
   ],
   "source": [
    "comment_df.head()"
   ]
  },
  {
   "cell_type": "code",
   "execution_count": 4,
   "metadata": {},
   "outputs": [
    {
     "name": "stdout",
     "output_type": "stream",
     "text": [
      "<class 'pandas.core.frame.DataFrame'>\n",
      "RangeIndex: 49 entries, 0 to 48\n",
      "Data columns (total 13 columns):\n",
      " #   Column                  Non-Null Count  Dtype  \n",
      "---  ------                  --------------  -----  \n",
      " 0   comment_id              49 non-null     int64  \n",
      " 1   comment_url             49 non-null     object \n",
      " 2   commenter_id            49 non-null     int64  \n",
      " 3   commenter_url           49 non-null     object \n",
      " 4   commenter_name          49 non-null     object \n",
      " 5   commenter_meta          2 non-null      object \n",
      " 6   comment_text            49 non-null     object \n",
      " 7   comment_time            49 non-null     object \n",
      " 8   comment_image           25 non-null     object \n",
      " 9   comment_reactors        49 non-null     object \n",
      " 10  comment_reactions       0 non-null      float64\n",
      " 11  comment_reaction_count  0 non-null      float64\n",
      " 12  post_id                 49 non-null     int64  \n",
      "dtypes: float64(2), int64(3), object(8)\n",
      "memory usage: 5.1+ KB\n"
     ]
    }
   ],
   "source": [
    "comment_df.info()"
   ]
  },
  {
   "cell_type": "markdown",
   "metadata": {},
   "source": [
    "### Check missing data"
   ]
  },
  {
   "cell_type": "code",
   "execution_count": 5,
   "metadata": {},
   "outputs": [
    {
     "data": {
      "text/html": [
       "<div>\n",
       "<style scoped>\n",
       "    .dataframe tbody tr th:only-of-type {\n",
       "        vertical-align: middle;\n",
       "    }\n",
       "\n",
       "    .dataframe tbody tr th {\n",
       "        vertical-align: top;\n",
       "    }\n",
       "\n",
       "    .dataframe thead th {\n",
       "        text-align: right;\n",
       "    }\n",
       "</style>\n",
       "<table border=\"1\" class=\"dataframe\">\n",
       "  <thead>\n",
       "    <tr style=\"text-align: right;\">\n",
       "      <th></th>\n",
       "      <th>Columns</th>\n",
       "      <th>Missing Data</th>\n",
       "      <th>Percentage</th>\n",
       "    </tr>\n",
       "  </thead>\n",
       "  <tbody>\n",
       "    <tr>\n",
       "      <th>0</th>\n",
       "      <td>comment_id</td>\n",
       "      <td>0</td>\n",
       "      <td>0.00</td>\n",
       "    </tr>\n",
       "    <tr>\n",
       "      <th>1</th>\n",
       "      <td>comment_url</td>\n",
       "      <td>0</td>\n",
       "      <td>0.00</td>\n",
       "    </tr>\n",
       "    <tr>\n",
       "      <th>2</th>\n",
       "      <td>commenter_id</td>\n",
       "      <td>0</td>\n",
       "      <td>0.00</td>\n",
       "    </tr>\n",
       "    <tr>\n",
       "      <th>3</th>\n",
       "      <td>commenter_url</td>\n",
       "      <td>0</td>\n",
       "      <td>0.00</td>\n",
       "    </tr>\n",
       "    <tr>\n",
       "      <th>4</th>\n",
       "      <td>commenter_name</td>\n",
       "      <td>0</td>\n",
       "      <td>0.00</td>\n",
       "    </tr>\n",
       "    <tr>\n",
       "      <th>5</th>\n",
       "      <td>commenter_meta</td>\n",
       "      <td>47</td>\n",
       "      <td>95.92</td>\n",
       "    </tr>\n",
       "    <tr>\n",
       "      <th>6</th>\n",
       "      <td>comment_text</td>\n",
       "      <td>0</td>\n",
       "      <td>0.00</td>\n",
       "    </tr>\n",
       "    <tr>\n",
       "      <th>7</th>\n",
       "      <td>comment_time</td>\n",
       "      <td>0</td>\n",
       "      <td>0.00</td>\n",
       "    </tr>\n",
       "    <tr>\n",
       "      <th>8</th>\n",
       "      <td>comment_image</td>\n",
       "      <td>24</td>\n",
       "      <td>48.98</td>\n",
       "    </tr>\n",
       "    <tr>\n",
       "      <th>9</th>\n",
       "      <td>comment_reactors</td>\n",
       "      <td>0</td>\n",
       "      <td>0.00</td>\n",
       "    </tr>\n",
       "    <tr>\n",
       "      <th>10</th>\n",
       "      <td>comment_reactions</td>\n",
       "      <td>49</td>\n",
       "      <td>100.00</td>\n",
       "    </tr>\n",
       "    <tr>\n",
       "      <th>11</th>\n",
       "      <td>comment_reaction_count</td>\n",
       "      <td>49</td>\n",
       "      <td>100.00</td>\n",
       "    </tr>\n",
       "    <tr>\n",
       "      <th>12</th>\n",
       "      <td>post_id</td>\n",
       "      <td>0</td>\n",
       "      <td>0.00</td>\n",
       "    </tr>\n",
       "  </tbody>\n",
       "</table>\n",
       "</div>"
      ],
      "text/plain": [
       "                   Columns  Missing Data  Percentage\n",
       "0               comment_id             0        0.00\n",
       "1              comment_url             0        0.00\n",
       "2             commenter_id             0        0.00\n",
       "3            commenter_url             0        0.00\n",
       "4           commenter_name             0        0.00\n",
       "5           commenter_meta            47       95.92\n",
       "6             comment_text             0        0.00\n",
       "7             comment_time             0        0.00\n",
       "8            comment_image            24       48.98\n",
       "9         comment_reactors             0        0.00\n",
       "10       comment_reactions            49      100.00\n",
       "11  comment_reaction_count            49      100.00\n",
       "12                 post_id             0        0.00"
      ]
     },
     "execution_count": 5,
     "metadata": {},
     "output_type": "execute_result"
    }
   ],
   "source": [
    "missing_data = []\n",
    "percentage_data = []\n",
    "\n",
    "for i in comment_df.columns:\n",
    "    missing_count = comment_df[i].isnull().sum()\n",
    "    percentage = missing_count / len(comment_df) * 100\n",
    "    missing_data.append(missing_count)\n",
    "    percentage_data.append(percentage)\n",
    "\n",
    "data = {'Columns': comment_df.columns, 'Missing Data': missing_data, 'Percentage': percentage_data}\n",
    "df_summary = pd.DataFrame(data)\n",
    "df_summary['Percentage'] = df_summary['Percentage'].round(2)\n",
    "df_summary\n"
   ]
  },
  {
   "cell_type": "markdown",
   "metadata": {},
   "source": [
    "Plot a heatmap to visualize missing data"
   ]
  },
  {
   "cell_type": "code",
   "execution_count": 6,
   "metadata": {},
   "outputs": [
    {
     "data": {
      "image/png": "[encoded data removed]",
      "text/plain": [
       "<Figure size 500x500 with 1 Axes>"
      ]
     },
     "metadata": {},
     "output_type": "display_data"
    }
   ],
   "source": [
    "plt.figure(figsize=(5, 5))\n",
    "sns.heatmap(comment_df.isnull(), cbar=False, cmap='binary', yticklabels=False);"
   ]
  },
  {
   "cell_type": "markdown",
   "metadata": {},
   "source": [
    "### Drop columns: \"comment_reactions\", \"comment_reaction_count\", as all data in these are NaN or Null"
   ]
  },
  {
   "cell_type": "code",
   "execution_count": 7,
   "metadata": {},
   "outputs": [],
   "source": [
    "comment_df.drop(columns=['comment_reaction_count', 'comment_reactions'], inplace=True)"
   ]
  },
  {
   "cell_type": "code",
   "execution_count": 8,
   "metadata": {},
   "outputs": [
    {
     "data": {
      "text/plain": [
       "comment_reactors\n",
       "[]    49\n",
       "Name: count, dtype: int64"
      ]
     },
     "execution_count": 8,
     "metadata": {},
     "output_type": "execute_result"
    }
   ],
   "source": [
    "comment_df['comment_reactors'].value_counts()"
   ]
  },
  {
   "cell_type": "markdown",
   "metadata": {},
   "source": [
    "### Tất cả dữ liệu trong cột 'comment_reactors' đều là list rỗng."
   ]
  },
  {
   "cell_type": "code",
   "execution_count": 9,
   "metadata": {},
   "outputs": [],
   "source": [
    "comment_df.drop(columns=['comment_reactors'], inplace=True)"
   ]
  },
  {
   "cell_type": "code",
   "execution_count": 10,
   "metadata": {},
   "outputs": [
    {
     "data": {
      "text/html": [
       "<div>\n",
       "<style scoped>\n",
       "    .dataframe tbody tr th:only-of-type {\n",
       "        vertical-align: middle;\n",
       "    }\n",
       "\n",
       "    .dataframe tbody tr th {\n",
       "        vertical-align: top;\n",
       "    }\n",
       "\n",
       "    .dataframe thead th {\n",
       "        text-align: right;\n",
       "    }\n",
       "</style>\n",
       "<table border=\"1\" class=\"dataframe\">\n",
       "  <thead>\n",
       "    <tr style=\"text-align: right;\">\n",
       "      <th></th>\n",
       "      <th>comment_id</th>\n",
       "      <th>comment_url</th>\n",
       "      <th>commenter_id</th>\n",
       "      <th>commenter_url</th>\n",
       "      <th>commenter_name</th>\n",
       "      <th>commenter_meta</th>\n",
       "      <th>comment_text</th>\n",
       "      <th>comment_time</th>\n",
       "      <th>comment_image</th>\n",
       "      <th>post_id</th>\n",
       "    </tr>\n",
       "  </thead>\n",
       "  <tbody>\n",
       "    <tr>\n",
       "      <th>0</th>\n",
       "      <td>837711471436622</td>\n",
       "      <td>https://facebook.com/837711471436622</td>\n",
       "      <td>100000070123283</td>\n",
       "      <td>https://facebook.com/NganQuach3005?eav=AfbEHdv...</td>\n",
       "      <td>Quach Ngan</td>\n",
       "      <td>NaN</td>\n",
       "      <td>Haha tui cungz thích cảm giác phơi nắng</td>\n",
       "      <td>2023-11-20</td>\n",
       "      <td>NaN</td>\n",
       "      <td>685638947004646</td>\n",
       "    </tr>\n",
       "    <tr>\n",
       "      <th>1</th>\n",
       "      <td>1384359865797542</td>\n",
       "      <td>https://facebook.com/1384359865797542</td>\n",
       "      <td>100009632385831</td>\n",
       "      <td>https://facebook.com/mesa.missyou?eav=Afb7sjj6...</td>\n",
       "      <td>Nguyễn Nguyễn Lường</td>\n",
       "      <td>NaN</td>\n",
       "      <td>Quach Ngan 🌍Mấy ae vào nhanh group bem ngoại h...</td>\n",
       "      <td>2023-11-20</td>\n",
       "      <td>https://scontent-sin6-2.xx.fbcdn.net/v/t39.308...</td>\n",
       "      <td>685638947004646</td>\n",
       "    </tr>\n",
       "    <tr>\n",
       "      <th>2</th>\n",
       "      <td>3619522008291568</td>\n",
       "      <td>https://facebook.com/3619522008291568</td>\n",
       "      <td>100014736247838</td>\n",
       "      <td>https://facebook.com/profile.php?id=1000147362...</td>\n",
       "      <td>Uyên Uyên</td>\n",
       "      <td>NaN</td>\n",
       "      <td>Hoàng Thúy</td>\n",
       "      <td>2023-11-19</td>\n",
       "      <td>https://scontent-sin6-2.xx.fbcdn.net/m1/v/t6/A...</td>\n",
       "      <td>685638947004646</td>\n",
       "    </tr>\n",
       "    <tr>\n",
       "      <th>3</th>\n",
       "      <td>844274764149865</td>\n",
       "      <td>https://facebook.com/844274764149865</td>\n",
       "      <td>100004673858376</td>\n",
       "      <td>https://facebook.com/muahe.tuyet.3386?eav=AfZq...</td>\n",
       "      <td>Hoàng Thúy</td>\n",
       "      <td>NaN</td>\n",
       "      <td>Uyên Uyên ấm 😂</td>\n",
       "      <td>2023-11-19</td>\n",
       "      <td>NaN</td>\n",
       "      <td>685638947004646</td>\n",
       "    </tr>\n",
       "    <tr>\n",
       "      <th>4</th>\n",
       "      <td>1824300658024919</td>\n",
       "      <td>https://facebook.com/1824300658024919</td>\n",
       "      <td>1851850359</td>\n",
       "      <td>https://facebook.com/profile.php?id=1851850359...</td>\n",
       "      <td>An Hồng Nhung</td>\n",
       "      <td>NaN</td>\n",
       "      <td>Phơi xong mặt nẻ toác ra</td>\n",
       "      <td>2023-11-20</td>\n",
       "      <td>NaN</td>\n",
       "      <td>685638947004646</td>\n",
       "    </tr>\n",
       "  </tbody>\n",
       "</table>\n",
       "</div>"
      ],
      "text/plain": [
       "         comment_id                            comment_url     commenter_id  \\\n",
       "0   837711471436622   https://facebook.com/837711471436622  100000070123283   \n",
       "1  1384359865797542  https://facebook.com/1384359865797542  100009632385831   \n",
       "2  3619522008291568  https://facebook.com/3619522008291568  100014736247838   \n",
       "3   844274764149865   https://facebook.com/844274764149865  100004673858376   \n",
       "4  1824300658024919  https://facebook.com/1824300658024919       1851850359   \n",
       "\n",
       "                                       commenter_url       commenter_name  \\\n",
       "0  https://facebook.com/NganQuach3005?eav=AfbEHdv...           Quach Ngan   \n",
       "1  https://facebook.com/mesa.missyou?eav=Afb7sjj6...  Nguyễn Nguyễn Lường   \n",
       "2  https://facebook.com/profile.php?id=1000147362...            Uyên Uyên   \n",
       "3  https://facebook.com/muahe.tuyet.3386?eav=AfZq...           Hoàng Thúy   \n",
       "4  https://facebook.com/profile.php?id=1851850359...        An Hồng Nhung   \n",
       "\n",
       "  commenter_meta                                       comment_text  \\\n",
       "0            NaN            Haha tui cungz thích cảm giác phơi nắng   \n",
       "1            NaN  Quach Ngan 🌍Mấy ae vào nhanh group bem ngoại h...   \n",
       "2            NaN                                         Hoàng Thúy   \n",
       "3            NaN                                     Uyên Uyên ấm 😂   \n",
       "4            NaN                           Phơi xong mặt nẻ toác ra   \n",
       "\n",
       "  comment_time                                      comment_image  \\\n",
       "0   2023-11-20                                                NaN   \n",
       "1   2023-11-20  https://scontent-sin6-2.xx.fbcdn.net/v/t39.308...   \n",
       "2   2023-11-19  https://scontent-sin6-2.xx.fbcdn.net/m1/v/t6/A...   \n",
       "3   2023-11-19                                                NaN   \n",
       "4   2023-11-20                                                NaN   \n",
       "\n",
       "           post_id  \n",
       "0  685638947004646  \n",
       "1  685638947004646  \n",
       "2  685638947004646  \n",
       "3  685638947004646  \n",
       "4  685638947004646  "
      ]
     },
     "execution_count": 10,
     "metadata": {},
     "output_type": "execute_result"
    }
   ],
   "source": [
    "comment_df.head()"
   ]
  },
  {
   "cell_type": "code",
   "execution_count": 11,
   "metadata": {},
   "outputs": [],
   "source": [
    "comment_df['comment_image'].fillna('', inplace=True)\n",
    "comment_df['commenter_meta'].fillna('', inplace=True)"
   ]
  },
  {
   "cell_type": "code",
   "execution_count": 14,
   "metadata": {},
   "outputs": [
    {
     "data": {
      "text/plain": [
       "post_id\n",
       "685638947004646    31\n",
       "685111467057394    14\n",
       "685577330344141     4\n",
       "Name: count, dtype: int64"
      ]
     },
     "execution_count": 14,
     "metadata": {},
     "output_type": "execute_result"
    }
   ],
   "source": [
    "comment_df['post_id'].value_counts()"
   ]
  },
  {
   "cell_type": "code",
   "execution_count": 13,
   "metadata": {},
   "outputs": [
    {
     "data": {
      "text/html": [
       "<div>\n",
       "<style scoped>\n",
       "    .dataframe tbody tr th:only-of-type {\n",
       "        vertical-align: middle;\n",
       "    }\n",
       "\n",
       "    .dataframe tbody tr th {\n",
       "        vertical-align: top;\n",
       "    }\n",
       "\n",
       "    .dataframe thead th {\n",
       "        text-align: right;\n",
       "    }\n",
       "</style>\n",
       "<table border=\"1\" class=\"dataframe\">\n",
       "  <thead>\n",
       "    <tr style=\"text-align: right;\">\n",
       "      <th></th>\n",
       "      <th>comment_id</th>\n",
       "      <th>comment_url</th>\n",
       "      <th>commenter_id</th>\n",
       "      <th>commenter_url</th>\n",
       "      <th>commenter_name</th>\n",
       "      <th>commenter_meta</th>\n",
       "      <th>comment_text</th>\n",
       "      <th>comment_time</th>\n",
       "      <th>comment_image</th>\n",
       "      <th>post_id</th>\n",
       "    </tr>\n",
       "  </thead>\n",
       "  <tbody>\n",
       "    <tr>\n",
       "      <th>0</th>\n",
       "      <td>837711471436622</td>\n",
       "      <td>https://facebook.com/837711471436622</td>\n",
       "      <td>100000070123283</td>\n",
       "      <td>https://facebook.com/NganQuach3005?eav=AfbEHdv...</td>\n",
       "      <td>Quach Ngan</td>\n",
       "      <td></td>\n",
       "      <td>Haha tui cungz thích cảm giác phơi nắng</td>\n",
       "      <td>2023-11-20</td>\n",
       "      <td></td>\n",
       "      <td>685638947004646</td>\n",
       "    </tr>\n",
       "    <tr>\n",
       "      <th>1</th>\n",
       "      <td>1384359865797542</td>\n",
       "      <td>https://facebook.com/1384359865797542</td>\n",
       "      <td>100009632385831</td>\n",
       "      <td>https://facebook.com/mesa.missyou?eav=Afb7sjj6...</td>\n",
       "      <td>Nguyễn Nguyễn Lường</td>\n",
       "      <td></td>\n",
       "      <td>Quach Ngan 🌍Mấy ae vào nhanh group bem ngoại h...</td>\n",
       "      <td>2023-11-20</td>\n",
       "      <td>https://scontent-sin6-2.xx.fbcdn.net/v/t39.308...</td>\n",
       "      <td>685638947004646</td>\n",
       "    </tr>\n",
       "    <tr>\n",
       "      <th>2</th>\n",
       "      <td>3619522008291568</td>\n",
       "      <td>https://facebook.com/3619522008291568</td>\n",
       "      <td>100014736247838</td>\n",
       "      <td>https://facebook.com/profile.php?id=1000147362...</td>\n",
       "      <td>Uyên Uyên</td>\n",
       "      <td></td>\n",
       "      <td>Hoàng Thúy</td>\n",
       "      <td>2023-11-19</td>\n",
       "      <td>https://scontent-sin6-2.xx.fbcdn.net/m1/v/t6/A...</td>\n",
       "      <td>685638947004646</td>\n",
       "    </tr>\n",
       "    <tr>\n",
       "      <th>3</th>\n",
       "      <td>844274764149865</td>\n",
       "      <td>https://facebook.com/844274764149865</td>\n",
       "      <td>100004673858376</td>\n",
       "      <td>https://facebook.com/muahe.tuyet.3386?eav=AfZq...</td>\n",
       "      <td>Hoàng Thúy</td>\n",
       "      <td></td>\n",
       "      <td>Uyên Uyên ấm 😂</td>\n",
       "      <td>2023-11-19</td>\n",
       "      <td></td>\n",
       "      <td>685638947004646</td>\n",
       "    </tr>\n",
       "    <tr>\n",
       "      <th>4</th>\n",
       "      <td>1824300658024919</td>\n",
       "      <td>https://facebook.com/1824300658024919</td>\n",
       "      <td>1851850359</td>\n",
       "      <td>https://facebook.com/profile.php?id=1851850359...</td>\n",
       "      <td>An Hồng Nhung</td>\n",
       "      <td></td>\n",
       "      <td>Phơi xong mặt nẻ toác ra</td>\n",
       "      <td>2023-11-20</td>\n",
       "      <td></td>\n",
       "      <td>685638947004646</td>\n",
       "    </tr>\n",
       "  </tbody>\n",
       "</table>\n",
       "</div>"
      ],
      "text/plain": [
       "         comment_id                            comment_url     commenter_id  \\\n",
       "0   837711471436622   https://facebook.com/837711471436622  100000070123283   \n",
       "1  1384359865797542  https://facebook.com/1384359865797542  100009632385831   \n",
       "2  3619522008291568  https://facebook.com/3619522008291568  100014736247838   \n",
       "3   844274764149865   https://facebook.com/844274764149865  100004673858376   \n",
       "4  1824300658024919  https://facebook.com/1824300658024919       1851850359   \n",
       "\n",
       "                                       commenter_url       commenter_name  \\\n",
       "0  https://facebook.com/NganQuach3005?eav=AfbEHdv...           Quach Ngan   \n",
       "1  https://facebook.com/mesa.missyou?eav=Afb7sjj6...  Nguyễn Nguyễn Lường   \n",
       "2  https://facebook.com/profile.php?id=1000147362...            Uyên Uyên   \n",
       "3  https://facebook.com/muahe.tuyet.3386?eav=AfZq...           Hoàng Thúy   \n",
       "4  https://facebook.com/profile.php?id=1851850359...        An Hồng Nhung   \n",
       "\n",
       "  commenter_meta                                       comment_text  \\\n",
       "0                           Haha tui cungz thích cảm giác phơi nắng   \n",
       "1                 Quach Ngan 🌍Mấy ae vào nhanh group bem ngoại h...   \n",
       "2                                                        Hoàng Thúy   \n",
       "3                                                    Uyên Uyên ấm 😂   \n",
       "4                                          Phơi xong mặt nẻ toác ra   \n",
       "\n",
       "  comment_time                                      comment_image  \\\n",
       "0   2023-11-20                                                      \n",
       "1   2023-11-20  https://scontent-sin6-2.xx.fbcdn.net/v/t39.308...   \n",
       "2   2023-11-19  https://scontent-sin6-2.xx.fbcdn.net/m1/v/t6/A...   \n",
       "3   2023-11-19                                                      \n",
       "4   2023-11-20                                                      \n",
       "\n",
       "           post_id  \n",
       "0  685638947004646  \n",
       "1  685638947004646  \n",
       "2  685638947004646  \n",
       "3  685638947004646  \n",
       "4  685638947004646  "
      ]
     },
     "execution_count": 13,
     "metadata": {},
     "output_type": "execute_result"
    }
   ],
   "source": [
    "comment_df.head()"
   ]
  },
  {
   "cell_type": "code",
   "execution_count": null,
   "metadata": {},
   "outputs": [],
   "source": [
    "# comment_df.to_csv(os.path.join('data', 'vebay69', 'clean', 'comments_full.csv'), index=False)"
   ]
  },
  {
   "cell_type": "code",
   "execution_count": null,
   "metadata": {},
   "outputs": [],
   "source": [
    "comment_df.shape"
   ]
  }
 ],
 "metadata": {
  "kernelspec": {
   "display_name": "py3108",
   "language": "python",
   "name": "python3"
  },
  "language_info": {
   "codemirror_mode": {
    "name": "ipython",
    "version": 3
   },
   "file_extension": ".py",
   "mimetype": "text/x-python",
   "name": "python",
   "nbconvert_exporter": "python",
   "pygments_lexer": "ipython3",
   "version": "3.10.8"
  }
 },
 "nbformat": 4,
 "nbformat_minor": 2
}
