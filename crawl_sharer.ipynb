{
 "cells": [
  {
   "cell_type": "code",
   "execution_count": 1,
   "metadata": {},
   "outputs": [],
   "source": [
    "import lib.facebook_scraper as fs\n",
    "import lib.utils as utils\n",
    "import pandas as pd\n",
    "import numpy as np\n",
    "import os"
   ]
  },
  {
   "cell_type": "code",
   "execution_count": 2,
   "metadata": {},
   "outputs": [
    {
     "data": {
      "text/html": [
       "<div>\n",
       "<style scoped>\n",
       "    .dataframe tbody tr th:only-of-type {\n",
       "        vertical-align: middle;\n",
       "    }\n",
       "\n",
       "    .dataframe tbody tr th {\n",
       "        vertical-align: top;\n",
       "    }\n",
       "\n",
       "    .dataframe thead th {\n",
       "        text-align: right;\n",
       "    }\n",
       "</style>\n",
       "<table border=\"1\" class=\"dataframe\">\n",
       "  <thead>\n",
       "    <tr style=\"text-align: right;\">\n",
       "      <th></th>\n",
       "      <th>post_id</th>\n",
       "    </tr>\n",
       "  </thead>\n",
       "  <tbody>\n",
       "    <tr>\n",
       "      <th>0</th>\n",
       "      <td>685638947004646</td>\n",
       "    </tr>\n",
       "    <tr>\n",
       "      <th>1</th>\n",
       "      <td>685577330344141</td>\n",
       "    </tr>\n",
       "    <tr>\n",
       "      <th>2</th>\n",
       "      <td>685111467057394</td>\n",
       "    </tr>\n",
       "    <tr>\n",
       "      <th>3</th>\n",
       "      <td>684686633766544</td>\n",
       "    </tr>\n",
       "    <tr>\n",
       "      <th>4</th>\n",
       "      <td>684603707108170</td>\n",
       "    </tr>\n",
       "  </tbody>\n",
       "</table>\n",
       "</div>"
      ],
      "text/plain": [
       "           post_id\n",
       "0  685638947004646\n",
       "1  685577330344141\n",
       "2  685111467057394\n",
       "3  684686633766544\n",
       "4  684603707108170"
      ]
     },
     "execution_count": 2,
     "metadata": {},
     "output_type": "execute_result"
    }
   ],
   "source": [
    "post_ids_df = pd.read_csv('data/vebay69/clean/post_ids.csv')\n",
    "post_ids_df.head()"
   ]
  },
  {
   "cell_type": "code",
   "execution_count": 3,
   "metadata": {},
   "outputs": [],
   "source": [
    "index_post_id_file_path = os.path.join('data','vebay69','url','i_post_id_share.txt')"
   ]
  },
  {
   "cell_type": "code",
   "execution_count": 4,
   "metadata": {},
   "outputs": [],
   "source": [
    "def extract_sharer(sharers, post_id):\n",
    "    cnt_sharer = 0\n",
    "    global sharer_list\n",
    "    for sharer in sharers:\n",
    "        sharer['post_id'] = post_id\n",
    "        sharer_list.append(sharer)\n",
    "        cnt_sharer += 1\n",
    "        # time.sleep(np.random.uniform(0, 1))\n",
    "    return cnt_sharer"
   ]
  },
  {
   "cell_type": "markdown",
   "metadata": {},
   "source": [
    "## Rerun with change cookie"
   ]
  },
  {
   "cell_type": "code",
   "execution_count": 5,
   "metadata": {},
   "outputs": [],
   "source": [
    "fs.set_cookies('./cookies/cookie_1.txt')\n",
    "# fs.enable_logging()"
   ]
  },
  {
   "cell_type": "markdown",
   "metadata": {},
   "source": [
    "## Rerun"
   ]
  },
  {
   "cell_type": "code",
   "execution_count": 6,
   "metadata": {},
   "outputs": [],
   "source": [
    "NUMBER_POST = 100\n",
    "post_list = []\n",
    "sharer_list = []\n",
    "total_sharer_real = 0"
   ]
  },
  {
   "cell_type": "code",
   "execution_count": 7,
   "metadata": {},
   "outputs": [
    {
     "name": "stdout",
     "output_type": "stream",
     "text": [
      "903\n"
     ]
    },
    {
     "data": {
      "text/plain": [
       "[5271694419617373,\n",
       " 5271402066313275,\n",
       " 5271002853019863,\n",
       " 5269137123206436,\n",
       " 5266711463449002,\n",
       " 5263709253749223,\n",
       " 5262746583845490]"
      ]
     },
     "execution_count": 7,
     "metadata": {},
     "output_type": "execute_result"
    }
   ],
   "source": [
    "index_post_id = utils.read_index_file(file_path=index_post_id_file_path)\n",
    "print(index_post_id)\n",
    "posts_ids = utils.get_post_id_list(df=post_ids_df, start=index_post_id, length=NUMBER_POST)\n",
    "posts_ids"
   ]
  },
  {
   "cell_type": "code",
   "execution_count": 8,
   "metadata": {},
   "outputs": [
    {
     "name": "stderr",
     "output_type": "stream",
     "text": [
      "/workspaces/analyze-facebook-page/lib/facebook_scraper/facebook_scraper.py:912: UserWarning: Facebook says 'Unsupported Browser'\n",
      "  warnings.warn(f\"Facebook says 'Unsupported Browser'\")\n"
     ]
    },
    {
     "name": "stdout",
     "output_type": "stream",
     "text": [
      "{'original_request_url': 5271694419617373, 'post_url': 'https://facebook.com/story.php?story_fbid=pfbid02p1N154im5UZS7jDi6kKZs9n1c3rHpoznnLV7wXD9jKSyif92V6Z3Dewfz3LVN318l&id=772954189491441', 'post_id': 'pfbid02p1N154im5UZS7jDi6kKZs9n1c3rHpoznnLV7wXD9jKSyif92V6Z3Dewfz3LVN318l', 'text': 'Tôi đen quá\\n#Lìquầnxòi', 'post_text': 'Tôi đen quá\\n#Lìquầnxòi', 'shared_text': '', 'original_text': None, 'time': datetime.datetime(2022, 5, 9, 10, 32, 5), 'timestamp': 1652092325, 'image': 'https://scontent-sin6-2.xx.fbcdn.net/v/t39.30808-6/280499748_5271694172950731_814888226898842408_n.png?_nc_cat=105&ccb=1-7&_nc_sid=5f2048&efg=eyJpIjoidCJ9&_nc_eui2=AeFDfBOuH429NU7p7MxuA27C3jN0Ij3Ef9XeM3QiPcR_1bqhA-x6ldL1iDCXvW9hBuLI3pWxEoKf6FfAxAihtvbN&_nc_ohc=y3Oin2ZSxwAAX9lpCCm&_nc_ht=scontent-sin6-2.xx&cb_e2o_trans=q&oh=00_AfDMPrh-8po8t0KLT0YvvZ32QxZRhDPWwLzWZcbBhNDM2g&oe=65688EA4', 'image_lowquality': 'https://scontent-sin6-2.xx.fbcdn.net/v/t39.30808-6/280499748_5271694172950731_814888226898842408_n.png?stp=dst-png_s320x320&_nc_cat=105&ccb=1-7&_nc_sid=5f2048&efg=eyJpIjoidCJ9&_nc_eui2=AeFDfBOuH429NU7p7MxuA27C3jN0Ij3Ef9XeM3QiPcR_1bqhA-x6ldL1iDCXvW9hBuLI3pWxEoKf6FfAxAihtvbN&_nc_ohc=y3Oin2ZSxwAAX9lpCCm&_nc_ht=scontent-sin6-2.xx&cb_e2o_trans=q&oh=00_AfC9zjPbP8mRVI4AgjOxiyadGOtaCzXWUvfZjiwC48ZvOQ&oe=65688EA4', 'images': ['https://scontent-sin6-2.xx.fbcdn.net/v/t39.30808-6/280499748_5271694172950731_814888226898842408_n.png?_nc_cat=105&ccb=1-7&_nc_sid=5f2048&efg=eyJpIjoidCJ9&_nc_eui2=AeFDfBOuH429NU7p7MxuA27C3jN0Ij3Ef9XeM3QiPcR_1bqhA-x6ldL1iDCXvW9hBuLI3pWxEoKf6FfAxAihtvbN&_nc_ohc=y3Oin2ZSxwAAX9lpCCm&_nc_ht=scontent-sin6-2.xx&cb_e2o_trans=q&oh=00_AfDMPrh-8po8t0KLT0YvvZ32QxZRhDPWwLzWZcbBhNDM2g&oe=65688EA4'], 'images_description': ['No photo description available.'], 'images_lowquality': ['https://scontent-sin6-2.xx.fbcdn.net/v/t39.30808-6/280499748_5271694172950731_814888226898842408_n.png?stp=dst-png_s320x320&_nc_cat=105&ccb=1-7&_nc_sid=5f2048&efg=eyJpIjoidCJ9&_nc_eui2=AeFDfBOuH429NU7p7MxuA27C3jN0Ij3Ef9XeM3QiPcR_1bqhA-x6ldL1iDCXvW9hBuLI3pWxEoKf6FfAxAihtvbN&_nc_ohc=y3Oin2ZSxwAAX9lpCCm&_nc_ht=scontent-sin6-2.xx&cb_e2o_trans=q&oh=00_AfC9zjPbP8mRVI4AgjOxiyadGOtaCzXWUvfZjiwC48ZvOQ&oe=65688EA4'], 'images_lowquality_description': ['No photo description available.'], 'video': None, 'video_duration_seconds': None, 'video_height': None, 'video_id': None, 'video_quality': None, 'video_size_MB': None, 'video_thumbnail': None, 'video_watches': None, 'video_width': None, 'likes': 2800, 'comments': 377, 'shares': 48, 'link': None, 'links': [{'link': '/hashtag/lìquầnxòi?refid=52&__tn__=%2As-R&paipv=0&eav=AfbyXiiVhmRDv-e6_TLfcG78Un04gJo_I3EcQmsjncYpixXTRVXOyxAAwOvy6zbGr9Q', 'text': '#Lìquầnxòi'}, {'link': 'https://m.facebook.com/vebay69/photos/a.772957799491080/5271694196284062/?type=3&source=57&refid=52&__tn__=EH-R&paipv=0&eav=Afa6hBtUxRWCauq4rN6doIMuqm8zt2mr96TXmI7FfwiDF1dAkXiOyvXfZHeczGQE1z0', 'text': ''}], 'user_id': '772954189491441', 'username': 'Vẽ bậy', 'user_url': 'https://facebook.com/vebay69?refid=52&__tn__=C-R&paipv=0&eav=AfadWULwY4V_NFNb8MaMCf3Ieidlqfx58ijXpwKQTc7Yjpp6oFk0HvFekwvt9B6B1ls', 'is_live': False, 'factcheck': None, 'shared_post_id': None, 'shared_time': None, 'shared_user_id': None, 'shared_username': None, 'shared_post_url': None, 'available': True, 'comments_full': None, 'reactors': None, 'w3_fb_url': None, 'reactions': None, 'reaction_count': 2800, 'with': None, 'page_id': '772954189491441', 'sharers': <generator object PostExtractor.extract_sharers at 0x7f15eb5207b0>, 'image_id': '5271694196284062', 'image_ids': ['5271694196284062'], 'was_live': False}\n",
      "Extracted 16/48 sharers\n",
      "\tSleep 5 seconds\n",
      "{'original_request_url': 5271402066313275, 'post_url': 'https://facebook.com/story.php?story_fbid=pfbid0xsXQnSusGpMcKAqMCAH5vrs3pMgPAj5MFtiUyAyAxjVpAHoM4gCFCEeG3DtyDw4dl&id=772954189491441', 'post_id': 'pfbid0xsXQnSusGpMcKAqMCAH5vrs3pMgPAj5MFtiUyAyAxjVpAHoM4gCFCEeG3DtyDw4dl', 'text': 'Ná thở :)\\n#Panda', 'post_text': 'Ná thở :)\\n#Panda', 'shared_text': '', 'original_text': None, 'time': datetime.datetime(2022, 5, 9, 7, 46, 50), 'timestamp': 1652082410, 'image': 'https://scontent-sin6-4.xx.fbcdn.net/v/t39.30808-6/280539874_5271399226313559_7387483626797332611_n.jpg?stp=cp0_dst-jpg_e15_fr_q65&_nc_cat=100&ccb=1-7&_nc_sid=5f2048&efg=eyJpIjoidCJ9&_nc_eui2=AeEJWUtwkzQjfZR0eDlY26fvUfOgmZUdGSFR86CZlR0ZIbdprjTJRwrAECMP1VvjD-VaxgDty8W4GtN2YQk65EQ8&_nc_ohc=CIDZp_M1aCoAX_gYbsD&_nc_ht=scontent-sin6-4.xx&cb_e2o_trans=q&oh=00_AfDS4qAKuyHDhArkJ58C3t2xhkP-zF2_EQ-2BhtXQRCKkg&oe=6567FB0C', 'image_lowquality': 'https://scontent-sin6-4.xx.fbcdn.net/v/t39.30808-6/280539874_5271399226313559_7387483626797332611_n.jpg?stp=cp0_dst-jpg_e15_p320x320_q65&_nc_cat=100&ccb=1-7&_nc_sid=5f2048&efg=eyJpIjoidCJ9&_nc_eui2=AeEJWUtwkzQjfZR0eDlY26fvUfOgmZUdGSFR86CZlR0ZIbdprjTJRwrAECMP1VvjD-VaxgDty8W4GtN2YQk65EQ8&_nc_ohc=CIDZp_M1aCoAX_gYbsD&_nc_ht=scontent-sin6-4.xx&cb_e2o_trans=q&oh=00_AfB0j3YnooyHT5Dn21vocTY0axD67_XcacS2KRZk9NzWoQ&oe=6567FB0C', 'images': ['https://scontent-sin6-4.xx.fbcdn.net/v/t39.30808-6/280539874_5271399226313559_7387483626797332611_n.jpg?stp=cp0_dst-jpg_e15_fr_q65&_nc_cat=100&ccb=1-7&_nc_sid=5f2048&efg=eyJpIjoidCJ9&_nc_eui2=AeEJWUtwkzQjfZR0eDlY26fvUfOgmZUdGSFR86CZlR0ZIbdprjTJRwrAECMP1VvjD-VaxgDty8W4GtN2YQk65EQ8&_nc_ohc=CIDZp_M1aCoAX_gYbsD&_nc_ht=scontent-sin6-4.xx&cb_e2o_trans=q&oh=00_AfDS4qAKuyHDhArkJ58C3t2xhkP-zF2_EQ-2BhtXQRCKkg&oe=6567FB0C'], 'images_description': ['No photo description available.'], 'images_lowquality': ['https://scontent-sin6-4.xx.fbcdn.net/v/t39.30808-6/280539874_5271399226313559_7387483626797332611_n.jpg?stp=cp0_dst-jpg_e15_p320x320_q65&_nc_cat=100&ccb=1-7&_nc_sid=5f2048&efg=eyJpIjoidCJ9&_nc_eui2=AeEJWUtwkzQjfZR0eDlY26fvUfOgmZUdGSFR86CZlR0ZIbdprjTJRwrAECMP1VvjD-VaxgDty8W4GtN2YQk65EQ8&_nc_ohc=CIDZp_M1aCoAX_gYbsD&_nc_ht=scontent-sin6-4.xx&cb_e2o_trans=q&oh=00_AfB0j3YnooyHT5Dn21vocTY0axD67_XcacS2KRZk9NzWoQ&oe=6567FB0C'], 'images_lowquality_description': ['No photo description available.'], 'video': None, 'video_duration_seconds': None, 'video_height': None, 'video_id': None, 'video_quality': None, 'video_size_MB': None, 'video_thumbnail': None, 'video_watches': None, 'video_width': None, 'likes': 4500, 'comments': 708, 'shares': 116, 'link': None, 'links': [{'link': '/hashtag/panda?refid=52&__tn__=%2As-R&paipv=0&eav=AfZ5LIBIFfckB1sppCHJGnm5C6ZvHkx36j7yLMYRhbRSnvycQXJzdCTNV7ZUOuyAy8c', 'text': '#Panda'}, {'link': 'https://m.facebook.com/vebay69/photos/a.772957799491080/5271399229646892/?type=3&av=61553949509240&eav=AfYkwr649Ii3GoHctjFHdYP83eefUDYe8mumaBSLonNVC4rxayKP9J9kGxOI2oBED9w&source=57&refid=52&__tn__=EH-R&paipv=0', 'text': ''}], 'user_id': '772954189491441', 'username': 'Vẽ bậy', 'user_url': 'https://facebook.com/vebay69?refid=52&__tn__=C-R&paipv=0&eav=AfbFNXfR3B0NGXAO4YvSSWVj_XEaF57AXWwy5lZ9Qoi1_7C8Yth7djvBqCR3fHIGlMA', 'is_live': False, 'factcheck': None, 'shared_post_id': None, 'shared_time': None, 'shared_user_id': None, 'shared_username': None, 'shared_post_url': None, 'available': True, 'comments_full': None, 'reactors': None, 'w3_fb_url': None, 'reactions': None, 'reaction_count': 4500, 'with': None, 'page_id': '772954189491441', 'sharers': <generator object PostExtractor.extract_sharers at 0x7f15eb1d83c0>, 'image_id': '5271399229646892', 'image_ids': ['5271399229646892'], 'was_live': False}\n",
      "Extracted 50/116 sharers\n",
      "\tSleep 6 seconds\n",
      "{'original_request_url': 5271002853019863, 'post_url': 'https://facebook.com/story.php?story_fbid=pfbid02TSu2E8mcDEa9yY8ir5TvBEn7Wx8fyLksU3UHkN6Hd9vMT8YLMGsaSxmv4d1akY3Sl&id=772954189491441', 'post_id': 'pfbid02TSu2E8mcDEa9yY8ir5TvBEn7Wx8fyLksU3UHkN6Hd9vMT8YLMGsaSxmv4d1akY3Sl', 'text': 'Chính tôi :)\\n#Panda', 'post_text': 'Chính tôi :)\\n#Panda', 'shared_text': '', 'original_text': None, 'time': datetime.datetime(2022, 5, 9, 4, 2, 31), 'timestamp': 1652068951, 'image': 'https://scontent-sin6-4.xx.fbcdn.net/v/t39.30808-6/280206914_5271002633019885_3914613833753819443_n.png?_nc_cat=103&ccb=1-7&_nc_sid=5f2048&efg=eyJpIjoidCJ9&_nc_eui2=AeFhQ8IfW6DYI9Jlh6sD5-xtEsQMLoDO01oSxAwugM7TWqoDM2OKf4ZtUMTjKl73NWTeaaN3lc7ttPf5UiAid8gE&_nc_ohc=tZH905VHdM8AX_sfWQy&_nc_ht=scontent-sin6-4.xx&cb_e2o_trans=q&oh=00_AfDdH1R1mflMgcFBulvbQmcu810AD68M5JrAZCNxtQENgw&oe=6567742C', 'image_lowquality': 'https://scontent-sin6-4.xx.fbcdn.net/v/t39.30808-6/280206914_5271002633019885_3914613833753819443_n.png?stp=dst-png_p320x320&_nc_cat=103&ccb=1-7&_nc_sid=5f2048&efg=eyJpIjoidCJ9&_nc_eui2=AeFhQ8IfW6DYI9Jlh6sD5-xtEsQMLoDO01oSxAwugM7TWqoDM2OKf4ZtUMTjKl73NWTeaaN3lc7ttPf5UiAid8gE&_nc_ohc=tZH905VHdM8AX_sfWQy&_nc_ht=scontent-sin6-4.xx&cb_e2o_trans=q&oh=00_AfAQbsEjCoBfko3cHfialZnWpSOd6Og6gT9CRWiQOChyIg&oe=6567742C', 'images': ['https://scontent-sin6-4.xx.fbcdn.net/v/t39.30808-6/280206914_5271002633019885_3914613833753819443_n.png?_nc_cat=103&ccb=1-7&_nc_sid=5f2048&efg=eyJpIjoidCJ9&_nc_eui2=AeFhQ8IfW6DYI9Jlh6sD5-xtEsQMLoDO01oSxAwugM7TWqoDM2OKf4ZtUMTjKl73NWTeaaN3lc7ttPf5UiAid8gE&_nc_ohc=tZH905VHdM8AX_sfWQy&_nc_ht=scontent-sin6-4.xx&cb_e2o_trans=q&oh=00_AfDdH1R1mflMgcFBulvbQmcu810AD68M5JrAZCNxtQENgw&oe=6567742C'], 'images_description': ['No photo description available.'], 'images_lowquality': ['https://scontent-sin6-4.xx.fbcdn.net/v/t39.30808-6/280206914_5271002633019885_3914613833753819443_n.png?stp=dst-png_p320x320&_nc_cat=103&ccb=1-7&_nc_sid=5f2048&efg=eyJpIjoidCJ9&_nc_eui2=AeFhQ8IfW6DYI9Jlh6sD5-xtEsQMLoDO01oSxAwugM7TWqoDM2OKf4ZtUMTjKl73NWTeaaN3lc7ttPf5UiAid8gE&_nc_ohc=tZH905VHdM8AX_sfWQy&_nc_ht=scontent-sin6-4.xx&cb_e2o_trans=q&oh=00_AfAQbsEjCoBfko3cHfialZnWpSOd6Og6gT9CRWiQOChyIg&oe=6567742C'], 'images_lowquality_description': ['No photo description available.'], 'video': None, 'video_duration_seconds': None, 'video_height': None, 'video_id': None, 'video_quality': None, 'video_size_MB': None, 'video_thumbnail': None, 'video_watches': None, 'video_width': None, 'likes': 1500, 'comments': 81, 'shares': 30, 'link': None, 'links': [{'link': '/hashtag/panda?refid=52&__tn__=%2As-R&paipv=0&eav=AfYsNP4pfpepYV0mSPYFqUL8mx3m4nk3BVF0CI1AcQdvJE9141e9ePiyw8UBwE9tkVM', 'text': '#Panda'}, {'link': 'https://m.facebook.com/vebay69/photos/a.772957799491080/5271002636353218/?type=3&av=61553949509240&eav=AfbZGJLwB7E7iepf4U6O_fko154InkNjUo-tlZzvov6TRUNtKUgSrcqxum1iLMcL2Hw&source=57&refid=52&__tn__=EH-R&paipv=0', 'text': ''}], 'user_id': '772954189491441', 'username': 'Vẽ bậy', 'user_url': 'https://facebook.com/vebay69?refid=52&__tn__=C-R&paipv=0&eav=AfZmCWb2WsykrjgvAFEX_Pk_-IF-T_KZm3IKVOaVoFnbNbqmlYZv_pmxvn80bgDRv78', 'is_live': False, 'factcheck': None, 'shared_post_id': None, 'shared_time': None, 'shared_user_id': None, 'shared_username': None, 'shared_post_url': None, 'available': True, 'comments_full': None, 'reactors': None, 'w3_fb_url': None, 'reactions': None, 'reaction_count': 1500, 'with': None, 'page_id': '772954189491441', 'sharers': <generator object PostExtractor.extract_sharers at 0x7f15eb39cba0>, 'image_id': '5271002636353218', 'image_ids': ['5271002636353218'], 'was_live': False}\n",
      "Extracted 7/30 sharers\n",
      "\tSleep 8 seconds\n",
      "{'original_request_url': 5269137123206436, 'post_url': 'https://facebook.com/story.php?story_fbid=pfbid0a4E5LiniDf9zubqpP8hLR8zWViHPbRBCrGQLPDiccvcD6ysRmpfNc7Zpg22xBsFFl&id=772954189491441', 'post_id': 'pfbid0a4E5LiniDf9zubqpP8hLR8zWViHPbRBCrGQLPDiccvcD6ysRmpfNc7Zpg22xBsFFl', 'text': \"Happy mother's day <3\\n#Lìquầnxòi\", 'post_text': \"Happy mother's day <3\\n#Lìquầnxòi\", 'shared_text': '', 'original_text': None, 'time': datetime.datetime(2022, 5, 8, 11, 52, 42), 'timestamp': 1652010762, 'image': 'https://scontent-sin6-2.xx.fbcdn.net/v/t39.30808-6/279852749_5269135943206554_2980115915103176318_n.jpg?stp=cp0_dst-jpg_e15_fr_q65&_nc_cat=109&ccb=1-7&_nc_sid=5f2048&efg=eyJpIjoidCJ9&_nc_eui2=AeE1risygjKh41X703DptqUopvrQHPGZR_im-tAc8ZlH-Cydx-J7gUamb8cRzTWQlfGhsVPeNwuSTHy0ge7MOhlK&_nc_ohc=26ixonHlJ-IAX9egN-f&_nc_ht=scontent-sin6-2.xx&cb_e2o_trans=q&oh=00_AfA2KrcNTMAlNN12fl8dew_BpjCsXUQIhc3U5GVNcgukag&oe=6567F06D', 'image_lowquality': 'https://scontent-sin6-2.xx.fbcdn.net/v/t39.30808-6/279852749_5269135943206554_2980115915103176318_n.jpg?stp=cp0_dst-jpg_e15_p320x320_q65&_nc_cat=109&ccb=1-7&_nc_sid=5f2048&efg=eyJpIjoidCJ9&_nc_eui2=AeE1risygjKh41X703DptqUopvrQHPGZR_im-tAc8ZlH-Cydx-J7gUamb8cRzTWQlfGhsVPeNwuSTHy0ge7MOhlK&_nc_ohc=26ixonHlJ-IAX9egN-f&_nc_ht=scontent-sin6-2.xx&cb_e2o_trans=q&oh=00_AfBwXWviRjDwKfgqnD0EoD8fNwBOUnqYvolDxfqT44QESw&oe=6567F06D', 'images': ['https://scontent-sin6-2.xx.fbcdn.net/v/t39.30808-6/279852749_5269135943206554_2980115915103176318_n.jpg?stp=cp0_dst-jpg_e15_fr_q65&_nc_cat=109&ccb=1-7&_nc_sid=5f2048&efg=eyJpIjoidCJ9&_nc_eui2=AeE1risygjKh41X703DptqUopvrQHPGZR_im-tAc8ZlH-Cydx-J7gUamb8cRzTWQlfGhsVPeNwuSTHy0ge7MOhlK&_nc_ohc=26ixonHlJ-IAX9egN-f&_nc_ht=scontent-sin6-2.xx&cb_e2o_trans=q&oh=00_AfA2KrcNTMAlNN12fl8dew_BpjCsXUQIhc3U5GVNcgukag&oe=6567F06D'], 'images_description': ['No photo description available.'], 'images_lowquality': ['https://scontent-sin6-2.xx.fbcdn.net/v/t39.30808-6/279852749_5269135943206554_2980115915103176318_n.jpg?stp=cp0_dst-jpg_e15_p320x320_q65&_nc_cat=109&ccb=1-7&_nc_sid=5f2048&efg=eyJpIjoidCJ9&_nc_eui2=AeE1risygjKh41X703DptqUopvrQHPGZR_im-tAc8ZlH-Cydx-J7gUamb8cRzTWQlfGhsVPeNwuSTHy0ge7MOhlK&_nc_ohc=26ixonHlJ-IAX9egN-f&_nc_ht=scontent-sin6-2.xx&cb_e2o_trans=q&oh=00_AfBwXWviRjDwKfgqnD0EoD8fNwBOUnqYvolDxfqT44QESw&oe=6567F06D'], 'images_lowquality_description': ['No photo description available.'], 'video': None, 'video_duration_seconds': None, 'video_height': None, 'video_id': None, 'video_quality': None, 'video_size_MB': None, 'video_thumbnail': None, 'video_watches': None, 'video_width': None, 'likes': 1300, 'comments': 23, 'shares': 9, 'link': None, 'links': [{'link': '/hashtag/lìquầnxòi?refid=52&__tn__=%2As-R&paipv=0&eav=AfZHi1uNYh8n6wfEvZu3vN-htBsNlBhxrTob8v3WCpLkO28APoVe73Bj8eHua6wKbz0', 'text': '#Lìquầnxòi'}, {'link': 'https://m.facebook.com/vebay69/photos/a.772957799491080/5269135959873219/?type=3&av=61553949509240&eav=AfbOPOSdJ8iLjHRin3wTHYZ3_VaVuCj8iLs3wCWHFDbSxmtSL9GGFqJpuEdyu2rYW98&source=57&refid=52&__tn__=EH-R&paipv=0', 'text': ''}], 'user_id': '772954189491441', 'username': 'Vẽ bậy', 'user_url': 'https://facebook.com/vebay69?refid=52&__tn__=C-R&paipv=0&eav=AfZ5zJrO2euAZFoZEPkrbitevd2Ui_f8Gbp6wfTf0aKkErAylC_CIEjF46d9paJpIgM', 'is_live': False, 'factcheck': None, 'shared_post_id': None, 'shared_time': None, 'shared_user_id': None, 'shared_username': None, 'shared_post_url': None, 'available': True, 'comments_full': None, 'reactors': None, 'w3_fb_url': None, 'reactions': None, 'reaction_count': 1300, 'with': None, 'page_id': '772954189491441', 'sharers': <generator object PostExtractor.extract_sharers at 0x7f15eb533610>, 'image_id': '5269135959873219', 'image_ids': ['5269135959873219'], 'was_live': False}\n",
      "Extracted 3/9 sharers\n",
      "\tSleep 5 seconds\n",
      "{'original_request_url': 5266711463449002, 'post_url': 'https://facebook.com/story.php?story_fbid=pfbid0reNFrE1B9uvsPNguq6uFUWn9w6sc8srspiKPVfnNkuW62ZDyHGfTSi9HiHb6geBTl&id=772954189491441', 'post_id': 'pfbid0reNFrE1B9uvsPNguq6uFUWn9w6sc8srspiKPVfnNkuW62ZDyHGfTSi9HiHb6geBTl', 'text': 'Nhìn bạn cũng C.h.i.ế.n đấy :)\\n#panda', 'post_text': 'Nhìn bạn cũng C.h.i.ế.n đấy :)\\n#panda', 'shared_text': '', 'original_text': None, 'time': datetime.datetime(2022, 5, 7, 15, 36, 30), 'timestamp': 1651937790, 'image': 'https://scontent-sin6-3.xx.fbcdn.net/v/t39.30808-6/279904025_5266710610115754_3521051081888443186_n.png?_nc_cat=106&ccb=1-7&_nc_sid=5f2048&efg=eyJpIjoidCJ9&_nc_eui2=AeH6jtJ0S04nWdfP4som9RbEMnloWW_wBPYyeWhZb_AE9oVjfW55FDuPqpkzJXrjKYxtZLFxvmMLZ_QC-AQkC5Ly&_nc_ohc=j_uKTYs-nkoAX-Rk84m&_nc_ht=scontent-sin6-3.xx&cb_e2o_trans=q&oh=00_AfAyi4Uqx2RC89cBb1tK__oee4kb7PWqz8FIef98kfyuOw&oe=6568E14F', 'image_lowquality': 'https://scontent-sin6-3.xx.fbcdn.net/v/t39.30808-6/279904025_5266710610115754_3521051081888443186_n.png?stp=dst-png_s320x320&_nc_cat=106&ccb=1-7&_nc_sid=5f2048&efg=eyJpIjoidCJ9&_nc_eui2=AeH6jtJ0S04nWdfP4som9RbEMnloWW_wBPYyeWhZb_AE9oVjfW55FDuPqpkzJXrjKYxtZLFxvmMLZ_QC-AQkC5Ly&_nc_ohc=j_uKTYs-nkoAX-Rk84m&_nc_ht=scontent-sin6-3.xx&cb_e2o_trans=q&oh=00_AfBitFtULx4_P5BEl_dg8sWygDk0heRj3A7vQIHqOmCopQ&oe=6568E14F', 'images': ['https://scontent-sin6-3.xx.fbcdn.net/v/t39.30808-6/279904025_5266710610115754_3521051081888443186_n.png?_nc_cat=106&ccb=1-7&_nc_sid=5f2048&efg=eyJpIjoidCJ9&_nc_eui2=AeH6jtJ0S04nWdfP4som9RbEMnloWW_wBPYyeWhZb_AE9oVjfW55FDuPqpkzJXrjKYxtZLFxvmMLZ_QC-AQkC5Ly&_nc_ohc=j_uKTYs-nkoAX-Rk84m&_nc_ht=scontent-sin6-3.xx&cb_e2o_trans=q&oh=00_AfAyi4Uqx2RC89cBb1tK__oee4kb7PWqz8FIef98kfyuOw&oe=6568E14F'], 'images_description': [\"Có thể là hình minh họa về văn bản cho biết 'Tôi muốn tuyển vệ sĩ Ông làngười mạnh nhất ở đây hả Chứ sao, tôi đây không trời, không sợ đất việc cũng dám làm Nhìn cũng khét đấy Thế có dám cởi trần rán cá không ×20 ×lo'\"], 'images_lowquality': ['https://scontent-sin6-3.xx.fbcdn.net/v/t39.30808-6/279904025_5266710610115754_3521051081888443186_n.png?stp=dst-png_s320x320&_nc_cat=106&ccb=1-7&_nc_sid=5f2048&efg=eyJpIjoidCJ9&_nc_eui2=AeH6jtJ0S04nWdfP4som9RbEMnloWW_wBPYyeWhZb_AE9oVjfW55FDuPqpkzJXrjKYxtZLFxvmMLZ_QC-AQkC5Ly&_nc_ohc=j_uKTYs-nkoAX-Rk84m&_nc_ht=scontent-sin6-3.xx&cb_e2o_trans=q&oh=00_AfBitFtULx4_P5BEl_dg8sWygDk0heRj3A7vQIHqOmCopQ&oe=6568E14F'], 'images_lowquality_description': [\"Có thể là hình minh họa về văn bản cho biết 'Tôi muốn tuyển vệ sĩ Ông làngười mạnh nhất ở đây hả Chứ sao, tôi đây không trời, không sợ đất việc cũng dám làm Nhìn cũng khét đấy Thế có dám cởi trần rán cá không ×20 ×lo'\"], 'video': None, 'video_duration_seconds': None, 'video_height': None, 'video_id': None, 'video_quality': None, 'video_size_MB': None, 'video_thumbnail': None, 'video_watches': None, 'video_width': None, 'likes': 2300, 'comments': 75, 'shares': 22, 'link': 'https://shope.ee/2KtOMTYYCG?fbclid=IwAR0rmRVi_HqDhpG8o24zJErPD4FLOvHWt18HOF8JNrD_2SC5BslRw_mxERc', 'links': [{'link': '/hashtag/panda?refid=52&__tn__=%2As-R&paipv=0&eav=AfbDq5b5fMlgIqyUrrMu1Cl9m0q9Hl5k_fKgDKaWYnRM-69xi4VPBUbDMZiLFUomuJg', 'text': '#panda'}, {'link': 'https://m.facebook.com/vebay69/photos/a.772957799491080/5266710616782420/?type=3&av=61553949509240&eav=AfZWLip7WdxPlsbp8S0-DdK_PHiX755s_cKjyL5cuHDcorYIhYpB47es2rFFKCrrEag&source=57&refid=52&__tn__=EH-R&paipv=0', 'text': ''}], 'user_id': '772954189491441', 'username': 'Vẽ bậy', 'user_url': 'https://facebook.com/vebay69?refid=52&__tn__=C-R&paipv=0&eav=AfagEjdkVDw5jW5ZMcZ9NUL7XWULBX40CgZZIA9dw3hvmsvQ7YwngY2cj-V1Ny4xQFo', 'is_live': False, 'factcheck': None, 'shared_post_id': None, 'shared_time': None, 'shared_user_id': None, 'shared_username': None, 'shared_post_url': None, 'available': True, 'comments_full': None, 'reactors': None, 'w3_fb_url': None, 'reactions': None, 'reaction_count': 2300, 'with': None, 'page_id': '772954189491441', 'sharers': <generator object PostExtractor.extract_sharers at 0x7f15eafa76f0>, 'image_id': '5266710616782420', 'image_ids': ['5266710616782420'], 'was_live': False}\n",
      "Extracted 6/22 sharers\n",
      "\tSleep 6 seconds\n",
      "{'original_request_url': 5263709253749223, 'post_url': 'https://facebook.com/story.php?story_fbid=pfbid0ik81bq8qiRdLRU25dgBwMiMM35J1jDmaPdJzisGX7C3JeTz7LxshY6MYpwRujaCbl&id=772954189491441', 'post_id': 'pfbid0ik81bq8qiRdLRU25dgBwMiMM35J1jDmaPdJzisGX7C3JeTz7LxshY6MYpwRujaCbl', 'text': 'Aizz chán ba ghê ớ..\\n#Lìquầnxòi', 'post_text': 'Aizz chán ba ghê ớ..\\n#Lìquầnxòi', 'shared_text': '', 'original_text': None, 'time': datetime.datetime(2022, 5, 6, 15, 11, 37), 'timestamp': 1651849897, 'image': 'https://scontent-sin6-4.xx.fbcdn.net/v/t39.30808-6/280203074_5263708360415979_269941835581877275_n.png?_nc_cat=100&ccb=1-7&_nc_sid=5f2048&efg=eyJpIjoidCJ9&_nc_eui2=AeGyFdabvdupZ7Ni0WirrrZsQhbCyy43OrtCFsLLLjc6u2yEjakGM6E1k4U3GDwKt8wfnuZahECXFLSQaX62XwFe&_nc_ohc=GFC8iRDqRlgAX-1WwgV&_nc_ht=scontent-sin6-4.xx&cb_e2o_trans=q&oh=00_AfDcY95UTnVi_lyDpThyLXDMXyqWzpYyyesrsZHDoD96XA&oe=656925D2', 'image_lowquality': 'https://scontent-sin6-4.xx.fbcdn.net/v/t39.30808-6/280203074_5263708360415979_269941835581877275_n.png?stp=dst-png_p320x320&_nc_cat=100&ccb=1-7&_nc_sid=5f2048&efg=eyJpIjoidCJ9&_nc_eui2=AeGyFdabvdupZ7Ni0WirrrZsQhbCyy43OrtCFsLLLjc6u2yEjakGM6E1k4U3GDwKt8wfnuZahECXFLSQaX62XwFe&_nc_ohc=GFC8iRDqRlgAX-1WwgV&_nc_ht=scontent-sin6-4.xx&cb_e2o_trans=q&oh=00_AfAKO98c1KTNcA3grHvcGBPjUqEPheO-O8-bidWyf2umrA&oe=656925D2', 'images': ['https://scontent-sin6-4.xx.fbcdn.net/v/t39.30808-6/280203074_5263708360415979_269941835581877275_n.png?_nc_cat=100&ccb=1-7&_nc_sid=5f2048&efg=eyJpIjoidCJ9&_nc_eui2=AeGyFdabvdupZ7Ni0WirrrZsQhbCyy43OrtCFsLLLjc6u2yEjakGM6E1k4U3GDwKt8wfnuZahECXFLSQaX62XwFe&_nc_ohc=GFC8iRDqRlgAX-1WwgV&_nc_ht=scontent-sin6-4.xx&cb_e2o_trans=q&oh=00_AfDcY95UTnVi_lyDpThyLXDMXyqWzpYyyesrsZHDoD96XA&oe=656925D2'], 'images_description': ['No photo description available.'], 'images_lowquality': ['https://scontent-sin6-4.xx.fbcdn.net/v/t39.30808-6/280203074_5263708360415979_269941835581877275_n.png?stp=dst-png_p320x320&_nc_cat=100&ccb=1-7&_nc_sid=5f2048&efg=eyJpIjoidCJ9&_nc_eui2=AeGyFdabvdupZ7Ni0WirrrZsQhbCyy43OrtCFsLLLjc6u2yEjakGM6E1k4U3GDwKt8wfnuZahECXFLSQaX62XwFe&_nc_ohc=GFC8iRDqRlgAX-1WwgV&_nc_ht=scontent-sin6-4.xx&cb_e2o_trans=q&oh=00_AfAKO98c1KTNcA3grHvcGBPjUqEPheO-O8-bidWyf2umrA&oe=656925D2'], 'images_lowquality_description': ['No photo description available.'], 'video': None, 'video_duration_seconds': None, 'video_height': None, 'video_id': None, 'video_quality': None, 'video_size_MB': None, 'video_thumbnail': None, 'video_watches': None, 'video_width': None, 'likes': 1500, 'comments': 16, 'shares': 2, 'link': None, 'links': [{'link': '/hashtag/lìquầnxòi?refid=52&__tn__=%2As-R&paipv=0&eav=AfZmOSRAQBS03bIAfAhCkxE7wqZhAoszXZuCE2Cfvy-nfJgoGPUlirRSjniZuBpUZwY', 'text': '#Lìquầnxòi'}, {'link': 'https://m.facebook.com/vebay69/photos/a.772957799491080/5263708363749312/?type=3&av=61553949509240&eav=AfZa66kkQjsyeov3nsUGsHAbIlOTrjLx1kLBD_27L3yfDeJ9cTEtNcbExOUQpfzUnlU&source=57&refid=52&__tn__=EH-R&paipv=0', 'text': ''}], 'user_id': '772954189491441', 'username': 'Vẽ bậy', 'user_url': 'https://facebook.com/vebay69?refid=52&__tn__=C-R&paipv=0&eav=AfYB8hdUf3lWCLyUeAsLZycM_ttr_EgRnBjj-Q_kVZFX-o1KEY4pDRXkawrFWW478tw', 'is_live': False, 'factcheck': None, 'shared_post_id': None, 'shared_time': None, 'shared_user_id': None, 'shared_username': None, 'shared_post_url': None, 'available': True, 'comments_full': None, 'reactors': None, 'w3_fb_url': None, 'reactions': None, 'reaction_count': 1500, 'with': None, 'page_id': '772954189491441', 'sharers': <generator object PostExtractor.extract_sharers at 0x7f15eb564ba0>, 'image_id': '5263708363749312', 'image_ids': ['5263708363749312'], 'was_live': False}\n",
      "Extracted 1/2 sharers\n",
      "\tSleep 7 seconds\n",
      "{'original_request_url': 5262746583845490, 'post_url': 'https://facebook.com/story.php?story_fbid=pfbid0pm3m6b9shHBqcCUzBsfLYijvV8tZytwCkRQvdHYUjBM23GLPFD9hE2vVoDgFeG8pl&id=772954189491441', 'post_id': 'pfbid0pm3m6b9shHBqcCUzBsfLYijvV8tZytwCkRQvdHYUjBM23GLPFD9hE2vVoDgFeG8pl', 'text': 'Ông con Enh Guốc :)\\n#Panda', 'post_text': 'Ông con Enh Guốc :)\\n#Panda', 'shared_text': '', 'original_text': None, 'time': datetime.datetime(2022, 5, 6, 7, 37, 28), 'timestamp': 1651822648, 'image': 'https://scontent-sin6-2.xx.fbcdn.net/v/t39.30808-6/279402797_5262745407178941_3877194835741069873_n.jpg?stp=cp0_dst-jpg_e15_fr_q65&_nc_cat=109&ccb=1-7&_nc_sid=5f2048&efg=eyJpIjoidCJ9&_nc_eui2=AeEcxH2ZUUSY1enwueK5zW-Q9SnIL_d4cAz1Kcgv93hwDGqcsKPnyfA6rZDIBez5AQNvwQejI2grHJhZCf5l6UAb&_nc_ohc=NVQrPQbmJZQAX8Hd5Y1&_nc_ht=scontent-sin6-2.xx&cb_e2o_trans=q&oh=00_AfDNcNqlwcsqNHaerhmCTwyLaBjVnx59fa6WGZOKVzH8vg&oe=65677511', 'image_lowquality': 'https://scontent-sin6-2.xx.fbcdn.net/v/t39.30808-6/279402797_5262745407178941_3877194835741069873_n.jpg?stp=cp0_dst-jpg_e15_p320x320_q65&_nc_cat=109&ccb=1-7&_nc_sid=5f2048&efg=eyJpIjoidCJ9&_nc_eui2=AeEcxH2ZUUSY1enwueK5zW-Q9SnIL_d4cAz1Kcgv93hwDGqcsKPnyfA6rZDIBez5AQNvwQejI2grHJhZCf5l6UAb&_nc_ohc=NVQrPQbmJZQAX8Hd5Y1&_nc_ht=scontent-sin6-2.xx&cb_e2o_trans=q&oh=00_AfBbxpURaM3Chuqy5QZc6t4Hez_2Vt3I-3WC2dUKL5QJjg&oe=65677511', 'images': ['https://scontent-sin6-2.xx.fbcdn.net/v/t39.30808-6/279402797_5262745407178941_3877194835741069873_n.jpg?stp=cp0_dst-jpg_e15_fr_q65&_nc_cat=109&ccb=1-7&_nc_sid=5f2048&efg=eyJpIjoidCJ9&_nc_eui2=AeEcxH2ZUUSY1enwueK5zW-Q9SnIL_d4cAz1Kcgv93hwDGqcsKPnyfA6rZDIBez5AQNvwQejI2grHJhZCf5l6UAb&_nc_ohc=NVQrPQbmJZQAX8Hd5Y1&_nc_ht=scontent-sin6-2.xx&cb_e2o_trans=q&oh=00_AfDNcNqlwcsqNHaerhmCTwyLaBjVnx59fa6WGZOKVzH8vg&oe=65677511'], 'images_description': ['No photo description available.'], 'images_lowquality': ['https://scontent-sin6-2.xx.fbcdn.net/v/t39.30808-6/279402797_5262745407178941_3877194835741069873_n.jpg?stp=cp0_dst-jpg_e15_p320x320_q65&_nc_cat=109&ccb=1-7&_nc_sid=5f2048&efg=eyJpIjoidCJ9&_nc_eui2=AeEcxH2ZUUSY1enwueK5zW-Q9SnIL_d4cAz1Kcgv93hwDGqcsKPnyfA6rZDIBez5AQNvwQejI2grHJhZCf5l6UAb&_nc_ohc=NVQrPQbmJZQAX8Hd5Y1&_nc_ht=scontent-sin6-2.xx&cb_e2o_trans=q&oh=00_AfBbxpURaM3Chuqy5QZc6t4Hez_2Vt3I-3WC2dUKL5QJjg&oe=65677511'], 'images_lowquality_description': ['No photo description available.'], 'video': None, 'video_duration_seconds': None, 'video_height': None, 'video_id': None, 'video_quality': None, 'video_size_MB': None, 'video_thumbnail': None, 'video_watches': None, 'video_width': None, 'likes': 2900, 'comments': 49, 'shares': 12, 'link': None, 'links': [{'link': '/hashtag/panda?refid=52&__tn__=%2As-R&paipv=0&eav=AfbH7Lm_t4CZ3U7jvTkr8Sg-DN94Vqg7SfrNy_4T9YF12__yjY_uj0cg6r1N30BbihI', 'text': '#Panda'}, {'link': 'https://m.facebook.com/vebay69/photos/a.772957799491080/5262745410512274/?type=3&av=61553949509240&eav=AfYN-nDobR6a5UAqkAzSZk_YljCIAq5MmAptv8R21SZotfwoZJyDZLTK7hY4hNHqzzo&source=57&refid=52&__tn__=EH-R&paipv=0', 'text': ''}], 'user_id': '772954189491441', 'username': 'Vẽ bậy', 'user_url': 'https://facebook.com/vebay69?refid=52&__tn__=C-R&paipv=0&eav=AfZ45AO-h9RZISnBiO1cRxwteODZNKEne3ibx-6WD_aMN2oZiO9fbtmQCzgZ25KgFdg', 'is_live': False, 'factcheck': None, 'shared_post_id': None, 'shared_time': None, 'shared_user_id': None, 'shared_username': None, 'shared_post_url': None, 'available': True, 'comments_full': None, 'reactors': None, 'w3_fb_url': None, 'reactions': None, 'reaction_count': 2900, 'with': None, 'page_id': '772954189491441', 'sharers': <generator object PostExtractor.extract_sharers at 0x7f15eb564890>, 'image_id': '5262745410512274', 'image_ids': ['5262745410512274'], 'was_live': False}\n",
      "Extracted 2/12 sharers\n",
      "\tSleep 7 seconds\n"
     ]
    }
   ],
   "source": [
    "try:\n",
    "    for post in fs.get_posts(\n",
    "        post_urls=posts_ids,\n",
    "        options={\n",
    "            \"allow_extra_requests\": True,\n",
    "            \"sharers\": True,\n",
    "            \"sharers\": \"generator\",\n",
    "        },\n",
    "        timeout=120,\n",
    "    ):\n",
    "        print(post)\n",
    "        num_sharer = extract_sharer(post['sharers'], post['original_request_url'])\n",
    "        post_list.append(post)\n",
    "        print(f'Extracted {num_sharer}/{post[\"shares\"]} sharers')\n",
    "        total_sharer_real += post['shares']\n",
    "        utils.sleep(np.random.randint(5, 10))\n",
    "except fs.exceptions.TemporarilyBanned:\n",
    "    print(\"TEMPORARILY BANNED\")\n",
    "except fs.exceptions.AccountDisabled:\n",
    "    print(\"ACCOUNT DISABLED\")\n",
    "except Exception as e:\n",
    "    print(e)"
   ]
  },
  {
   "cell_type": "code",
   "execution_count": 9,
   "metadata": {},
   "outputs": [
    {
     "name": "stdout",
     "output_type": "stream",
     "text": [
      "100\n",
      "Số posts đã crawl: 7\n",
      "Số sharers đã crawl: 85/239\n"
     ]
    }
   ],
   "source": [
    "print(NUMBER_POST)\n",
    "print(f\"Số posts đã crawl: {len(post_list)}\")\n",
    "print(f\"Số sharers đã crawl: {len(sharer_list)}/{total_sharer_real}\")"
   ]
  },
  {
   "cell_type": "code",
   "execution_count": 10,
   "metadata": {},
   "outputs": [
    {
     "name": "stdout",
     "output_type": "stream",
     "text": [
      "Save sharers data: ./data/vebay69/raw/sharers_2023-11-26_12-24-41.csv\n",
      "Save index 910 to resume: ./data/vebay69/url/i_post_id_share.txt\n"
     ]
    }
   ],
   "source": [
    "if sharer_list:\n",
    "    utils.save_data(\n",
    "        data_list=sharer_list,\n",
    "        folder_path=os.path.join('data','vebay69','raw'),\n",
    "        type=\"sharers\"\n",
    "    )\n",
    "utils.write_index_file(\n",
    "    file_path=index_post_id_file_path,\n",
    "    index=index_post_id + len(post_list)\n",
    ")"
   ]
  }
 ],
 "metadata": {
  "kernelspec": {
   "display_name": "py3108",
   "language": "python",
   "name": "python3"
  },
  "language_info": {
   "codemirror_mode": {
    "name": "ipython",
    "version": 3
   },
   "file_extension": ".py",
   "mimetype": "text/x-python",
   "name": "python",
   "nbconvert_exporter": "python",
   "pygments_lexer": "ipython3",
   "version": "3.10.8"
  }
 },
 "nbformat": 4,
 "nbformat_minor": 2
}
