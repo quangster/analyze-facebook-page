{
 "cells": [
  {
   "cell_type": "code",
   "execution_count": 1,
   "metadata": {},
   "outputs": [],
   "source": [
    "import lib.facebook_scraper as fs\n",
    "import lib.utils as utils\n",
    "import pandas as pd\n",
    "import numpy as np\n",
    "import os\n",
    "import time"
   ]
  },
  {
   "cell_type": "code",
   "execution_count": 2,
   "metadata": {},
   "outputs": [
    {
     "data": {
      "text/html": [
       "<div>\n",
       "<style scoped>\n",
       "    .dataframe tbody tr th:only-of-type {\n",
       "        vertical-align: middle;\n",
       "    }\n",
       "\n",
       "    .dataframe tbody tr th {\n",
       "        vertical-align: top;\n",
       "    }\n",
       "\n",
       "    .dataframe thead th {\n",
       "        text-align: right;\n",
       "    }\n",
       "</style>\n",
       "<table border=\"1\" class=\"dataframe\">\n",
       "  <thead>\n",
       "    <tr style=\"text-align: right;\">\n",
       "      <th></th>\n",
       "      <th>post_id</th>\n",
       "    </tr>\n",
       "  </thead>\n",
       "  <tbody>\n",
       "    <tr>\n",
       "      <th>0</th>\n",
       "      <td>685638947004646</td>\n",
       "    </tr>\n",
       "    <tr>\n",
       "      <th>1</th>\n",
       "      <td>685577330344141</td>\n",
       "    </tr>\n",
       "    <tr>\n",
       "      <th>2</th>\n",
       "      <td>685111467057394</td>\n",
       "    </tr>\n",
       "    <tr>\n",
       "      <th>3</th>\n",
       "      <td>684686633766544</td>\n",
       "    </tr>\n",
       "    <tr>\n",
       "      <th>4</th>\n",
       "      <td>684603707108170</td>\n",
       "    </tr>\n",
       "  </tbody>\n",
       "</table>\n",
       "</div>"
      ],
      "text/plain": [
       "           post_id\n",
       "0  685638947004646\n",
       "1  685577330344141\n",
       "2  685111467057394\n",
       "3  684686633766544\n",
       "4  684603707108170"
      ]
     },
     "execution_count": 2,
     "metadata": {},
     "output_type": "execute_result"
    }
   ],
   "source": [
    "post_ids_df = pd.read_csv('data/vebay69/clean/post_ids.csv')\n",
    "post_ids_df.head()"
   ]
  },
  {
   "cell_type": "code",
   "execution_count": 3,
   "metadata": {},
   "outputs": [],
   "source": [
    "NUMBER_POST = 10\n",
    "post_list = []\n",
    "sharer_list = []\n",
    "total_sharer_real = 0\n",
    "index_post_id_file_path = os.path.join('data','vebay69','url','i_post_id_share.txt')"
   ]
  },
  {
   "cell_type": "code",
   "execution_count": 4,
   "metadata": {},
   "outputs": [
    {
     "name": "stdout",
     "output_type": "stream",
     "text": [
      "0\n"
     ]
    },
    {
     "data": {
      "text/plain": [
       "[685638947004646,\n",
       " 685577330344141,\n",
       " 685111467057394,\n",
       " 684686633766544,\n",
       " 684603707108170,\n",
       " 684191557149385,\n",
       " 683955240506350,\n",
       " 682996903935517,\n",
       " 683571943878013,\n",
       " 683467500555124]"
      ]
     },
     "execution_count": 4,
     "metadata": {},
     "output_type": "execute_result"
    }
   ],
   "source": [
    "index_post_id = utils.read_index_file(file_path=index_post_id_file_path)\n",
    "print(index_post_id)\n",
    "posts_ids = utils.get_post_id_list(df=post_ids_df, start=index_post_id, length=NUMBER_POST)\n",
    "posts_ids"
   ]
  },
  {
   "cell_type": "code",
   "execution_count": 5,
   "metadata": {},
   "outputs": [],
   "source": [
    "def extract_sharer(sharers, post_id):\n",
    "    cnt_sharer = 0\n",
    "    global sharer_list\n",
    "    for sharer in sharers:\n",
    "        sharer_list.append(sharer)\n",
    "        cnt_sharer += 1\n",
    "        time.sleep(np.random.uniform(0, 1))\n",
    "    return cnt_sharer"
   ]
  },
  {
   "cell_type": "code",
   "execution_count": 6,
   "metadata": {},
   "outputs": [],
   "source": [
    "fs.set_cookies('./cookies/cookies_1.txt')\n",
    "# fs.enable_logging()"
   ]
  },
  {
   "cell_type": "code",
   "execution_count": 7,
   "metadata": {},
   "outputs": [
    {
     "name": "stderr",
     "output_type": "stream",
     "text": [
      "/home/ad/Workspace/data-processing/analyze-facebook-page/lib/facebook_scraper/facebook_scraper.py:912: UserWarning: Facebook says 'Unsupported Browser'\n",
      "  warnings.warn(f\"Facebook says 'Unsupported Browser'\")\n"
     ]
    },
    {
     "name": "stdout",
     "output_type": "stream",
     "text": [
      "{'original_request_url': 685638947004646, 'post_url': 'https://facebook.com/story.php?story_fbid=685638947004646&id=100066756416622', 'post_id': 685638947004646, 'text': 'Mùa đông chưa vậy\\n#Panda', 'post_text': 'Mùa đông chưa vậy\\n#Panda', 'shared_text': '', 'original_text': None, 'time': datetime.datetime(2023, 11, 20, 12, 28, 2), 'timestamp': 1700458082, 'image': 'https://scontent.fhan14-1.fna.fbcdn.net/v/t39.30808-6/404513275_685638733671334_3197628116849525623_n.jpg?stp=cp0_dst-jpg_e15_fr_q65&_nc_cat=107&ccb=1-7&_nc_sid=5f2048&efg=eyJpIjoidCJ9&_nc_eui2=AeHzPzLflDVbDQ8Biie60FAskkYLACx62iSSRgsALHraJHFQc-pyjEqXtPILCLfY5-JI8S19RD9RdJlLxMUVJbsu&_nc_ohc=E9eLc0YDr0QAX-CKk4C&_nc_ht=scontent.fhan14-1.fna&oh=00_AfAjlSDGiBwLxVja_ytjwDVEZrjHR3WuOsQKJP0x9xiQbg&oe=6565C85D&manual_redirect=1', 'image_lowquality': 'https://scontent.fhan14-1.fna.fbcdn.net/v/t39.30808-6/404513275_685638733671334_3197628116849525623_n.jpg?stp=cp0_dst-jpg_e15_p320x320_q65&_nc_cat=107&ccb=1-7&_nc_sid=5f2048&efg=eyJpIjoidCJ9&_nc_eui2=AeHzPzLflDVbDQ8Biie60FAskkYLACx62iSSRgsALHraJHFQc-pyjEqXtPILCLfY5-JI8S19RD9RdJlLxMUVJbsu&_nc_ohc=E9eLc0YDr0QAX-CKk4C&_nc_ht=scontent.fhan14-1.fna&oh=00_AfCRBZWPb9a_SQXoy3YiLlHKM2374vZxXFNcMEohnNG-nA&oe=6565C85D', 'images': ['https://scontent.fhan14-1.fna.fbcdn.net/v/t39.30808-6/404513275_685638733671334_3197628116849525623_n.jpg?stp=cp0_dst-jpg_e15_fr_q65&_nc_cat=107&ccb=1-7&_nc_sid=5f2048&efg=eyJpIjoidCJ9&_nc_eui2=AeHzPzLflDVbDQ8Biie60FAskkYLACx62iSSRgsALHraJHFQc-pyjEqXtPILCLfY5-JI8S19RD9RdJlLxMUVJbsu&_nc_ohc=E9eLc0YDr0QAX-CKk4C&_nc_ht=scontent.fhan14-1.fna&oh=00_AfAjlSDGiBwLxVja_ytjwDVEZrjHR3WuOsQKJP0x9xiQbg&oe=6565C85D&manual_redirect=1'], 'images_description': [\"May be an image of text that says 'Lạnh quá lạnh quá Ê ra kia sưởi nắng đi mày Ấm quá Về Bặy'\"], 'images_lowquality': ['https://scontent.fhan14-1.fna.fbcdn.net/v/t39.30808-6/404513275_685638733671334_3197628116849525623_n.jpg?stp=cp0_dst-jpg_e15_p320x320_q65&_nc_cat=107&ccb=1-7&_nc_sid=5f2048&efg=eyJpIjoidCJ9&_nc_eui2=AeHzPzLflDVbDQ8Biie60FAskkYLACx62iSSRgsALHraJHFQc-pyjEqXtPILCLfY5-JI8S19RD9RdJlLxMUVJbsu&_nc_ohc=E9eLc0YDr0QAX-CKk4C&_nc_ht=scontent.fhan14-1.fna&oh=00_AfCRBZWPb9a_SQXoy3YiLlHKM2374vZxXFNcMEohnNG-nA&oe=6565C85D'], 'images_lowquality_description': [\"May be an image of text that says 'Lạnh quá lạnh quá Ê ra kia sưởi nắng đi mày Ấm quá Về Bặy'\"], 'video': None, 'video_duration_seconds': None, 'video_height': None, 'video_id': None, 'video_quality': None, 'video_size_MB': None, 'video_thumbnail': None, 'video_watches': None, 'video_width': None, 'likes': 2700, 'comments': 59, 'shares': 27, 'link': None, 'links': [{'link': '/hashtag/panda?refid=52&__tn__=%2As-R&paipv=0&eav=AfYnc_rgd7QO0KihZB9YY06oC2ssHGuZkL6gBz0iFV03nJ2in6jg4kWthHW30C5t0ss', 'text': '#Panda'}, {'link': 'https://m.facebook.com/photo.php?fbid=685638737004667&id=100066756416622&set=a.604487031786505&eav=AfZPJNRkxHvMiS2EVfs6HBwOnK4RT6PxNSgp8HNbODWBAMrnSCMXZ9RSw2D16p-MoeE&paipv=0&source=57&refid=52&__tn__=EH-R', 'text': ''}], 'user_id': '100066756416622', 'username': 'Vẽ bậy', 'user_url': 'https://facebook.com/vebay69?eav=AfZPOAOeBfMzlu13F3zSibN0FSr5XTSt1Og2RDcPklMGaG0UZueaFPdq7_AQLAGpq_I&refid=52&__tn__=C-R&paipv=0', 'is_live': False, 'factcheck': None, 'shared_post_id': None, 'shared_time': None, 'shared_user_id': None, 'shared_username': None, 'shared_post_url': None, 'available': True, 'comments_full': None, 'reactors': None, 'w3_fb_url': None, 'reactions': None, 'reaction_count': 2700, 'with': None, 'page_id': '772954189491441', 'sharers': <generator object PostExtractor.extract_sharers at 0x7f2f75b8ea40>, 'image_id': '685638737004667', 'image_ids': ['685638737004667'], 'was_live': False}\n",
      "Extracted 11/27 sharers\n",
      "Sleep 25 seconds\n",
      "{'original_request_url': 685577330344141, 'post_url': 'https://facebook.com/story.php?story_fbid=685577330344141&id=100066756416622', 'post_id': 685577330344141, 'text': 'Con chịu rồi, cái này con không học được\\n#Vuilavietlott', 'post_text': 'Con chịu rồi, cái này con không học được\\n#Vuilavietlott', 'shared_text': '', 'original_text': None, 'time': datetime.datetime(2023, 11, 20, 11, 0, 2), 'timestamp': 1700452802, 'image': 'https://scontent.fhan14-1.fna.fbcdn.net/v/t39.30808-6/404516856_685576743677533_5129937981642396860_n.jpg?stp=cp0_dst-jpg_e15_fr_q65&_nc_cat=105&ccb=1-7&_nc_sid=5f2048&efg=eyJpIjoidCJ9&_nc_eui2=AeE9XGyQT30Yze_1PTP6zhgswTsSMzi07GXBOxIzOLTsZX46UNFCCF8epPcPKFPGFVIN1tIxinROy5KFBkkPLGi8&_nc_ohc=iPMYnvLBVFQAX8AGJmA&tn=-K80ZVMTFok47yFi&_nc_ht=scontent.fhan14-1.fna&oh=00_AfBex69ny35mNEIva3szqhWcrmhFnhbMS7m8okcEf4SLvg&oe=6564EFEA&manual_redirect=1', 'image_lowquality': 'https://scontent.fhan14-1.fna.fbcdn.net/v/t39.30808-6/404516856_685576743677533_5129937981642396860_n.jpg?stp=cp0_dst-jpg_e15_p320x320_q65&_nc_cat=105&ccb=1-7&_nc_sid=5f2048&efg=eyJpIjoidCJ9&_nc_eui2=AeE9XGyQT30Yze_1PTP6zhgswTsSMzi07GXBOxIzOLTsZX46UNFCCF8epPcPKFPGFVIN1tIxinROy5KFBkkPLGi8&_nc_ohc=iPMYnvLBVFQAX8AGJmA&tn=-K80ZVMTFok47yFi&_nc_ht=scontent.fhan14-1.fna&oh=00_AfCtviXyLD81yTvmhFpnQOz0w1CQjrbhrynfpkKr6HHz0Q&oe=6564EFEA', 'images': ['https://scontent.fhan14-1.fna.fbcdn.net/v/t39.30808-6/404516856_685576743677533_5129937981642396860_n.jpg?stp=cp0_dst-jpg_e15_fr_q65&_nc_cat=105&ccb=1-7&_nc_sid=5f2048&efg=eyJpIjoidCJ9&_nc_eui2=AeE9XGyQT30Yze_1PTP6zhgswTsSMzi07GXBOxIzOLTsZX46UNFCCF8epPcPKFPGFVIN1tIxinROy5KFBkkPLGi8&_nc_ohc=iPMYnvLBVFQAX8AGJmA&tn=-K80ZVMTFok47yFi&_nc_ht=scontent.fhan14-1.fna&oh=00_AfBex69ny35mNEIva3szqhWcrmhFnhbMS7m8okcEf4SLvg&oe=6564EFEA&manual_redirect=1'], 'images_description': [\"May be pop art of text that says 'Học tập anh Nghẹo, từ đỗ nghèo khỉ giờ thành đạt giàu có kìa Người thanh công Bộy Tao trúng Viettlot chứ bí kíp mịa gì Anh zai cho em xin tí bí kíp thành công vớ›i Victlo.om GIẢI JACKPOT 21.973.928.500 VNĐ* www.vietlott.vn'\"], 'images_lowquality': ['https://scontent.fhan14-1.fna.fbcdn.net/v/t39.30808-6/404516856_685576743677533_5129937981642396860_n.jpg?stp=cp0_dst-jpg_e15_p320x320_q65&_nc_cat=105&ccb=1-7&_nc_sid=5f2048&efg=eyJpIjoidCJ9&_nc_eui2=AeE9XGyQT30Yze_1PTP6zhgswTsSMzi07GXBOxIzOLTsZX46UNFCCF8epPcPKFPGFVIN1tIxinROy5KFBkkPLGi8&_nc_ohc=iPMYnvLBVFQAX8AGJmA&tn=-K80ZVMTFok47yFi&_nc_ht=scontent.fhan14-1.fna&oh=00_AfCtviXyLD81yTvmhFpnQOz0w1CQjrbhrynfpkKr6HHz0Q&oe=6564EFEA'], 'images_lowquality_description': [\"May be pop art of text that says 'Học tập anh Nghẹo, từ đỗ nghèo khỉ giờ thành đạt giàu có kìa Người thanh công Bộy Tao trúng Viettlot chứ bí kíp mịa gì Anh zai cho em xin tí bí kíp thành công vớ›i Victlo.om GIẢI JACKPOT 21.973.928.500 VNĐ* www.vietlott.vn'\"], 'video': None, 'video_duration_seconds': None, 'video_height': None, 'video_id': None, 'video_quality': None, 'video_size_MB': None, 'video_thumbnail': None, 'video_watches': None, 'video_width': None, 'likes': 3300, 'comments': 56, 'shares': 7, 'link': None, 'links': [{'link': '/hashtag/vuilavietlott?refid=52&__tn__=%2As-R&paipv=0&eav=Afb6MX8jRv8YlJ0PoJ3yNNYJLDc2SIuQr-VAQHGTyPepE2MIzuX0YXHOfoL2I0hjNyg', 'text': '#Vuilavietlott'}, {'link': 'https://m.facebook.com/photo.php?fbid=685576747010866&id=100066756416622&set=a.604487031786505&eav=AfZ_-z4ZhoEWhlbfuV2-MOtftKl9as9NLsmE-PopaanmHY_xS7bGgkIEUhp_-psqtRw&paipv=0&source=57&refid=52&__tn__=EH-R', 'text': ''}], 'user_id': '100066756416622', 'username': 'Vẽ bậy', 'user_url': 'https://facebook.com/vebay69?eav=AfYMANnWnbdd7QixS1iweXOUhwkc-AoFNKk6oumELz7hsNpDHyx-QBtkWOvt-3IbLOg&refid=52&__tn__=C-R&paipv=0', 'is_live': False, 'factcheck': None, 'shared_post_id': None, 'shared_time': None, 'shared_user_id': None, 'shared_username': None, 'shared_post_url': None, 'available': True, 'comments_full': None, 'reactors': None, 'w3_fb_url': None, 'reactions': None, 'reaction_count': 3300, 'with': None, 'page_id': '772954189491441', 'sharers': <generator object PostExtractor.extract_sharers at 0x7f2f7598be60>, 'image_id': '685576747010866', 'image_ids': ['685576747010866'], 'was_live': False}\n",
      "Extracted 7/7 sharers\n",
      "Sleep 17 seconds\n",
      "{'original_request_url': 685111467057394, 'post_url': 'https://facebook.com/story.php?story_fbid=685111467057394&id=100066756416622', 'post_id': 685111467057394, 'text': 'Bạn tồiiiiiiiiii\\n#Muonggg', 'post_text': 'Bạn tồiiiiiiiiii\\n#Muonggg', 'shared_text': '', 'original_text': None, 'time': datetime.datetime(2023, 11, 19, 15, 54, 12), 'timestamp': 1700384052, 'image': 'https://scontent.fhan14-2.fna.fbcdn.net/v/t39.30808-6/401807293_685111337057407_941712564432776670_n.jpg?stp=cp0_dst-jpg_e15_fr_q65&_nc_cat=100&ccb=1-7&_nc_sid=5f2048&efg=eyJpIjoidCJ9&_nc_eui2=AeFAvHj9pQq3efVTzySD8JOusFZ4HHO4It-wVngcc7gi320yTfQK_l5NGeyDhBH_KBbGgbeWzI6zLh8sf0DwGnYa&_nc_ohc=-HZq2jr33UUAX8MBujw&tn=-K80ZVMTFok47yFi&_nc_ht=scontent.fhan14-2.fna&oh=00_AfBOkKdpZTN0EjkDRd0sp7ShoZjFd4ZjVy0ADvuU92pOKg&oe=6565A868&manual_redirect=1', 'image_lowquality': 'https://scontent.fhan14-2.fna.fbcdn.net/v/t39.30808-6/401807293_685111337057407_941712564432776670_n.jpg?stp=cp0_dst-jpg_e15_p320x320_q65&_nc_cat=100&ccb=1-7&_nc_sid=5f2048&efg=eyJpIjoidCJ9&_nc_eui2=AeFAvHj9pQq3efVTzySD8JOusFZ4HHO4It-wVngcc7gi320yTfQK_l5NGeyDhBH_KBbGgbeWzI6zLh8sf0DwGnYa&_nc_ohc=-HZq2jr33UUAX8MBujw&tn=-K80ZVMTFok47yFi&_nc_ht=scontent.fhan14-2.fna&oh=00_AfAAgYoJ5KZIEiOQ9w9W5wPcK6wODRqBkf7IedMQBvgFEg&oe=6565A868', 'images': ['https://scontent.fhan14-2.fna.fbcdn.net/v/t39.30808-6/401807293_685111337057407_941712564432776670_n.jpg?stp=cp0_dst-jpg_e15_fr_q65&_nc_cat=100&ccb=1-7&_nc_sid=5f2048&efg=eyJpIjoidCJ9&_nc_eui2=AeFAvHj9pQq3efVTzySD8JOusFZ4HHO4It-wVngcc7gi320yTfQK_l5NGeyDhBH_KBbGgbeWzI6zLh8sf0DwGnYa&_nc_ohc=-HZq2jr33UUAX8MBujw&tn=-K80ZVMTFok47yFi&_nc_ht=scontent.fhan14-2.fna&oh=00_AfBOkKdpZTN0EjkDRd0sp7ShoZjFd4ZjVy0ADvuU92pOKg&oe=6565A868&manual_redirect=1'], 'images_description': ['May be a doodle of text'], 'images_lowquality': ['https://scontent.fhan14-2.fna.fbcdn.net/v/t39.30808-6/401807293_685111337057407_941712564432776670_n.jpg?stp=cp0_dst-jpg_e15_p320x320_q65&_nc_cat=100&ccb=1-7&_nc_sid=5f2048&efg=eyJpIjoidCJ9&_nc_eui2=AeFAvHj9pQq3efVTzySD8JOusFZ4HHO4It-wVngcc7gi320yTfQK_l5NGeyDhBH_KBbGgbeWzI6zLh8sf0DwGnYa&_nc_ohc=-HZq2jr33UUAX8MBujw&tn=-K80ZVMTFok47yFi&_nc_ht=scontent.fhan14-2.fna&oh=00_AfAAgYoJ5KZIEiOQ9w9W5wPcK6wODRqBkf7IedMQBvgFEg&oe=6565A868'], 'images_lowquality_description': ['May be a doodle of text'], 'video': None, 'video_duration_seconds': None, 'video_height': None, 'video_id': None, 'video_quality': None, 'video_size_MB': None, 'video_thumbnail': None, 'video_watches': None, 'video_width': None, 'likes': 643, 'comments': 45, 'shares': 8, 'link': None, 'links': [{'link': '/hashtag/muonggg?refid=52&__tn__=%2As-R&paipv=0&eav=AfZ8lZAqqvvG2s4VJ0pQanbfwWeWJwHXzNCy8pjzv4PeSOxajYv2-xME4hOSmyUs9UE', 'text': '#Muonggg'}, {'link': 'https://m.facebook.com/photo.php?fbid=685111340390740&id=100066756416622&set=a.604487025119839&eav=Afaodr72WVdZJOmzYP24PabjxWiGhFcfXpUgtuSWRic8-fOJvILDgiYgKUaJEKS8SV4&paipv=0&source=57&refid=52&__tn__=EH-R', 'text': ''}], 'user_id': '100066756416622', 'username': 'Vẽ bậy', 'user_url': 'https://facebook.com/vebay69?eav=AfZYkqkCFKX66w_HGcX3VwfrP8YL6EVTHDdIMUVjPJwFFB-dewqjdU8uB1Dg7tf2HA0&refid=52&__tn__=C-R&paipv=0', 'is_live': False, 'factcheck': None, 'shared_post_id': None, 'shared_time': None, 'shared_user_id': None, 'shared_username': None, 'shared_post_url': None, 'available': True, 'comments_full': None, 'reactors': None, 'w3_fb_url': None, 'reactions': None, 'reaction_count': 643, 'with': None, 'page_id': '772954189491441', 'sharers': <generator object PostExtractor.extract_sharers at 0x7f2f75901930>, 'image_id': '685111340390740', 'image_ids': ['685111340390740'], 'was_live': False}\n",
      "Extracted 4/8 sharers\n",
      "Sleep 21 seconds\n",
      "{'original_request_url': 684686633766544, 'post_url': 'https://facebook.com/story.php?story_fbid=684686633766544&id=100066756416622', 'post_id': 684686633766544, 'text': 'Trí khôn của ta đây 😀\\n#tayduvng #VNGGames', 'post_text': 'Trí khôn của ta đây 😀\\n#tayduvng #VNGGames', 'shared_text': '', 'original_text': None, 'time': datetime.datetime(2023, 11, 18, 20, 0, 10), 'timestamp': 1700312410, 'image': 'https://scontent.fhan14-3.fna.fbcdn.net/v/t39.30808-6/401695618_684686607099880_5019921307924616054_n.jpg?stp=cp0_dst-jpg_e15_fr_q65&_nc_cat=104&ccb=1-7&_nc_sid=5f2048&efg=eyJpIjoidCJ9&_nc_eui2=AeF_it28_p8uxlxmxI6asJTTfdftTxrHww991-1PGsfDDyYcbherPXbOo-qWcz_vIZkTIIXccvQ656pCKRgaLQz6&_nc_ohc=D6cI26Q_L5cAX8CnhFv&_nc_ht=scontent.fhan14-3.fna&oh=00_AfCHiYy8eSOCstVtQbC5xIG10pOJJrS8c9zdqAR8ni-y6A&oe=65654F73&manual_redirect=1', 'image_lowquality': 'https://scontent.fhan14-3.fna.fbcdn.net/v/t39.30808-6/401695618_684686607099880_5019921307924616054_n.jpg?stp=cp0_dst-jpg_e15_p320x320_q65&_nc_cat=104&ccb=1-7&_nc_sid=5f2048&efg=eyJpIjoidCJ9&_nc_eui2=AeF_it28_p8uxlxmxI6asJTTfdftTxrHww991-1PGsfDDyYcbherPXbOo-qWcz_vIZkTIIXccvQ656pCKRgaLQz6&_nc_ohc=D6cI26Q_L5cAX8CnhFv&_nc_ht=scontent.fhan14-3.fna&oh=00_AfBM_h8mTx0PJiPTkolwRW9LsC9vycdy84KOV00-2tqNuQ&oe=65654F73', 'images': ['https://scontent.fhan14-3.fna.fbcdn.net/v/t39.30808-6/401695618_684686607099880_5019921307924616054_n.jpg?stp=cp0_dst-jpg_e15_fr_q65&_nc_cat=104&ccb=1-7&_nc_sid=5f2048&efg=eyJpIjoidCJ9&_nc_eui2=AeF_it28_p8uxlxmxI6asJTTfdftTxrHww991-1PGsfDDyYcbherPXbOo-qWcz_vIZkTIIXccvQ656pCKRgaLQz6&_nc_ohc=D6cI26Q_L5cAX8CnhFv&_nc_ht=scontent.fhan14-3.fna&oh=00_AfCHiYy8eSOCstVtQbC5xIG10pOJJrS8c9zdqAR8ni-y6A&oe=65654F73&manual_redirect=1'], 'images_description': [\"May be an image of text that says 'Làm gì đấy Ngộ Không? Tải Tây Du VNG về chơi đỡ chán sư phụ ơi Yêu quái đây, để ta ăn th»t Đường Tăng nào Phừng Phừng Người anh em vội gì, vào làm tí game. Yêu quái cũng có thể phe chính nghĩa, vượt 81 kiếp nạn, Thiên Kỹ, Biến thân,... Chơi xong oánh nhau cũng chưa muộn lriệu Phép thần Thông Cuốn Cuố‘nđéi~ đéi Chuồn lẹ bây ơi'\"], 'images_lowquality': ['https://scontent.fhan14-3.fna.fbcdn.net/v/t39.30808-6/401695618_684686607099880_5019921307924616054_n.jpg?stp=cp0_dst-jpg_e15_p320x320_q65&_nc_cat=104&ccb=1-7&_nc_sid=5f2048&efg=eyJpIjoidCJ9&_nc_eui2=AeF_it28_p8uxlxmxI6asJTTfdftTxrHww991-1PGsfDDyYcbherPXbOo-qWcz_vIZkTIIXccvQ656pCKRgaLQz6&_nc_ohc=D6cI26Q_L5cAX8CnhFv&_nc_ht=scontent.fhan14-3.fna&oh=00_AfBM_h8mTx0PJiPTkolwRW9LsC9vycdy84KOV00-2tqNuQ&oe=65654F73'], 'images_lowquality_description': [\"May be an image of text that says 'Làm gì đấy Ngộ Không? Tải Tây Du VNG về chơi đỡ chán sư phụ ơi Yêu quái đây, để ta ăn th»t Đường Tăng nào Phừng Phừng Người anh em vội gì, vào làm tí game. Yêu quái cũng có thể phe chính nghĩa, vượt 81 kiếp nạn, Thiên Kỹ, Biến thân,... Chơi xong oánh nhau cũng chưa muộn lriệu Phép thần Thông Cuốn Cuố‘nđéi~ đéi Chuồn lẹ bây ơi'\"], 'video': None, 'video_duration_seconds': None, 'video_height': None, 'video_id': None, 'video_quality': None, 'video_size_MB': None, 'video_thumbnail': None, 'video_watches': None, 'video_width': None, 'likes': 3300, 'comments': 76, 'shares': 8, 'link': 'https://tayduvng.onelink.me/APZn/vebay?fbclid=IwAR0g5157YEloT9ZzJmKqxj3OO0twJ1XWGN8TUoO1gaQWTFMPvT9ik5X9jCo', 'links': [{'link': '/hashtag/tayduvng?refid=52&__tn__=%2As-R&paipv=0&eav=AfZ5jdVXIrvHk8J_ZdTziARvwdXFcRY2g37cXOY0e3_y-gSrwDiCYO-pLilzU-E9lyI', 'text': '#tayduvng'}, {'link': '/hashtag/vnggames?refid=52&__tn__=%2As-R&paipv=0&eav=AfYx3zitLn7mYUZy7u1o0GWuzWM5GYAeb94K-DLSCJWyokWQcm2OtPSGvTUnugTgjio', 'text': '#VNGGames'}, {'link': 'https://m.facebook.com/photo.php?fbid=684686610433213&id=100066756416622&set=a.604487031786505&eav=AfZqcT4TYYyVh5edwHnjCP4Ai-VFocs6KbVWVdM8g7KNzj_PugdAY6W0jFZU39Fyw_o&paipv=0&source=57&refid=52&__tn__=EH-R', 'text': ''}], 'user_id': '100066756416622', 'username': 'Vẽ bậy', 'user_url': 'https://facebook.com/vebay69?eav=AfaFmABxc24CFO9sDRk6efnIQes-imEAHzAMg6ddKj3506QdZMHSDbKQ-XPWK4v5ufs&refid=52&__tn__=C-R&paipv=0', 'is_live': False, 'factcheck': None, 'shared_post_id': None, 'shared_time': None, 'shared_user_id': None, 'shared_username': None, 'shared_post_url': None, 'available': True, 'comments_full': None, 'reactors': None, 'w3_fb_url': None, 'reactions': None, 'reaction_count': 3300, 'with': None, 'page_id': '772954189491441', 'sharers': <generator object PostExtractor.extract_sharers at 0x7f2f75c874c0>, 'image_id': '684686610433213', 'image_ids': ['684686610433213'], 'was_live': False}\n",
      "Extracted 6/8 sharers\n",
      "Sleep 22 seconds\n",
      "{'original_request_url': 684603707108170, 'post_url': 'https://facebook.com/story.php?story_fbid=684603707108170&id=100066756416622', 'post_id': 684603707108170, 'text': 'Team vô sản ✌️\\n#Muonggg', 'post_text': 'Team vô sản ✌️\\n#Muonggg', 'shared_text': '', 'original_text': None, 'time': datetime.datetime(2023, 11, 18, 15, 34, 17), 'timestamp': 1700296457, 'image': 'https://scontent.fhan14-4.fna.fbcdn.net/v/t39.30808-6/401741542_684603540441520_8889609901616083207_n.jpg?stp=cp0_dst-jpg_e15_fr_q65&_nc_cat=111&ccb=1-7&_nc_sid=5f2048&efg=eyJpIjoidCJ9&_nc_eui2=AeEelp0bhwUwAi__K__-EB4BVzzi3JS5hyZXPOLclLmHJlqhSYOFaphARhFOKyr8ubn2dwaz_zzCjYKK21iiL-Z2&_nc_ohc=MsGlhIbGUlMAX8XffFO&tn=-K80ZVMTFok47yFi&_nc_ht=scontent.fhan14-4.fna&oh=00_AfCOLo6f1cUEgvgzvzXUAai8bXkglC-M4Ly4y_Ba_OSgOg&oe=6564EAAE&manual_redirect=1', 'image_lowquality': 'https://scontent.fhan14-4.fna.fbcdn.net/v/t39.30808-6/401741542_684603540441520_8889609901616083207_n.jpg?stp=cp0_dst-jpg_e15_p320x320_q65&_nc_cat=111&ccb=1-7&_nc_sid=5f2048&efg=eyJpIjoidCJ9&_nc_eui2=AeEelp0bhwUwAi__K__-EB4BVzzi3JS5hyZXPOLclLmHJlqhSYOFaphARhFOKyr8ubn2dwaz_zzCjYKK21iiL-Z2&_nc_ohc=MsGlhIbGUlMAX8XffFO&tn=-K80ZVMTFok47yFi&_nc_ht=scontent.fhan14-4.fna&oh=00_AfCOeuyAuBKKoRfb1vspyf3mQtIq5dt-mkdzF-g_CGD-Xw&oe=6564EAAE', 'images': ['https://scontent.fhan14-4.fna.fbcdn.net/v/t39.30808-6/401741542_684603540441520_8889609901616083207_n.jpg?stp=cp0_dst-jpg_e15_fr_q65&_nc_cat=111&ccb=1-7&_nc_sid=5f2048&efg=eyJpIjoidCJ9&_nc_eui2=AeEelp0bhwUwAi__K__-EB4BVzzi3JS5hyZXPOLclLmHJlqhSYOFaphARhFOKyr8ubn2dwaz_zzCjYKK21iiL-Z2&_nc_ohc=MsGlhIbGUlMAX8XffFO&tn=-K80ZVMTFok47yFi&_nc_ht=scontent.fhan14-4.fna&oh=00_AfCOLo6f1cUEgvgzvzXUAai8bXkglC-M4Ly4y_Ba_OSgOg&oe=6564EAAE&manual_redirect=1'], 'images_description': ['May be an image of text'], 'images_lowquality': ['https://scontent.fhan14-4.fna.fbcdn.net/v/t39.30808-6/401741542_684603540441520_8889609901616083207_n.jpg?stp=cp0_dst-jpg_e15_p320x320_q65&_nc_cat=111&ccb=1-7&_nc_sid=5f2048&efg=eyJpIjoidCJ9&_nc_eui2=AeEelp0bhwUwAi__K__-EB4BVzzi3JS5hyZXPOLclLmHJlqhSYOFaphARhFOKyr8ubn2dwaz_zzCjYKK21iiL-Z2&_nc_ohc=MsGlhIbGUlMAX8XffFO&tn=-K80ZVMTFok47yFi&_nc_ht=scontent.fhan14-4.fna&oh=00_AfCOeuyAuBKKoRfb1vspyf3mQtIq5dt-mkdzF-g_CGD-Xw&oe=6564EAAE'], 'images_lowquality_description': ['May be an image of text'], 'video': None, 'video_duration_seconds': None, 'video_height': None, 'video_id': None, 'video_quality': None, 'video_size_MB': None, 'video_thumbnail': None, 'video_watches': None, 'video_width': None, 'likes': 1700, 'comments': 36, 'shares': 19, 'link': None, 'links': [{'link': '/hashtag/muonggg?refid=52&__tn__=%2As-R&paipv=0&eav=AfZuKszXYjHpu_bNWt8wRAlROfiTQmoGlJOPg3jfgC0jLxM0VW9OeGXxGoEAdIalMws', 'text': '#Muonggg'}, {'link': 'https://m.facebook.com/photo.php?fbid=684603543774853&id=100066756416622&set=a.604487025119839&eav=AfaVXhhZh953DkJJirBydquunXGuUhPFEkF4McHU7bMe4SvyMcJfnZb55sR6uyvcPoM&paipv=0&source=57&refid=52&__tn__=EH-R', 'text': ''}], 'user_id': '100066756416622', 'username': 'Vẽ bậy', 'user_url': 'https://facebook.com/vebay69?eav=AfZNu76wPWMFvj1J8VJvt2QOtxR2PObXneROT70k04yWBEPeVQPwLkjSLsqFRI3zJyc&refid=52&__tn__=C-R&paipv=0', 'is_live': False, 'factcheck': None, 'shared_post_id': None, 'shared_time': None, 'shared_user_id': None, 'shared_username': None, 'shared_post_url': None, 'available': True, 'comments_full': None, 'reactors': None, 'w3_fb_url': None, 'reactions': None, 'reaction_count': 1700, 'with': None, 'page_id': '772954189491441', 'sharers': <generator object PostExtractor.extract_sharers at 0x7f2f7588e260>, 'image_id': '684603543774853', 'image_ids': ['684603543774853'], 'was_live': False}\n",
      "Extracted 9/19 sharers\n",
      "Sleep 23 seconds\n",
      "{'original_request_url': 684191557149385, 'post_url': 'https://facebook.com/story.php?story_fbid=684191557149385&id=100066756416622', 'post_id': 684191557149385, 'text': 'Chắc là tóc của người cơ địa xoăn thôi...\\n#Hoho', 'post_text': 'Chắc là tóc của người cơ địa xoăn thôi...\\n#Hoho', 'shared_text': '', 'original_text': None, 'time': datetime.datetime(2023, 11, 17, 19, 35, 6), 'timestamp': 1700224506, 'image': 'https://scontent.fhan14-4.fna.fbcdn.net/v/t39.30808-6/402478792_684191370482737_8456457724479046575_n.jpg?stp=cp0_dst-jpg_e15_fr_q65&_nc_cat=111&ccb=1-7&_nc_sid=5f2048&efg=eyJpIjoidCJ9&_nc_eui2=AeGFKPJ70qR_Mj-dVoCnrCCLeRH3i-bxk0Z5EfeL5vGTRrrqGKtPqH9_6wFTHeBCf0BQ5XieFcc5Dws7NEOWC-51&_nc_ohc=z_xtBw-0QL0AX_YPmnr&_nc_ht=scontent.fhan14-4.fna&oh=00_AfCek8iVByktoowbS62_0fhjOUgmBU_MRFbSzFrZf5cGqw&oe=6564D976&manual_redirect=1', 'image_lowquality': 'https://scontent.fhan14-4.fna.fbcdn.net/v/t39.30808-6/402478792_684191370482737_8456457724479046575_n.jpg?stp=cp0_dst-jpg_e15_p320x320_q65&_nc_cat=111&ccb=1-7&_nc_sid=5f2048&efg=eyJpIjoidCJ9&_nc_eui2=AeGFKPJ70qR_Mj-dVoCnrCCLeRH3i-bxk0Z5EfeL5vGTRrrqGKtPqH9_6wFTHeBCf0BQ5XieFcc5Dws7NEOWC-51&_nc_ohc=z_xtBw-0QL0AX_YPmnr&_nc_ht=scontent.fhan14-4.fna&oh=00_AfBOtLM0javyP3DuuLaMRCFBIYXwbyZo9WDRsehTir1kig&oe=6564D976', 'images': ['https://scontent.fhan14-4.fna.fbcdn.net/v/t39.30808-6/402478792_684191370482737_8456457724479046575_n.jpg?stp=cp0_dst-jpg_e15_fr_q65&_nc_cat=111&ccb=1-7&_nc_sid=5f2048&efg=eyJpIjoidCJ9&_nc_eui2=AeGFKPJ70qR_Mj-dVoCnrCCLeRH3i-bxk0Z5EfeL5vGTRrrqGKtPqH9_6wFTHeBCf0BQ5XieFcc5Dws7NEOWC-51&_nc_ohc=z_xtBw-0QL0AX_YPmnr&_nc_ht=scontent.fhan14-4.fna&oh=00_AfCek8iVByktoowbS62_0fhjOUgmBU_MRFbSzFrZf5cGqw&oe=6564D976&manual_redirect=1'], 'images_description': ['May be a doodle of text'], 'images_lowquality': ['https://scontent.fhan14-4.fna.fbcdn.net/v/t39.30808-6/402478792_684191370482737_8456457724479046575_n.jpg?stp=cp0_dst-jpg_e15_p320x320_q65&_nc_cat=111&ccb=1-7&_nc_sid=5f2048&efg=eyJpIjoidCJ9&_nc_eui2=AeGFKPJ70qR_Mj-dVoCnrCCLeRH3i-bxk0Z5EfeL5vGTRrrqGKtPqH9_6wFTHeBCf0BQ5XieFcc5Dws7NEOWC-51&_nc_ohc=z_xtBw-0QL0AX_YPmnr&_nc_ht=scontent.fhan14-4.fna&oh=00_AfBOtLM0javyP3DuuLaMRCFBIYXwbyZo9WDRsehTir1kig&oe=6564D976'], 'images_lowquality_description': ['May be a doodle of text'], 'video': None, 'video_duration_seconds': None, 'video_height': None, 'video_id': None, 'video_quality': None, 'video_size_MB': None, 'video_thumbnail': None, 'video_watches': None, 'video_width': None, 'likes': 1900, 'comments': 48, 'shares': 7, 'link': None, 'links': [{'link': '/hashtag/hoho?refid=52&__tn__=%2As-R&paipv=0&eav=AfY6KJw_T55NdztVtqiQJXY6-Vn2shUiWXXlrA_Kwh2iScSzmLwhEQyYnWbI6uWucRA', 'text': '#Hoho'}, {'link': 'https://m.facebook.com/photo.php?fbid=684191373816070&id=100066756416622&set=a.604487031786505&eav=AfZkUu4rt8GlLewjc-9v2b2p27oXCPBgFd97FGdrDm9HN5kDMQH-zQBYcqq8N-8XJQI&paipv=0&source=57&refid=52&__tn__=EH-R', 'text': ''}], 'user_id': '100066756416622', 'username': 'Vẽ bậy', 'user_url': 'https://facebook.com/vebay69?eav=AfYHK-KK50QbvGHPq5tI5t6wBatjCQVJwngqCFYBUiK6UBLg31aal8byhZ43_Iy1u-Q&refid=52&__tn__=C-R&paipv=0', 'is_live': False, 'factcheck': None, 'shared_post_id': None, 'shared_time': None, 'shared_user_id': None, 'shared_username': None, 'shared_post_url': None, 'available': True, 'comments_full': None, 'reactors': None, 'w3_fb_url': None, 'reactions': None, 'reaction_count': 1900, 'with': None, 'page_id': '772954189491441', 'sharers': <generator object PostExtractor.extract_sharers at 0x7f2f756e8c80>, 'image_id': '684191373816070', 'image_ids': ['684191373816070'], 'was_live': False}\n",
      "Extracted 6/7 sharers\n",
      "Sleep 25 seconds\n",
      "{'original_request_url': 683955240506350, 'post_url': 'https://facebook.com/story.php?story_fbid=683955240506350&id=100066756416622', 'post_id': 683955240506350, 'text': 'Giải trí thôi còn bơi vào bờ được nhé bạn ơi\\n#vietlott #choicotrachnhiem', 'post_text': 'Giải trí thôi còn bơi vào bờ được nhé bạn ơi\\n#vietlott #choicotrachnhiem', 'shared_text': '', 'original_text': None, 'time': datetime.datetime(2023, 11, 17, 11, 0, 3), 'timestamp': 1700193603, 'image': 'https://scontent.fhan14-1.fna.fbcdn.net/v/t39.30808-6/393725914_683955187173022_3015177689662052432_n.jpg?stp=cp0_dst-jpg_e15_fr_q65&_nc_cat=107&ccb=1-7&_nc_sid=5f2048&efg=eyJpIjoidCJ9&_nc_eui2=AeEkfnUKO1YxUgI9yyXKexUnbvZkvWo_ypVu9mS9aj_KldI_YMPMG26gqFT5XEZGwgZMZptiU6IZX_BIq00_xt8h&_nc_ohc=29Kr2-DhVkAAX9hJgim&_nc_ht=scontent.fhan14-1.fna&oh=00_AfAwe0bwdi3XGIjufiBnPk0wrrCMFjENn_aN9o-sPTP2Qw&oe=6565C1EC&manual_redirect=1', 'image_lowquality': 'https://scontent.fhan14-1.fna.fbcdn.net/v/t39.30808-6/393725914_683955187173022_3015177689662052432_n.jpg?stp=cp0_dst-jpg_e15_p320x320_q65&_nc_cat=107&ccb=1-7&_nc_sid=5f2048&efg=eyJpIjoidCJ9&_nc_eui2=AeEkfnUKO1YxUgI9yyXKexUnbvZkvWo_ypVu9mS9aj_KldI_YMPMG26gqFT5XEZGwgZMZptiU6IZX_BIq00_xt8h&_nc_ohc=29Kr2-DhVkAAX9hJgim&_nc_ht=scontent.fhan14-1.fna&oh=00_AfC0c3h7ZiHvQFkx-Y-KhvNnSnIsCUKlxVvr1OjB7I4Lzw&oe=6565C1EC', 'images': ['https://scontent.fhan14-1.fna.fbcdn.net/v/t39.30808-6/393725914_683955187173022_3015177689662052432_n.jpg?stp=cp0_dst-jpg_e15_fr_q65&_nc_cat=107&ccb=1-7&_nc_sid=5f2048&efg=eyJpIjoidCJ9&_nc_eui2=AeEkfnUKO1YxUgI9yyXKexUnbvZkvWo_ypVu9mS9aj_KldI_YMPMG26gqFT5XEZGwgZMZptiU6IZX_BIq00_xt8h&_nc_ohc=29Kr2-DhVkAAX9hJgim&_nc_ht=scontent.fhan14-1.fna&oh=00_AfAwe0bwdi3XGIjufiBnPk0wrrCMFjENn_aN9o-sPTP2Qw&oe=6565C1EC&manual_redirect=1'], 'images_description': [\"May be a doodle of text that says 'Dừng lại đi bạn ơi Lại xịt rồ“i Còn 50k tối Phải gỡ... phải gỡ...!!! Trách nhiệm lên mua 10k thôi, còn 40k để mà ăn Nhưng... mà tao chỉ muốn gỡ lại những gì đã mất tao hứa sẽ dừng Chơi vui thôi không cay cú Tao hiểu rồi cảm ơn Xòi'\"], 'images_lowquality': ['https://scontent.fhan14-1.fna.fbcdn.net/v/t39.30808-6/393725914_683955187173022_3015177689662052432_n.jpg?stp=cp0_dst-jpg_e15_p320x320_q65&_nc_cat=107&ccb=1-7&_nc_sid=5f2048&efg=eyJpIjoidCJ9&_nc_eui2=AeEkfnUKO1YxUgI9yyXKexUnbvZkvWo_ypVu9mS9aj_KldI_YMPMG26gqFT5XEZGwgZMZptiU6IZX_BIq00_xt8h&_nc_ohc=29Kr2-DhVkAAX9hJgim&_nc_ht=scontent.fhan14-1.fna&oh=00_AfC0c3h7ZiHvQFkx-Y-KhvNnSnIsCUKlxVvr1OjB7I4Lzw&oe=6565C1EC'], 'images_lowquality_description': [\"May be a doodle of text that says 'Dừng lại đi bạn ơi Lại xịt rồ“i Còn 50k tối Phải gỡ... phải gỡ...!!! Trách nhiệm lên mua 10k thôi, còn 40k để mà ăn Nhưng... mà tao chỉ muốn gỡ lại những gì đã mất tao hứa sẽ dừng Chơi vui thôi không cay cú Tao hiểu rồi cảm ơn Xòi'\"], 'video': None, 'video_duration_seconds': None, 'video_height': None, 'video_id': None, 'video_quality': None, 'video_size_MB': None, 'video_thumbnail': None, 'video_watches': None, 'video_width': None, 'likes': 3400, 'comments': 25, 'shares': 9, 'link': None, 'links': [{'link': '/hashtag/vietlott?refid=52&__tn__=%2As-R&paipv=0&eav=AfaE3sz0IbtNuqqxYnebme4XvhdfgFOaHFoIbx0lzX2auAREPm33zu8UNxBTzjEL8Pg', 'text': '#vietlott'}, {'link': '/hashtag/choicotrachnhiem?refid=52&__tn__=%2As-R&paipv=0&eav=Afb5L4a_LXpaoh_kIqkH_QHSr6tntJboQmON4bok5ht58drPMJhDb4LBjjwsnV4IftQ', 'text': '#choicotrachnhiem'}, {'link': 'https://m.facebook.com/photo.php?fbid=683955190506355&id=100066756416622&set=a.604487031786505&eav=Afbd2-UGCtwfg9gDHxwk_lQU9prvY3gyn7Cvnm9zGVXIIxPoACR70Zpw4W0CCBSt2Hg&paipv=0&source=57&refid=52&__tn__=EH-R', 'text': ''}], 'user_id': '100066756416622', 'username': 'Vẽ bậy', 'user_url': 'https://facebook.com/vebay69?eav=AfaNwjP3uOJXxXQEy4gP1Z17fBFMV5NS6AP6xkeXjfwJKwQzKgdX23bAmhqQqEOE-EE&refid=52&__tn__=C-R&paipv=0', 'is_live': False, 'factcheck': None, 'shared_post_id': None, 'shared_time': None, 'shared_user_id': None, 'shared_username': None, 'shared_post_url': None, 'available': True, 'comments_full': None, 'reactors': None, 'w3_fb_url': None, 'reactions': None, 'reaction_count': 3400, 'with': None, 'page_id': '772954189491441', 'sharers': <generator object PostExtractor.extract_sharers at 0x7f2f75459460>, 'image_id': '683955190506355', 'image_ids': ['683955190506355'], 'was_live': False}\n",
      "Extracted 8/9 sharers\n",
      "Sleep 24 seconds\n",
      "{'original_request_url': 682996903935517, 'post_url': 'https://facebook.com/story.php?story_fbid=682996903935517&id=100066756416622', 'post_id': 682996903935517, 'text': 'Bạn bè nhà người ta chia ngọt sẻ bùi, ở đây hở tí là ăn mảnh :)\\n#Hoho', 'post_text': 'Bạn bè nhà người ta chia ngọt sẻ bùi, ở đây hở tí là ăn mảnh :)\\n#Hoho', 'shared_text': '', 'original_text': None, 'time': datetime.datetime(2023, 11, 16, 19, 0, 1), 'timestamp': 1700136001, 'image': 'https://scontent.fhan14-4.fna.fbcdn.net/v/t39.30808-6/402428849_682996737268867_4753740568739976205_n.jpg?stp=cp0_dst-jpg_e15_fr_q65&_nc_cat=111&ccb=1-7&_nc_sid=5f2048&efg=eyJpIjoidCJ9&_nc_eui2=AeFvkcwX7Iwjx8xPSxQ2DD2l9HqTx8XR7-b0epPHxdHv5vz0YDlfZvcEoiLOxD_wSjotPhzjapjwMBB407pZOJIh&_nc_ohc=BhDhtEaBXKUAX-XahqN&_nc_ht=scontent.fhan14-4.fna&oh=00_AfCUMaR86YAJh64BaQH2Z4Up5ebjII4JFxOBG997OGs1Gg&oe=6565DE19&manual_redirect=1', 'image_lowquality': 'https://scontent.fhan14-4.fna.fbcdn.net/v/t39.30808-6/402428849_682996737268867_4753740568739976205_n.jpg?stp=cp0_dst-jpg_e15_p320x320_q65&_nc_cat=111&ccb=1-7&_nc_sid=5f2048&efg=eyJpIjoidCJ9&_nc_eui2=AeFvkcwX7Iwjx8xPSxQ2DD2l9HqTx8XR7-b0epPHxdHv5vz0YDlfZvcEoiLOxD_wSjotPhzjapjwMBB407pZOJIh&_nc_ohc=BhDhtEaBXKUAX-XahqN&_nc_ht=scontent.fhan14-4.fna&oh=00_AfC4Jz77A8zRNMb0ejH8eTWGEM1TVAtpibdeNY5BE6MhGg&oe=6565DE19', 'images': ['https://scontent.fhan14-4.fna.fbcdn.net/v/t39.30808-6/402428849_682996737268867_4753740568739976205_n.jpg?stp=cp0_dst-jpg_e15_fr_q65&_nc_cat=111&ccb=1-7&_nc_sid=5f2048&efg=eyJpIjoidCJ9&_nc_eui2=AeFvkcwX7Iwjx8xPSxQ2DD2l9HqTx8XR7-b0epPHxdHv5vz0YDlfZvcEoiLOxD_wSjotPhzjapjwMBB407pZOJIh&_nc_ohc=BhDhtEaBXKUAX-XahqN&_nc_ht=scontent.fhan14-4.fna&oh=00_AfCUMaR86YAJh64BaQH2Z4Up5ebjII4JFxOBG997OGs1Gg&oe=6565DE19&manual_redirect=1'], 'images_description': [\"May be an illustration of text that says 'Hehehe... Làm miếng Ăn gì mang ra anh em xem nào Học đâu cái thói...'\"], 'images_lowquality': ['https://scontent.fhan14-4.fna.fbcdn.net/v/t39.30808-6/402428849_682996737268867_4753740568739976205_n.jpg?stp=cp0_dst-jpg_e15_p320x320_q65&_nc_cat=111&ccb=1-7&_nc_sid=5f2048&efg=eyJpIjoidCJ9&_nc_eui2=AeFvkcwX7Iwjx8xPSxQ2DD2l9HqTx8XR7-b0epPHxdHv5vz0YDlfZvcEoiLOxD_wSjotPhzjapjwMBB407pZOJIh&_nc_ohc=BhDhtEaBXKUAX-XahqN&_nc_ht=scontent.fhan14-4.fna&oh=00_AfC4Jz77A8zRNMb0ejH8eTWGEM1TVAtpibdeNY5BE6MhGg&oe=6565DE19'], 'images_lowquality_description': [\"May be an illustration of text that says 'Hehehe... Làm miếng Ăn gì mang ra anh em xem nào Học đâu cái thói...'\"], 'video': None, 'video_duration_seconds': None, 'video_height': None, 'video_id': None, 'video_quality': None, 'video_size_MB': None, 'video_thumbnail': None, 'video_watches': None, 'video_width': None, 'likes': 1100, 'comments': 7, 'shares': 4, 'link': None, 'links': [{'link': '/hashtag/hoho?refid=52&__tn__=%2As-R&paipv=0&eav=AfYUG4LqXMN-y_jRq557kG6gDINc27qI4IJYGxZhl1x4-p4PP4WzfHgyrChHZDQsAIA', 'text': '#Hoho'}, {'link': 'https://m.facebook.com/photo.php?fbid=682996743935533&id=100066756416622&set=a.604487031786505&eav=AfbHPGPx_DYTw3yIMvzqmcKMNl6lqk3N9SmXUz4VqPsqwg4yAQV7benW3-EFV1xRdiw&paipv=0&source=57&refid=52&__tn__=EH-R', 'text': ''}], 'user_id': '100066756416622', 'username': 'Vẽ bậy', 'user_url': 'https://facebook.com/vebay69?eav=AfZvdeISl6D_5bPIfU0SuY3s4Nvt7VvkOlrC5STN8MwpZBTlilRsTGOVznWOY5jOBDw&refid=52&__tn__=C-R&paipv=0', 'is_live': False, 'factcheck': None, 'shared_post_id': None, 'shared_time': None, 'shared_user_id': None, 'shared_username': None, 'shared_post_url': None, 'available': True, 'comments_full': None, 'reactors': None, 'w3_fb_url': None, 'reactions': None, 'reaction_count': 1100, 'with': None, 'page_id': '772954189491441', 'sharers': <generator object PostExtractor.extract_sharers at 0x7f2f753498c0>, 'image_id': '682996743935533', 'image_ids': ['682996743935533'], 'was_live': False}\n",
      "Extracted 3/4 sharers\n",
      "Sleep 15 seconds\n",
      "{'original_request_url': 683571943878013, 'post_url': 'https://facebook.com/story.php?story_fbid=683571943878013&id=100066756416622', 'post_id': 683571943878013, 'text': 'Quên hoài…\\n#Muonggg', 'post_text': 'Quên hoài…\\n#Muonggg', 'shared_text': '', 'original_text': None, 'time': datetime.datetime(2023, 11, 16, 15, 37, 17), 'timestamp': 1700123837, 'image': 'https://scontent.fhan14-1.fna.fbcdn.net/v/t39.30808-6/401634735_683571700544704_6049515324962041659_n.jpg?stp=cp0_dst-jpg_e15_fr_q65&_nc_cat=107&ccb=1-7&_nc_sid=5f2048&efg=eyJpIjoidCJ9&_nc_eui2=AeE-tJUopFfZkTOtH46CZz2-8LAexWSCuiPwsB7FZIK6I9i3Vo5OJJ6xOBb-POZ1PAcajaufpBYJjkN89duddEa8&_nc_ohc=RcXG6N-lrgIAX_rBiql&_nc_ht=scontent.fhan14-1.fna&oh=00_AfA8uwQzoXVTHaM6I5yO3z6ERWFvOjJmPwIx9T4FkZkNeA&oe=65654472&manual_redirect=1', 'image_lowquality': 'https://scontent.fhan14-1.fna.fbcdn.net/v/t39.30808-6/401634735_683571700544704_6049515324962041659_n.jpg?stp=cp0_dst-jpg_e15_p320x320_q65&_nc_cat=107&ccb=1-7&_nc_sid=5f2048&efg=eyJpIjoidCJ9&_nc_eui2=AeE-tJUopFfZkTOtH46CZz2-8LAexWSCuiPwsB7FZIK6I9i3Vo5OJJ6xOBb-POZ1PAcajaufpBYJjkN89duddEa8&_nc_ohc=RcXG6N-lrgIAX_rBiql&_nc_ht=scontent.fhan14-1.fna&oh=00_AfBsawcPK6EA-adgWZX-0ZFivCNyDldEwypsbhseJNaxEg&oe=65654472', 'images': ['https://scontent.fhan14-1.fna.fbcdn.net/v/t39.30808-6/401634735_683571700544704_6049515324962041659_n.jpg?stp=cp0_dst-jpg_e15_fr_q65&_nc_cat=107&ccb=1-7&_nc_sid=5f2048&efg=eyJpIjoidCJ9&_nc_eui2=AeE-tJUopFfZkTOtH46CZz2-8LAexWSCuiPwsB7FZIK6I9i3Vo5OJJ6xOBb-POZ1PAcajaufpBYJjkN89duddEa8&_nc_ohc=RcXG6N-lrgIAX_rBiql&_nc_ht=scontent.fhan14-1.fna&oh=00_AfA8uwQzoXVTHaM6I5yO3z6ERWFvOjJmPwIx9T4FkZkNeA&oe=65654472&manual_redirect=1'], 'images_description': ['May be a doodle of text'], 'images_lowquality': ['https://scontent.fhan14-1.fna.fbcdn.net/v/t39.30808-6/401634735_683571700544704_6049515324962041659_n.jpg?stp=cp0_dst-jpg_e15_p320x320_q65&_nc_cat=107&ccb=1-7&_nc_sid=5f2048&efg=eyJpIjoidCJ9&_nc_eui2=AeE-tJUopFfZkTOtH46CZz2-8LAexWSCuiPwsB7FZIK6I9i3Vo5OJJ6xOBb-POZ1PAcajaufpBYJjkN89duddEa8&_nc_ohc=RcXG6N-lrgIAX_rBiql&_nc_ht=scontent.fhan14-1.fna&oh=00_AfBsawcPK6EA-adgWZX-0ZFivCNyDldEwypsbhseJNaxEg&oe=65654472'], 'images_lowquality_description': ['May be a doodle of text'], 'video': None, 'video_duration_seconds': None, 'video_height': None, 'video_id': None, 'video_quality': None, 'video_size_MB': None, 'video_thumbnail': None, 'video_watches': None, 'video_width': None, 'likes': 1500, 'comments': 28, 'shares': 5, 'link': None, 'links': [{'link': '/hashtag/muonggg?refid=52&__tn__=%2As-R&paipv=0&eav=AfbDCwqcVpry5umC2chigB0cMfOfN6lVC1wutHF-1fbPainNJoQpKVTT1QuxAfeFIWk', 'text': '#Muonggg'}, {'link': 'https://m.facebook.com/photo.php?fbid=683571703878037&id=100066756416622&set=a.604487025119839&eav=AfanSAIsQhBUvkAVgQUr1oHtbwg3qiUFETuw79FtuyY-w7VCKP39127_Oif965EdBh4&paipv=0&source=57&refid=52&__tn__=EH-R', 'text': ''}], 'user_id': '100066756416622', 'username': 'Vẽ bậy', 'user_url': 'https://facebook.com/vebay69?eav=AfavKHp560RrjMwysFFNjXFi_41eXbUKiKwBg55L-LJJz7_p4nSqHwor49YKNItUJjI&refid=52&__tn__=C-R&paipv=0', 'is_live': False, 'factcheck': None, 'shared_post_id': None, 'shared_time': None, 'shared_user_id': None, 'shared_username': None, 'shared_post_url': None, 'available': True, 'comments_full': None, 'reactors': None, 'w3_fb_url': None, 'reactions': None, 'reaction_count': 1500, 'with': None, 'page_id': '772954189491441', 'sharers': <generator object PostExtractor.extract_sharers at 0x7f2f75796c00>, 'image_id': '683571703878037', 'image_ids': ['683571703878037'], 'was_live': False}\n",
      "Extracted 3/5 sharers\n",
      "Sleep 21 seconds\n",
      "{'original_request_url': 683467500555124, 'post_url': 'https://facebook.com/story.php?story_fbid=683467500555124&id=100066756416622', 'post_id': 683467500555124, 'text': 'Tôi mỗi buổi sáng\\n#Panda', 'post_text': 'Tôi mỗi buổi sáng\\n#Panda', 'shared_text': '', 'original_text': None, 'time': datetime.datetime(2023, 11, 16, 10, 37, 27), 'timestamp': 1700105847, 'image': 'https://scontent.fhan14-3.fna.fbcdn.net/v/t39.30808-6/400714272_683467413888466_9098979947980968878_n.jpg?stp=cp0_dst-jpg_e15_fr_q65&_nc_cat=103&ccb=1-7&_nc_sid=5f2048&efg=eyJpIjoidCJ9&_nc_eui2=AeEPSdu5hQyPjH6A2KF5YkaFiZPHZ4n3t0KJk8dnife3QtN_ci3q8CTgGcV-Fn75iYW4s9iF7yOeJCEjx0eQTKqU&_nc_ohc=3KqPSGKXN1AAX85pTt5&_nc_ht=scontent.fhan14-3.fna&oh=00_AfD_YP-x_c91X8cF-1IwsBCjUiIYmVWwMkRt6aRleaYI7g&oe=6565A940&manual_redirect=1', 'image_lowquality': 'https://scontent.fhan14-3.fna.fbcdn.net/v/t39.30808-6/400714272_683467413888466_9098979947980968878_n.jpg?stp=cp0_dst-jpg_e15_p320x320_q65&_nc_cat=103&ccb=1-7&_nc_sid=5f2048&efg=eyJpIjoidCJ9&_nc_eui2=AeEPSdu5hQyPjH6A2KF5YkaFiZPHZ4n3t0KJk8dnife3QtN_ci3q8CTgGcV-Fn75iYW4s9iF7yOeJCEjx0eQTKqU&_nc_ohc=3KqPSGKXN1AAX85pTt5&_nc_ht=scontent.fhan14-3.fna&oh=00_AfCkII19KTwxdjophauY_TmjEAvLFrZsDDZQhC_BIXiPKA&oe=6565A940', 'images': ['https://scontent.fhan14-3.fna.fbcdn.net/v/t39.30808-6/400714272_683467413888466_9098979947980968878_n.jpg?stp=cp0_dst-jpg_e15_fr_q65&_nc_cat=103&ccb=1-7&_nc_sid=5f2048&efg=eyJpIjoidCJ9&_nc_eui2=AeEPSdu5hQyPjH6A2KF5YkaFiZPHZ4n3t0KJk8dnife3QtN_ci3q8CTgGcV-Fn75iYW4s9iF7yOeJCEjx0eQTKqU&_nc_ohc=3KqPSGKXN1AAX85pTt5&_nc_ht=scontent.fhan14-3.fna&oh=00_AfD_YP-x_c91X8cF-1IwsBCjUiIYmVWwMkRt6aRleaYI7g&oe=6565A940&manual_redirect=1'], 'images_description': [\"May be an image of text that says 'Ấm quá Chẳng muốn dậy... Thì ngủ thôi dậy làm gì Về Vì Lương 5tr có đá¡ng không? Có!'\"], 'images_lowquality': ['https://scontent.fhan14-3.fna.fbcdn.net/v/t39.30808-6/400714272_683467413888466_9098979947980968878_n.jpg?stp=cp0_dst-jpg_e15_p320x320_q65&_nc_cat=103&ccb=1-7&_nc_sid=5f2048&efg=eyJpIjoidCJ9&_nc_eui2=AeEPSdu5hQyPjH6A2KF5YkaFiZPHZ4n3t0KJk8dnife3QtN_ci3q8CTgGcV-Fn75iYW4s9iF7yOeJCEjx0eQTKqU&_nc_ohc=3KqPSGKXN1AAX85pTt5&_nc_ht=scontent.fhan14-3.fna&oh=00_AfCkII19KTwxdjophauY_TmjEAvLFrZsDDZQhC_BIXiPKA&oe=6565A940'], 'images_lowquality_description': [\"May be an image of text that says 'Ấm quá Chẳng muốn dậy... Thì ngủ thôi dậy làm gì Về Vì Lương 5tr có đá¡ng không? Có!'\"], 'video': None, 'video_duration_seconds': None, 'video_height': None, 'video_id': None, 'video_quality': None, 'video_size_MB': None, 'video_thumbnail': None, 'video_watches': None, 'video_width': None, 'likes': 12000, 'comments': 674, 'shares': 768, 'link': None, 'links': [{'link': '/hashtag/panda?refid=52&__tn__=%2As-R&paipv=0&eav=AfaHbNM2NZ4SL5U7P8c5_RMQoX3v7XHzjDea3Aqs0E7e6Cv2kcnEaOmkzJ7emc6rEGM', 'text': '#Panda'}, {'link': 'https://m.facebook.com/photo.php?fbid=683467417221799&id=100066756416622&set=a.604487031786505&eav=Afal5KNSCW8WZqBB80t7OZ3E3fd2eS3W-tHX-3bkukzcH6rJHwuvAk2vGLOSBgOUDbQ&paipv=0&source=57&refid=52&__tn__=EH-R', 'text': ''}], 'user_id': '100066756416622', 'username': 'Vẽ bậy', 'user_url': 'https://facebook.com/vebay69?eav=Afbdk582Z82DH8vXe9ExL_lDlyELbF0s_TZeFCaZCHzLe7OJKjJ4G5zt-VtQbvTxb48&refid=52&__tn__=C-R&paipv=0', 'is_live': False, 'factcheck': None, 'shared_post_id': None, 'shared_time': None, 'shared_user_id': None, 'shared_username': None, 'shared_post_url': None, 'available': True, 'comments_full': None, 'reactors': None, 'w3_fb_url': None, 'reactions': None, 'reaction_count': 12000, 'with': None, 'page_id': '772954189491441', 'sharers': <generator object PostExtractor.extract_sharers at 0x7f2f759002e0>, 'image_id': '683467417221799', 'image_ids': ['683467417221799'], 'was_live': False}\n",
      "Extracted 383/768 sharers\n",
      "Sleep 23 seconds\n"
     ]
    }
   ],
   "source": [
    "try:\n",
    "    for post in fs.get_posts(\n",
    "        post_urls=posts_ids,\n",
    "        options={\n",
    "            \"allow_extra_requests\": True,\n",
    "            \"sharers\": True,\n",
    "            \"sharers\": \"generator\",\n",
    "        },\n",
    "        timeout=120,\n",
    "    ):\n",
    "        print(post)\n",
    "        post_list.append(post)\n",
    "        num_sharer = extract_sharer(post['sharers'], post['original_request_url'])\n",
    "        print(f'Extracted {num_sharer}/{post[\"shares\"]} sharers')\n",
    "        total_sharer_real += post['shares']\n",
    "        utils.sleep(np.random.randint(10, 30))\n",
    "        print()\n",
    "except fs.exceptions.TemporarilyBanned:\n",
    "    print(\"TEMPORARILY BANNED\")\n",
    "except fs.exceptions.AccountDisabled:\n",
    "    print(\"ACCOUNT DISABLED\")\n",
    "except Exception as e:\n",
    "    print(e)"
   ]
  },
  {
   "cell_type": "code",
   "execution_count": 8,
   "metadata": {},
   "outputs": [
    {
     "name": "stdout",
     "output_type": "stream",
     "text": [
      "10\n",
      "Số posts đã crawl: 10\n",
      "Số sharers đã crawl: 440/862\n"
     ]
    }
   ],
   "source": [
    "print(NUMBER_POST)\n",
    "print(f\"Số posts đã crawl: {len(post_list)}\")\n",
    "print(f\"Số sharers đã crawl: {len(sharer_list)}/{total_sharer_real}\")"
   ]
  },
  {
   "cell_type": "code",
   "execution_count": 10,
   "metadata": {},
   "outputs": [
    {
     "name": "stdout",
     "output_type": "stream",
     "text": [
      "Save sharers data: ./data/vebay69/raw/sharers_2023-11-24_15-20-34.csv\n",
      "Save index 10 to resume: ./data/vebay69/url/i_post_id_share.txt\n"
     ]
    }
   ],
   "source": [
    "if sharer_list:\n",
    "    utils.save_data(\n",
    "        data_list=sharer_list,\n",
    "        folder_path=os.path.join('data','vebay69','raw'),\n",
    "        type=\"sharers\"\n",
    "    )\n",
    "utils.write_index_file(\n",
    "    file_path=index_post_id_file_path,\n",
    "    index=index_post_id + len(post_list)\n",
    ")"
   ]
  }
 ],
 "metadata": {
  "kernelspec": {
   "display_name": "py3108",
   "language": "python",
   "name": "python3"
  },
  "language_info": {
   "codemirror_mode": {
    "name": "ipython",
    "version": 3
   },
   "file_extension": ".py",
   "mimetype": "text/x-python",
   "name": "python",
   "nbconvert_exporter": "python",
   "pygments_lexer": "ipython3",
   "version": "3.10.8"
  }
 },
 "nbformat": 4,
 "nbformat_minor": 2
}
