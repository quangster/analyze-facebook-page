{
 "cells": [
  {
   "cell_type": "code",
   "execution_count": null,
   "metadata": {},
   "outputs": [],
   "source": [
    "import lib.facebook_scraper as fs\n",
    "import lib.utils as utils\n",
    "import pandas as pd\n",
    "import numpy as np\n",
    "import os\n",
    "import time"
   ]
  },
  {
   "cell_type": "code",
   "execution_count": null,
   "metadata": {},
   "outputs": [],
   "source": [
    "post_ids_df = pd.read_csv('data/vebay69/clean/post_ids.csv')\n",
    "post_ids_df.head()"
   ]
  },
  {
   "cell_type": "code",
   "execution_count": null,
   "metadata": {},
   "outputs": [],
   "source": [
    "fs.set_cookies('./cookies/cookie_1.txt')\n",
    "# fs.enable_logging()"
   ]
  },
  {
   "cell_type": "code",
   "execution_count": null,
   "metadata": {},
   "outputs": [],
   "source": [
    "NUMBER_POST = 10\n",
    "post_list = []\n",
    "sharer_list = []\n",
    "total_sharer_real = 0\n",
    "index_post_id_file_path = os.path.join('data','vebay69','url','i_post_id_share.txt')"
   ]
  },
  {
   "cell_type": "code",
   "execution_count": null,
   "metadata": {},
   "outputs": [],
   "source": [
    "index_post_id = utils.read_index_file(file_path=index_post_id_file_path)\n",
    "print(index_post_id)\n",
    "posts_ids = utils.get_post_id_list(df=post_ids_df, start=index_post_id, length=NUMBER_POST)\n",
    "posts_ids"
   ]
  },
  {
   "cell_type": "code",
   "execution_count": null,
   "metadata": {},
   "outputs": [],
   "source": [
    "def extract_sharer(sharers, post_id):\n",
    "    cnt_sharer = 0\n",
    "    global sharer_list\n",
    "    for sharer in sharers:\n",
    "        sharer['post_id'] = post_id\n",
    "        sharer_list.append(sharer)\n",
    "        cnt_sharer += 1\n",
    "        # time.sleep(np.random.uniform(0, 1))\n",
    "    return cnt_sharer"
   ]
  },
  {
   "cell_type": "code",
   "execution_count": null,
   "metadata": {},
   "outputs": [],
   "source": [
    "try:\n",
    "    for post in fs.get_posts(\n",
    "        post_urls=posts_ids,\n",
    "        options={\n",
    "            \"allow_extra_requests\": True,\n",
    "            \"sharers\": True,\n",
    "            \"sharers\": \"generator\",\n",
    "        },\n",
    "        timeout=120,\n",
    "    ):\n",
    "        print(post)\n",
    "        post_list.append(post)\n",
    "        num_sharer = extract_sharer(post['sharers'], post['original_request_url'])\n",
    "        print(f'Extracted {num_sharer}/{post[\"shares\"]} sharers')\n",
    "        total_sharer_real += post['shares']\n",
    "        utils.sleep(np.random.randint(5, 10))\n",
    "        print()\n",
    "except fs.exceptions.TemporarilyBanned:\n",
    "    print(\"TEMPORARILY BANNED\")\n",
    "except fs.exceptions.AccountDisabled:\n",
    "    print(\"ACCOUNT DISABLED\")\n",
    "except Exception as e:\n",
    "    print(e)"
   ]
  },
  {
   "cell_type": "code",
   "execution_count": null,
   "metadata": {},
   "outputs": [],
   "source": [
    "print(NUMBER_POST)\n",
    "print(f\"Số posts đã crawl: {len(post_list)}\")\n",
    "print(f\"Số sharers đã crawl: {len(sharer_list)}/{total_sharer_real}\")"
   ]
  },
  {
   "cell_type": "code",
   "execution_count": null,
   "metadata": {},
   "outputs": [],
   "source": [
    "if sharer_list:\n",
    "    utils.save_data(\n",
    "        data_list=sharer_list,\n",
    "        folder_path=os.path.join('data','vebay69','raw'),\n",
    "        type=\"sharers\"\n",
    "    )\n",
    "utils.write_index_file(\n",
    "    file_path=index_post_id_file_path,\n",
    "    index=index_post_id + len(post_list)\n",
    ")"
   ]
  }
 ],
 "metadata": {
  "kernelspec": {
   "display_name": "py3108",
   "language": "python",
   "name": "python3"
  },
  "language_info": {
   "codemirror_mode": {
    "name": "ipython",
    "version": 3
   },
   "file_extension": ".py",
   "mimetype": "text/x-python",
   "name": "python",
   "nbconvert_exporter": "python",
   "pygments_lexer": "ipython3",
   "version": "3.10.8"
  }
 },
 "nbformat": 4,
 "nbformat_minor": 2
}
