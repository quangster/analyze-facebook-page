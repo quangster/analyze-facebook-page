{
 "cells": [
  {
   "cell_type": "code",
   "execution_count": 1,
   "metadata": {},
   "outputs": [],
   "source": [
    "import lib.facebook_scraper as fs\n",
    "import lib.utils as utils\n",
    "import pandas as pd\n",
    "import numpy as np\n",
    "import os\n",
    "import time"
   ]
  },
  {
   "cell_type": "code",
   "execution_count": 2,
   "metadata": {},
   "outputs": [],
   "source": [
    "fs.set_cookies(cookies='cookies/cookie_1.txt')"
   ]
  },
  {
   "cell_type": "code",
   "execution_count": 5,
   "metadata": {},
   "outputs": [
    {
     "data": {
      "text/plain": [
       "{'top_post': {'post_id': '7425841487498750',\n",
       "  'text': 'Bỏ ghen, bỏ ghét, bỏ hờn\\nBỏ luôn tâm tính thua hơn với người\\nTrần đời mấy bận được vui\\nQuanh đi quẩn lại tay xuôi chân chùn.\\n\\nBỏ ảo tưởng, bỏ mông lung\\nBỏ những thứ chẳng đi cùng yêu thương\\nNắng vàng lóng lánh giọt sương\\nCỏ xanh xanh mát con đường người qua.\\n\\nBỏ danh lợi, bỏ xa hoa\\nTa về nương tựa thật thà tự tâm\\nBỏ tính toán, bỏ hiểm thâm\\nNhẹ nhàng thưởng chút hương trầm gió đưa.\\n\\nBỏ bao nhiêu gọi là vừa\\nKhi nhân thế vẫn day dưa trong lòng\\nThôi thì tuỳ cảnh mà đong\\nNắm đã khó, bỏ thì mong dễ gì?\\n\\nBỏ công được một lần đi\\nTrần gian ta ghé tiếc gì sống vui\\nBỏ ưu tư, bỏ ngậm ngùi\\nMỗi ngày bừng sáng rạng ngời ánh dương.\\n\\nBỎ...\\n- Tạ Công Dũng -',\n",
       "  'post_text': 'Bỏ ghen, bỏ ghét, bỏ hờn\\nBỏ luôn tâm tính thua hơn với người\\nTrần đời mấy bận được vui\\nQuanh đi quẩn lại tay xuôi chân chùn.\\n\\nBỏ ảo tưởng, bỏ mông lung\\nBỏ những thứ chẳng đi cùng yêu thương\\nNắng vàng lóng lánh giọt sương\\nCỏ xanh xanh mát con đường người qua.\\n\\nBỏ danh lợi, bỏ xa hoa\\nTa về nương tựa thật thà tự tâm\\nBỏ tính toán, bỏ hiểm thâm\\nNhẹ nhàng thưởng chút hương trầm gió đưa.\\n\\nBỏ bao nhiêu gọi là vừa\\nKhi nhân thế vẫn day dưa trong lòng\\nThôi thì tuỳ cảnh mà đong\\nNắm đã khó, bỏ thì mong dễ gì?\\n\\nBỏ công được một lần đi\\nTrần gian ta ghé tiếc gì sống vui\\nBỏ ưu tư, bỏ ngậm ngùi\\nMỗi ngày bừng sáng rạng ngời ánh dương.\\n\\nBỎ...\\n- Tạ Công Dũng -',\n",
       "  'shared_text': '',\n",
       "  'original_text': None,\n",
       "  'time': datetime.datetime(2023, 11, 29, 0, 0),\n",
       "  'timestamp': None,\n",
       "  'image': 'https://scontent.fhan14-3.fna.fbcdn.net/v/t39.30808-6/406216380_312365295014122_6606241224232946536_n.jpg?stp=cp0_dst-jpg_e15_fr_q65&_nc_cat=1&ccb=1-7&_nc_sid=ab7367&efg=eyJpIjoidCJ9&_nc_eui2=AeHruJFXWiQYb_L68qE0C_rPK2qC-yhmaZ8raoL7KGZpn25OAZipdSWjIZHyoMLREuuG_fMyuaAIuRy0kq9EKO6O&_nc_ohc=tByJVtB87TsAX_-7l-9&_nc_ht=scontent.fhan14-3.fna&oh=00_AfAtR82Iifexdf3GCva-c_YQrd0q77xfg5FkIP8a-czMdA&oe=656BA401&manual_redirect=1',\n",
       "  'image_lowquality': 'https://scontent.fhan14-3.fna.fbcdn.net/v/t39.30808-6/406216380_312365295014122_6606241224232946536_n.jpg?stp=cp0_dst-jpg_e15_p320x320_q65&_nc_cat=1&ccb=1-7&_nc_sid=ab7367&efg=eyJpIjoidCJ9&_nc_eui2=AeHruJFXWiQYb_L68qE0C_rPK2qC-yhmaZ8raoL7KGZpn25OAZipdSWjIZHyoMLREuuG_fMyuaAIuRy0kq9EKO6O&_nc_ohc=tByJVtB87TsAX_-7l-9&_nc_ht=scontent.fhan14-3.fna&oh=00_AfADQq5Ksp4A22M9-poVK3LhhUj70wZjdmhQuZm1lVpoOg&oe=656BA401',\n",
       "  'images': ['https://scontent.fhan14-3.fna.fbcdn.net/v/t39.30808-6/406216380_312365295014122_6606241224232946536_n.jpg?stp=cp0_dst-jpg_e15_fr_q65&_nc_cat=1&ccb=1-7&_nc_sid=ab7367&efg=eyJpIjoidCJ9&_nc_eui2=AeHruJFXWiQYb_L68qE0C_rPK2qC-yhmaZ8raoL7KGZpn25OAZipdSWjIZHyoMLREuuG_fMyuaAIuRy0kq9EKO6O&_nc_ohc=tByJVtB87TsAX_-7l-9&_nc_ht=scontent.fhan14-3.fna&oh=00_AfAtR82Iifexdf3GCva-c_YQrd0q77xfg5FkIP8a-czMdA&oe=656BA401&manual_redirect=1'],\n",
       "  'images_description': [\"May be an image of flower and text that says 'Bỏ ghen, bỏ ghét, bỏ hờn Bỏ luôn tâm tính thua hơn với người Trần đời mấy bận được vui Quanh đi quẩn lại tay xuôi chân chùn. -Tạ Công Dũng'\"],\n",
       "  'images_lowquality': ['https://scontent.fhan14-3.fna.fbcdn.net/v/t39.30808-6/406216380_312365295014122_6606241224232946536_n.jpg?stp=cp0_dst-jpg_e15_p320x320_q65&_nc_cat=1&ccb=1-7&_nc_sid=ab7367&efg=eyJpIjoidCJ9&_nc_eui2=AeHruJFXWiQYb_L68qE0C_rPK2qC-yhmaZ8raoL7KGZpn25OAZipdSWjIZHyoMLREuuG_fMyuaAIuRy0kq9EKO6O&_nc_ohc=tByJVtB87TsAX_-7l-9&_nc_ht=scontent.fhan14-3.fna&oh=00_AfADQq5Ksp4A22M9-poVK3LhhUj70wZjdmhQuZm1lVpoOg&oe=656BA401'],\n",
       "  'images_lowquality_description': [\"May be an image of flower and text that says 'Bỏ ghen, bỏ ghét, bỏ hờn Bỏ luôn tâm tính thua hơn với người Trần đời mấy bận được vui Quanh đi quẩn lại tay xuôi chân chùn. -Tạ Công Dũng'\"],\n",
       "  'video': None,\n",
       "  'video_duration_seconds': None,\n",
       "  'video_height': None,\n",
       "  'video_id': None,\n",
       "  'video_quality': None,\n",
       "  'video_size_MB': None,\n",
       "  'video_thumbnail': None,\n",
       "  'video_watches': None,\n",
       "  'video_width': None,\n",
       "  'likes': 0,\n",
       "  'comments': 0,\n",
       "  'shares': 0,\n",
       "  'post_url': 'https://facebook.com/story.php?story_fbid=pfbid0XLXasmsTAvXkvW32kHFZGbKtF3G6VwH8bHuDiq6WKJkysaSy9u8XaNTj1C19EygXl&id=100002189184343',\n",
       "  'link': None,\n",
       "  'links': [{'link': '/story.php?story_fbid=pfbid0XLXasmsTAvXkvW32kHFZGbKtF3G6VwH8bHuDiq6WKJkysaSy9u8XaNTj1C19EygXl&id=100002189184343&eav=AfZoOiF6y7l96bXAuKGKb6QKsAxTA8BuGsahrShLOsvF1Ovz_FrgviGcawJEX9FIiD8&m_entstream_source=timeline&refid=17&__tn__=%2As%2As-R&paipv=0',\n",
       "    'text': ''},\n",
       "   {'link': 'https://m.facebook.com/photo.php?fbid=312480528335932&id=100087219604944&set=a.136592545924732&eav=Afbnha312uYo2S_cBY-426p6wk3igYPItnCIdom9N1_ucbPMxh872L-HKHakvOIOdac&paipv=0&source=48&refid=17&__tn__=EHH-R',\n",
       "    'text': ''},\n",
       "   {'link': '/moingayduongtam?eav=AfYRbCYlcZBM94OU-ffh2U0VwJpATYtzIlnrUWAD-VeY-6gxfpc7oUiwqNZ4CNlJ8sM&refid=17&__tn__=CH-R&paipv=0',\n",
       "    'text': 'Dưỡng tâm'},\n",
       "   {'link': '/story.php?story_fbid=pfbid0XAUs6N5Hbor6ikcwwjd5Txu43gTP4gYhuxDqXAy78aiYcr7ARXjCpbsRN2hhMYBal&id=100087219604944&eav=AfYaSVdfWpvQXiBo4YFPlkR1feWGixdJ8ZzZKyFT9uw6TAa7efB6YljBzEJV_8_nhkg&m_entstream_source=timeline&refid=17&__tn__=H-R&paipv=0',\n",
       "    'text': '22 hrs'},\n",
       "   {'link': '/story.php?story_fbid=pfbid0XAUs6N5Hbor6ikcwwjd5Txu43gTP4gYhuxDqXAy78aiYcr7ARXjCpbsRN2hhMYBal&id=100087219604944&eav=AfYaSVdfWpvQXiBo4YFPlkR1feWGixdJ8ZzZKyFT9uw6TAa7efB6YljBzEJV_8_nhkg&refid=17&paipv=0',\n",
       "    'text': 'More'},\n",
       "   {'link': '/story.php?story_fbid=pfbid0XAUs6N5Hbor6ikcwwjd5Txu43gTP4gYhuxDqXAy78aiYcr7ARXjCpbsRN2hhMYBal&id=100087219604944&eav=AfYaSVdfWpvQXiBo4YFPlkR1feWGixdJ8ZzZKyFT9uw6TAa7efB6YljBzEJV_8_nhkg&m_entstream_source=timeline&refid=17&__tn__=%2As%2AsH-R&paipv=0',\n",
       "    'text': ''}],\n",
       "  'user_id': '100002189184343',\n",
       "  'username': 'Hiep Truongviet',\n",
       "  'user_url': 'https://facebook.com/hiep.truongviet?lst=100041962294837%3A100002189184343%3A1701263175&eav=AfZqyfSCutBgIiiY_dHA7almMD9JVN0HJMnlQ9u7fhXdqVQ-2bo7aNVTpPpA8cbPtB0&refid=17&__tn__=C-R&paipv=0',\n",
       "  'is_live': False,\n",
       "  'factcheck': None,\n",
       "  'shared_post_id': '312480551669263',\n",
       "  'shared_time': datetime.datetime(2023, 11, 28, 2, 0),\n",
       "  'shared_user_id': '100087219604944',\n",
       "  'shared_username': 'Dưỡng tâm',\n",
       "  'shared_post_url': 'https://facebook.com/story.php?story_fbid=pfbid0XAUs6N5Hbor6ikcwwjd5Txu43gTP4gYhuxDqXAy78aiYcr7ARXjCpbsRN2hhMYBal&id=100087219604944',\n",
       "  'available': True,\n",
       "  'comments_full': None,\n",
       "  'reactors': None,\n",
       "  'w3_fb_url': None,\n",
       "  'reactions': None,\n",
       "  'reaction_count': 0,\n",
       "  'with': [{'name': 'Dưỡng tâm',\n",
       "    'link': '/moingayduongtam?eav=AfYRbCYlcZBM94OU-ffh2U0VwJpATYtzIlnrUWAD-VeY-6gxfpc7oUiwqNZ4CNlJ8sM&refid=17&__tn__=CH-R&paipv=0'}],\n",
       "  'page_id': '104304379141112',\n",
       "  'sharers': None,\n",
       "  'image_id': '312480528335932',\n",
       "  'image_ids': ['312480528335932'],\n",
       "  'was_live': False,\n",
       "  'header': 'Hiep Truongviet'},\n",
       " 'Friend_count': 1579,\n",
       " 'Follower_count': None,\n",
       " 'Following_count': 1613,\n",
       " 'cover_photo_text': \"Cover Photo: Hiep Truongviet's photo.\",\n",
       " 'cover_photo': 'https://scontent.fhan14-1.fna.fbcdn.net/v/t39.30808-6/178962877_4730872213662371_5143063713082440671_n.jpg?stp=cp0_dst-jpg_e15_fr_q65&_nc_cat=107&ccb=1-7&_nc_sid=081abc&efg=eyJpIjoidCJ9&_nc_eui2=AeHzYW-eyiIuFkxovZG1HZMjSYnQafuFN8RJidBp-4U3xA3dF4Z1aWmKfRAlHYMpRnHJSe8eyMrVwU61jB_ARDrp&_nc_ohc=xZR1x4xTDBwAX-lCY-x&tn=RTPKl52GhDXvlbye&_nc_ht=scontent.fhan14-1.fna&oh=00_AfAS5tbBMGJoMme0FyTWSUTDQX7tvLM03EquMXXxbudmIQ&oe=656C3BFA&manual_redirect=1',\n",
       " 'profile_picture': 'https://scontent.fhan14-3.fna.fbcdn.net/v/t39.30808-6/214170293_4730879726994953_6170724429688872260_n.jpg?stp=cp0_dst-jpg_e15_fr_q65&_nc_cat=103&ccb=1-7&_nc_sid=fa004d&efg=eyJpIjoidCJ9&_nc_eui2=AeEOm7t3Ql_Q-IGx92ahsSp30njM8ZS-tArSeMzxlL60Co6KXxXKkNrAcq4X8pHILv8e7uLMRMnYcO-YBtIz0-oK&_nc_ohc=NM2zfWt6HMYAX9VggC0&_nc_ht=scontent.fhan14-3.fna&oh=00_AfAO5J86YRmlVPU5mgbpyCYzIn6CYgW7qLU3blXZ53ODLQ&oe=656D085E&manual_redirect=1',\n",
       " 'id': '100002189184343',\n",
       " 'Name': 'Hiep Truongviet',\n",
       " 'Education': {'Internatioal Trade': 'ĐH Thương Mại',\n",
       "  'PTTH Đống Đa - Hà Nội': '1996 - 2000',\n",
       "  'January 1, 1993 - January 1, 1995': 'High school'},\n",
       " 'Work': 'Tp Hồ Chí Minh\\nTrader\\nApril 30, 2009 - Present\\nTp Hồ Chí Minh\\nTrader\\nApril 30, 2009 - December 8, 2014\\nBank - Trade\\nNgân Hàng MSB\\nSales Insurance\\n2005 - 2013',\n",
       " 'Places lived': [{'link': '/profile.php?id=108458769184495&eav=AfbEGFJwqfozhw_xfPAT7T7JGiq37455yPFkawkHgcMaDqeVDZo0SN1LerQDdRWJZsc&paipv=0',\n",
       "   'text': 'Ho Chi Minh City, Vietnam',\n",
       "   'type': 'Current city'},\n",
       "  {'link': '/profile.php?id=106388046062960&eav=AfbE2OHRod0fLiHvRLZdjMgG7y2SLKPeQSaN3DRcaednJMH6aa_hVaEwNhxFwGFabAo&paipv=0',\n",
       "   'text': 'Hanoi, Vietnam',\n",
       "   'type': 'Hometown'}],\n",
       " 'Contact info': '/hiep.truongviet\\nFacebook',\n",
       " 'Basic info': 'Male\\nGender',\n",
       " 'Relationship': 'Single',\n",
       " 'Life events': '2014\\nLeft Job at Tp Hồ Chí Minh\\n2013\\nLeft Job at Ngân Hàng MSB\\n2010\\nBought a House\\n2009\\nStarted New Job at Tp Hồ Chí Minh\\nStarted New Job at Tp Hồ Chí Minh\\n2005\\nStarted New Job at Ngân Hàng MSB\\n2000\\nLeft ĐH Thương Mại\\n1996\\nStarted School at ĐH Thương Mại\\n1995\\nLeft PTTH Đống Đa - Hà Nội\\n1993\\nStarted School at PTTH Đống Đa - Hà Nội'}"
      ]
     },
     "execution_count": 5,
     "metadata": {},
     "output_type": "execute_result"
    }
   ],
   "source": [
    "fs.get_profile(\n",
    "    account='hiep.truongviet'\n",
    ")"
   ]
  }
 ],
 "metadata": {
  "kernelspec": {
   "display_name": "py3108",
   "language": "python",
   "name": "python3"
  },
  "language_info": {
   "codemirror_mode": {
    "name": "ipython",
    "version": 3
   },
   "file_extension": ".py",
   "mimetype": "text/x-python",
   "name": "python",
   "nbconvert_exporter": "python",
   "pygments_lexer": "ipython3",
   "version": "3.10.8"
  }
 },
 "nbformat": 4,
 "nbformat_minor": 2
}
