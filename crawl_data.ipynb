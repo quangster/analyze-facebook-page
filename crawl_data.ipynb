{
 "cells": [
  {
   "cell_type": "code",
   "execution_count": null,
   "metadata": {},
   "outputs": [],
   "source": [
    "import lib.facebook_scraper as fs\n",
    "import lib.utils as utils\n",
    "import pandas as pd\n",
    "import numpy as np\n",
    "import os"
   ]
  },
  {
   "cell_type": "code",
   "execution_count": null,
   "metadata": {},
   "outputs": [],
   "source": [
    "# page_info = fs.get_page_info(\n",
    "#     account=FANPAGE_LINK,\n",
    "#     timeout=60,\n",
    "# )\n",
    "# page_info"
   ]
  },
  {
   "cell_type": "code",
   "execution_count": null,
   "metadata": {},
   "outputs": [],
   "source": [
    "# if \"top_post\" in page_info:\n",
    "#     page_info.pop(\"top_post\")\n",
    "# page_info_df = pd.DataFrame([page_info])\n",
    "# page_info_df.to_csv(os.path.join(DATA_FOLDER_PATH, FANPAGE_LINK, \"raw\", \"page_info.csv\"), index=False)\n",
    "# page_info_df"
   ]
  },
  {
   "cell_type": "code",
   "execution_count": null,
   "metadata": {},
   "outputs": [],
   "source": [
    "FANPAGE_LINK = \"vebay69\"\n",
    "DATA_FOLDER_PATH = \"data\"\n",
    "NUMBER_POST = 10\n",
    "resume_post_url_file_path = os.path.join(DATA_FOLDER_PATH, FANPAGE_LINK, \"url\", \"resume_post_url.txt\")"
   ]
  },
  {
   "cell_type": "code",
   "execution_count": null,
   "metadata": {},
   "outputs": [],
   "source": [
    "def handle_pagination_url(url):\n",
    "    global resume_post_url\n",
    "    resume_post_url = url\n",
    "    print(f\"Resume url: {url}\")\n",
    "    utils.append_url_to_history(\n",
    "        url=resume_post_url,\n",
    "        file_path=os.path.join(DATA_FOLDER_PATH, FANPAGE_LINK, \"url\", \"post_url_history.txt\"),\n",
    "    )"
   ]
  },
  {
   "cell_type": "code",
   "execution_count": null,
   "metadata": {},
   "outputs": [],
   "source": [
    "resume_post_url = utils.read_url_file(file_path=resume_post_url_file_path)\n",
    "print(f\"Resume post url: {resume_post_url}\")\n",
    "post_list = []"
   ]
  },
  {
   "cell_type": "code",
   "execution_count": null,
   "metadata": {},
   "outputs": [],
   "source": [
    "fs.set_cookies('./cookies/cookies_1.txt')"
   ]
  },
  {
   "cell_type": "code",
   "execution_count": null,
   "metadata": {},
   "outputs": [],
   "source": [
    "# Test cookies\n",
    "# fs.get_profile(account=\"mm.musashi\")"
   ]
  },
  {
   "cell_type": "code",
   "execution_count": null,
   "metadata": {},
   "outputs": [],
   "source": [
    "try:\n",
    "    for post in fs.get_posts(\n",
    "        account=FANPAGE_LINK,\n",
    "        page_limit=NUMBER_POST//10,\n",
    "        start_url=resume_post_url,\n",
    "        request_url_callback=handle_pagination_url,\n",
    "        options={\n",
    "            \"allow_extra_requests\": True,\n",
    "            \"reactions\": True,\n",
    "        },\n",
    "        timeout=120,\n",
    "    ):\n",
    "        print(post)\n",
    "        post_list.append(post)\n",
    "        utils.sleep(np.random.randint(5, 10))\n",
    "except fs.exceptions.TemporarilyBanned:\n",
    "    print(\"Error: Temporarily Banned\")\n",
    "\n",
    "except fs.exceptions.AccountDisabled:\n",
    "    print(\"Error: Account Disabled\")\n",
    "\n",
    "except Exception as e:\n",
    "    print(e)"
   ]
  },
  {
   "cell_type": "code",
   "execution_count": null,
   "metadata": {},
   "outputs": [],
   "source": [
    "len(post_list), NUMBER_POST"
   ]
  },
  {
   "cell_type": "code",
   "execution_count": null,
   "metadata": {},
   "outputs": [],
   "source": [
    "utils.write_url_file(\n",
    "    file_path=resume_post_url_file_path,\n",
    "    url=resume_post_url,\n",
    ")\n",
    "if post_list:\n",
    "    utils.save_data(\n",
    "        data_list=post_list,\n",
    "        type=\"posts\",\n",
    "        folder_path=os.path.join(DATA_FOLDER_PATH, FANPAGE_LINK, \"raw\"),\n",
    "    )"
   ]
  }
 ],
 "metadata": {
  "kernelspec": {
   "display_name": "py31082",
   "language": "python",
   "name": "python3"
  },
  "language_info": {
   "codemirror_mode": {
    "name": "ipython",
    "version": 3
   },
   "file_extension": ".py",
   "mimetype": "text/x-python",
   "name": "python",
   "nbconvert_exporter": "python",
   "pygments_lexer": "ipython3",
   "version": "3.10.8"
  }
 },
 "nbformat": 4,
 "nbformat_minor": 2
}
