{
 "cells": [
  {
   "cell_type": "code",
   "execution_count": null,
   "metadata": {},
   "outputs": [],
   "source": [
    "import lib.facebook_scraper as fs\n",
    "import pandas as pd\n",
    "import numpy as np\n",
    "import time\n",
    "import os"
   ]
  },
  {
   "cell_type": "code",
   "execution_count": null,
   "metadata": {},
   "outputs": [],
   "source": [
    "# # Test cookies\n",
    "# fs.get_profile(\n",
    "#     account=\"mm.musashi\",\n",
    "#     cookies=\"./cookies/cookies_1.txt\",\n",
    "# )"
   ]
  },
  {
   "cell_type": "code",
   "execution_count": null,
   "metadata": {},
   "outputs": [],
   "source": [
    "FANPAGE_LINK = \"vebay69\"\n",
    "DATA_FOLDER_PATH = \"data\"\n",
    "NUMBER_POST = 100"
   ]
  },
  {
   "cell_type": "code",
   "execution_count": null,
   "metadata": {},
   "outputs": [],
   "source": [
    "# page_info = fs.get_page_info(\n",
    "#     account=FANPAGE_LINK,\n",
    "#     timeout=60,\n",
    "# )\n",
    "# page_info"
   ]
  },
  {
   "cell_type": "code",
   "execution_count": null,
   "metadata": {},
   "outputs": [],
   "source": [
    "# if \"top_post\" in page_info:\n",
    "#     page_info.pop(\"top_post\")\n",
    "# page_info_df = pd.DataFrame([page_info])\n",
    "# page_info_df.to_csv(os.path.join(DATA_FOLDER_PATH, FANPAGE_LINK, \"raw\", \"page_info.csv\"), index=False)\n",
    "# page_info_df"
   ]
  },
  {
   "cell_type": "code",
   "execution_count": null,
   "metadata": {},
   "outputs": [],
   "source": [
    "def read_resume_post_url(\n",
    "    filePath=os.path.join(DATA_FOLDER_PATH, FANPAGE_LINK, \"url\", \"resume_post_url.txt\"),\n",
    "):\n",
    "    with open(filePath, 'r') as f:\n",
    "        resume_post_url = f.read()\n",
    "    return resume_post_url\n",
    "\n",
    "def save_resume_post_url(\n",
    "    resume_post_url, \n",
    "    filePath=os.path.join(DATA_FOLDER_PATH, FANPAGE_LINK, \"url\", \"resume_post_url.txt\"),\n",
    "):\n",
    "    print(f'Save resume post url: ./{filePath}')\n",
    "    with open(filePath, 'w') as f:\n",
    "        f.write(resume_post_url)\n",
    "    \n",
    "def append_url_to_history(\n",
    "    url, \n",
    "    filePath=os.path.join(DATA_FOLDER_PATH, FANPAGE_LINK, \"url\", \"post_url_history.txt\")\n",
    "):\n",
    "    print(f'Append resume post url to history: ./{filePath}')\n",
    "    with open(filePath, 'a') as f:\n",
    "        f.write(url + '\\n')\n",
    "\n",
    "def handle_pagination_url(url):\n",
    "    global resume_post_url\n",
    "    resume_post_url = url\n",
    "    print(f\"Resume url: {url}\")\n",
    "    append_url_to_history(url=resume_post_url)\n",
    "\n",
    "def save_data(post_list):\n",
    "    post_df_full = pd.DataFrame(columns=post_list[0].keys(), index=range(len(post_list)), data=post_list)\n",
    "    import datetime\n",
    "    now = datetime.datetime.utcnow()\n",
    "    date_time = now.strftime(\"%Y-%m-%d_%H-%M-%S\")\n",
    "    filePath = os.path.join(DATA_FOLDER_PATH, FANPAGE_LINK, \"raw\", f\"posts_{date_time}.csv\")\n",
    "    print(f\"Save data: ./{filePath}\")\n",
    "    post_df_full.to_csv(filePath, index=False)"
   ]
  },
  {
   "cell_type": "code",
   "execution_count": null,
   "metadata": {},
   "outputs": [],
   "source": [
    "read_resume_post_url()"
   ]
  },
  {
   "cell_type": "code",
   "execution_count": null,
   "metadata": {},
   "outputs": [],
   "source": [
    "resume_post_url = read_resume_post_url()\n",
    "post_list = []\n",
    "try:\n",
    "    for post in fs.get_posts(\n",
    "        account=FANPAGE_LINK,\n",
    "        page_limit=NUMBER_POST//10,\n",
    "        start_url=resume_post_url,\n",
    "        request_url_callback=handle_pagination_url,\n",
    "        options={\n",
    "            \"allow_extra_requests\": True,\n",
    "            \"reactions\": True,\n",
    "        },\n",
    "        cookies='./cookies/cookies_1.txt',\n",
    "        timeout=60,\n",
    "    ):\n",
    "        print(post)\n",
    "        post_list.append(post)\n",
    "        time.sleep(np.random.randint(1, 10))\n",
    "except fs.exceptions.TemporarilyBanned:\n",
    "    print(\"Error: Temporarily Banned\")\n",
    "\n",
    "except fs.exceptions.AccountDisabled:\n",
    "    print(\"Error: Account Disabled\")\n",
    "\n",
    "except Exception as e:\n",
    "    print(e)"
   ]
  },
  {
   "cell_type": "code",
   "execution_count": null,
   "metadata": {},
   "outputs": [],
   "source": [
    "len(post_list), NUMBER_POST"
   ]
  },
  {
   "cell_type": "code",
   "execution_count": null,
   "metadata": {},
   "outputs": [],
   "source": [
    "save_resume_post_url(resume_post_url)\n",
    "save_data(post_list)"
   ]
  }
 ],
 "metadata": {
  "kernelspec": {
   "display_name": "py31082",
   "language": "python",
   "name": "python3"
  },
  "language_info": {
   "codemirror_mode": {
    "name": "ipython",
    "version": 3
   },
   "file_extension": ".py",
   "mimetype": "text/x-python",
   "name": "python",
   "nbconvert_exporter": "python",
   "pygments_lexer": "ipython3",
   "version": "3.10.8"
  }
 },
 "nbformat": 4,
 "nbformat_minor": 2
}
