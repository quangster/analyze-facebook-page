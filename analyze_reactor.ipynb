{
 "cells": [
  {
   "cell_type": "code",
   "execution_count": 1,
   "metadata": {},
   "outputs": [],
   "source": [
    "import pandas as pd\n",
    "import numpy as np\n",
    "import matplotlib.pyplot as plt\n",
    "import seaborn as sns\n",
    "\n",
    "pd.set_option('display.max_columns', None)\n",
    "%matplotlib inline"
   ]
  },
  {
   "cell_type": "code",
   "execution_count": 2,
   "metadata": {},
   "outputs": [],
   "source": [
    "reactor_df = pd.read_csv('data/vebay69/clean/reactors_full.csv')"
   ]
  },
  {
   "cell_type": "code",
   "execution_count": 3,
   "metadata": {},
   "outputs": [
    {
     "data": {
      "text/html": [
       "<div>\n",
       "<style scoped>\n",
       "    .dataframe tbody tr th:only-of-type {\n",
       "        vertical-align: middle;\n",
       "    }\n",
       "\n",
       "    .dataframe tbody tr th {\n",
       "        vertical-align: top;\n",
       "    }\n",
       "\n",
       "    .dataframe thead th {\n",
       "        text-align: right;\n",
       "    }\n",
       "</style>\n",
       "<table border=\"1\" class=\"dataframe\">\n",
       "  <thead>\n",
       "    <tr style=\"text-align: right;\">\n",
       "      <th></th>\n",
       "      <th>name</th>\n",
       "      <th>link</th>\n",
       "      <th>type</th>\n",
       "      <th>post_id</th>\n",
       "      <th>reacter_id</th>\n",
       "    </tr>\n",
       "  </thead>\n",
       "  <tbody>\n",
       "    <tr>\n",
       "      <th>0</th>\n",
       "      <td>Pamela Michael</td>\n",
       "      <td>https://facebook.com/profile.php?id=1000950205...</td>\n",
       "      <td>like</td>\n",
       "      <td>684603707108170</td>\n",
       "      <td>100095020533758</td>\n",
       "    </tr>\n",
       "    <tr>\n",
       "      <th>1</th>\n",
       "      <td>Trần Minh Trọng Dũng</td>\n",
       "      <td>https://facebook.com/profile.php?id=1000948229...</td>\n",
       "      <td>like</td>\n",
       "      <td>684603707108170</td>\n",
       "      <td>100094822980922</td>\n",
       "    </tr>\n",
       "    <tr>\n",
       "      <th>2</th>\n",
       "      <td>Hoàng Quốc Vũ</td>\n",
       "      <td>https://facebook.com/profile.php?id=1000948624...</td>\n",
       "      <td>like</td>\n",
       "      <td>684603707108170</td>\n",
       "      <td>100094862402548</td>\n",
       "    </tr>\n",
       "    <tr>\n",
       "      <th>3</th>\n",
       "      <td>Trương Thị Thanh Vân</td>\n",
       "      <td>https://facebook.com/profile.php?id=1000948805...</td>\n",
       "      <td>like</td>\n",
       "      <td>684603707108170</td>\n",
       "      <td>100094880581448</td>\n",
       "    </tr>\n",
       "    <tr>\n",
       "      <th>4</th>\n",
       "      <td>Võ Minh Lam Ngọc</td>\n",
       "      <td>https://facebook.com/profile.php?id=1000948154...</td>\n",
       "      <td>like</td>\n",
       "      <td>684603707108170</td>\n",
       "      <td>100094815481752</td>\n",
       "    </tr>\n",
       "  </tbody>\n",
       "</table>\n",
       "</div>"
      ],
      "text/plain": [
       "                   name                                               link  \\\n",
       "0        Pamela Michael  https://facebook.com/profile.php?id=1000950205...   \n",
       "1  Trần Minh Trọng Dũng  https://facebook.com/profile.php?id=1000948229...   \n",
       "2         Hoàng Quốc Vũ  https://facebook.com/profile.php?id=1000948624...   \n",
       "3  Trương Thị Thanh Vân  https://facebook.com/profile.php?id=1000948805...   \n",
       "4      Võ Minh Lam Ngọc  https://facebook.com/profile.php?id=1000948154...   \n",
       "\n",
       "   type          post_id       reacter_id  \n",
       "0  like  684603707108170  100095020533758  \n",
       "1  like  684603707108170  100094822980922  \n",
       "2  like  684603707108170  100094862402548  \n",
       "3  like  684603707108170  100094880581448  \n",
       "4  like  684603707108170  100094815481752  "
      ]
     },
     "execution_count": 3,
     "metadata": {},
     "output_type": "execute_result"
    }
   ],
   "source": [
    "reactor_df.head()"
   ]
  },
  {
   "cell_type": "code",
   "execution_count": 4,
   "metadata": {},
   "outputs": [
    {
     "data": {
      "text/plain": [
       "(10807, 5)"
      ]
     },
     "execution_count": 4,
     "metadata": {},
     "output_type": "execute_result"
    }
   ],
   "source": [
    "reactor_df.shape"
   ]
  },
  {
   "cell_type": "code",
   "execution_count": 5,
   "metadata": {},
   "outputs": [
    {
     "name": "stdout",
     "output_type": "stream",
     "text": [
      "<class 'pandas.core.frame.DataFrame'>\n",
      "RangeIndex: 10807 entries, 0 to 10806\n",
      "Data columns (total 5 columns):\n",
      " #   Column      Non-Null Count  Dtype \n",
      "---  ------      --------------  ----- \n",
      " 0   name        10807 non-null  object\n",
      " 1   link        10807 non-null  object\n",
      " 2   type        10807 non-null  object\n",
      " 3   post_id     10807 non-null  int64 \n",
      " 4   reacter_id  10807 non-null  object\n",
      "dtypes: int64(1), object(4)\n",
      "memory usage: 422.3+ KB\n"
     ]
    }
   ],
   "source": [
    "reactor_df.info()"
   ]
  },
  {
   "cell_type": "markdown",
   "metadata": {},
   "source": [
    "## Số bài post có trong bộ dữ liệu và tổng số react tương ứng"
   ]
  },
  {
   "cell_type": "code",
   "execution_count": 7,
   "metadata": {},
   "outputs": [
    {
     "data": {
      "text/plain": [
       "9"
      ]
     },
     "execution_count": 7,
     "metadata": {},
     "output_type": "execute_result"
    }
   ],
   "source": [
    "len(reactor_df['post_id'].unique())"
   ]
  },
  {
   "cell_type": "code",
   "execution_count": 8,
   "metadata": {},
   "outputs": [
    {
     "data": {
      "text/plain": [
       "post_id\n",
       "685638947004646    2780\n",
       "684686633766544    2721\n",
       "685577330344141    1935\n",
       "684603707108170     698\n",
       "683955240506350     688\n",
       "684191557149385     658\n",
       "685111467057394     641\n",
       "683571943878013     353\n",
       "682996903935517     333\n",
       "Name: name, dtype: int64"
      ]
     },
     "execution_count": 8,
     "metadata": {},
     "output_type": "execute_result"
    }
   ],
   "source": [
    "number_react = reactor_df.groupby('post_id').count().sort_values('name', ascending=False)['name']\n",
    "number_react.head(10)"
   ]
  },
  {
   "cell_type": "code",
   "execution_count": 19,
   "metadata": {},
   "outputs": [
    {
     "data": {
      "image/png": "[encoded data removed]",
      "text/plain": [
       "<Figure size 640x480 with 1 Axes>"
      ]
     },
     "metadata": {},
     "output_type": "display_data"
    }
   ],
   "source": [
    "sns.barplot(x=number_react.index, y=number_react.values);"
   ]
  },
  {
   "cell_type": "markdown",
   "metadata": {},
   "source": [
    "## Tìm kiếm người thả cảm xúc nhiều nhất"
   ]
  },
  {
   "cell_type": "code",
   "execution_count": 12,
   "metadata": {},
   "outputs": [
    {
     "data": {
      "text/plain": [
       "reacter_id\n",
       "100093809254417    9\n",
       "100081577039478    8\n",
       "100080481559650    5\n",
       "100079204598331    5\n",
       "100094346754068    3\n",
       "100094345823731    3\n",
       "100094767542921    3\n",
       "100094675837514    3\n",
       "100094768022894    3\n",
       "100094473587043    3\n",
       "Name: name, dtype: int64"
      ]
     },
     "execution_count": 12,
     "metadata": {},
     "output_type": "execute_result"
    }
   ],
   "source": [
    "number_posts = reactor_df.groupby('reacter_id').count().sort_values('name', ascending=False)['name']\n",
    "number_posts.head(10)"
   ]
  }
 ],
 "metadata": {
  "kernelspec": {
   "display_name": "py3108",
   "language": "python",
   "name": "python3"
  },
  "language_info": {
   "codemirror_mode": {
    "name": "ipython",
    "version": 3
   },
   "file_extension": ".py",
   "mimetype": "text/x-python",
   "name": "python",
   "nbconvert_exporter": "python",
   "pygments_lexer": "ipython3",
   "version": "3.10.8"
  }
 },
 "nbformat": 4,
 "nbformat_minor": 2
}
