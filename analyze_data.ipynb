{
 "cells": [
  {
   "cell_type": "markdown",
   "metadata": {},
   "source": [
    "### Đâu là bài viết có lượt tương tác lớn nhất trong bộ dữ liệu ?"
   ]
  },
  {
   "cell_type": "markdown",
   "metadata": {},
   "source": [
    "### Các mốc thời gian trong ngày mà Fanpage thường xuyên đăng bài"
   ]
  },
  {
   "cell_type": "markdown",
   "metadata": {},
   "source": [
    "### Số lượt tương tác trong các bài đăng thay đổi như thế nào?"
   ]
  },
  {
   "cell_type": "markdown",
   "metadata": {},
   "source": [
    "### Đâu là các từ khóa xuất hiện nhiều nhất trong các bài đăng được thu thập?"
   ]
  },
  {
   "cell_type": "markdown",
   "metadata": {},
   "source": [
    "### Sự tương quan giữa số lượng reactions với các trường khác như số lượng bình luận, độ dài bài viết?"
   ]
  },
  {
   "cell_type": "code",
   "execution_count": 1,
   "metadata": {},
   "outputs": [],
   "source": [
    "import pandas as pd \n",
    "import numpy as np \n",
    "pd.set_option('display.max_columns', None)"
   ]
  },
  {
   "cell_type": "code",
   "execution_count": 3,
   "metadata": {},
   "outputs": [],
   "source": [
    "df = pd.read_csv('data/vebay69/raw/posts_full_2023-11-22_04-09-01.csv')"
   ]
  },
  {
   "cell_type": "code",
   "execution_count": 7,
   "metadata": {},
   "outputs": [
    {
     "data": {
      "text/plain": [
       "17"
      ]
     },
     "execution_count": 7,
     "metadata": {},
     "output_type": "execute_result"
    }
   ],
   "source": [
    "df['comments_full'][0].count('replies')"
   ]
  },
  {
   "cell_type": "code",
   "execution_count": 6,
   "metadata": {},
   "outputs": [
    {
     "data": {
      "text/html": [
       "<div>\n",
       "<style scoped>\n",
       "    .dataframe tbody tr th:only-of-type {\n",
       "        vertical-align: middle;\n",
       "    }\n",
       "\n",
       "    .dataframe tbody tr th {\n",
       "        vertical-align: top;\n",
       "    }\n",
       "\n",
       "    .dataframe thead th {\n",
       "        text-align: right;\n",
       "    }\n",
       "</style>\n",
       "<table border=\"1\" class=\"dataframe\">\n",
       "  <thead>\n",
       "    <tr style=\"text-align: right;\">\n",
       "      <th></th>\n",
       "      <th>post_id</th>\n",
       "      <th>post_text</th>\n",
       "      <th>shared_text</th>\n",
       "      <th>time</th>\n",
       "      <th>image</th>\n",
       "      <th>image_lowquality</th>\n",
       "      <th>images</th>\n",
       "      <th>images_description</th>\n",
       "      <th>images_lowquality</th>\n",
       "      <th>images_lowquality_description</th>\n",
       "      <th>likes</th>\n",
       "      <th>comments</th>\n",
       "      <th>shares</th>\n",
       "      <th>link</th>\n",
       "      <th>links</th>\n",
       "      <th>user_id</th>\n",
       "      <th>shared_post_id</th>\n",
       "      <th>shared_time</th>\n",
       "      <th>shared_user_id</th>\n",
       "      <th>shared_username</th>\n",
       "      <th>shared_post_url</th>\n",
       "      <th>w3_fb_url</th>\n",
       "      <th>reaction_count</th>\n",
       "      <th>with</th>\n",
       "      <th>image_id</th>\n",
       "      <th>image_ids</th>\n",
       "      <th>fetched_time</th>\n",
       "      <th>like</th>\n",
       "      <th>love</th>\n",
       "      <th>haha</th>\n",
       "      <th>wow</th>\n",
       "      <th>care</th>\n",
       "      <th>sad</th>\n",
       "      <th>angry</th>\n",
       "    </tr>\n",
       "  </thead>\n",
       "  <tbody>\n",
       "    <tr>\n",
       "      <th>25</th>\n",
       "      <td>680020737566467</td>\n",
       "      <td>Buồn ngủ thật sự\\n#Muonggg</td>\n",
       "      <td>NaN</td>\n",
       "      <td>2023-11-09 08:33:56</td>\n",
       "      <td>https://scontent-sin6-1.xx.fbcdn.net/v/t39.308...</td>\n",
       "      <td>https://scontent-sin6-1.xx.fbcdn.net/v/t39.308...</td>\n",
       "      <td>['https://scontent-sin6-1.xx.fbcdn.net/v/t39.3...</td>\n",
       "      <td>[\"May be a doodle of text that says 'Bậy Dậy đ...</td>\n",
       "      <td>['https://scontent-sin6-1.xx.fbcdn.net/v/t39.3...</td>\n",
       "      <td>[\"May be a doodle of text that says 'Bậy Dậy đ...</td>\n",
       "      <td>791</td>\n",
       "      <td>28</td>\n",
       "      <td>15</td>\n",
       "      <td>NaN</td>\n",
       "      <td>[{'link': '/hashtag/muonggg?_ft_=encrypted_tra...</td>\n",
       "      <td>100066756416622</td>\n",
       "      <td>NaN</td>\n",
       "      <td>NaN</td>\n",
       "      <td>NaN</td>\n",
       "      <td>NaN</td>\n",
       "      <td>NaN</td>\n",
       "      <td>https://www.facebook.com/vebay69/posts/6800207...</td>\n",
       "      <td>960</td>\n",
       "      <td>NaN</td>\n",
       "      <td>6.800206e+14</td>\n",
       "      <td>['680020620899812']</td>\n",
       "      <td>2023-11-20 08:07:35.694592</td>\n",
       "      <td>791</td>\n",
       "      <td>7</td>\n",
       "      <td>155</td>\n",
       "      <td>4</td>\n",
       "      <td>3</td>\n",
       "      <td>0</td>\n",
       "      <td>0</td>\n",
       "    </tr>\n",
       "  </tbody>\n",
       "</table>\n",
       "</div>"
      ],
      "text/plain": [
       "            post_id                   post_text shared_text  \\\n",
       "25  680020737566467  Buồn ngủ thật sự\\n#Muonggg         NaN   \n",
       "\n",
       "                   time                                              image  \\\n",
       "25  2023-11-09 08:33:56  https://scontent-sin6-1.xx.fbcdn.net/v/t39.308...   \n",
       "\n",
       "                                     image_lowquality  \\\n",
       "25  https://scontent-sin6-1.xx.fbcdn.net/v/t39.308...   \n",
       "\n",
       "                                               images  \\\n",
       "25  ['https://scontent-sin6-1.xx.fbcdn.net/v/t39.3...   \n",
       "\n",
       "                                   images_description  \\\n",
       "25  [\"May be a doodle of text that says 'Bậy Dậy đ...   \n",
       "\n",
       "                                    images_lowquality  \\\n",
       "25  ['https://scontent-sin6-1.xx.fbcdn.net/v/t39.3...   \n",
       "\n",
       "                        images_lowquality_description  likes  comments  \\\n",
       "25  [\"May be a doodle of text that says 'Bậy Dậy đ...    791        28   \n",
       "\n",
       "    shares link                                              links  \\\n",
       "25      15  NaN  [{'link': '/hashtag/muonggg?_ft_=encrypted_tra...   \n",
       "\n",
       "            user_id  shared_post_id shared_time  shared_user_id  \\\n",
       "25  100066756416622             NaN         NaN             NaN   \n",
       "\n",
       "   shared_username shared_post_url  \\\n",
       "25             NaN             NaN   \n",
       "\n",
       "                                            w3_fb_url  reaction_count with  \\\n",
       "25  https://www.facebook.com/vebay69/posts/6800207...             960  NaN   \n",
       "\n",
       "        image_id            image_ids                fetched_time  like  love  \\\n",
       "25  6.800206e+14  ['680020620899812']  2023-11-20 08:07:35.694592   791     7   \n",
       "\n",
       "    haha  wow  care  sad  angry  \n",
       "25   155    4     3    0      0  "
      ]
     },
     "execution_count": 6,
     "metadata": {},
     "output_type": "execute_result"
    }
   ],
   "source": [
    "df[df['post_id'] == 680020737566467]"
   ]
  }
 ],
 "metadata": {
  "kernelspec": {
   "display_name": "py3108",
   "language": "python",
   "name": "python3"
  },
  "language_info": {
   "codemirror_mode": {
    "name": "ipython",
    "version": 3
   },
   "file_extension": ".py",
   "mimetype": "text/x-python",
   "name": "python",
   "nbconvert_exporter": "python",
   "pygments_lexer": "ipython3",
   "version": "3.10.8"
  }
 },
 "nbformat": 4,
 "nbformat_minor": 2
}
