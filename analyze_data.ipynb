{
 "cells": [
  {
   "cell_type": "markdown",
   "metadata": {},
   "source": [
    "### Import libraries"
   ]
  },
  {
   "cell_type": "code",
   "execution_count": 166,
   "metadata": {},
   "outputs": [],
   "source": [
    "import pandas as pd\n",
    "import numpy as np\n",
    "import matplotlib.pyplot as plt\n",
    "import seaborn as sns"
   ]
  },
  {
   "cell_type": "markdown",
   "metadata": {},
   "source": [
    "### Settings options"
   ]
  },
  {
   "cell_type": "code",
   "execution_count": 167,
   "metadata": {},
   "outputs": [],
   "source": [
    "pd.set_option('display.max_columns', None)\n",
    "%matplotlib inline\n",
    "sns.set_theme(context='notebook', style='whitegrid')"
   ]
  },
  {
   "cell_type": "markdown",
   "metadata": {},
   "source": [
    "### Đọc dữ liệu các bài posts"
   ]
  },
  {
   "cell_type": "code",
   "execution_count": 168,
   "metadata": {},
   "outputs": [],
   "source": [
    "df = pd.read_csv('data/vebay69/clean/posts_full.csv')"
   ]
  },
  {
   "cell_type": "markdown",
   "metadata": {},
   "source": [
    "### Tổng quan về dữ liệu "
   ]
  },
  {
   "cell_type": "code",
   "execution_count": 169,
   "metadata": {},
   "outputs": [
    {
     "data": {
      "text/plain": [
       "(914, 36)"
      ]
     },
     "execution_count": 169,
     "metadata": {},
     "output_type": "execute_result"
    }
   ],
   "source": [
    "df.shape"
   ]
  },
  {
   "cell_type": "code",
   "execution_count": 170,
   "metadata": {},
   "outputs": [
    {
     "name": "stdout",
     "output_type": "stream",
     "text": [
      "<class 'pandas.core.frame.DataFrame'>\n",
      "RangeIndex: 914 entries, 0 to 913\n",
      "Data columns (total 36 columns):\n",
      " #   Column                         Non-Null Count  Dtype  \n",
      "---  ------                         --------------  -----  \n",
      " 0   post_id                        914 non-null    int64  \n",
      " 1   post_text                      914 non-null    object \n",
      " 2   shared_text                    24 non-null     object \n",
      " 3   time                           914 non-null    object \n",
      " 4   image                          884 non-null    object \n",
      " 5   image_lowquality               914 non-null    object \n",
      " 6   images                         913 non-null    object \n",
      " 7   images_description             913 non-null    object \n",
      " 8   images_lowquality              914 non-null    object \n",
      " 9   images_lowquality_description  914 non-null    object \n",
      " 10  likes                          914 non-null    int64  \n",
      " 11  comments                       914 non-null    int64  \n",
      " 12  shares                         914 non-null    int64  \n",
      " 13  link                           22 non-null     object \n",
      " 14  links                          914 non-null    object \n",
      " 15  user_id                        914 non-null    int64  \n",
      " 16  shared_post_id                 2 non-null      float64\n",
      " 17  shared_time                    2 non-null      object \n",
      " 18  shared_user_id                 2 non-null      float64\n",
      " 19  shared_username                2 non-null      object \n",
      " 20  shared_post_url                2 non-null      object \n",
      " 21  comments_full                  4 non-null      object \n",
      " 22  reactors                       911 non-null    object \n",
      " 23  w3_fb_url                      911 non-null    object \n",
      " 24  reaction_count                 914 non-null    int64  \n",
      " 25  with                           2 non-null      object \n",
      " 26  image_id                       890 non-null    float64\n",
      " 27  image_ids                      914 non-null    object \n",
      " 28  fetched_time                   911 non-null    object \n",
      " 29  like                           914 non-null    int64  \n",
      " 30  love                           914 non-null    int64  \n",
      " 31  haha                           914 non-null    int64  \n",
      " 32  wow                            914 non-null    int64  \n",
      " 33  care                           914 non-null    int64  \n",
      " 34  sad                            914 non-null    int64  \n",
      " 35  angry                          914 non-null    int64  \n",
      "dtypes: float64(3), int64(13), object(20)\n",
      "memory usage: 257.2+ KB\n"
     ]
    }
   ],
   "source": [
    "df.info()"
   ]
  },
  {
   "cell_type": "markdown",
   "metadata": {},
   "source": [
    "### Dữ liệu các bài post được lấy trong khoảng thời gian nào ?"
   ]
  },
  {
   "cell_type": "code",
   "execution_count": 172,
   "metadata": {},
   "outputs": [
    {
     "data": {
      "text/plain": [
       "('2022-05-06 07:37:28', '2023-11-22 03:43:11')"
      ]
     },
     "execution_count": 172,
     "metadata": {},
     "output_type": "execute_result"
    }
   ],
   "source": [
    "df['time'].min(), df['time'].max()"
   ]
  },
  {
   "cell_type": "markdown",
   "metadata": {},
   "source": [
    "### Đâu là bài viết có lượt tương tác lớn nhất trong bộ dữ liệu ?"
   ]
  },
  {
   "cell_type": "markdown",
   "metadata": {},
   "source": [
    "### Top 5 Post có nhiều lượt reaction nhất"
   ]
  },
  {
   "cell_type": "code",
   "execution_count": 173,
   "metadata": {},
   "outputs": [
    {
     "data": {
      "text/html": [
       "<div>\n",
       "<style scoped>\n",
       "    .dataframe tbody tr th:only-of-type {\n",
       "        vertical-align: middle;\n",
       "    }\n",
       "\n",
       "    .dataframe tbody tr th {\n",
       "        vertical-align: top;\n",
       "    }\n",
       "\n",
       "    .dataframe thead th {\n",
       "        text-align: right;\n",
       "    }\n",
       "</style>\n",
       "<table border=\"1\" class=\"dataframe\">\n",
       "  <thead>\n",
       "    <tr style=\"text-align: right;\">\n",
       "      <th></th>\n",
       "      <th>post_id</th>\n",
       "      <th>post_text</th>\n",
       "      <th>reaction_count</th>\n",
       "    </tr>\n",
       "  </thead>\n",
       "  <tbody>\n",
       "    <tr>\n",
       "      <th>711</th>\n",
       "      <td>5663428510443960</td>\n",
       "      <td>Ai chắc cũng đã từng\\n#Panda</td>\n",
       "      <td>37754</td>\n",
       "    </tr>\n",
       "    <tr>\n",
       "      <th>622</th>\n",
       "      <td>5854513741335435</td>\n",
       "      <td>Na Ế trải lòng\\n#Panda</td>\n",
       "      <td>26723</td>\n",
       "    </tr>\n",
       "    <tr>\n",
       "      <th>644</th>\n",
       "      <td>5808693772584099</td>\n",
       "      <td>Tin chuẩn chưa bro\\n#Panda</td>\n",
       "      <td>26325</td>\n",
       "    </tr>\n",
       "    <tr>\n",
       "      <th>662</th>\n",
       "      <td>5775707419216068</td>\n",
       "      <td>Nổ stk đê\\n#Panda</td>\n",
       "      <td>24967</td>\n",
       "    </tr>\n",
       "    <tr>\n",
       "      <th>423</th>\n",
       "      <td>6291401437646661</td>\n",
       "      <td>Nhưng mấy anh cứ giựt giựt ấy\\n#Panda</td>\n",
       "      <td>24928</td>\n",
       "    </tr>\n",
       "  </tbody>\n",
       "</table>\n",
       "</div>"
      ],
      "text/plain": [
       "              post_id                              post_text  reaction_count\n",
       "711  5663428510443960           Ai chắc cũng đã từng\\n#Panda           37754\n",
       "622  5854513741335435                 Na Ế trải lòng\\n#Panda           26723\n",
       "644  5808693772584099             Tin chuẩn chưa bro\\n#Panda           26325\n",
       "662  5775707419216068                      Nổ stk đê\\n#Panda           24967\n",
       "423  6291401437646661  Nhưng mấy anh cứ giựt giựt ấy\\n#Panda           24928"
      ]
     },
     "execution_count": 173,
     "metadata": {},
     "output_type": "execute_result"
    }
   ],
   "source": [
    "top_5_max_reaction = df.nlargest(5, 'reaction_count')\n",
    "top_5_max_reaction[['post_id', 'post_text', 'reaction_count']]"
   ]
  },
  {
   "cell_type": "code",
   "execution_count": 174,
   "metadata": {},
   "outputs": [
    {
     "data": {
      "text/html": [
       "<div>\n",
       "<style scoped>\n",
       "    .dataframe tbody tr th:only-of-type {\n",
       "        vertical-align: middle;\n",
       "    }\n",
       "\n",
       "    .dataframe tbody tr th {\n",
       "        vertical-align: top;\n",
       "    }\n",
       "\n",
       "    .dataframe thead th {\n",
       "        text-align: right;\n",
       "    }\n",
       "</style>\n",
       "<table border=\"1\" class=\"dataframe\">\n",
       "  <thead>\n",
       "    <tr style=\"text-align: right;\">\n",
       "      <th></th>\n",
       "      <th>post_id</th>\n",
       "      <th>post_text</th>\n",
       "      <th>reaction_count</th>\n",
       "    </tr>\n",
       "  </thead>\n",
       "  <tbody>\n",
       "    <tr>\n",
       "      <th>466</th>\n",
       "      <td>6238158042971001</td>\n",
       "      <td>Hy vọng mèo 2023 là mèo thần tài 😁</td>\n",
       "      <td>4</td>\n",
       "    </tr>\n",
       "    <tr>\n",
       "      <th>465</th>\n",
       "      <td>6238625046257634</td>\n",
       "      <td>Này để chọc mấy người 1m8 à? 😁</td>\n",
       "      <td>7</td>\n",
       "    </tr>\n",
       "    <tr>\n",
       "      <th>517</th>\n",
       "      <td>6150474095072730</td>\n",
       "      <td>Superhero này siuuuu :v</td>\n",
       "      <td>8</td>\n",
       "    </tr>\n",
       "    <tr>\n",
       "      <th>470</th>\n",
       "      <td>6233068110146661</td>\n",
       "      <td>Ôi tuổi thơ 😂</td>\n",
       "      <td>10</td>\n",
       "    </tr>\n",
       "    <tr>\n",
       "      <th>471</th>\n",
       "      <td>6232543603532445</td>\n",
       "      <td>Sao lại mang toàn thú cưng ra minh họa thế này? 😆</td>\n",
       "      <td>12</td>\n",
       "    </tr>\n",
       "  </tbody>\n",
       "</table>\n",
       "</div>"
      ],
      "text/plain": [
       "              post_id                                          post_text  \\\n",
       "466  6238158042971001                 Hy vọng mèo 2023 là mèo thần tài 😁   \n",
       "465  6238625046257634                     Này để chọc mấy người 1m8 à? 😁   \n",
       "517  6150474095072730                            Superhero này siuuuu :v   \n",
       "470  6233068110146661                                      Ôi tuổi thơ 😂   \n",
       "471  6232543603532445  Sao lại mang toàn thú cưng ra minh họa thế này? 😆   \n",
       "\n",
       "     reaction_count  \n",
       "466               4  \n",
       "465               7  \n",
       "517               8  \n",
       "470              10  \n",
       "471              12  "
      ]
     },
     "execution_count": 174,
     "metadata": {},
     "output_type": "execute_result"
    }
   ],
   "source": [
    "top_5_min_reaction = df.nsmallest(5, 'reaction_count')\n",
    "top_5_min_reaction[['post_id', 'post_text', 'reaction_count']]"
   ]
  },
  {
   "cell_type": "code",
   "execution_count": 175,
   "metadata": {},
   "outputs": [],
   "source": [
    "df.rename(columns={'reaction_count': 'total_react'}, inplace=True)"
   ]
  },
  {
   "cell_type": "code",
   "execution_count": 176,
   "metadata": {},
   "outputs": [
    {
     "data": {
      "text/html": [
       "<div>\n",
       "<style scoped>\n",
       "    .dataframe tbody tr th:only-of-type {\n",
       "        vertical-align: middle;\n",
       "    }\n",
       "\n",
       "    .dataframe tbody tr th {\n",
       "        vertical-align: top;\n",
       "    }\n",
       "\n",
       "    .dataframe thead th {\n",
       "        text-align: right;\n",
       "    }\n",
       "</style>\n",
       "<table border=\"1\" class=\"dataframe\">\n",
       "  <thead>\n",
       "    <tr style=\"text-align: right;\">\n",
       "      <th></th>\n",
       "      <th>total_react</th>\n",
       "      <th>comments</th>\n",
       "      <th>shares</th>\n",
       "      <th>like</th>\n",
       "      <th>love</th>\n",
       "      <th>haha</th>\n",
       "      <th>wow</th>\n",
       "      <th>care</th>\n",
       "      <th>sad</th>\n",
       "      <th>angry</th>\n",
       "    </tr>\n",
       "  </thead>\n",
       "  <tbody>\n",
       "    <tr>\n",
       "      <th>count</th>\n",
       "      <td>914</td>\n",
       "      <td>914</td>\n",
       "      <td>914</td>\n",
       "      <td>914</td>\n",
       "      <td>914</td>\n",
       "      <td>914</td>\n",
       "      <td>914</td>\n",
       "      <td>914</td>\n",
       "      <td>914</td>\n",
       "      <td>914</td>\n",
       "    </tr>\n",
       "    <tr>\n",
       "      <th>mean</th>\n",
       "      <td>5036</td>\n",
       "      <td>279</td>\n",
       "      <td>72</td>\n",
       "      <td>3425</td>\n",
       "      <td>19</td>\n",
       "      <td>1505</td>\n",
       "      <td>6</td>\n",
       "      <td>5</td>\n",
       "      <td>60</td>\n",
       "      <td>0</td>\n",
       "    </tr>\n",
       "    <tr>\n",
       "      <th>std</th>\n",
       "      <td>4477</td>\n",
       "      <td>591</td>\n",
       "      <td>961</td>\n",
       "      <td>2854</td>\n",
       "      <td>150</td>\n",
       "      <td>1972</td>\n",
       "      <td>45</td>\n",
       "      <td>16</td>\n",
       "      <td>229</td>\n",
       "      <td>3</td>\n",
       "    </tr>\n",
       "    <tr>\n",
       "      <th>min</th>\n",
       "      <td>4</td>\n",
       "      <td>0</td>\n",
       "      <td>0</td>\n",
       "      <td>0</td>\n",
       "      <td>0</td>\n",
       "      <td>0</td>\n",
       "      <td>0</td>\n",
       "      <td>0</td>\n",
       "      <td>0</td>\n",
       "      <td>0</td>\n",
       "    </tr>\n",
       "    <tr>\n",
       "      <th>25%</th>\n",
       "      <td>1968</td>\n",
       "      <td>45</td>\n",
       "      <td>7</td>\n",
       "      <td>1303</td>\n",
       "      <td>2</td>\n",
       "      <td>322</td>\n",
       "      <td>1</td>\n",
       "      <td>1</td>\n",
       "      <td>4</td>\n",
       "      <td>0</td>\n",
       "    </tr>\n",
       "    <tr>\n",
       "      <th>50%</th>\n",
       "      <td>3665</td>\n",
       "      <td>99</td>\n",
       "      <td>16</td>\n",
       "      <td>2614</td>\n",
       "      <td>5</td>\n",
       "      <td>762</td>\n",
       "      <td>3</td>\n",
       "      <td>3</td>\n",
       "      <td>14</td>\n",
       "      <td>0</td>\n",
       "    </tr>\n",
       "    <tr>\n",
       "      <th>75%</th>\n",
       "      <td>6650</td>\n",
       "      <td>258</td>\n",
       "      <td>40</td>\n",
       "      <td>4601</td>\n",
       "      <td>10</td>\n",
       "      <td>1760</td>\n",
       "      <td>6</td>\n",
       "      <td>5</td>\n",
       "      <td>45</td>\n",
       "      <td>0</td>\n",
       "    </tr>\n",
       "    <tr>\n",
       "      <th>max</th>\n",
       "      <td>37754</td>\n",
       "      <td>7500</td>\n",
       "      <td>29000</td>\n",
       "      <td>21311</td>\n",
       "      <td>4205</td>\n",
       "      <td>14508</td>\n",
       "      <td>1354</td>\n",
       "      <td>333</td>\n",
       "      <td>5041</td>\n",
       "      <td>86</td>\n",
       "    </tr>\n",
       "  </tbody>\n",
       "</table>\n",
       "</div>"
      ],
      "text/plain": [
       "       total_react  comments  shares   like  love   haha   wow  care   sad  \\\n",
       "count          914       914     914    914   914    914   914   914   914   \n",
       "mean          5036       279      72   3425    19   1505     6     5    60   \n",
       "std           4477       591     961   2854   150   1972    45    16   229   \n",
       "min              4         0       0      0     0      0     0     0     0   \n",
       "25%           1968        45       7   1303     2    322     1     1     4   \n",
       "50%           3665        99      16   2614     5    762     3     3    14   \n",
       "75%           6650       258      40   4601    10   1760     6     5    45   \n",
       "max          37754      7500   29000  21311  4205  14508  1354   333  5041   \n",
       "\n",
       "       angry  \n",
       "count    914  \n",
       "mean       0  \n",
       "std        3  \n",
       "min        0  \n",
       "25%        0  \n",
       "50%        0  \n",
       "75%        0  \n",
       "max       86  "
      ]
     },
     "execution_count": 176,
     "metadata": {},
     "output_type": "execute_result"
    }
   ],
   "source": [
    "df[['total_react', 'comments', 'shares', 'like', 'love', 'haha', 'wow', 'care', 'sad', 'angry']].describe().astype(int)"
   ]
  },
  {
   "cell_type": "code",
   "execution_count": 177,
   "metadata": {},
   "outputs": [
    {
     "data": {
      "text/html": [
       "<div>\n",
       "<style scoped>\n",
       "    .dataframe tbody tr th:only-of-type {\n",
       "        vertical-align: middle;\n",
       "    }\n",
       "\n",
       "    .dataframe tbody tr th {\n",
       "        vertical-align: top;\n",
       "    }\n",
       "\n",
       "    .dataframe thead th {\n",
       "        text-align: right;\n",
       "    }\n",
       "</style>\n",
       "<table border=\"1\" class=\"dataframe\">\n",
       "  <thead>\n",
       "    <tr style=\"text-align: right;\">\n",
       "      <th></th>\n",
       "      <th>post_id</th>\n",
       "      <th>post_text</th>\n",
       "      <th>shared_text</th>\n",
       "      <th>time</th>\n",
       "      <th>image</th>\n",
       "      <th>image_lowquality</th>\n",
       "      <th>images</th>\n",
       "      <th>images_description</th>\n",
       "      <th>images_lowquality</th>\n",
       "      <th>images_lowquality_description</th>\n",
       "      <th>likes</th>\n",
       "      <th>comments</th>\n",
       "      <th>shares</th>\n",
       "      <th>link</th>\n",
       "      <th>links</th>\n",
       "      <th>user_id</th>\n",
       "      <th>shared_post_id</th>\n",
       "      <th>shared_time</th>\n",
       "      <th>shared_user_id</th>\n",
       "      <th>shared_username</th>\n",
       "      <th>shared_post_url</th>\n",
       "      <th>comments_full</th>\n",
       "      <th>reactors</th>\n",
       "      <th>w3_fb_url</th>\n",
       "      <th>total_react</th>\n",
       "      <th>with</th>\n",
       "      <th>image_id</th>\n",
       "      <th>image_ids</th>\n",
       "      <th>fetched_time</th>\n",
       "      <th>like</th>\n",
       "      <th>love</th>\n",
       "      <th>haha</th>\n",
       "      <th>wow</th>\n",
       "      <th>care</th>\n",
       "      <th>sad</th>\n",
       "      <th>angry</th>\n",
       "    </tr>\n",
       "  </thead>\n",
       "  <tbody>\n",
       "    <tr>\n",
       "      <th>909</th>\n",
       "      <td>5262746583845490</td>\n",
       "      <td>Ông con Enh Guốc :)\\n#Panda</td>\n",
       "      <td>NaN</td>\n",
       "      <td>2022-05-06 07:37:28</td>\n",
       "      <td>https://scontent-sin6-2.xx.fbcdn.net/v/t39.308...</td>\n",
       "      <td>https://scontent-sin6-2.xx.fbcdn.net/v/t39.308...</td>\n",
       "      <td>['https://scontent-sin6-2.xx.fbcdn.net/v/t39.3...</td>\n",
       "      <td>['No photo description available.']</td>\n",
       "      <td>['https://scontent-sin6-2.xx.fbcdn.net/v/t39.3...</td>\n",
       "      <td>['No photo description available.']</td>\n",
       "      <td>1735</td>\n",
       "      <td>49</td>\n",
       "      <td>12</td>\n",
       "      <td>NaN</td>\n",
       "      <td>[{'link': '/hashtag/panda?_ft_=encrypted_track...</td>\n",
       "      <td>772954189491441</td>\n",
       "      <td>NaN</td>\n",
       "      <td>NaN</td>\n",
       "      <td>NaN</td>\n",
       "      <td>NaN</td>\n",
       "      <td>NaN</td>\n",
       "      <td>NaN</td>\n",
       "      <td>[]</td>\n",
       "      <td>https://www.facebook.com/vebay69/posts/5262746...</td>\n",
       "      <td>2921</td>\n",
       "      <td>NaN</td>\n",
       "      <td>5.262745e+15</td>\n",
       "      <td>['5262745410512274']</td>\n",
       "      <td>2023-11-21 08:29:09.776214</td>\n",
       "      <td>1735</td>\n",
       "      <td>5</td>\n",
       "      <td>1146</td>\n",
       "      <td>1</td>\n",
       "      <td>1</td>\n",
       "      <td>33</td>\n",
       "      <td>0</td>\n",
       "    </tr>\n",
       "    <tr>\n",
       "      <th>908</th>\n",
       "      <td>5263709253749223</td>\n",
       "      <td>Aizz chán ba ghê ớ..\\n#Lìquầnxòi</td>\n",
       "      <td>NaN</td>\n",
       "      <td>2022-05-06 15:11:37</td>\n",
       "      <td>https://scontent-sin6-4.xx.fbcdn.net/v/t39.308...</td>\n",
       "      <td>https://scontent-sin6-4.xx.fbcdn.net/v/t39.308...</td>\n",
       "      <td>['https://scontent-sin6-4.xx.fbcdn.net/v/t39.3...</td>\n",
       "      <td>['No photo description available.']</td>\n",
       "      <td>['https://scontent-sin6-4.xx.fbcdn.net/v/t39.3...</td>\n",
       "      <td>['No photo description available.']</td>\n",
       "      <td>1028</td>\n",
       "      <td>16</td>\n",
       "      <td>2</td>\n",
       "      <td>NaN</td>\n",
       "      <td>[{'link': '/hashtag/lìquầnxòi?_ft_=encrypted_t...</td>\n",
       "      <td>772954189491441</td>\n",
       "      <td>NaN</td>\n",
       "      <td>NaN</td>\n",
       "      <td>NaN</td>\n",
       "      <td>NaN</td>\n",
       "      <td>NaN</td>\n",
       "      <td>NaN</td>\n",
       "      <td>[]</td>\n",
       "      <td>https://www.facebook.com/vebay69/posts/5263709...</td>\n",
       "      <td>1527</td>\n",
       "      <td>NaN</td>\n",
       "      <td>5.263708e+15</td>\n",
       "      <td>['5263708363749312']</td>\n",
       "      <td>2023-11-21 08:29:00.486643</td>\n",
       "      <td>1028</td>\n",
       "      <td>2</td>\n",
       "      <td>490</td>\n",
       "      <td>1</td>\n",
       "      <td>0</td>\n",
       "      <td>6</td>\n",
       "      <td>0</td>\n",
       "    </tr>\n",
       "    <tr>\n",
       "      <th>907</th>\n",
       "      <td>5266711463449002</td>\n",
       "      <td>Nhìn bạn cũng C.h.i.ế.n đấy :)\\n#panda</td>\n",
       "      <td>NaN</td>\n",
       "      <td>2022-05-07 15:36:30</td>\n",
       "      <td>https://scontent-sin6-3.xx.fbcdn.net/v/t39.308...</td>\n",
       "      <td>https://scontent-sin6-3.xx.fbcdn.net/v/t39.308...</td>\n",
       "      <td>['https://scontent-sin6-3.xx.fbcdn.net/v/t39.3...</td>\n",
       "      <td>[\"Có thể là hình minh họa về văn bản cho biết ...</td>\n",
       "      <td>['https://scontent-sin6-3.xx.fbcdn.net/v/t39.3...</td>\n",
       "      <td>[\"Có thể là hình minh họa về văn bản cho biết ...</td>\n",
       "      <td>1142</td>\n",
       "      <td>75</td>\n",
       "      <td>22</td>\n",
       "      <td>NaN</td>\n",
       "      <td>[{'link': '/hashtag/panda?_ft_=encrypted_track...</td>\n",
       "      <td>772954189491441</td>\n",
       "      <td>NaN</td>\n",
       "      <td>NaN</td>\n",
       "      <td>NaN</td>\n",
       "      <td>NaN</td>\n",
       "      <td>NaN</td>\n",
       "      <td>NaN</td>\n",
       "      <td>[]</td>\n",
       "      <td>https://www.facebook.com/vebay69/posts/5266711...</td>\n",
       "      <td>2372</td>\n",
       "      <td>NaN</td>\n",
       "      <td>5.266711e+15</td>\n",
       "      <td>['5266710616782420']</td>\n",
       "      <td>2023-11-21 08:28:49.211488</td>\n",
       "      <td>1142</td>\n",
       "      <td>4</td>\n",
       "      <td>1210</td>\n",
       "      <td>1</td>\n",
       "      <td>0</td>\n",
       "      <td>15</td>\n",
       "      <td>0</td>\n",
       "    </tr>\n",
       "    <tr>\n",
       "      <th>906</th>\n",
       "      <td>5269137123206436</td>\n",
       "      <td>Happy mother's day &lt;3\\n#Lìquầnxòi</td>\n",
       "      <td>NaN</td>\n",
       "      <td>2022-05-08 11:52:42</td>\n",
       "      <td>https://scontent-sin6-2.xx.fbcdn.net/v/t39.308...</td>\n",
       "      <td>https://scontent-sin6-2.xx.fbcdn.net/v/t39.308...</td>\n",
       "      <td>['https://scontent-sin6-2.xx.fbcdn.net/v/t39.3...</td>\n",
       "      <td>['No photo description available.']</td>\n",
       "      <td>['https://scontent-sin6-2.xx.fbcdn.net/v/t39.3...</td>\n",
       "      <td>['No photo description available.']</td>\n",
       "      <td>758</td>\n",
       "      <td>23</td>\n",
       "      <td>9</td>\n",
       "      <td>NaN</td>\n",
       "      <td>[{'link': '/hashtag/lìquầnxòi?_ft_=encrypted_t...</td>\n",
       "      <td>772954189491441</td>\n",
       "      <td>NaN</td>\n",
       "      <td>NaN</td>\n",
       "      <td>NaN</td>\n",
       "      <td>NaN</td>\n",
       "      <td>NaN</td>\n",
       "      <td>NaN</td>\n",
       "      <td>[]</td>\n",
       "      <td>https://www.facebook.com/vebay69/posts/5269137...</td>\n",
       "      <td>1391</td>\n",
       "      <td>NaN</td>\n",
       "      <td>5.269136e+15</td>\n",
       "      <td>['5269135959873219']</td>\n",
       "      <td>2023-11-21 08:28:37.570599</td>\n",
       "      <td>758</td>\n",
       "      <td>13</td>\n",
       "      <td>612</td>\n",
       "      <td>0</td>\n",
       "      <td>2</td>\n",
       "      <td>6</td>\n",
       "      <td>0</td>\n",
       "    </tr>\n",
       "    <tr>\n",
       "      <th>905</th>\n",
       "      <td>5271002853019863</td>\n",
       "      <td>Chính tôi :)\\n#Panda</td>\n",
       "      <td>NaN</td>\n",
       "      <td>2022-05-09 04:02:31</td>\n",
       "      <td>https://scontent-sin6-4.xx.fbcdn.net/v/t39.308...</td>\n",
       "      <td>https://scontent-sin6-4.xx.fbcdn.net/v/t39.308...</td>\n",
       "      <td>['https://scontent-sin6-4.xx.fbcdn.net/v/t39.3...</td>\n",
       "      <td>['No photo description available.']</td>\n",
       "      <td>['https://scontent-sin6-4.xx.fbcdn.net/v/t39.3...</td>\n",
       "      <td>['No photo description available.']</td>\n",
       "      <td>869</td>\n",
       "      <td>81</td>\n",
       "      <td>30</td>\n",
       "      <td>NaN</td>\n",
       "      <td>[{'link': '/hashtag/panda?_ft_=encrypted_track...</td>\n",
       "      <td>772954189491441</td>\n",
       "      <td>NaN</td>\n",
       "      <td>NaN</td>\n",
       "      <td>NaN</td>\n",
       "      <td>NaN</td>\n",
       "      <td>NaN</td>\n",
       "      <td>NaN</td>\n",
       "      <td>[]</td>\n",
       "      <td>https://www.facebook.com/vebay69/posts/5271002...</td>\n",
       "      <td>1539</td>\n",
       "      <td>NaN</td>\n",
       "      <td>5.271003e+15</td>\n",
       "      <td>['5271002636353218']</td>\n",
       "      <td>2023-11-21 08:28:30.041904</td>\n",
       "      <td>869</td>\n",
       "      <td>3</td>\n",
       "      <td>646</td>\n",
       "      <td>0</td>\n",
       "      <td>0</td>\n",
       "      <td>20</td>\n",
       "      <td>1</td>\n",
       "    </tr>\n",
       "  </tbody>\n",
       "</table>\n",
       "</div>"
      ],
      "text/plain": [
       "              post_id                               post_text shared_text  \\\n",
       "909  5262746583845490             Ông con Enh Guốc :)\\n#Panda         NaN   \n",
       "908  5263709253749223        Aizz chán ba ghê ớ..\\n#Lìquầnxòi         NaN   \n",
       "907  5266711463449002  Nhìn bạn cũng C.h.i.ế.n đấy :)\\n#panda         NaN   \n",
       "906  5269137123206436       Happy mother's day <3\\n#Lìquầnxòi         NaN   \n",
       "905  5271002853019863                    Chính tôi :)\\n#Panda         NaN   \n",
       "\n",
       "                    time                                              image  \\\n",
       "909  2022-05-06 07:37:28  https://scontent-sin6-2.xx.fbcdn.net/v/t39.308...   \n",
       "908  2022-05-06 15:11:37  https://scontent-sin6-4.xx.fbcdn.net/v/t39.308...   \n",
       "907  2022-05-07 15:36:30  https://scontent-sin6-3.xx.fbcdn.net/v/t39.308...   \n",
       "906  2022-05-08 11:52:42  https://scontent-sin6-2.xx.fbcdn.net/v/t39.308...   \n",
       "905  2022-05-09 04:02:31  https://scontent-sin6-4.xx.fbcdn.net/v/t39.308...   \n",
       "\n",
       "                                      image_lowquality  \\\n",
       "909  https://scontent-sin6-2.xx.fbcdn.net/v/t39.308...   \n",
       "908  https://scontent-sin6-4.xx.fbcdn.net/v/t39.308...   \n",
       "907  https://scontent-sin6-3.xx.fbcdn.net/v/t39.308...   \n",
       "906  https://scontent-sin6-2.xx.fbcdn.net/v/t39.308...   \n",
       "905  https://scontent-sin6-4.xx.fbcdn.net/v/t39.308...   \n",
       "\n",
       "                                                images  \\\n",
       "909  ['https://scontent-sin6-2.xx.fbcdn.net/v/t39.3...   \n",
       "908  ['https://scontent-sin6-4.xx.fbcdn.net/v/t39.3...   \n",
       "907  ['https://scontent-sin6-3.xx.fbcdn.net/v/t39.3...   \n",
       "906  ['https://scontent-sin6-2.xx.fbcdn.net/v/t39.3...   \n",
       "905  ['https://scontent-sin6-4.xx.fbcdn.net/v/t39.3...   \n",
       "\n",
       "                                    images_description  \\\n",
       "909                ['No photo description available.']   \n",
       "908                ['No photo description available.']   \n",
       "907  [\"Có thể là hình minh họa về văn bản cho biết ...   \n",
       "906                ['No photo description available.']   \n",
       "905                ['No photo description available.']   \n",
       "\n",
       "                                     images_lowquality  \\\n",
       "909  ['https://scontent-sin6-2.xx.fbcdn.net/v/t39.3...   \n",
       "908  ['https://scontent-sin6-4.xx.fbcdn.net/v/t39.3...   \n",
       "907  ['https://scontent-sin6-3.xx.fbcdn.net/v/t39.3...   \n",
       "906  ['https://scontent-sin6-2.xx.fbcdn.net/v/t39.3...   \n",
       "905  ['https://scontent-sin6-4.xx.fbcdn.net/v/t39.3...   \n",
       "\n",
       "                         images_lowquality_description  likes  comments  \\\n",
       "909                ['No photo description available.']   1735        49   \n",
       "908                ['No photo description available.']   1028        16   \n",
       "907  [\"Có thể là hình minh họa về văn bản cho biết ...   1142        75   \n",
       "906                ['No photo description available.']    758        23   \n",
       "905                ['No photo description available.']    869        81   \n",
       "\n",
       "     shares link                                              links  \\\n",
       "909      12  NaN  [{'link': '/hashtag/panda?_ft_=encrypted_track...   \n",
       "908       2  NaN  [{'link': '/hashtag/lìquầnxòi?_ft_=encrypted_t...   \n",
       "907      22  NaN  [{'link': '/hashtag/panda?_ft_=encrypted_track...   \n",
       "906       9  NaN  [{'link': '/hashtag/lìquầnxòi?_ft_=encrypted_t...   \n",
       "905      30  NaN  [{'link': '/hashtag/panda?_ft_=encrypted_track...   \n",
       "\n",
       "             user_id  shared_post_id shared_time  shared_user_id  \\\n",
       "909  772954189491441             NaN         NaN             NaN   \n",
       "908  772954189491441             NaN         NaN             NaN   \n",
       "907  772954189491441             NaN         NaN             NaN   \n",
       "906  772954189491441             NaN         NaN             NaN   \n",
       "905  772954189491441             NaN         NaN             NaN   \n",
       "\n",
       "    shared_username shared_post_url comments_full reactors  \\\n",
       "909             NaN             NaN           NaN       []   \n",
       "908             NaN             NaN           NaN       []   \n",
       "907             NaN             NaN           NaN       []   \n",
       "906             NaN             NaN           NaN       []   \n",
       "905             NaN             NaN           NaN       []   \n",
       "\n",
       "                                             w3_fb_url  total_react with  \\\n",
       "909  https://www.facebook.com/vebay69/posts/5262746...         2921  NaN   \n",
       "908  https://www.facebook.com/vebay69/posts/5263709...         1527  NaN   \n",
       "907  https://www.facebook.com/vebay69/posts/5266711...         2372  NaN   \n",
       "906  https://www.facebook.com/vebay69/posts/5269137...         1391  NaN   \n",
       "905  https://www.facebook.com/vebay69/posts/5271002...         1539  NaN   \n",
       "\n",
       "         image_id             image_ids                fetched_time  like  \\\n",
       "909  5.262745e+15  ['5262745410512274']  2023-11-21 08:29:09.776214  1735   \n",
       "908  5.263708e+15  ['5263708363749312']  2023-11-21 08:29:00.486643  1028   \n",
       "907  5.266711e+15  ['5266710616782420']  2023-11-21 08:28:49.211488  1142   \n",
       "906  5.269136e+15  ['5269135959873219']  2023-11-21 08:28:37.570599   758   \n",
       "905  5.271003e+15  ['5271002636353218']  2023-11-21 08:28:30.041904   869   \n",
       "\n",
       "     love  haha  wow  care  sad  angry  \n",
       "909     5  1146    1     1   33      0  \n",
       "908     2   490    1     0    6      0  \n",
       "907     4  1210    1     0   15      0  \n",
       "906    13   612    0     2    6      0  \n",
       "905     3   646    0     0   20      1  "
      ]
     },
     "execution_count": 177,
     "metadata": {},
     "output_type": "execute_result"
    }
   ],
   "source": [
    "df_sorted = df.sort_values('time')\n",
    "df_sorted.head()"
   ]
  },
  {
   "cell_type": "code",
   "execution_count": 183,
   "metadata": {},
   "outputs": [
    {
     "data": {
      "image/png": "[encoded data removed]",
      "text/plain": [
       "<Figure size 640x480 with 1 Axes>"
      ]
     },
     "metadata": {},
     "output_type": "display_data"
    }
   ],
   "source": [
    "sns.kdeplot(data=df['total_react'], fill=True)\n",
    "plt.axvline(df['total_react'].mean(), color='red')\n",
    "plt.axvline(df['total_react'].median(), color='green')\n",
    "plt.xlabel('Total Reaction')\n",
    "plt.ylabel('Density')\n",
    "plt.title('Density Plot of Total Reaction');"
   ]
  },
  {
   "cell_type": "code",
   "execution_count": 184,
   "metadata": {},
   "outputs": [
    {
     "data": {
      "image/png": "[encoded data removed]",
      "text/plain": [
       "<Figure size 500x500 with 1 Axes>"
      ]
     },
     "metadata": {},
     "output_type": "display_data"
    }
   ],
   "source": [
    "sns.displot(data=df, x='total_react', kde=True);"
   ]
  },
  {
   "cell_type": "markdown",
   "metadata": {},
   "source": [
    "## Thống kê bài đăng các ngày trong tuần"
   ]
  },
  {
   "cell_type": "code",
   "execution_count": 185,
   "metadata": {},
   "outputs": [
    {
     "data": {
      "text/plain": [
       "weekday\n",
       "Monday       154\n",
       "Tuesday      135\n",
       "Wednesday    151\n",
       "Thursday     153\n",
       "Friday       140\n",
       "Saturday      96\n",
       "Sunday        85\n",
       "Name: count, dtype: int64"
      ]
     },
     "execution_count": 185,
     "metadata": {},
     "output_type": "execute_result"
    }
   ],
   "source": [
    "df['time'] = pd.to_datetime(df['time'])\n",
    "df['weekday'] = df['time'].dt.weekday\n",
    "posts_per_day_of_week = df['weekday'].value_counts().sort_index().rename(\n",
    "    index={0: 'Monday', 1: 'Tuesday', 2: 'Wednesday', 3: 'Thursday', 4: 'Friday', 5: 'Saturday', 6: 'Sunday'}\n",
    ")\n",
    "posts_per_day_of_week"
   ]
  },
  {
   "cell_type": "code",
   "execution_count": 186,
   "metadata": {},
   "outputs": [
    {
     "data": {
      "image/png": "[encoded data removed]",
      "text/plain": [
       "<Figure size 1500x500 with 1 Axes>"
      ]
     },
     "metadata": {},
     "output_type": "display_data"
    }
   ],
   "source": [
    "posts_per_day_of_week.plot(kind='bar', figsize=(15, 5), title='Number of Posts by Weekday')\n",
    "plt.xlabel('Day of Week')\n",
    "plt.xticks(rotation=0)\n",
    "plt.ylabel('Posts');"
   ]
  },
  {
   "cell_type": "markdown",
   "metadata": {},
   "source": [
    "## Thống kê khung giờ đăng bài"
   ]
  },
  {
   "cell_type": "code",
   "execution_count": 191,
   "metadata": {},
   "outputs": [
    {
     "data": {
      "image/png": "[encoded data removed]",
      "text/plain": [
       "<Figure size 1500x900 with 1 Axes>"
      ]
     },
     "metadata": {},
     "output_type": "display_data"
    }
   ],
   "source": [
    "import seaborn as sns\n",
    "# Convert to hour\n",
    "df['hour'] = df['time'].dt.hour + 7\n",
    "# Count number of posts per hour\n",
    "posts_per_hour = df['hour'].value_counts().sort_index()\n",
    "# Fill missing hours with 0\n",
    "all_hours = pd.Index(range(24))\n",
    "posts_per_hour = posts_per_hour.reindex(all_hours, fill_value=0)\n",
    "plt.figure(figsize=(15, 9))\n",
    "sns.barplot(x=posts_per_hour.index, y=posts_per_hour.values)\n",
    "plt.title('Number of Posts by Hour')\n",
    "plt.ylabel('Number of posts')\n",
    "plt.xlabel('Hour');"
   ]
  },
  {
   "cell_type": "markdown",
   "metadata": {},
   "source": [
    "### Các mốc thời gian trong ngày mà Fanpage thường xuyên đăng bài"
   ]
  },
  {
   "cell_type": "markdown",
   "metadata": {},
   "source": [
    "### Số lượt tương tác trong các bài đăng thay đổi như thế nào?"
   ]
  },
  {
   "cell_type": "markdown",
   "metadata": {},
   "source": [
    "### Đâu là các từ khóa xuất hiện nhiều nhất trong các bài đăng được thu thập?"
   ]
  },
  {
   "cell_type": "markdown",
   "metadata": {},
   "source": [
    "### Sự tương quan giữa số lượng reactions với các trường khác như số lượng bình luận, độ dài bài viết?"
   ]
  }
 ],
 "metadata": {
  "kernelspec": {
   "display_name": "py3108",
   "language": "python",
   "name": "python3"
  },
  "language_info": {
   "codemirror_mode": {
    "name": "ipython",
    "version": 3
   },
   "file_extension": ".py",
   "mimetype": "text/x-python",
   "name": "python",
   "nbconvert_exporter": "python",
   "pygments_lexer": "ipython3",
   "version": "3.10.8"
  }
 },
 "nbformat": 4,
 "nbformat_minor": 2
}
